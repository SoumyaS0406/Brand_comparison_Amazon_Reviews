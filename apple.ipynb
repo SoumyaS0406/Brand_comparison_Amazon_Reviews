{
 "cells": [
  {
   "cell_type": "code",
   "execution_count": 1,
   "metadata": {
    "collapsed": true
   },
   "outputs": [],
   "source": [
    "import pandas as pd \n",
    "import seaborn as sns \n",
    "import numpy as np\n",
    "import matplotlib.pyplot as plt\n",
    "\n",
    "import nltk\n",
    "from nltk.tokenize import word_tokenize\n",
    "from nltk.corpus import stopwords\n",
    "import re\n",
    "import string\n",
    "\n",
    "from nltk.stem.porter import PorterStemmer\n",
    "from nltk.stem.snowball import SnowballStemmer\n",
    "from nltk.stem.wordnet import WordNetLemmatizer\n",
    "\n",
    "from sklearn.model_selection import train_test_split\n",
    "from sklearn.feature_extraction.text import CountVectorizer,TfidfVectorizer\n",
    "import operator"
   ]
  },
  {
   "cell_type": "code",
   "execution_count": 2,
   "metadata": {
    "collapsed": true
   },
   "outputs": [],
   "source": [
    "\n",
    "data = pd.read_csv('C:/Users/Rhea/Documents/INNOVATION/PROJECT/Amazon_Phone_iPhone_32_Reviews.csv',\n",
    "                   names=['Phone_Name','Date','Rating_Out_of_5','Review_Title','Review_Text'])\n",
    "\n"
   ]
  },
  {
   "cell_type": "code",
   "execution_count": 3,
   "metadata": {},
   "outputs": [
    {
     "data": {
      "text/html": [
       "<div>\n",
       "<style>\n",
       "    .dataframe thead tr:only-child th {\n",
       "        text-align: right;\n",
       "    }\n",
       "\n",
       "    .dataframe thead th {\n",
       "        text-align: left;\n",
       "    }\n",
       "\n",
       "    .dataframe tbody tr th {\n",
       "        vertical-align: top;\n",
       "    }\n",
       "</style>\n",
       "<table border=\"1\" class=\"dataframe\">\n",
       "  <thead>\n",
       "    <tr style=\"text-align: right;\">\n",
       "      <th></th>\n",
       "      <th>Phone_Name</th>\n",
       "      <th>Date</th>\n",
       "      <th>Rating_Out_of_5</th>\n",
       "      <th>Review_Title</th>\n",
       "      <th>Review_Text</th>\n",
       "    </tr>\n",
       "  </thead>\n",
       "  <tbody>\n",
       "    <tr>\n",
       "      <th>0</th>\n",
       "      <td>Apple iPhone 6 Unlocked Smartphone, 16 GB (Gold)</td>\n",
       "      <td>19-Apr-17</td>\n",
       "      <td>3</td>\n",
       "      <td>The phone is as good as new without any scratches</td>\n",
       "      <td>The phone is as good as new without any scratc...</td>\n",
       "    </tr>\n",
       "    <tr>\n",
       "      <th>1</th>\n",
       "      <td>Apple iPhone 6 Unlocked Smartphone, 16 GB (Gold)</td>\n",
       "      <td>1-Jul-17</td>\n",
       "      <td>5</td>\n",
       "      <td>and great price. why buy a phone somewhere els...</td>\n",
       "      <td>purchased for my father. got here one day late...</td>\n",
       "    </tr>\n",
       "    <tr>\n",
       "      <th>2</th>\n",
       "      <td>Apple iPhone 6 Unlocked Smartphone, 16 GB (Gold)</td>\n",
       "      <td>27-May-17</td>\n",
       "      <td>5</td>\n",
       "      <td>It's now been about 6 weeks since my purchase ...</td>\n",
       "      <td>So I wanted to wait a while before reviewing, ...</td>\n",
       "    </tr>\n",
       "    <tr>\n",
       "      <th>3</th>\n",
       "      <td>Apple iPhone 6 Unlocked Smartphone, 16 GB (Gold)</td>\n",
       "      <td>28-Jan-17</td>\n",
       "      <td>5</td>\n",
       "      <td>Great phone</td>\n",
       "      <td>Phone came on time and was in very good condit...</td>\n",
       "    </tr>\n",
       "    <tr>\n",
       "      <th>4</th>\n",
       "      <td>Apple iPhone 6 Unlocked Smartphone, 16 GB (Gold)</td>\n",
       "      <td>12-Jul-17</td>\n",
       "      <td>1</td>\n",
       "      <td>Camera sound won't turn off!!!</td>\n",
       "      <td>This is the second time we have attempted to o...</td>\n",
       "    </tr>\n",
       "  </tbody>\n",
       "</table>\n",
       "</div>"
      ],
      "text/plain": [
       "                                          Phone_Name       Date  \\\n",
       "0  Apple iPhone 6 Unlocked Smartphone, 16 GB (Gold)   19-Apr-17   \n",
       "1  Apple iPhone 6 Unlocked Smartphone, 16 GB (Gold)    1-Jul-17   \n",
       "2  Apple iPhone 6 Unlocked Smartphone, 16 GB (Gold)   27-May-17   \n",
       "3  Apple iPhone 6 Unlocked Smartphone, 16 GB (Gold)   28-Jan-17   \n",
       "4  Apple iPhone 6 Unlocked Smartphone, 16 GB (Gold)   12-Jul-17   \n",
       "\n",
       "   Rating_Out_of_5                                       Review_Title  \\\n",
       "0                3  The phone is as good as new without any scratches   \n",
       "1                5  and great price. why buy a phone somewhere els...   \n",
       "2                5  It's now been about 6 weeks since my purchase ...   \n",
       "3                5                                        Great phone   \n",
       "4                1                     Camera sound won't turn off!!!   \n",
       "\n",
       "                                         Review_Text  \n",
       "0  The phone is as good as new without any scratc...  \n",
       "1  purchased for my father. got here one day late...  \n",
       "2  So I wanted to wait a while before reviewing, ...  \n",
       "3  Phone came on time and was in very good condit...  \n",
       "4  This is the second time we have attempted to o...  "
      ]
     },
     "execution_count": 3,
     "metadata": {},
     "output_type": "execute_result"
    }
   ],
   "source": [
    "data.head()"
   ]
  },
  {
   "cell_type": "code",
   "execution_count": 4,
   "metadata": {},
   "outputs": [
    {
     "data": {
      "text/plain": [
       "(570, 5)"
      ]
     },
     "execution_count": 4,
     "metadata": {},
     "output_type": "execute_result"
    }
   ],
   "source": [
    "data.shape"
   ]
  },
  {
   "cell_type": "code",
   "execution_count": 5,
   "metadata": {
    "scrolled": true
   },
   "outputs": [
    {
     "data": {
      "text/plain": [
       "'It works, and it\\'s clean. Professional packaging and it arrived fast.Downside, the battery must have not been replaced because it won\\'t even last half a day idle. Good thing is that at least this isn\\'t a waterproof phone and I can easily buy a battery replacement kit for less than $30 on Amazon. It really would\\'ve been great if they put new battery so it won\\'t suffer on performance due to shit iOS\\'s \"get a new phone or your old phone will be slow\" tactic aka BATTERY GATE. I figured I would run into a problem like this since it\\'s a refurbished one anyway. It\\'s impossible to know the performance and battery life without activating the phone. I bet a lot of people have this problem but who would actually return it once it\\'s activated? But hey, I\\'m not paying a thousand for a new phone and I bought an iPhone knowing there\\'s an ongoing battery gate controversy so I\\'ll just suck it up and won\\'t even bother sending a complaint.But, I chose to give it 3 stars since the price wasn\\'t bad, it seems easy enough to replace battery, and it doesn\\'t cost that much to buy a battery kit.  I don\\'t \"like\" it, but it\\'s okay.'"
      ]
     },
     "execution_count": 5,
     "metadata": {},
     "output_type": "execute_result"
    }
   ],
   "source": [
    "data['Review_Text'].values[5]"
   ]
  },
  {
   "cell_type": "code",
   "execution_count": 6,
   "metadata": {
    "scrolled": true
   },
   "outputs": [
    {
     "data": {
      "text/plain": [
       "'purchased for my father. got here one day late. no big deal. phone was unlocked. item came well packaged with all listed items. plus one glass screen protector and one plastic screen protector. not sure if it was a amazon freebie or seller freebie. was able to set up phone no problem. and great price. why buy a phone somewhere else and risk it. I will definitely buy another phone from amazon without a second thought.'"
      ]
     },
     "execution_count": 6,
     "metadata": {},
     "output_type": "execute_result"
    }
   ],
   "source": [
    "data_samples=data['Review_Text'].tolist()\n",
    "data_samples[1]"
   ]
  },
  {
   "cell_type": "code",
   "execution_count": null,
   "metadata": {
    "collapsed": true
   },
   "outputs": [],
   "source": [
    "data_samples = [w.lower() for w in data_samples]"
   ]
  },
  {
   "cell_type": "code",
   "execution_count": 7,
   "metadata": {},
   "outputs": [
    {
     "data": {
      "text/plain": [
       "list"
      ]
     },
     "execution_count": 7,
     "metadata": {},
     "output_type": "execute_result"
    }
   ],
   "source": [
    "type(data_samples)"
   ]
  },
  {
   "cell_type": "markdown",
   "metadata": {},
   "source": [
    "### Processing Raw Text"
   ]
  },
  {
   "cell_type": "markdown",
   "metadata": {},
   "source": [
    "For our language processing, we want to break up the string into words and punctuation. This step is called tokenization, and it produces our familiar structure, a list of words and punctuation."
   ]
  },
  {
   "cell_type": "code",
   "execution_count": 9,
   "metadata": {
    "scrolled": true
   },
   "outputs": [
    {
     "name": "stdout",
     "output_type": "stream",
     "text": [
      "['It', 'works', ',', 'and', 'it', \"'s\", 'clean', '.', 'Professional', 'packaging', 'and', 'it', 'arrived', 'fast.Downside', ',', 'the', 'battery', 'must', 'have', 'not', 'been', 'replaced', 'because', 'it', 'wo', \"n't\", 'even', 'last', 'half', 'a', 'day', 'idle', '.', 'Good', 'thing', 'is', 'that', 'at', 'least', 'this', 'is', \"n't\", 'a', 'waterproof', 'phone', 'and', 'I', 'can', 'easily', 'buy', 'a', 'battery', 'replacement', 'kit', 'for', 'less', 'than', '$', '30', 'on', 'Amazon', '.', 'It', 'really', 'would', \"'ve\", 'been', 'great', 'if', 'they', 'put', 'new', 'battery', 'so', 'it', 'wo', \"n't\", 'suffer', 'on', 'performance', 'due', 'to', 'shit', 'iOS', \"'s\", '``', 'get', 'a', 'new', 'phone', 'or', 'your', 'old', 'phone', 'will', 'be', 'slow', \"''\", 'tactic', 'aka', 'BATTERY', 'GATE', '.', 'I', 'figured', 'I', 'would', 'run', 'into', 'a', 'problem', 'like', 'this', 'since', 'it', \"'s\", 'a', 'refurbished', 'one', 'anyway', '.', 'It', \"'s\", 'impossible', 'to', 'know', 'the', 'performance', 'and', 'battery', 'life', 'without', 'activating', 'the', 'phone', '.', 'I', 'bet', 'a', 'lot', 'of', 'people', 'have', 'this', 'problem', 'but', 'who', 'would', 'actually', 'return', 'it', 'once', 'it', \"'s\", 'activated', '?', 'But', 'hey', ',', 'I', \"'m\", 'not', 'paying', 'a', 'thousand', 'for', 'a', 'new', 'phone', 'and', 'I', 'bought', 'an', 'iPhone', 'knowing', 'there', \"'s\", 'an', 'ongoing', 'battery', 'gate', 'controversy', 'so', 'I', \"'ll\", 'just', 'suck', 'it', 'up', 'and', 'wo', \"n't\", 'even', 'bother', 'sending', 'a', 'complaint.But', ',', 'I', 'chose', 'to', 'give', 'it', '3', 'stars', 'since', 'the', 'price', 'was', \"n't\", 'bad', ',', 'it', 'seems', 'easy', 'enough', 'to', 'replace', 'battery', ',', 'and', 'it', 'does', \"n't\", 'cost', 'that', 'much', 'to', 'buy', 'a', 'battery', 'kit', '.', 'I', 'do', \"n't\", '``', 'like', \"''\", 'it', ',', 'but', 'it', \"'s\", 'okay', '.']\n"
     ]
    }
   ],
   "source": [
    "tokenized_docs = [word_tokenize(doc) for doc in data_samples]\n",
    "print(tokenized_docs[5])"
   ]
  },
  {
   "cell_type": "markdown",
   "metadata": {},
   "source": [
    "## Removing punctuation\n",
    "Punctuation can help with tokenizers, but once you've done that, there's no reason to keep it around. There are tons of ways to remove punctuation. Since we have already learned regex, how would we do this?"
   ]
  },
  {
   "cell_type": "code",
   "execution_count": 10,
   "metadata": {},
   "outputs": [
    {
     "name": "stdout",
     "output_type": "stream",
     "text": [
      "!\"#$%&'()*+,-./:;<=>?@[\\]^_`{|}~\n",
      "!\"#$%&'()*+,-.:;<=>?@[\\]^_`{|}~\n"
     ]
    }
   ],
   "source": [
    "print(string.punctuation)\n",
    "str1=string.punctuation\n",
    "str1=str1.replace('/','')\n",
    "print(str1)"
   ]
  },
  {
   "cell_type": "code",
   "execution_count": 11,
   "metadata": {},
   "outputs": [
    {
     "name": "stdout",
     "output_type": "stream",
     "text": [
      "['It', 'works', 'and', 'it', 's', 'clean', 'Professional', 'packaging', 'and', 'it', 'arrived', 'fastDownside', 'the', 'battery', 'must', 'have', 'not', 'been', 'replaced', 'because', 'it', 'wo', 'nt', 'even', 'last', 'half', 'a', 'day', 'idle', 'Good', 'thing', 'is', 'that', 'at', 'least', 'this', 'is', 'nt', 'a', 'waterproof', 'phone', 'and', 'I', 'can', 'easily', 'buy', 'a', 'battery', 'replacement', 'kit', 'for', 'less', 'than', '30', 'on', 'Amazon', 'It', 'really', 'would', 've', 'been', 'great', 'if', 'they', 'put', 'new', 'battery', 'so', 'it', 'wo', 'nt', 'suffer', 'on', 'performance', 'due', 'to', 'shit', 'iOS', 's', 'get', 'a', 'new', 'phone', 'or', 'your', 'old', 'phone', 'will', 'be', 'slow', 'tactic', 'aka', 'BATTERY', 'GATE', 'I', 'figured', 'I', 'would', 'run', 'into', 'a', 'problem', 'like', 'this', 'since', 'it', 's', 'a', 'refurbished', 'one', 'anyway', 'It', 's', 'impossible', 'to', 'know', 'the', 'performance', 'and', 'battery', 'life', 'without', 'activating', 'the', 'phone', 'I', 'bet', 'a', 'lot', 'of', 'people', 'have', 'this', 'problem', 'but', 'who', 'would', 'actually', 'return', 'it', 'once', 'it', 's', 'activated', 'But', 'hey', 'I', 'm', 'not', 'paying', 'a', 'thousand', 'for', 'a', 'new', 'phone', 'and', 'I', 'bought', 'an', 'iPhone', 'knowing', 'there', 's', 'an', 'ongoing', 'battery', 'gate', 'controversy', 'so', 'I', 'll', 'just', 'suck', 'it', 'up', 'and', 'wo', 'nt', 'even', 'bother', 'sending', 'a', 'complaintBut', 'I', 'chose', 'to', 'give', 'it', '3', 'stars', 'since', 'the', 'price', 'was', 'nt', 'bad', 'it', 'seems', 'easy', 'enough', 'to', 'replace', 'battery', 'and', 'it', 'does', 'nt', 'cost', 'that', 'much', 'to', 'buy', 'a', 'battery', 'kit', 'I', 'do', 'nt', 'like', 'it', 'but', 'it', 's', 'okay']\n"
     ]
    }
   ],
   "source": [
    "regex = re.compile('[%s]' % re.escape(str1)) #see documentation here: http://docs.python.org/2/library/string.html\n",
    "\n",
    "tokenized_docs_no_punctuation = []\n",
    "\n",
    "for review in tokenized_docs:\n",
    "    \n",
    "    new_review = []\n",
    "    for token in review: \n",
    "        new_token = regex.sub(u'', token)\n",
    "        if not new_token == u'':\n",
    "            new_review.append(new_token)\n",
    "    \n",
    "    tokenized_docs_no_punctuation.append(new_review)\n",
    "    \n",
    "print (tokenized_docs_no_punctuation[5])"
   ]
  },
  {
   "cell_type": "markdown",
   "metadata": {},
   "source": [
    "## Cleaning text of stopwords\n",
    "There are some really basic words that just don't matter. NLTK comes with a list of them for many languages."
   ]
  },
  {
   "cell_type": "code",
   "execution_count": 12,
   "metadata": {},
   "outputs": [
    {
     "name": "stdout",
     "output_type": "stream",
     "text": [
      "['purchased', 'father', 'got', 'one', 'day', 'late', 'big', 'deal', 'phone', 'unlocked', 'item', 'came', 'well', 'packaged', 'listed', 'items', 'plus', 'one', 'glass', 'screen', 'protector', 'one', 'plastic', 'screen', 'protector', 'sure', 'amazon', 'freebie', 'seller', 'freebie', 'able', 'set', 'phone', 'problem', 'great', 'price', 'buy', 'phone', 'somewhere', 'else', 'risk', 'I', 'definitely', 'buy', 'another', 'phone', 'amazon', 'without', 'second', 'thought']\n"
     ]
    }
   ],
   "source": [
    "tokenized_docs_no_stopwords = []\n",
    "for doc in tokenized_docs_no_punctuation:\n",
    "    new_term_vector = []\n",
    "    for word in doc:\n",
    "        if not word in stopwords.words('english'):\n",
    "            new_term_vector.append(word)\n",
    "    tokenized_docs_no_stopwords.append(new_term_vector)\n",
    "            \n",
    "print (tokenized_docs_no_stopwords[1])"
   ]
  },
  {
   "cell_type": "markdown",
   "metadata": {},
   "source": [
    "### Stemming and Lemmatizing\n",
    "If you have taken linguistics, you may be familiar with morphology. This is the belief that words have a root form. If you want to get to the basic term meaning of the word, you can try applying a stemmer or lemmatizer. Here are three very popular methods ready to go right out of the NLTK box. It's up to you to see which one you want to use."
   ]
  },
  {
   "cell_type": "code",
   "execution_count": 13,
   "metadata": {},
   "outputs": [
    {
     "name": "stdout",
     "output_type": "stream",
     "text": [
      "['purchased', 'father', 'got', 'one', 'day', 'late', 'big', 'deal', 'phone', 'unlocked', 'item', 'came', 'well', 'packaged', 'listed', 'item', 'plus', 'one', 'glass', 'screen', 'protector', 'one', 'plastic', 'screen', 'protector', 'sure', 'amazon', 'freebie', 'seller', 'freebie', 'able', 'set', 'phone', 'problem', 'great', 'price', 'buy', 'phone', 'somewhere', 'else', 'risk', 'I', 'definitely', 'buy', 'another', 'phone', 'amazon', 'without', 'second', 'thought']\n"
     ]
    }
   ],
   "source": [
    "porter = PorterStemmer()\n",
    "snowball = SnowballStemmer('english')\n",
    "wordnet = WordNetLemmatizer()\n",
    "\n",
    "preprocessed_docs = []\n",
    "\n",
    "for doc in tokenized_docs_no_stopwords:\n",
    "    final_doc = []\n",
    "    for word in doc:\n",
    "        final_doc.append(wordnet.lemmatize(word))\n",
    "        #final_doc.append(snowball.stem(word))\n",
    "        #final_doc.append(wordnet.lemmatize(word)) #note that lemmatize() can also takes part of speech as an argument!\n",
    "    preprocessed_docs.append(final_doc)\n",
    "\n",
    "print (preprocessed_docs[1])"
   ]
  },
  {
   "cell_type": "code",
   "execution_count": 14,
   "metadata": {
    "collapsed": true
   },
   "outputs": [],
   "source": [
    "pos_tags=[]\n",
    "\n",
    "for i in preprocessed_docs:\n",
    "    pos_tags.append(nltk.pos_tag(i)) "
   ]
  },
  {
   "cell_type": "code",
   "execution_count": 15,
   "metadata": {},
   "outputs": [
    {
     "data": {
      "text/plain": [
       "[('So', 'RB'),\n",
       " ('I', 'PRP'),\n",
       " ('wanted', 'VBD'),\n",
       " ('wait', 'NN'),\n",
       " ('reviewing', 'VBG'),\n",
       " ('case', 'NN'),\n",
       " ('It', 'PRP'),\n",
       " ('6', 'CD'),\n",
       " ('week', 'NN'),\n",
       " ('since', 'IN'),\n",
       " ('purchase', 'NN'),\n",
       " ('phone', 'NN'),\n",
       " ('work', 'NN'),\n",
       " ('perfect', 'VBP'),\n",
       " ('No', 'DT'),\n",
       " ('issue', 'NN'),\n",
       " ('whatsoever', 'RB'),\n",
       " ('And', 'CC'),\n",
       " ('brand', 'NN'),\n",
       " ('new', 'JJ'),\n",
       " ('condition', 'NN'),\n",
       " ('I', 'PRP'),\n",
       " ('received', 'VBD'),\n",
       " ('I', 'PRP'),\n",
       " ('ordering', 'VBG'),\n",
       " ('another', 'DT'),\n",
       " ('soon', 'RB'),\n",
       " ('one', 'CD'),\n",
       " ('I', 'PRP'),\n",
       " ('purchased', 'VBD'),\n",
       " ('daughter', 'NN')]"
      ]
     },
     "execution_count": 15,
     "metadata": {},
     "output_type": "execute_result"
    }
   ],
   "source": [
    "pos_tags[2]"
   ]
  },
  {
   "cell_type": "code",
   "execution_count": 16,
   "metadata": {
    "collapsed": true
   },
   "outputs": [],
   "source": [
    "noun_words=[]\n",
    "verb_words=[]\n",
    "adj_words=[]\n",
    "for doc in pos_tags:\n",
    "    for word_pos in doc :\n",
    "        if word_pos[1] in ('NN','NNS','NNP','NNPS'):\n",
    "            noun_words.append(word_pos[0]) \n",
    "        elif word_pos[1] in ('VB', 'VBD', 'VBG', 'VBN', 'VBP', 'VBZ'):\n",
    "            verb_words.append(word_pos[0])\n",
    "        elif word_pos[1] in ('JJR','JJS','JJ'):\n",
    "            adj_words.append(word_pos[0])\n",
    "        "
   ]
  },
  {
   "cell_type": "code",
   "execution_count": 17,
   "metadata": {},
   "outputs": [
    {
     "name": "stdout",
     "output_type": "stream",
     "text": [
      "402\n"
     ]
    }
   ],
   "source": [
    "print(len(set(adj_words)))"
   ]
  },
  {
   "cell_type": "code",
   "execution_count": 18,
   "metadata": {},
   "outputs": [
    {
     "name": "stdout",
     "output_type": "stream",
     "text": [
      "[('phone', 380), ('work', 93), ('problem', 65), ('battery', 59), ('time', 58), ('product', 51), ('condition', 40), ('day', 39), ('screen', 37), ('month', 37), ('Phone', 34), ('iPhone', 34), ('money', 32), ('charge', 31), ('issue', 30), ('Great', 30), ('’', 26), ('charger', 24), ('purchase', 24), ('Apple', 24), ('week', 23), ('brand', 23), ('review', 23), ('service', 23), ('price', 20), ('use', 20), ('iphone', 19), ('scratch', 18), ('seller', 18), ('nt', 18), ('hour', 18), ('NOT', 17), ('card', 17), ('daughter', 16), ('camera', 16), ('return', 16), ('Amazon', 14), ('look', 14), ('item', 13), ('thing', 13), ('button', 13), ('Thank', 13), ('apple', 13), ('lot', 12), ('customer', 12), ('store', 12), ('waste', 12), ('SIM', 11), ('DO', 11), ('Battery', 11), ('case', 10), ('sound', 10), ('device', 10), ('minute', 10), ('call', 10), ('turn', 9), ('everything', 9), ('No', 9), ('crack', 9), ('deal', 8), ('Do', 8), ('order', 8), ('get', 8), ('Tried', 8), ('refund', 8), ('delivery', 8), ('gift', 8), ('Product', 8), ('My', 8), ('box', 8), ('quality', 8), ('Looks', 8), ('Works', 8), ('picture', 8), ('touch', 8), ('life', 7), ('star', 7), ('volume', 7), ('buy', 7), ('carrier', 7), ('nothing', 7), ('Would', 7), ('love', 7), ('amazon', 6), ('replacement', 6), ('Siri', 6), ('hardware', 6), ('Just', 6), ('let', 6), ('Came', 6), ('speaker', 6), ('Bought', 6), ('Got', 6), ('perfect', 6), ('Iphone', 6), ('Was', 6), ('today', 6), ('BUY', 6), ('something', 6), ('Excellent', 6), ('country', 5), ('glass', 5), ('shutter', 5), ('people', 5), ('shape', 5), ('IT', 5), ('company', 5), ('warranty', 5), ('Store', 5), ('freeze', 5), ('PHONE', 5), ('chance', 5), ('guy', 5), ('anything', 5), ('kind', 5), ('mark', 5), ('message', 5), ('reason', 5), ('T', 5), ('worth', 5), ('process', 5), ('Very', 5), ('year', 5), ('cable', 4), ('headphone', 4), ('protector', 4), ('wait', 4), ('cost', 4), ('Awesome', 4), ('come', 4), ('complaint', 4), ('Verizon', 4), ('business', 4), ('faulty', 4), ('Had', 4), ('son', 4), ('Certified', 4), ('Perfect', 4), ('yesterday', 4), ('buying', 4), ('im', 4), ('family', 4), ('couple', 4), ('data', 4), ('plan', 4), ('AT', 4), ('friend', 4), ('hand', 4), ('dy', 4), ('experience', 4), ('trouble', 4), ('number', 4), ('drain', 4), ('expectation', 4), ('thanks', 4), ('father', 3), ('set', 3), ('support', 3), ('meaning', 3), ('packaging', 3), ('performance', 3), ('iOS', 3), ('home', 3), ('exchange', 3), ('user', 3), ('defect', 3), ('software', 3), ('All', 3), ('window', 3), ('UNLOCKED', 3), ('occasion', 3), ('matter', 3), ('part', 3), ('Took', 3), ('Christmas', 3), ('lesson', 3), ('person', 3), ('doesnt', 3), ('unlock', 3), ('damage', 3), ('Refurbished', 3), ('care', 3), ('dent', 3), ('corner', 3), ('jack', 3), ('front', 3), ('night', 3), ('line', 3), ('need', 3), ('description', 3), ('show', 3), ('earphone', 3), ('mind', 3), ('glitch', 3), ('Will', 3), ('response', 3), ('quit', 3), ('fine', 3), ('function', 3), ('Japan', 3), ('Does', 3), ('MY', 3), ('TO', 3), ('THIS', 3), ('mess', 3), ('check', 3), ('change', 3), ('Ok', 3), ('Brazil', 3), ('someone', 3), ('didnt', 3), ('THE', 3), ('way', 3), ('smartphone', 3), ('stay', 3), ('send', 3), ('cell', 3), ('Love', 3), ('sister', 3), ('thank', 3), ('port', 3), ('IPhone', 3), ('load', 3), ('GSM', 2), ('freebie', 2), ('bottom', 2), ('kit', 2), ('aka', 2), ('responds', 2), ('transaction', 2), ('drop', 2), ('test', 2), ('dont', 2), ('tech', 2), ('LOCKED', 2), ('cause', 2), ('Buyer', 2), ('Beware', 2), ('mine', 2), ('side', 2), ('shipping', 2), ('network', 2), ('Sprint', 2), ('Samsung', 2), ('glitchy', 2), ('die', 2), ('Cricket', 2), ('Everything', 2), ('Which', 2), ('mom', 2), ('stuff', 2), ('pay', 2), ('activation', 2), ('wife', 2), ('tell', 2), ('China', 2), ('sensitivity', 2), ('body', 2), ('Bluetooth', 2), ('Otherwise', 2), ('Have', 2), ('FaceTime', 2), ('NOTHING', 2), ('AND', 2), ('WORKS', 2), ('ID', 2), ('IOS', 2), ('defective', 2), ('dose', 2), ('package', 2), ('talk', 2), ('Thanks', 2), ('niece', 2), ('PLEASE', 2), ('garbage', 2), ('size', 2), ('brother', 2), ('usage', 2), ('Sim', 2), ('switch', 2), ('fact', 2), ('try', 2), ('see', 2), ('Did', 2), ('level', 2), ('Waste', 2), ('type', 2), ('TMobile', 2), ('Gave', 2), ('cant', 2), ('dollar', 2), ('GPS', 2), ('respond', 2), ('Defective', 2), ('etc', 2), ('proof', 2), ('mail', 2), ('TIME', 2), ('excellent', 2), ('music', 2), ('Android', 2), ('policy', 2), ('factory', 2), ('sim', 2), ('please', 2), ('recommend', 2), ('Broke', 2), ('app', 2), ('gold', 2), ('color', 2), ('smartphones', 2), ('A', 2), ('Again', 2), ('Excelente', 2), ('dead', 2), ('slow', 2), ('rating', 2), ('batter', 2), ('Screen', 2), ('comment', 2), ('attention', 2), ('audio', 2), ('glad', 2), ('email', 2), ('ok', 2), ('sign', 2), ('Monday', 2), ('stick', 2), ('microphone', 2), ('online', 2), ('Nice', 2), ('Work', 2), ('Excelent', 2), ('lie', 2), ('quick', 2), ('Overall', 2), ('activate', 2), ('postage', 2), ('repair', 2), ('Update', 2), ('notification', 2), ('RETURN', 2), ('MONEY', 2), ('text', 2), ('iPhone5', 2), ('February', 2), ('asap', 2), ('Hey', 2), ('YOUR', 2), ('piece', 2), ('video', 2), ('term', 2), ('version', 2), ('account', 2), ('Stay', 2), ('prepaid', 2), ('tax', 2), ('market', 2), ('option', 2), ('compare', 2), ('promte', 2), ('channel', 2), ('plastic', 1), ('risk', 1), ('thought', 1), ('head', 1), ('socket', 1), ('nice', 1), ('Turns', 1), ('meant', 1), ('eBay', 1), ('Professional', 1), ('waterproof', 1), ('suffer', 1), ('shit', 1), ('tactic', 1), ('BATTERY', 1), ('GATE', 1), ('anyway', 1), ('gate', 1), ('controversy', 1), ('complaintBut', 1), ('okay', 1), ('frequency', 1), ('control', 1), ('eye', 1), ('least', 1), ('headphone/bluetooth', 1), ('Thought', 1), ('X', 1), ('doubt', 1), ('program', 1), ('Siris', 1), ('pas', 1), ('Stars', 1), ('place', 1), ('BY', 1), ('SPRINT', 1), ('figure', 1), ('overheat', 1), ('shuts', 1), ('KLAMP', 1), ('Electronics', 1), ('catch', 1), ('damn', 1), ('shot', 1), ('THEY', 1), ('SUCK', 1), ('tantamount', 1), ('RIP', 1), ('OFF', 1), ('galaxy', 1), ('edge', 1), ('power', 1), ('Recently', 1), ('state', 1), ('madWorks', 1), ('Few', 1), ('dirt', 1), ('groove', 1), ('goodd', 1), ('Fast', 1), ('speakerphone', 1), ('decision', 1), ('lift', 1), ('NON', 1), ('APPLE', 1), ('couldnt', 1), ('help', 1), ('wonderful', 1), ('AmazonGreat', 1), ('highlyVERY', 1), ('Quite', 1), ('mistake', 1), ('buzzing', 1), ('noise', 1), ('end', 1), ('hear', 1), ('Pretty', 1), ('boot', 1), ('loop', 1), ('rebooting', 1), ('fee', 1), ('Huge', 1), ('heartache', 1), ('Ive', 1), ('nightmare', 1), ('put', 1), ('WTH', 1), ('SHOULD', 1), ('JUST', 1), ('FLAT', 1), ('OUT', 1), ('PI', 1), ('Venezuela', 1), ('iCloud', 1), ('joonkim99', 1), ('msncom', 1), ('water', 1), ('loos', 1), ('refurbished', 1), ('face', 1), ('Charge', 1), ('component', 1), ('income', 1), ('pure', 1), ('rattle', 1), ('functional', 1), ('idea', 1), ('/', 1), ('DEFECTIVE', 1), ('Poor', 1), ('none', 1), ('address', 1), ('regret', 1), ('proximity', 1), ('dictation', 1), ('EXTREMELY', 1), ('DISAPPOINTED', 1), ('FINDING', 1), ('ANOTHER', 1), ('SELLER', 1), ('SAME', 1), ('EXACT', 1), ('FOR', 1), ('LESS', 1), ('App', 1), ('white/gold', 1), ('blue', 1), ('MINUTES', 1), ('caller', 1), ('scam', 1), ('ripoff', 1), ('Tha', 1), ('contact', 1), ('take', 1), ('Definetely', 1), ('ding', 1), ('ownership', 1), ('job', 1), ('reveiws', 1), ('WiFi', 1), ('connectivity', 1), ('website', 1), ('pruduct', 1), ('match', 1), ('thier', 1), ('word', 1), ('sad', 1), ('June', 1), ('rip', 1), ('fuzzy', 1), ('vel', 1), ('weakness', 1), ('instruction', 1), ('progress', 1), ('observation', 1), ('Alexie', 1), ('HER', 1), ('IPHONE', 1), ('sight', 1), ('Changes', 1), ('phoneFirst', 1), ('carrierI', 1), ('wayit', 1), ('become', 1), ('Ir', 1), ('found', 1), ('Mother', 1), ('board', 1), ('Call', 1), ('isGarbage', 1), ('Complete', 1), ('Better', 1), ('How', 1), ('action', 1), ('thick', 1), ('mean', 1), ('reader', 1), ('Sending', 1), ('disappointing', 1), ('percent', 1), ('consideration', 1), ('Memorial', 1), ('Day', 1), ('Swapped', 1), ('Wireless', 1), ('Could', 1), ('others', 1), ('mobile', 1), ('pretense', 1), ('manufacture', 1), ('iphones', 1), ('label', 1), ('accurate', 1), ('Coming', 1), ('happenDo', 1), ('register', 1), ('boost', 1), ('Im', 1), ('note', 1), ('bluetooth', 1), ('REDUCED', 1), ('RATING', 1), ('STARI', 1), ('point', 1), ('shutdown', 1), ('mute', 1), ('master', 1), ('reset', 1), ('Korea', 1), ('fix', 1), ('give', 1), ('zero', 1), ('supplier', 1), ('sell', 1), ('WalMart', 1), ('jail', 1), ('slippery', 1), ('DON', 1), ('Less', 1), ('useless', 1), ('FROM', 1), ('VENDOR', 1), ('HAPPY', 1), ('ALL', 1), ('movement', 1), ('breakdown', 1), ('iPhones', 1), ('beautfly', 1), ('kid', 1), ('w', 1), ('voicemail', 1), ('back', 1), ('Burn/Mark', 1), ('paperwork', 1), ('r', 1), ('document', 1), ('validity', 1), ('upset', 1), ('functioning', 1), ('addition', 1), ('worn', 1), ('boy', 1), ('BRAND', 1), ('SPANKING', 1), ('NEW', 1), ('birthday', 1), ('buyer', 1), ('LAST', 1), ('BUYER', 1), ('profile', 1), ('Please', 1), ('Too', 1), ('rep', 1), ('transfer', 1), ('file', 1), ('yall', 1), ('nytimes', 1), ('image', 1), ('scuff', 1), ('silver', 1), ('icon', 1), ('Snapchat', 1), ('BLEW', 1), ('UP', 1), ('closedVery', 1), ('compatibility', 1), ('page', 1), ('headset', 1), ('Touch', 1), ('rec', 1), ('voice', 1), ('hotmailcom', 1), ('le', 1), ('NOW', 1), ('REPLACE', 1), ('😠😠😠😠', 1), ('certification', 1), ('Hopefully', 1), ('holiday', 1), ('rush', 1), ('setting', 1), ('intent', 1), ('silence', 1), ('ringer', 1), ('Highly', 1), ('SO', 1), ('NO', 1), ('motherinlaw', 1), ('faceThe', 1), ('hotWhen', 1), ('pricewise', 1), ('period', 1), ('Stick', 1), ('Sensor', 1), ('facing', 1), ('provider', 1), ('bulky', 1), ('LOVES', 1), ('wasnt', 1), ('ITS', 1), ('LIT', 1), ('till', 1), ('Wont', 1), ('confidence', 1), ('Silent', 1), ('woth', 1), ('AS', 1), ('ADVERTISED', 1), ('vendor', 1), ('question', 1), ('Awseome', 1), ('Am', 1), ('pc', 1), ('Put', 1), ('Tmobile', 1), ('whatsoever', 1), ('b', 1), ('after6', 1), ('Facebook', 1), ('browsing', 1), ('BEAUTIFUL', 1), ('bump', 1), ('Shipping', 1), ('partner', 1), ('finevery', 1), ('beginning', 1), ('yes', 1), ('knockoff', 1), ('colour', 1), ('light', 1), ('navigation', 1), ('hang', 1), ('everytime', 1), ('crappy', 1), ('AMAZON', 1), ('working', 1), ('condition😍😍👌', 1), ('connect', 1), ('EVERYRHING', 1), ('PERFECTLY', 1), ('right', 1), ('😎😎', 1), ('especifications', 1), ('college', 1), ('Quick', 1), ('Blutek', 1), ('USA', 1), ('criticism', 1), ('Item', 1), ('Lcd/digitizer', 1), ('eaasy', 1), ('tomorrow', 1), ('android', 1), ('wifi', 1), ('Data', 1), ('cool', 1), ('apps', 1), ('hitormiss', 1), ('password', 1), ('instance', 1), ('technology', 1), ('againIf', 1), ('workin', 1), ('dlls', 1), ('trash', 1), ('Phn', 1), ('power/lock', 1), ('EXCELLENT', 1), ('PRODUCT', 1), ('fall', 1), ('notice', 1), ('Glitches', 1), ('Freezes', 1), ('Ordered', 1), ('Thursday', 1), ('Should', 1), ('Saturday', 1), ('☹️', 1), ('contain', 1), ('Terrific', 1), ('Haven', 1), ('letter', 1), ('Square', 1), ('dealcom', 1), ('deadline', 1), ('moat', 1), ('computer', 1), ('GF', 1), ('upgrade', 1), ('accsessiores', 1), ('yr', 1), ('spent', 1), ('existence', 1), ('Crooked', 1), ('remanufacturing', 1), ('God', 1), ('👍🏿', 1), ('Seller', 1), ('🔥', 1), ('Stopped', 1), ('beware', 1), ('Sweet', 1), ('w/', 1), ('Erika', 1), ('Mac', 1), ('Awsome', 1), ('DEALS', 1), ('solution', 1), ('Bad', 1), ('Can', 1), ('girlfriend', 1), ('earpiece/earphone', 1), ('Runs', 1), ('Mines', 1), ('scrape', 1), ('cardUpdate', 1), ('mint', 1), ('well', 1), ('Money', 1), ('anyone', 1), ('cricket', 1), ('shippes', 1), ('greatThe', 1), ('wireless', 1), ('Thinks', 1), ('Hasn', 1), ('Speaker', 1), ('suck', 1), ('Bueno', 1), ('Ca', 1), ('design', 1), ('Has', 1), ('delicious3', 1), ('Perfecto', 1), ('iuse', 1), ('curve', 1), ('Totally', 1), ('Met', 1), ('workthanks', 1), ('member', 1), ('equipment', 1), ('promotion', 1), ('bug', 1), ('id', 1), ('good', 1), ('hope', 1), ('Srill', 1), ('IN', 1), ('LOVE', 1), ('atlest', 1), ('👌👍', 1), ('choice', 1), ('Buttery', 1), ('broken', 1), ('Chrismas', 1), ('got', 1), ('owner', 1), ('operator', 1), ('DAUGHTER', 1), ('LOVED', 1), ('possibility', 1), ('trade', 1), ('sale', 1), ('situation', 1), ('date', 1), ('learnt', 1), ('Been', 1), ('feel', 1), ('💋💋💋💋💋💋', 1), ('hr', 1), ('Try', 1), ('Forgive', 1), ('English', 1), ('CONDITION', 1), ('Ottimo', 1), ('acquisto', 1), ('lemon', 1), ('excellentThe', 1), ('Wo', 1), ('Straight', 1), ('Talk', 1), ('Dead', 1), ('reboot', 1), ('Cleaned', 1), ('dirty', 1), ('roll', 1), ('dice', 1), ('swap', 1), ('pray', 1), ('headache', 1), ('Incoming', 1), ('store/carrier', 1), ('patient', 1), ('house', 1), ('BrazilArriving', 1), ('hung', 1), ('upI', 1), ('HOW', 1), ('PROBLEM', 1), ('NÃO', 1), ('COMPREM', 1), ('Não', 1), ('Tive', 1), ('prejuízo', 1), ('e', 1), ('consigo', 1), ('devolver', 1), ('Como', 1), ('empresa', 1), ('pode', 1), ('ter', 1), ('certificado', 1), ('que', 1), ('vale', 1), ('Esse', 1), ('mais', 1), ('caro', 1), ('DEVOLVA', 1), ('O', 1), ('MEU', 1), ('DINHEIRO', 1), ('injury', 1), ('fast', 1), ('heat', 1), ('DOES', 1), ('VIBRATE', 1), ('FAKE', 1), ('Hence', 1), ('Super', 1), ('iPhone6', 1), ('thinner', 1), ('Want', 1), ('POS', 1), ('causing', 1), ('error', 1), ('Guarantee', 1), ('Nevertheless', 1), ('fraud', 1), ('hearing', 1), ('aid', 1), ('claim', 1), ('opportunity', 1), ('Today', 1), ('Prime', 1), ('Mobility', 1), ('devise', 1), ('stand', 1), ('Personal', 1), ('gsm', 1), ('ArgentinaIt', 1), ('EVER', 1), ('RECEIVED', 1), ('FORCED', 1), ('ON', 1), ('REFURBISHED', 1), ('TRASH', 1), ('India', 1), ('center', 1), ('Arrived', 1), ('OS', 1), ('elegance', 1), ('display', 1), ('Idk', 1), ('sea', 1), ('present', 1), ('outbound', 1), ('sent', 1), ('Might', 1), ('Yes', 1), ('Activation', 1), ('Text', 1), ('morning', 1), ('procedure', 1), ('follow', 1), ('believe', 1), ('Headset', 1), ('output', 1), ('Lost', 1), ('move', 1), ('girl', 1), ('advance', 1), ('song', 1), ('insertion', 1), ('site', 1), ('Went', 1), ('maintain', 1), ('card😭', 1), ('blocked', 1), ('cut', 1), ('Hard', 1), ('New', 1), ('Man', 1), ('itReturn', 1), ('reach', 1), ('folk', 1), ('Definitely', 1), ('TMobil', 1), ('ask', 1), ('arrival', 1), ('start', 1), ('bit', 1), ('Ridiculous', 1), ('top', 1), ('Aside', 1), ('hassle', 1), ('evades', 1), ('pretending', 1), ('profit', 1), ('Caymen', 1), ('Islands', 1), ('Northern', 1), ('Ireland', 1), ('paper', 1), ('bill', 1), ('court', 1), ('euro', 1), ('protester', 1), ('TAKE', 1), ('THAT', 1), ('TRUTH', 1), ('FREEDOM', 1), ('OF', 1), ('EXPRESSION', 1), ('screw', 1), ('America', 1), ('California', 1), ('evadeMy', 1), ('half', 1), ('flip', 1), ('hell', 1), ('crap', 1), ('palm', 1), ('information', 1), ('simple', 1), ('layout', 1), ('iTunes', 1), ('So', 1), ('array', 1), ('photo', 1), ('band', 1), ('Hi', 1), ('name', 1), ('Kainn', 1), ('host', 1), ('broadcast', 1), ('appreciation', 1), ('follower', 1), ('ford190322', 1), ('gmailcom', 1), ('Never', 1), ('surface', 1), ('cornerIt', 1), ('Honestly', 1), ('break', 1), ('BAD', 1), ('QUALITY', 1), ('Device', 1), ('Best', 1), ('att', 1), ('Buy', 1), ('memory', 1), ('pepole', 1), ('alot', 1), ('sample', 1), ('youtube', 1), ('instagram', 1), ('pblm', 1), ('chanel', 1), ('fan', 1), ('thankyou', 1), ('Don', 1), ('baby', 1), ('it🙏🏼💕', 1), ('flawless', 1), ('DONT', 1), ('WASTE', 1), ('DROPS', 1), ('SIGNAL', 1), ('SCREEN', 1), ('BECOMES', 1), ('UNRESPONSIVE', 1), ('GREAT', 1), ('PRICE', 1), ('THUMB', 1), ('print', 1), ('WOW', 1), ('legit', 1), ('variety', 1), ('style', 1), ('concern', 1), ('skinny', 1), ('Lifeproof', 1), ('prevent', 1), ('grow', 1), ('ruin', 1), ('apropriate', 1), ('everyday', 1), ('beauty', 1)]\n"
     ]
    }
   ],
   "source": [
    "noun_dict=dict((i, noun_words.count(i)) for i in noun_words)\n",
    "noun_dict = sorted(noun_dict.items(), key=operator.itemgetter(1),reverse=True)\n",
    "print((noun_dict))"
   ]
  },
  {
   "cell_type": "code",
   "execution_count": 19,
   "metadata": {},
   "outputs": [
    {
     "name": "stdout",
     "output_type": "stream",
     "text": [
      "[('working', 55), ('nt', 46), ('came', 41), ('buy', 37), ('bought', 35), ('get', 34), ('refurbished', 30), ('got', 28), ('worked', 22), ('love', 22), ('go', 18), ('used', 18), ('received', 17), ('recommend', 17), ('know', 15), ('took', 14), ('stopped', 14), ('’', 14), ('described', 13), ('come', 13), ('work', 12), ('said', 12), ('need', 12), ('charged', 12), ('getting', 12), ('unlocked', 11), ('turned', 11), ('make', 11), ('put', 10), ('told', 10), ('use', 10), ('going', 10), ('keep', 10), ('buying', 10), ('return', 9), ('seems', 9), ('turn', 9), ('pleased', 9), ('started', 9), ('take', 9), ('using', 9), ('Works', 9), ('purchased', 8), ('charging', 8), ('sent', 8), ('expected', 8), ('want', 8), ('see', 8), ('tried', 7), ('ordered', 7), ('give', 7), ('called', 7), ('send', 7), ('thought', 7), ('let', 7), ('advertised', 7), ('like', 7), ('replace', 6), ('broke', 6), ('spent', 6), ('say', 6), ('went', 6), ('locked', 6), ('perfect', 5), ('trying', 5), ('arrived', 5), ('excited', 5), ('certified', 5), ('think', 5), ('looked', 5), ('hear', 5), ('charge', 5), ('loved', 5), ('scared', 5), ('left', 5), ('broken', 5), ('stuck', 5), ('returned', 5), ('damaged', 5), ('amazing', 5), ('hold', 5), ('replaced', 4), ('suck', 4), ('issue', 4), ('gave', 4), ('taking', 4), ('spend', 4), ('wish', 4), ('reset', 4), ('needed', 4), ('sold', 4), ('reading', 4), ('Do', 4), ('scratched', 4), ('died', 4), ('receiving', 4), ('hope', 4), ('look', 4), ('call', 4), ('satisfied', 4), ('looking', 4), ('disappointed', 4), ('shutting', 4), ('seem', 3), ('wanted', 3), ('Returning', 3), ('activating', 3), ('sending', 3), ('continued', 3), ('realized', 3), ('connected', 3), ('shut', 3), ('die', 3), ('pay', 3), ('repaired', 3), ('missing', 3), ('lasted', 3), ('passed', 3), ('known', 3), ('facing', 3), ('fake', 3), ('calling', 3), ('showed', 3), ('Received', 3), ('Everything', 3), ('sim', 3), ('supposed', 3), ('waiting', 3), ('made', 3), ('happening', 3), ('kept', 3), ('dying', 3), ('Love', 3), ('found', 3), ('impressed', 3), ('review', 3), ('met', 3), ('thinking', 3), ('activated', 3), ('returning', 3), ('ordering', 2), ('solve', 2), ('le', 2), ('run', 2), ('paying', 2), ('chose', 2), ('set', 2), ('screen', 2), ('began', 2), ('responding', 2), ('considering', 2), ('BUY', 2), ('regret', 2), ('refused', 2), ('fallen', 2), ('wait', 2), ('bring', 2), ('opened', 2), ('learned', 2), ('happen', 2), ('payed', 2), ('became', 2), ('starting', 2), ('sound', 2), ('move', 2), ('contacted', 2), ('waste', 2), ('requested', 2), ('Worked', 2), ('listen', 2), ('include', 2), ('stayed', 2), ('ring', 2), ('expired', 2), ('confirmed', 2), ('feel', 2), ('done', 2), ('cracked', 2), ('freezing', 2), ('plugged', 2), ('popped', 2), ('wasted', 2), ('seemed', 2), ('troubleshooting', 2), ('Have', 2), ('Going', 2), ('start', 2), ('turning', 2), ('glad', 2), ('contact', 2), ('losing', 2), ('included', 2), ('beginning', 2), ('saved', 2), ('happy', 2), ('realize', 2), ('type', 2), ('frustrated', 2), ('believe', 2), ('gotten', 2), ('battery', 2), ('staying', 2), ('didnt', 2), ('dy', 2), ('caused', 2), ('loving', 2), ('assist', 2), ('handled', 2), ('refurnished', 2), ('reach', 2), ('lasting', 2), ('sell', 2), ('recognizing', 1), ('packaged', 1), ('listed', 1), ('reviewing', 1), ('attempted', 1), ('idle', 1), ('figured', 1), ('bet', 1), ('knowing', 1), ('appeared', 1), ('occurring', 1), ('remains', 1), ('outcome', 1), ('request', 1), ('naked', 1), ('running', 1), ('ran', 1), ('ear', 1), ('upset', 1), ('test', 1), ('returns/exchanges', 1), ('decided', 1), ('kill', 1), ('mine', 1), ('fix', 1), ('revisit', 1), ('reviewed', 1), ('galaxy', 1), ('swipe', 1), ('soooooooooooooooooooo', 1), ('speakerphone', 1), ('sounded', 1), ('etc', 1), ('data', 1), ('Refurbished', 1), ('little', 1), ('swapping', 1), ('half', 1), ('continue', 1), ('allow', 1), ('blocked', 1), ('mean', 1), ('Saved', 1), ('offered', 1), ('disgusted', 1), ('amazed', 1), ('lowered', 1), ('refunded', 1), ('verified', 1), ('stated', 1), ('removed', 1), ('mentioned', 1), ('earned', 1), ('tell', 1), ('care', 1), ('presume', 1), ('secured', 1), ('inspected', 1), ('freeze', 1), ('developing', 1), ('changed', 1), ('gold', 1), ('END', 1), ('signed', 1), ('posting', 1), ('putting', 1), ('purchasing', 1), ('includes', 1), ('listened', 1), ('add', 1), ('bulshit', 1), ('surprise', 1), ('Dealfinder', 1), ('functioning', 1), ('backlight', 1), ('making', 1), ('warranty', 1), ('straight', 1), ('followed', 1), ('LOVE', 1), ('seen', 1), ('falling', 1), ('bed', 1), ('ohh', 1), ('contacting', 1), ('adjusting', 1), ('shipped', 1), ('felt', 1), ('Made', 1), ('afraid', 1), ('android', 1), ('understanding', 1), ('glitching', 1), ('guarentee', 1), ('forgot', 1), ('Purchased', 1), ('good', 1), ('card', 1), ('Walmart', 1), ('concerned', 1), ('saw', 1), ('useUnless', 1), ('switch', 1), ('cleared', 1), ('read', 1), ('recharged', 1), ('erase', 1), ('talking', 1), ('RECOMMEND', 1), ('breaked', 1), ('pride', 1), ('saving', 1), ('spending', 1), ('drive', 1), ('kid', 1), ('rebooted', 1), ('act', 1), ('touching', 1), ('mail', 1), ('fit', 1), ('screwed', 1), ('crate', 1), ('looove', 1), ('owning', 1), ('spazzing', 1), ('required', 1), ('SAY', 1), ('winning', 1), ('ringing', 1), ('guess', 1), ('given', 1), ('transfer', 1), ('provided', 1), ('clicking', 1), ('snap', 1), ('heating', 1), ('flash', 1), ('bunch', 1), ('assembled', 1), ('weird', 1), ('failed', 1), ('missed', 1), ('leery', 1), ('jumping', 1), ('dropping', 1), ('M', 1), ('HAVING', 1), ('complicated', 1), ('miss', 1), ('exploited', 1), ('remained', 1), ('related', 1), ('progressed', 1), ('acting', 1), ('switching', 1), ('delivered', 1), ('malfunctioning', 1), ('recived', 1), ('scammed', 1), ('sat', 1), ('Died', 1), ('surprised', 1), ('lose', 1), ('mobile', 1), ('shipping', 1), ('believetried', 1), ('message', 1), ('well', 1), ('mind', 1), ('selling', 1), ('messed', 1), ('Frustrating', 1), ('gifted', 1), ('try', 1), ('embarrassing', 1), ('store', 1), ('wan', 1), ('reconditioned', 1), ('change', 1), ('loose', 1), ('click', 1), ('super', 1), ('touched', 1), ('press', 1), ('Having', 1), ('understand', 1), ('discounted', 1), ('keeping', 1), ('unsatisfied', 1), ('detached', 1), ('proceeded', 1), ('scrachtes', 1), ('Returned', 1), ('charger', 1), ('displayed', 1), ('giving', 1), ('Making', 1), ('hate', 1), ('min', 1), ('doubt', 1), ('tesolved', 1), ('learning', 1), ('replacing', 1), ('slow', 1), ('kinda', 1), ('ignoring', 1), ('referbished', 1), ('fixed', 1), ('expect', 1), ('sucked', 1), ('metropcs', 1), ('promised', 1), ('joke', 1), ('stay', 1), ('awesome', 1), ('Thank', 1), ('Turning', 1), ('gift', 1), ('Charging', 1), ('beautiful', 1), ('worried', 1), ('sensing', 1), ('wrking', 1), ('Perfect', 1), ('Outstanding', 1), ('accept', 1), ('sure', 1), ('satisfying', 1), ('Working', 1), ('Broke', 1), ('hurry', 1), ('durable', 1), ('placed', 1), ('wrote', 1), ('exchanged', 1), ('based', 1), ('okay', 1), ('stoped', 1), ('pressing', 1), ('guessing', 1), ('emailed', 1), ('heAring', 1), ('begun', 1), ('Russia', 1), ('rejected', 1), ('dissatisfied', 1), ('Is', 1), ('paid', 1), ('annoying', 1), ('gon', 1), ('bug', 1), ('ready', 1), ('cause', 1), ('outgoing', 1), ('show', 1), ('deliver', 1), ('brought', 1), ('carrying', 1), ('SOLVE', 1), ('funciona', 1), ('saiu', 1), ('certificate', 1), ('receive', 1), ('minute', 1), ('glitch', 1), ('ended', 1), ('rose', 1), ('complaining', 1), ('iPhone6', 1), ('suppose', 1), ('refund', 1), ('covered', 1), ('cant', 1), ('recognize', 1), ('HAVE', 1), ('AM', 1), ('WASTE', 1), ('shown', 1), ('serviced', 1), ('cost', 1), ('shopping', 1), ('Given', 1), ('Delivered', 1), ('cutting', 1), ('revived', 1), ('led', 1), ('USA', 1), ('stop', 1), ('cut', 1), ('planning', 1), ('stolen', 1), ('Used', 1), ('Iphone', 1), ('contatec', 1), ('asked', 1), ('suposed', 1), ('chenag', 1), ('intend', 1), ('lost', 1), ('restarting', 1), ('text', 1), ('suggested', 1), ('better', 1), ('filed', 1), ('profit', 1), ('freaking', 1), ('jam', 1), ('setting', 1), ('saying', 1), ('junked', 1), ('lousy', 1), ('top', 1), ('recommended', 1), ('late', 1), ('asking', 1), ('yelled', 1), ('laid', 1), ('noticed', 1), ('teetered', 1), ('argued', 1), ('Phone', 1), ('lot', 1), ('youtube', 1), ('€', 1), ('checked', 1), ('YouTube', 1), ('Pissed', 1), ('friend', 1), ('phoneConcerns', 1), ('taken', 1), ('cracking', 1), ('itPositives', 1), ('leaving', 1), ('needing', 1), ('prefer', 1), ('older', 1), ('high', 1), ('Taking', 1)]\n"
     ]
    }
   ],
   "source": [
    "verb_dict=dict((i, verb_words.count(i)) for i in verb_words)\n",
    "verb_dict = sorted(verb_dict.items(), key=operator.itemgetter(1),reverse=True)\n",
    "print((verb_dict))"
   ]
  },
  {
   "cell_type": "code",
   "execution_count": 20,
   "metadata": {
    "scrolled": false
   },
   "outputs": [
    {
     "name": "stdout",
     "output_type": "stream",
     "text": [
      "[('new', 77), ('good', 68), ('great', 65), ('nt', 30), ('happy', 29), ('bad', 22), ('Good', 15), ('last', 14), ('much', 12), ('perfect', 12), ('fine', 12), ('screen', 11), ('easy', 10), ('first', 10), ('unlocked', 9), ('big', 8), ('old', 8), ('little', 8), ('second', 7), ('disappointed', 7), ('charger', 7), ('original', 7), ('sure', 6), ('able', 6), ('expensive', 6), ('Excellent', 6), ('dead', 6), ('worth', 6), ('free', 6), ('slow', 5), ('several', 5), ('different', 5), ('black', 5), ('call', 5), ('nice', 5), ('refurbished', 5), ('many', 5), ('defective', 5), ('full', 5), ('mic', 4), ('fix', 4), ('hard', 4), ('nervous', 4), ('touch', 4), ('low', 4), ('iPhone', 4), ('open', 4), ('wrong', 4), ('Horrible', 4), ('sound', 4), ('satisfied', 4), ('long', 4), ('generic', 3), ('amazon', 3), ('next', 3), ('due', 3), ('unresponsive', 3), ('hear', 3), ('front', 3), ('extra', 3), ('awesome', 3), ('large', 3), ('previous', 3), ('better', 3), ('normal', 3), ('mobile', 3), ('unable', 3), ('Other', 3), ('Perfect', 3), ('couple', 3), ('real', 3), ('present', 3), ('’', 3), ('whole', 3), ('worked', 3), ('bigger', 3), ('excellent', 3), ('le', 3), ('best', 3), ('GREAT', 3), ('super', 3), ('impossible', 2), ('know', 2), ('give', 2), ('necessary', 2), ('overall', 2), ('suppose', 2), ('negative', 2), ('current', 2), ('horrible', 2), ('flat', 2), ('key', 2), ('responsible', 2), ('small', 2), ('weak', 2), ('single', 2), ('connect', 2), ('come', 2), ('ugly', 2), ('updated', 2), ('return', 2), ('happier', 2), ('stuck', 2), ('cheap', 2), ('quick', 2), ('complete', 2), ('send', 2), ('right', 2), ('difficult', 2), ('Overall', 2), ('read', 2), ('update', 2), ('lot', 2), ('Great', 2), ('worse', 2), ('birthday', 2), ('write', 2), ('fake', 2), ('upset', 2), ('terrible', 2), ('awful', 2), ('late', 2), ('cant', 2), ('sim', 2), ('noticeable', 2), ('scratch', 2), ('cellphone', 2), ('impressed', 2), ('fit', 2), ('poor', 2), ('Ok', 2), ('enough', 2), ('um', 2), ('não', 2), ('shutter', 2), ('cheaper', 2), ('described', 1), ('terrified', 1), ('technical', 1), ('helpful', 1), ('clean', 1), ('fastDownside', 1), ('half', 1), ('least', 1), ('activated', 1), ('hey', 1), ('ongoing', 1), ('receive', 1), ('greater', 1), ('inactive', 1), ('iOS', 1), ('benefit', 1), ('regular', 1), ('huge', 1), ('muffled', 1), ('jump', 1), ('fraudulent', 1), ('crappy', 1), ('sad', 1), ('son', 1), ('factory', 1), ('sister', 1), ('ready', 1), ('silent', 1), ('mute', 1), ('password', 1), ('hold', 1), ('arrival', 1), ('clear', 1), ('upkeep', 1), ('website', 1), ('true', 1), ('aware', 1), ('positive', 1), ('make', 1), ('video', 1), ('disappointing', 1), ('gb', 1), ('glad', 1), ('massive', 1), ('middle', 1), ('handle', 1), ('blemish', 1), ('delight', 1), ('sign', 1), ('prior', 1), ('hopeful', 1), ('dark', 1), ('u', 1), ('chargeable', 1), ('wish', 1), ('unlock', 1), ('improper', 1), ('scepticale', 1), ('early', 1), ('overnight', 1), ('larger', 1), ('temporary', 1), ('cheat', 1), ('die', 1), ('boot', 1), ('future', 1), ('process', 1), ('supplier', 1), ('shipment', 1), ('false', 1), ('say', 1), ('descriptionI', 1), ('refurbish', 1), ('prepared', 1), ('replacement', 1), ('unattached', 1), ('fading', 1), ('garbage', 1), ('joy', 1), ('protective', 1), ('thin', 1), ('register', 1), ('mental', 1), ('unusable', 1), ('farfetched', 1), ('correct', 1), ('useless', 1), ('aftermarket', 1), ('thru', 1), ('additional', 1), ('voice', 1), ('passcode', 1), ('Dadoftheyear', 1), ('First', 1), ('unstable', 1), ('care', 1), ('unhappy', 1), ('returned', 1), ('warm', 1), ('pristine', 1), ('passed', 1), ('nonstop', 1), ('ridiculous', 1), ('scuff', 1), ('keep', 1), ('window', 1), ('info', 1), ('noice', 1), ('othe', 1), ('working', 1), ('total', 1), ('find', 1), ('wht', 1), ('dissapointment', 1), ('ferdizuniga', 1), ('coming', 1), ('purpose', 1), ('flimsy', 1), ('Prompt', 1), ('faceDO', 1), ('usable', 1), ('mean', 1), ('supposed', 1), ('gorgeous', 1), ('scared', 1), ('greatful', 1), ('useful', 1), ('vendor', 1), ('solid', 1), ('begs', 1), ('metro', 1), ('recommended', 1), ('ok', 1), ('skeptical', 1), ('worried', 1), ('pleased', 1), ('afford', 1), ('dependent', 1), ('Worse', 1), ('happen', 1), ('Wish', 1), ('close', 1), ('wear', 1), ('need', 1), ('turned', 1), ('na', 1), ('freezing', 1), ('purchased', 1), ('cellular', 1), ('expect', 1), ('rid', 1), ('random', 1), ('disabled', 1), ('cool', 1), ('latest', 1), ('functioning', 1), ('seller', 1), ('stop', 1), ('major', 1), ('actual', 1), ('possible', 1), ('couldnt', 1), ('arrive', 1), ('intact', 1), ('unbelievable', 1), ('common', 1), ('activate', 1), ('legnever', 1), ('properly', 1), ('arrived', 1), ('teen', 1), ('criticize', 1), ('friendly', 1), ('ELECTRONIC', 1), ('like', 1), ('glitchy', 1), ('battery', 1), ('complany', 1), ('get', 1), ('straight', 1), ('upgrade', 1), ('😁', 1), ('fast', 1), ('gift', 1), ('Arrived', 1), ('Happy', 1), ('GOod', 1), ('overseas', 1), ('told', 1), ('pas', 1), ('final', 1), ('meEven', 1), ('appreciate', 1), ('main', 1), ('th', 1), ('unstuck', 1), ('separate', 1), ('personal', 1), ('look', 1), ('frozen', 1), ('local', 1), ('friend', 1), ('uma', 1), ('text', 1), ('gold', 1), ('likely', 1), ('shattered', 1), ('att', 1), ('worst', 1), ('certified', 1), ('former', 1), ('guy', 1), ('chargedwhy', 1), ('doPlease', 1), ('weird', 1), ('legal', 1), ('live', 1), ('warranty', 1), ('anew', 1), ('lq', 1), ('Terrible', 1), ('Major', 1), ('blue', 1), ('Japanese', 1), ('handsfree', 1), ('help', 1), ('unusual', 1), ('lagged', 1), ('logo', 1), ('furious', 1), ('secret', 1), ('French', 1), ('hide', 1), ('stall', 1), ('sleek', 1), ('wonderful', 1), ('smartphone', 1), ('protect', 1), ('private', 1), ('user', 1), ('twentyfive', 1), ('song', 1), ('recap', 1), ('beautiful', 1), ('safest', 1), ('endless', 1), ('public', 1), ('sample', 1), ('email', 1), ('bent', 1), ('notice', 1), ('forth', 1), ('twisted', 1), ('break', 1), ('fragile', 1), ('iCloud', 1), ('promte', 1), ('pc', 1), ('test', 1), ('durable', 1), ('ugrading', 1), ('ipad', 1), ('fantastic', 1), ('iphone', 1), ('lasting', 1), ('easier', 1)]\n"
     ]
    }
   ],
   "source": [
    "adj_dict=dict((i, adj_words.count(i)) for i in adj_words)\n",
    "adj_dict = sorted(adj_dict.items(), key=operator.itemgetter(1),reverse=True)\n",
    "print((adj_dict))"
   ]
  },
  {
   "cell_type": "code",
   "execution_count": 21,
   "metadata": {
    "collapsed": true
   },
   "outputs": [],
   "source": [
    "imp_nouns=[]\n",
    "imp_verbs=[]\n",
    "imp_adjs=[]\n",
    "for k,v in noun_dict:\n",
    "    if(v>=5):\n",
    "        imp_nouns.append(k)\n",
    "for k,v in verb_dict:\n",
    "    if(v>=5):\n",
    "        imp_verbs.append(k)\n",
    "for k,v in adj_dict:\n",
    "    if(v>=5):\n",
    "        imp_adjs.append(k)\n",
    "        "
   ]
  },
  {
   "cell_type": "code",
   "execution_count": 22,
   "metadata": {},
   "outputs": [
    {
     "name": "stdout",
     "output_type": "stream",
     "text": [
      "123 81 39\n"
     ]
    }
   ],
   "source": [
    "print(len(imp_nouns),len(imp_verbs),len(imp_adjs))"
   ]
  },
  {
   "cell_type": "code",
   "execution_count": 23,
   "metadata": {},
   "outputs": [
    {
     "name": "stdout",
     "output_type": "stream",
     "text": [
      "['phone', 'work', 'problem', 'battery', 'time', 'product', 'condition', 'day', 'screen', 'month', 'Phone', 'iPhone', 'money', 'charge', 'issue', 'Great', '’', 'charger', 'purchase', 'Apple', 'week', 'brand', 'review', 'service', 'price', 'use', 'iphone', 'scratch', 'seller', 'nt', 'hour', 'NOT', 'card', 'daughter', 'camera', 'return', 'Amazon', 'look', 'item', 'thing', 'button', 'Thank', 'apple', 'lot', 'customer', 'store', 'waste', 'SIM', 'DO', 'Battery', 'case', 'sound', 'device', 'minute', 'call', 'turn', 'everything', 'No', 'crack', 'deal', 'Do', 'order', 'get', 'Tried', 'refund', 'delivery', 'gift', 'Product', 'My', 'box', 'quality', 'Looks', 'Works', 'picture', 'touch', 'life', 'star', 'volume', 'buy', 'carrier', 'nothing', 'Would', 'love', 'amazon', 'replacement', 'Siri', 'hardware', 'Just', 'let', 'Came', 'speaker', 'Bought', 'Got', 'perfect', 'Iphone', 'Was', 'today', 'BUY', 'something', 'Excellent', 'country', 'glass', 'shutter', 'people', 'shape', 'IT', 'company', 'warranty', 'Store', 'freeze', 'PHONE', 'chance', 'guy', 'anything', 'kind', 'mark', 'message', 'reason', 'T', 'worth', 'process', 'Very', 'year']\n"
     ]
    }
   ],
   "source": [
    "print(imp_nouns)"
   ]
  },
  {
   "cell_type": "code",
   "execution_count": 23,
   "metadata": {
    "collapsed": true
   },
   "outputs": [],
   "source": [
    "#data_samples=preprocessed_docs"
   ]
  },
  {
   "cell_type": "code",
   "execution_count": 24,
   "metadata": {
    "collapsed": true
   },
   "outputs": [],
   "source": [
    "#data_samples=data['Review_Text'].tolist()"
   ]
  },
  {
   "cell_type": "code",
   "execution_count": 24,
   "metadata": {},
   "outputs": [
    {
     "name": "stdout",
     "output_type": "stream",
     "text": [
      "Extracting tf-idf features for NMF...\n"
     ]
    }
   ],
   "source": [
    "# Use tf-idf features for NMF.\n",
    "print(\"Extracting tf-idf features for NMF...\")\n",
    "tfidf_vectorizer = TfidfVectorizer(max_df=0.90, min_df=2,\n",
    "                                   stop_words='english')"
   ]
  },
  {
   "cell_type": "code",
   "execution_count": 25,
   "metadata": {
    "collapsed": true
   },
   "outputs": [],
   "source": [
    "lemmatised_docs=[]\n",
    "for i in preprocessed_docs:\n",
    "    str=' '.join(i)\n",
    "    lemmatised_docs.append(str)\n",
    "    "
   ]
  },
  {
   "cell_type": "code",
   "execution_count": 26,
   "metadata": {},
   "outputs": [
    {
     "data": {
      "text/plain": [
       "'It work clean Professional packaging arrived fastDownside battery must replaced wo nt even last half day idle Good thing least nt waterproof phone I easily buy battery replacement kit le 30 Amazon It really would great put new battery wo nt suffer performance due shit iOS get new phone old phone slow tactic aka BATTERY GATE I figured I would run problem like since refurbished one anyway It impossible know performance battery life without activating phone I bet lot people problem would actually return activated But hey I paying thousand new phone I bought iPhone knowing ongoing battery gate controversy I suck wo nt even bother sending complaintBut I chose give 3 star since price nt bad seems easy enough replace battery nt cost much buy battery kit I nt like okay'"
      ]
     },
     "execution_count": 26,
     "metadata": {},
     "output_type": "execute_result"
    }
   ],
   "source": [
    "lemmatised_docs[5]"
   ]
  },
  {
   "cell_type": "code",
   "execution_count": 27,
   "metadata": {},
   "outputs": [
    {
     "name": "stdout",
     "output_type": "stream",
     "text": [
      "<class 'str'> <class 'str'>\n"
     ]
    }
   ],
   "source": [
    "print(type(data_samples[1]),type(lemmatised_docs[1]))"
   ]
  },
  {
   "cell_type": "code",
   "execution_count": 28,
   "metadata": {
    "collapsed": true
   },
   "outputs": [],
   "source": [
    "tfidf = tfidf_vectorizer.fit_transform(lemmatised_docs)"
   ]
  },
  {
   "cell_type": "code",
   "execution_count": 29,
   "metadata": {},
   "outputs": [
    {
     "data": {
      "text/plain": [
       "(570, 621)"
      ]
     },
     "execution_count": 29,
     "metadata": {},
     "output_type": "execute_result"
    }
   ],
   "source": [
    "tfidf.shape"
   ]
  },
  {
   "cell_type": "code",
   "execution_count": 30,
   "metadata": {},
   "outputs": [
    {
     "data": {
      "text/plain": [
       "621"
      ]
     },
     "execution_count": 30,
     "metadata": {},
     "output_type": "execute_result"
    }
   ],
   "source": [
    "tfidf_features=tfidf_vectorizer.get_feature_names()\n",
    "len(tfidf_features)"
   ]
  },
  {
   "cell_type": "code",
   "execution_count": 31,
   "metadata": {},
   "outputs": [
    {
     "data": {
      "text/plain": [
       "['10',\n",
       " '100',\n",
       " '20',\n",
       " '30',\n",
       " '300',\n",
       " '45',\n",
       " '50',\n",
       " '500',\n",
       " '80',\n",
       " '90',\n",
       " '98',\n",
       " 'able',\n",
       " 'absolutely',\n",
       " 'account',\n",
       " 'activate',\n",
       " 'activated',\n",
       " 'activating',\n",
       " 'activation',\n",
       " 'actually',\n",
       " 'add']"
      ]
     },
     "execution_count": 31,
     "metadata": {},
     "output_type": "execute_result"
    }
   ],
   "source": [
    "tfidf_features[:20]"
   ]
  },
  {
   "cell_type": "code",
   "execution_count": 32,
   "metadata": {},
   "outputs": [
    {
     "name": "stdout",
     "output_type": "stream",
     "text": [
      "(570, 621)\n"
     ]
    }
   ],
   "source": [
    "print(tfidf.shape)\n",
    "# shape of the tfidf is 26,105 means 26 docs(reviews) and 105 features(words) with max_df=0.90, min_df=2"
   ]
  },
  {
   "cell_type": "code",
   "execution_count": 33,
   "metadata": {
    "scrolled": true
   },
   "outputs": [
    {
     "data": {
      "text/plain": [
       "<1x621 sparse matrix of type '<class 'numpy.float64'>'\n",
       "\twith 18 stored elements in Compressed Sparse Row format>"
      ]
     },
     "execution_count": 33,
     "metadata": {},
     "output_type": "execute_result"
    }
   ],
   "source": [
    "tfidf.getrow(0)"
   ]
  },
  {
   "cell_type": "markdown",
   "metadata": {},
   "source": [
    "https://buhrmann.github.io/tfidf-analysis.html"
   ]
  },
  {
   "cell_type": "code",
   "execution_count": 34,
   "metadata": {
    "collapsed": true
   },
   "outputs": [],
   "source": [
    "def top_tfidf_feats(row, features,top_n):\n",
    "    #top_n=25\n",
    "    ''' Get top n tfidf values in row and return them with their corresponding feature names.'''\n",
    "    topn_ids = np.argsort(row)[::-1][:top_n]\n",
    "    top_feats = [(features[i], row[i]) for i in topn_ids]\n",
    "    df = pd.DataFrame(top_feats)\n",
    "    df.columns = ['feature', 'tfidf']\n",
    "    return df"
   ]
  },
  {
   "cell_type": "code",
   "execution_count": 35,
   "metadata": {
    "collapsed": true
   },
   "outputs": [],
   "source": [
    "def top_feats_in_doc(Xtr, features, row_id,top_n):\n",
    "    #top_n=25\n",
    "    ''' Top tfidf features in specific document (matrix row) '''\n",
    "    row = np.squeeze(Xtr[row_id].toarray())\n",
    "    return top_tfidf_feats(row, features,top_n)"
   ]
  },
  {
   "cell_type": "code",
   "execution_count": 36,
   "metadata": {
    "collapsed": true
   },
   "outputs": [],
   "source": [
    "def top_mean_feats(Xtr, features,top_n):\n",
    "    grp_ids=None\n",
    "    min_tfidf=0.1\n",
    "    ''' Return the top n features that on average are most important amongst documents in rows\n",
    "        indentified by indices in grp_ids. '''\n",
    "    if grp_ids:\n",
    "        D = Xtr[grp_ids].toarray()\n",
    "    else:\n",
    "        D = Xtr.toarray()\n",
    "\n",
    "    D[D < min_tfidf] = 0\n",
    "    tfidf_means = np.mean(D, axis=0)\n",
    "    return top_tfidf_feats(tfidf_means, features,top_n)"
   ]
  },
  {
   "cell_type": "code",
   "execution_count": 37,
   "metadata": {
    "collapsed": true
   },
   "outputs": [],
   "source": [
    "def top_feats_by_class(Xtr, y, features,top_n):\n",
    "    min_tfidf=0.1\n",
    "    \n",
    "    ''' Return a list of dfs, where each df holds top_n features and their mean tfidf value\n",
    "        calculated across documents with the same class label. '''\n",
    "    dfs = []\n",
    "    labels = np.unique(y)\n",
    "    for label in labels:\n",
    "        ids = np.where(y==label)\n",
    "        feats_df = top_mean_feats(Xtr, features)\n",
    "        feats_df.label = label\n",
    "        dfs.append(feats_df)\n",
    "    return dfs"
   ]
  },
  {
   "cell_type": "code",
   "execution_count": 38,
   "metadata": {},
   "outputs": [
    {
     "data": {
      "text/html": [
       "<div>\n",
       "<style>\n",
       "    .dataframe thead tr:only-child th {\n",
       "        text-align: right;\n",
       "    }\n",
       "\n",
       "    .dataframe thead th {\n",
       "        text-align: left;\n",
       "    }\n",
       "\n",
       "    .dataframe tbody tr th {\n",
       "        vertical-align: top;\n",
       "    }\n",
       "</style>\n",
       "<table border=\"1\" class=\"dataframe\">\n",
       "  <thead>\n",
       "    <tr style=\"text-align: right;\">\n",
       "      <th></th>\n",
       "      <th>feature</th>\n",
       "      <th>tfidf</th>\n",
       "    </tr>\n",
       "  </thead>\n",
       "  <tbody>\n",
       "    <tr>\n",
       "      <th>0</th>\n",
       "      <td>battery</td>\n",
       "      <td>0.478978</td>\n",
       "    </tr>\n",
       "    <tr>\n",
       "      <th>1</th>\n",
       "      <td>nt</td>\n",
       "      <td>0.367311</td>\n",
       "    </tr>\n",
       "    <tr>\n",
       "      <th>2</th>\n",
       "      <td>wo</td>\n",
       "      <td>0.274682</td>\n",
       "    </tr>\n",
       "    <tr>\n",
       "      <th>3</th>\n",
       "      <td>performance</td>\n",
       "      <td>0.231192</td>\n",
       "    </tr>\n",
       "    <tr>\n",
       "      <th>4</th>\n",
       "      <td>new</td>\n",
       "      <td>0.175245</td>\n",
       "    </tr>\n",
       "  </tbody>\n",
       "</table>\n",
       "</div>"
      ],
      "text/plain": [
       "       feature     tfidf\n",
       "0      battery  0.478978\n",
       "1           nt  0.367311\n",
       "2           wo  0.274682\n",
       "3  performance  0.231192\n",
       "4          new  0.175245"
      ]
     },
     "execution_count": 38,
     "metadata": {},
     "output_type": "execute_result"
    }
   ],
   "source": [
    "top_feats_in_doc(tfidf,tfidf_features,5,5)"
   ]
  },
  {
   "cell_type": "code",
   "execution_count": 39,
   "metadata": {},
   "outputs": [
    {
     "data": {
      "text/html": [
       "<div>\n",
       "<style>\n",
       "    .dataframe thead tr:only-child th {\n",
       "        text-align: right;\n",
       "    }\n",
       "\n",
       "    .dataframe thead th {\n",
       "        text-align: left;\n",
       "    }\n",
       "\n",
       "    .dataframe tbody tr th {\n",
       "        vertical-align: top;\n",
       "    }\n",
       "</style>\n",
       "<table border=\"1\" class=\"dataframe\">\n",
       "  <thead>\n",
       "    <tr style=\"text-align: right;\">\n",
       "      <th></th>\n",
       "      <th>feature</th>\n",
       "      <th>tfidf</th>\n",
       "    </tr>\n",
       "  </thead>\n",
       "  <tbody>\n",
       "    <tr>\n",
       "      <th>0</th>\n",
       "      <td>phone</td>\n",
       "      <td>0.083734</td>\n",
       "    </tr>\n",
       "    <tr>\n",
       "      <th>1</th>\n",
       "      <td>great</td>\n",
       "      <td>0.063209</td>\n",
       "    </tr>\n",
       "    <tr>\n",
       "      <th>2</th>\n",
       "      <td>good</td>\n",
       "      <td>0.060543</td>\n",
       "    </tr>\n",
       "    <tr>\n",
       "      <th>3</th>\n",
       "      <td>work</td>\n",
       "      <td>0.039250</td>\n",
       "    </tr>\n",
       "    <tr>\n",
       "      <th>4</th>\n",
       "      <td>nt</td>\n",
       "      <td>0.032901</td>\n",
       "    </tr>\n",
       "    <tr>\n",
       "      <th>5</th>\n",
       "      <td>product</td>\n",
       "      <td>0.030081</td>\n",
       "    </tr>\n",
       "    <tr>\n",
       "      <th>6</th>\n",
       "      <td>new</td>\n",
       "      <td>0.030068</td>\n",
       "    </tr>\n",
       "    <tr>\n",
       "      <th>7</th>\n",
       "      <td>love</td>\n",
       "      <td>0.029118</td>\n",
       "    </tr>\n",
       "    <tr>\n",
       "      <th>8</th>\n",
       "      <td>problem</td>\n",
       "      <td>0.028558</td>\n",
       "    </tr>\n",
       "    <tr>\n",
       "      <th>9</th>\n",
       "      <td>battery</td>\n",
       "      <td>0.028178</td>\n",
       "    </tr>\n",
       "    <tr>\n",
       "      <th>10</th>\n",
       "      <td>iphone</td>\n",
       "      <td>0.025091</td>\n",
       "    </tr>\n",
       "    <tr>\n",
       "      <th>11</th>\n",
       "      <td>working</td>\n",
       "      <td>0.024978</td>\n",
       "    </tr>\n",
       "    <tr>\n",
       "      <th>12</th>\n",
       "      <td>like</td>\n",
       "      <td>0.023933</td>\n",
       "    </tr>\n",
       "    <tr>\n",
       "      <th>13</th>\n",
       "      <td>time</td>\n",
       "      <td>0.022747</td>\n",
       "    </tr>\n",
       "    <tr>\n",
       "      <th>14</th>\n",
       "      <td>condition</td>\n",
       "      <td>0.022392</td>\n",
       "    </tr>\n",
       "    <tr>\n",
       "      <th>15</th>\n",
       "      <td>perfect</td>\n",
       "      <td>0.022204</td>\n",
       "    </tr>\n",
       "    <tr>\n",
       "      <th>16</th>\n",
       "      <td>came</td>\n",
       "      <td>0.021588</td>\n",
       "    </tr>\n",
       "    <tr>\n",
       "      <th>17</th>\n",
       "      <td>excellent</td>\n",
       "      <td>0.020169</td>\n",
       "    </tr>\n",
       "    <tr>\n",
       "      <th>18</th>\n",
       "      <td>buy</td>\n",
       "      <td>0.019204</td>\n",
       "    </tr>\n",
       "    <tr>\n",
       "      <th>19</th>\n",
       "      <td>screen</td>\n",
       "      <td>0.018175</td>\n",
       "    </tr>\n",
       "    <tr>\n",
       "      <th>20</th>\n",
       "      <td>happy</td>\n",
       "      <td>0.018104</td>\n",
       "    </tr>\n",
       "    <tr>\n",
       "      <th>21</th>\n",
       "      <td>issue</td>\n",
       "      <td>0.017722</td>\n",
       "    </tr>\n",
       "    <tr>\n",
       "      <th>22</th>\n",
       "      <td>charger</td>\n",
       "      <td>0.017213</td>\n",
       "    </tr>\n",
       "    <tr>\n",
       "      <th>23</th>\n",
       "      <td>bought</td>\n",
       "      <td>0.016410</td>\n",
       "    </tr>\n",
       "    <tr>\n",
       "      <th>24</th>\n",
       "      <td>charge</td>\n",
       "      <td>0.015886</td>\n",
       "    </tr>\n",
       "    <tr>\n",
       "      <th>25</th>\n",
       "      <td>month</td>\n",
       "      <td>0.015645</td>\n",
       "    </tr>\n",
       "    <tr>\n",
       "      <th>26</th>\n",
       "      <td>got</td>\n",
       "      <td>0.014623</td>\n",
       "    </tr>\n",
       "    <tr>\n",
       "      <th>27</th>\n",
       "      <td>day</td>\n",
       "      <td>0.014497</td>\n",
       "    </tr>\n",
       "    <tr>\n",
       "      <th>28</th>\n",
       "      <td>works</td>\n",
       "      <td>0.014445</td>\n",
       "    </tr>\n",
       "    <tr>\n",
       "      <th>29</th>\n",
       "      <td>refurbished</td>\n",
       "      <td>0.013205</td>\n",
       "    </tr>\n",
       "    <tr>\n",
       "      <th>30</th>\n",
       "      <td>far</td>\n",
       "      <td>0.012862</td>\n",
       "    </tr>\n",
       "    <tr>\n",
       "      <th>31</th>\n",
       "      <td>thank</td>\n",
       "      <td>0.012615</td>\n",
       "    </tr>\n",
       "    <tr>\n",
       "      <th>32</th>\n",
       "      <td>bad</td>\n",
       "      <td>0.012259</td>\n",
       "    </tr>\n",
       "    <tr>\n",
       "      <th>33</th>\n",
       "      <td>money</td>\n",
       "      <td>0.012129</td>\n",
       "    </tr>\n",
       "    <tr>\n",
       "      <th>34</th>\n",
       "      <td>apple</td>\n",
       "      <td>0.011973</td>\n",
       "    </tr>\n",
       "    <tr>\n",
       "      <th>35</th>\n",
       "      <td>worked</td>\n",
       "      <td>0.011841</td>\n",
       "    </tr>\n",
       "    <tr>\n",
       "      <th>36</th>\n",
       "      <td>review</td>\n",
       "      <td>0.011492</td>\n",
       "    </tr>\n",
       "    <tr>\n",
       "      <th>37</th>\n",
       "      <td>brand</td>\n",
       "      <td>0.011425</td>\n",
       "    </tr>\n",
       "    <tr>\n",
       "      <th>38</th>\n",
       "      <td>use</td>\n",
       "      <td>0.011406</td>\n",
       "    </tr>\n",
       "    <tr>\n",
       "      <th>39</th>\n",
       "      <td>week</td>\n",
       "      <td>0.011359</td>\n",
       "    </tr>\n",
       "    <tr>\n",
       "      <th>40</th>\n",
       "      <td>used</td>\n",
       "      <td>0.011114</td>\n",
       "    </tr>\n",
       "    <tr>\n",
       "      <th>41</th>\n",
       "      <td>return</td>\n",
       "      <td>0.011070</td>\n",
       "    </tr>\n",
       "    <tr>\n",
       "      <th>42</th>\n",
       "      <td>perfectly</td>\n",
       "      <td>0.011033</td>\n",
       "    </tr>\n",
       "    <tr>\n",
       "      <th>43</th>\n",
       "      <td>service</td>\n",
       "      <td>0.010795</td>\n",
       "    </tr>\n",
       "    <tr>\n",
       "      <th>44</th>\n",
       "      <td>daughter</td>\n",
       "      <td>0.010691</td>\n",
       "    </tr>\n",
       "    <tr>\n",
       "      <th>45</th>\n",
       "      <td>purchase</td>\n",
       "      <td>0.010678</td>\n",
       "    </tr>\n",
       "    <tr>\n",
       "      <th>46</th>\n",
       "      <td>described</td>\n",
       "      <td>0.010124</td>\n",
       "    </tr>\n",
       "    <tr>\n",
       "      <th>47</th>\n",
       "      <td>price</td>\n",
       "      <td>0.010080</td>\n",
       "    </tr>\n",
       "    <tr>\n",
       "      <th>48</th>\n",
       "      <td>look</td>\n",
       "      <td>0.009908</td>\n",
       "    </tr>\n",
       "    <tr>\n",
       "      <th>49</th>\n",
       "      <td>unlocked</td>\n",
       "      <td>0.009709</td>\n",
       "    </tr>\n",
       "  </tbody>\n",
       "</table>\n",
       "</div>"
      ],
      "text/plain": [
       "        feature     tfidf\n",
       "0         phone  0.083734\n",
       "1         great  0.063209\n",
       "2          good  0.060543\n",
       "3          work  0.039250\n",
       "4            nt  0.032901\n",
       "5       product  0.030081\n",
       "6           new  0.030068\n",
       "7          love  0.029118\n",
       "8       problem  0.028558\n",
       "9       battery  0.028178\n",
       "10       iphone  0.025091\n",
       "11      working  0.024978\n",
       "12         like  0.023933\n",
       "13         time  0.022747\n",
       "14    condition  0.022392\n",
       "15      perfect  0.022204\n",
       "16         came  0.021588\n",
       "17    excellent  0.020169\n",
       "18          buy  0.019204\n",
       "19       screen  0.018175\n",
       "20        happy  0.018104\n",
       "21        issue  0.017722\n",
       "22      charger  0.017213\n",
       "23       bought  0.016410\n",
       "24       charge  0.015886\n",
       "25        month  0.015645\n",
       "26          got  0.014623\n",
       "27          day  0.014497\n",
       "28        works  0.014445\n",
       "29  refurbished  0.013205\n",
       "30          far  0.012862\n",
       "31        thank  0.012615\n",
       "32          bad  0.012259\n",
       "33        money  0.012129\n",
       "34        apple  0.011973\n",
       "35       worked  0.011841\n",
       "36       review  0.011492\n",
       "37        brand  0.011425\n",
       "38          use  0.011406\n",
       "39         week  0.011359\n",
       "40         used  0.011114\n",
       "41       return  0.011070\n",
       "42    perfectly  0.011033\n",
       "43      service  0.010795\n",
       "44     daughter  0.010691\n",
       "45     purchase  0.010678\n",
       "46    described  0.010124\n",
       "47        price  0.010080\n",
       "48         look  0.009908\n",
       "49     unlocked  0.009709"
      ]
     },
     "execution_count": 39,
     "metadata": {},
     "output_type": "execute_result"
    }
   ],
   "source": [
    "top_mean_feats(tfidf,tfidf_features,50)"
   ]
  },
  {
   "cell_type": "code",
   "execution_count": 40,
   "metadata": {},
   "outputs": [
    {
     "name": "stdout",
     "output_type": "stream",
     "text": [
      "Extracting tf features for LDA...\n"
     ]
    }
   ],
   "source": [
    "# Use tf (raw term count) features for LDA.\n",
    "print(\"Extracting tf features for LDA...\")\n",
    "tf_vectorizer = CountVectorizer(max_df=0.95, min_df=2,\n",
    "                               stop_words='english')"
   ]
  },
  {
   "cell_type": "code",
   "execution_count": 41,
   "metadata": {
    "collapsed": true
   },
   "outputs": [],
   "source": [
    "tf = tf_vectorizer.fit_transform(lemmatised_docs)"
   ]
  },
  {
   "cell_type": "code",
   "execution_count": 42,
   "metadata": {},
   "outputs": [
    {
     "name": "stdout",
     "output_type": "stream",
     "text": [
      "None\n"
     ]
    }
   ],
   "source": [
    "print(tf_vectorizer.vocabulary)"
   ]
  },
  {
   "cell_type": "code",
   "execution_count": 43,
   "metadata": {},
   "outputs": [
    {
     "data": {
      "text/plain": [
       "621"
      ]
     },
     "execution_count": 43,
     "metadata": {},
     "output_type": "execute_result"
    }
   ],
   "source": [
    "tf_features=tf_vectorizer.get_feature_names()\n",
    "len(tf_features)"
   ]
  },
  {
   "cell_type": "code",
   "execution_count": 44,
   "metadata": {},
   "outputs": [
    {
     "data": {
      "text/plain": [
       "['10',\n",
       " '100',\n",
       " '20',\n",
       " '30',\n",
       " '300',\n",
       " '45',\n",
       " '50',\n",
       " '500',\n",
       " '80',\n",
       " '90',\n",
       " '98',\n",
       " 'able',\n",
       " 'absolutely',\n",
       " 'account',\n",
       " 'activate',\n",
       " 'activated',\n",
       " 'activating',\n",
       " 'activation',\n",
       " 'actually',\n",
       " 'add']"
      ]
     },
     "execution_count": 44,
     "metadata": {},
     "output_type": "execute_result"
    }
   ],
   "source": [
    "tf_vectorizer.get_feature_names()[:20]"
   ]
  },
  {
   "cell_type": "code",
   "execution_count": 45,
   "metadata": {},
   "outputs": [
    {
     "name": "stdout",
     "output_type": "stream",
     "text": [
      "(570, 621)\n"
     ]
    }
   ],
   "source": [
    "print(tf.shape)"
   ]
  },
  {
   "cell_type": "code",
   "execution_count": 46,
   "metadata": {},
   "outputs": [
    {
     "data": {
      "text/plain": [
       "array([1, 1, 1, ..., 1, 1, 1], dtype=int64)"
      ]
     },
     "execution_count": 46,
     "metadata": {},
     "output_type": "execute_result"
    }
   ],
   "source": [
    "tf.data"
   ]
  },
  {
   "cell_type": "code",
   "execution_count": 48,
   "metadata": {
    "collapsed": true
   },
   "outputs": [],
   "source": [
    "from sklearn.feature_extraction.text import TfidfVectorizer, CountVectorizer\n",
    "from sklearn.decomposition import NMF, LatentDirichletAllocation"
   ]
  },
  {
   "cell_type": "code",
   "execution_count": 49,
   "metadata": {},
   "outputs": [
    {
     "name": "stdout",
     "output_type": "stream",
     "text": [
      "Fitting the NMF model (Frobenius norm) with tf-idf features, n_samples=1000 and n_features=1000...\n"
     ]
    }
   ],
   "source": [
    "# Fit the NMF model\n",
    "print(\"Fitting the NMF model (Frobenius norm) with tf-idf features, \"\n",
    "      \"n_samples=%d and n_features=%d...\"\n",
    "      % (1000, 1000))\n",
    "nmf = NMF( random_state=1,\n",
    "          alpha=.1, l1_ratio=.5).fit(tfidf)"
   ]
  },
  {
   "cell_type": "code",
   "execution_count": 50,
   "metadata": {
    "collapsed": true
   },
   "outputs": [],
   "source": [
    "def print_top_words(model, feature_names, n_top_words):\n",
    "    for topic_idx, topic in enumerate(model.components_):\n",
    "        message = \"Topic #%d: \" % topic_idx\n",
    "        message += \" \".join([feature_names[i]\n",
    "                             for i in topic.argsort()[:-n_top_words - 1:-1]])\n",
    "        print(message)\n",
    "    print()"
   ]
  },
  {
   "cell_type": "code",
   "execution_count": 51,
   "metadata": {},
   "outputs": [
    {
     "name": "stdout",
     "output_type": "stream",
     "text": [
      "\n",
      "Topics in NMF model (Frobenius norm):\n",
      "Topic #0: zero finally freeze free flawlessly flat fix fit fine feel factory faulty father fast far family fallen fake freezing friend frustrated fully good gold going glitchy glitch glass glad given gift getting generic gave garbage functioning function fairly fact gotten drain easy easily earphone dying dy durable drop doubt facing\n",
      "Topic #1: zero finally freeze free flawlessly flat fix fit fine feel factory faulty father fast far family fallen fake freezing friend frustrated fully good gold going glitchy glitch glass glad given gift getting generic gave garbage functioning function fairly fact gotten drain easy easily earphone dying dy durable drop doubt facing\n",
      "Topic #2: zero finally freeze free flawlessly flat fix fit fine feel factory faulty father fast far family fallen fake freezing friend frustrated fully good gold going glitchy glitch glass glad given gift getting generic gave garbage functioning function fairly fact gotten drain easy easily earphone dying dy durable drop doubt facing\n",
      "Topic #3: zero finally freeze free flawlessly flat fix fit fine feel factory faulty father fast far family fallen fake freezing friend frustrated fully good gold going glitchy glitch glass glad given gift getting generic gave garbage functioning function fairly fact gotten drain easy easily earphone dying dy durable drop doubt facing\n",
      "Topic #4: zero finally freeze free flawlessly flat fix fit fine feel factory faulty father fast far family fallen fake freezing friend frustrated fully good gold going glitchy glitch glass glad given gift getting generic gave garbage functioning function fairly fact gotten drain easy easily earphone dying dy durable drop doubt facing\n",
      "Topic #5: zero finally freeze free flawlessly flat fix fit fine feel factory faulty father fast far family fallen fake freezing friend frustrated fully good gold going glitchy glitch glass glad given gift getting generic gave garbage functioning function fairly fact gotten drain easy easily earphone dying dy durable drop doubt facing\n",
      "Topic #6: zero finally freeze free flawlessly flat fix fit fine feel factory faulty father fast far family fallen fake freezing friend frustrated fully good gold going glitchy glitch glass glad given gift getting generic gave garbage functioning function fairly fact gotten drain easy easily earphone dying dy durable drop doubt facing\n",
      "Topic #7: zero finally freeze free flawlessly flat fix fit fine feel factory faulty father fast far family fallen fake freezing friend frustrated fully good gold going glitchy glitch glass glad given gift getting generic gave garbage functioning function fairly fact gotten drain easy easily earphone dying dy durable drop doubt facing\n",
      "Topic #8: zero finally freeze free flawlessly flat fix fit fine feel factory faulty father fast far family fallen fake freezing friend frustrated fully good gold going glitchy glitch glass glad given gift getting generic gave garbage functioning function fairly fact gotten drain easy easily earphone dying dy durable drop doubt facing\n",
      "Topic #9: zero finally freeze free flawlessly flat fix fit fine feel factory faulty father fast far family fallen fake freezing friend frustrated fully good gold going glitchy glitch glass glad given gift getting generic gave garbage functioning function fairly fact gotten drain easy easily earphone dying dy durable drop doubt facing\n",
      "Topic #10: zero finally freeze free flawlessly flat fix fit fine feel factory faulty father fast far family fallen fake freezing friend frustrated fully good gold going glitchy glitch glass glad given gift getting generic gave garbage functioning function fairly fact gotten drain easy easily earphone dying dy durable drop doubt facing\n",
      "Topic #11: zero finally freeze free flawlessly flat fix fit fine feel factory faulty father fast far family fallen fake freezing friend frustrated fully good gold going glitchy glitch glass glad given gift getting generic gave garbage functioning function fairly fact gotten drain easy easily earphone dying dy durable drop doubt facing\n",
      "Topic #12: zero finally freeze free flawlessly flat fix fit fine feel factory faulty father fast far family fallen fake freezing friend frustrated fully good gold going glitchy glitch glass glad given gift getting generic gave garbage functioning function fairly fact gotten drain easy easily earphone dying dy durable drop doubt facing\n",
      "Topic #13: zero finally freeze free flawlessly flat fix fit fine feel factory faulty father fast far family fallen fake freezing friend frustrated fully good gold going glitchy glitch glass glad given gift getting generic gave garbage functioning function fairly fact gotten drain easy easily earphone dying dy durable drop doubt facing\n",
      "Topic #14: zero finally freeze free flawlessly flat fix fit fine feel factory faulty father fast far family fallen fake freezing friend frustrated fully good gold going glitchy glitch glass glad given gift getting generic gave garbage functioning function fairly fact gotten drain easy easily earphone dying dy durable drop doubt facing\n",
      "Topic #15: zero finally freeze free flawlessly flat fix fit fine feel factory faulty father fast far family fallen fake freezing friend frustrated fully good gold going glitchy glitch glass glad given gift getting generic gave garbage functioning function fairly fact gotten drain easy easily earphone dying dy durable drop doubt facing\n",
      "Topic #16: zero finally freeze free flawlessly flat fix fit fine feel factory faulty father fast far family fallen fake freezing friend frustrated fully good gold going glitchy glitch glass glad given gift getting generic gave garbage functioning function fairly fact gotten drain easy easily earphone dying dy durable drop doubt facing\n",
      "Topic #17: zero finally freeze free flawlessly flat fix fit fine feel factory faulty father fast far family fallen fake freezing friend frustrated fully good gold going glitchy glitch glass glad given gift getting generic gave garbage functioning function fairly fact gotten drain easy easily earphone dying dy durable drop doubt facing\n",
      "Topic #18: zero finally freeze free flawlessly flat fix fit fine feel factory faulty father fast far family fallen fake freezing friend frustrated fully good gold going glitchy glitch glass glad given gift getting generic gave garbage functioning function fairly fact gotten drain easy easily earphone dying dy durable drop doubt facing\n",
      "Topic #19: zero finally freeze free flawlessly flat fix fit fine feel factory faulty father fast far family fallen fake freezing friend frustrated fully good gold going glitchy glitch glass glad given gift getting generic gave garbage functioning function fairly fact gotten drain easy easily earphone dying dy durable drop doubt facing\n",
      "Topic #20: zero finally freeze free flawlessly flat fix fit fine feel factory faulty father fast far family fallen fake freezing friend frustrated fully good gold going glitchy glitch glass glad given gift getting generic gave garbage functioning function fairly fact gotten drain easy easily earphone dying dy durable drop doubt facing\n",
      "Topic #21: zero finally freeze free flawlessly flat fix fit fine feel factory faulty father fast far family fallen fake freezing friend frustrated fully good gold going glitchy glitch glass glad given gift getting generic gave garbage functioning function fairly fact gotten drain easy easily earphone dying dy durable drop doubt facing\n",
      "Topic #22: zero finally freeze free flawlessly flat fix fit fine feel factory faulty father fast far family fallen fake freezing friend frustrated fully good gold going glitchy glitch glass glad given gift getting generic gave garbage functioning function fairly fact gotten drain easy easily earphone dying dy durable drop doubt facing\n",
      "Topic #23: zero finally freeze free flawlessly flat fix fit fine feel factory faulty father fast far family fallen fake freezing friend frustrated fully good gold going glitchy glitch glass glad given gift getting generic gave garbage functioning function fairly fact gotten drain easy easily earphone dying dy durable drop doubt facing\n",
      "Topic #24: zero finally freeze free flawlessly flat fix fit fine feel factory faulty father fast far family fallen fake freezing friend frustrated fully good gold going glitchy glitch glass glad given gift getting generic gave garbage functioning function fairly fact gotten drain easy easily earphone dying dy durable drop doubt facing\n",
      "Topic #25: zero finally freeze free flawlessly flat fix fit fine feel factory faulty father fast far family fallen fake freezing friend frustrated fully good gold going glitchy glitch glass glad given gift getting generic gave garbage functioning function fairly fact gotten drain easy easily earphone dying dy durable drop doubt facing\n",
      "Topic #26: zero finally freeze free flawlessly flat fix fit fine feel factory faulty father fast far family fallen fake freezing friend frustrated fully good gold going glitchy glitch glass glad given gift getting generic gave garbage functioning function fairly fact gotten drain easy easily earphone dying dy durable drop doubt facing\n",
      "Topic #27: zero finally freeze free flawlessly flat fix fit fine feel factory faulty father fast far family fallen fake freezing friend frustrated fully good gold going glitchy glitch glass glad given gift getting generic gave garbage functioning function fairly fact gotten drain easy easily earphone dying dy durable drop doubt facing\n",
      "Topic #28: zero finally freeze free flawlessly flat fix fit fine feel factory faulty father fast far family fallen fake freezing friend frustrated fully good gold going glitchy glitch glass glad given gift getting generic gave garbage functioning function fairly fact gotten drain easy easily earphone dying dy durable drop doubt facing\n",
      "Topic #29: zero finally freeze free flawlessly flat fix fit fine feel factory faulty father fast far family fallen fake freezing friend frustrated fully good gold going glitchy glitch glass glad given gift getting generic gave garbage functioning function fairly fact gotten drain easy easily earphone dying dy durable drop doubt facing\n",
      "Topic #30: zero finally freeze free flawlessly flat fix fit fine feel factory faulty father fast far family fallen fake freezing friend frustrated fully good gold going glitchy glitch glass glad given gift getting generic gave garbage functioning function fairly fact gotten drain easy easily earphone dying dy durable drop doubt facing\n",
      "Topic #31: zero finally freeze free flawlessly flat fix fit fine feel factory faulty father fast far family fallen fake freezing friend frustrated fully good gold going glitchy glitch glass glad given gift getting generic gave garbage functioning function fairly fact gotten drain easy easily earphone dying dy durable drop doubt facing\n",
      "Topic #32: zero finally freeze free flawlessly flat fix fit fine feel factory faulty father fast far family fallen fake freezing friend frustrated fully good gold going glitchy glitch glass glad given gift getting generic gave garbage functioning function fairly fact gotten drain easy easily earphone dying dy durable drop doubt facing\n",
      "Topic #33: zero finally freeze free flawlessly flat fix fit fine feel factory faulty father fast far family fallen fake freezing friend frustrated fully good gold going glitchy glitch glass glad given gift getting generic gave garbage functioning function fairly fact gotten drain easy easily earphone dying dy durable drop doubt facing\n",
      "Topic #34: zero finally freeze free flawlessly flat fix fit fine feel factory faulty father fast far family fallen fake freezing friend frustrated fully good gold going glitchy glitch glass glad given gift getting generic gave garbage functioning function fairly fact gotten drain easy easily earphone dying dy durable drop doubt facing\n",
      "Topic #35: zero finally freeze free flawlessly flat fix fit fine feel factory faulty father fast far family fallen fake freezing friend frustrated fully good gold going glitchy glitch glass glad given gift getting generic gave garbage functioning function fairly fact gotten drain easy easily earphone dying dy durable drop doubt facing\n",
      "Topic #36: zero finally freeze free flawlessly flat fix fit fine feel factory faulty father fast far family fallen fake freezing friend frustrated fully good gold going glitchy glitch glass glad given gift getting generic gave garbage functioning function fairly fact gotten drain easy easily earphone dying dy durable drop doubt facing\n",
      "Topic #37: zero finally freeze free flawlessly flat fix fit fine feel factory faulty father fast far family fallen fake freezing friend frustrated fully good gold going glitchy glitch glass glad given gift getting generic gave garbage functioning function fairly fact gotten drain easy easily earphone dying dy durable drop doubt facing\n",
      "Topic #38: zero finally freeze free flawlessly flat fix fit fine feel factory faulty father fast far family fallen fake freezing friend frustrated fully good gold going glitchy glitch glass glad given gift getting generic gave garbage functioning function fairly fact gotten drain easy easily earphone dying dy durable drop doubt facing\n",
      "Topic #39: zero finally freeze free flawlessly flat fix fit fine feel factory faulty father fast far family fallen fake freezing friend frustrated fully good gold going glitchy glitch glass glad given gift getting generic gave garbage functioning function fairly fact gotten drain easy easily earphone dying dy durable drop doubt facing\n",
      "Topic #40: zero finally freeze free flawlessly flat fix fit fine feel factory faulty father fast far family fallen fake freezing friend frustrated fully good gold going glitchy glitch glass glad given gift getting generic gave garbage functioning function fairly fact gotten drain easy easily earphone dying dy durable drop doubt facing\n",
      "Topic #41: zero finally freeze free flawlessly flat fix fit fine feel factory faulty father fast far family fallen fake freezing friend frustrated fully good gold going glitchy glitch glass glad given gift getting generic gave garbage functioning function fairly fact gotten drain easy easily earphone dying dy durable drop doubt facing\n",
      "Topic #42: zero finally freeze free flawlessly flat fix fit fine feel factory faulty father fast far family fallen fake freezing friend frustrated fully good gold going glitchy glitch glass glad given gift getting generic gave garbage functioning function fairly fact gotten drain easy easily earphone dying dy durable drop doubt facing\n",
      "Topic #43: zero finally freeze free flawlessly flat fix fit fine feel factory faulty father fast far family fallen fake freezing friend frustrated fully good gold going glitchy glitch glass glad given gift getting generic gave garbage functioning function fairly fact gotten drain easy easily earphone dying dy durable drop doubt facing\n",
      "Topic #44: zero finally freeze free flawlessly flat fix fit fine feel factory faulty father fast far family fallen fake freezing friend frustrated fully good gold going glitchy glitch glass glad given gift getting generic gave garbage functioning function fairly fact gotten drain easy easily earphone dying dy durable drop doubt facing\n",
      "Topic #45: zero finally freeze free flawlessly flat fix fit fine feel factory faulty father fast far family fallen fake freezing friend frustrated fully good gold going glitchy glitch glass glad given gift getting generic gave garbage functioning function fairly fact gotten drain easy easily earphone dying dy durable drop doubt facing\n",
      "Topic #46: zero finally freeze free flawlessly flat fix fit fine feel factory faulty father fast far family fallen fake freezing friend frustrated fully good gold going glitchy glitch glass glad given gift getting generic gave garbage functioning function fairly fact gotten drain easy easily earphone dying dy durable drop doubt facing\n",
      "Topic #47: zero finally freeze free flawlessly flat fix fit fine feel factory faulty father fast far family fallen fake freezing friend frustrated fully good gold going glitchy glitch glass glad given gift getting generic gave garbage functioning function fairly fact gotten drain easy easily earphone dying dy durable drop doubt facing\n",
      "Topic #48: zero finally freeze free flawlessly flat fix fit fine feel factory faulty father fast far family fallen fake freezing friend frustrated fully good gold going glitchy glitch glass glad given gift getting generic gave garbage functioning function fairly fact gotten drain easy easily earphone dying dy durable drop doubt facing\n",
      "Topic #49: zero finally freeze free flawlessly flat fix fit fine feel factory faulty father fast far family fallen fake freezing friend frustrated fully good gold going glitchy glitch glass glad given gift getting generic gave garbage functioning function fairly fact gotten drain easy easily earphone dying dy durable drop doubt facing\n",
      "Topic #50: zero finally freeze free flawlessly flat fix fit fine feel factory faulty father fast far family fallen fake freezing friend frustrated fully good gold going glitchy glitch glass glad given gift getting generic gave garbage functioning function fairly fact gotten drain easy easily earphone dying dy durable drop doubt facing\n",
      "Topic #51: zero finally freeze free flawlessly flat fix fit fine feel factory faulty father fast far family fallen fake freezing friend frustrated fully good gold going glitchy glitch glass glad given gift getting generic gave garbage functioning function fairly fact gotten drain easy easily earphone dying dy durable drop doubt facing\n",
      "Topic #52: zero finally freeze free flawlessly flat fix fit fine feel factory faulty father fast far family fallen fake freezing friend frustrated fully good gold going glitchy glitch glass glad given gift getting generic gave garbage functioning function fairly fact gotten drain easy easily earphone dying dy durable drop doubt facing\n",
      "Topic #53: zero finally freeze free flawlessly flat fix fit fine feel factory faulty father fast far family fallen fake freezing friend frustrated fully good gold going glitchy glitch glass glad given gift getting generic gave garbage functioning function fairly fact gotten drain easy easily earphone dying dy durable drop doubt facing\n",
      "Topic #54: zero finally freeze free flawlessly flat fix fit fine feel factory faulty father fast far family fallen fake freezing friend frustrated fully good gold going glitchy glitch glass glad given gift getting generic gave garbage functioning function fairly fact gotten drain easy easily earphone dying dy durable drop doubt facing\n",
      "Topic #55: zero finally freeze free flawlessly flat fix fit fine feel factory faulty father fast far family fallen fake freezing friend frustrated fully good gold going glitchy glitch glass glad given gift getting generic gave garbage functioning function fairly fact gotten drain easy easily earphone dying dy durable drop doubt facing\n",
      "Topic #56: zero finally freeze free flawlessly flat fix fit fine feel factory faulty father fast far family fallen fake freezing friend frustrated fully good gold going glitchy glitch glass glad given gift getting generic gave garbage functioning function fairly fact gotten drain easy easily earphone dying dy durable drop doubt facing\n",
      "Topic #57: zero finally freeze free flawlessly flat fix fit fine feel factory faulty father fast far family fallen fake freezing friend frustrated fully good gold going glitchy glitch glass glad given gift getting generic gave garbage functioning function fairly fact gotten drain easy easily earphone dying dy durable drop doubt facing\n",
      "Topic #58: zero finally freeze free flawlessly flat fix fit fine feel factory faulty father fast far family fallen fake freezing friend frustrated fully good gold going glitchy glitch glass glad given gift getting generic gave garbage functioning function fairly fact gotten drain easy easily earphone dying dy durable drop doubt facing\n",
      "Topic #59: zero finally freeze free flawlessly flat fix fit fine feel factory faulty father fast far family fallen fake freezing friend frustrated fully good gold going glitchy glitch glass glad given gift getting generic gave garbage functioning function fairly fact gotten drain easy easily earphone dying dy durable drop doubt facing\n",
      "Topic #60: zero finally freeze free flawlessly flat fix fit fine feel factory faulty father fast far family fallen fake freezing friend frustrated fully good gold going glitchy glitch glass glad given gift getting generic gave garbage functioning function fairly fact gotten drain easy easily earphone dying dy durable drop doubt facing\n",
      "Topic #61: zero finally freeze free flawlessly flat fix fit fine feel factory faulty father fast far family fallen fake freezing friend frustrated fully good gold going glitchy glitch glass glad given gift getting generic gave garbage functioning function fairly fact gotten drain easy easily earphone dying dy durable drop doubt facing\n",
      "Topic #62: zero finally freeze free flawlessly flat fix fit fine feel factory faulty father fast far family fallen fake freezing friend frustrated fully good gold going glitchy glitch glass glad given gift getting generic gave garbage functioning function fairly fact gotten drain easy easily earphone dying dy durable drop doubt facing\n",
      "Topic #63: zero finally freeze free flawlessly flat fix fit fine feel factory faulty father fast far family fallen fake freezing friend frustrated fully good gold going glitchy glitch glass glad given gift getting generic gave garbage functioning function fairly fact gotten drain easy easily earphone dying dy durable drop doubt facing\n",
      "Topic #64: zero finally freeze free flawlessly flat fix fit fine feel factory faulty father fast far family fallen fake freezing friend frustrated fully good gold going glitchy glitch glass glad given gift getting generic gave garbage functioning function fairly fact gotten drain easy easily earphone dying dy durable drop doubt facing\n",
      "Topic #65: zero finally freeze free flawlessly flat fix fit fine feel factory faulty father fast far family fallen fake freezing friend frustrated fully good gold going glitchy glitch glass glad given gift getting generic gave garbage functioning function fairly fact gotten drain easy easily earphone dying dy durable drop doubt facing\n",
      "Topic #66: zero finally freeze free flawlessly flat fix fit fine feel factory faulty father fast far family fallen fake freezing friend frustrated fully good gold going glitchy glitch glass glad given gift getting generic gave garbage functioning function fairly fact gotten drain easy easily earphone dying dy durable drop doubt facing\n",
      "Topic #67: zero finally freeze free flawlessly flat fix fit fine feel factory faulty father fast far family fallen fake freezing friend frustrated fully good gold going glitchy glitch glass glad given gift getting generic gave garbage functioning function fairly fact gotten drain easy easily earphone dying dy durable drop doubt facing\n",
      "Topic #68: zero finally freeze free flawlessly flat fix fit fine feel factory faulty father fast far family fallen fake freezing friend frustrated fully good gold going glitchy glitch glass glad given gift getting generic gave garbage functioning function fairly fact gotten drain easy easily earphone dying dy durable drop doubt facing\n",
      "Topic #69: zero finally freeze free flawlessly flat fix fit fine feel factory faulty father fast far family fallen fake freezing friend frustrated fully good gold going glitchy glitch glass glad given gift getting generic gave garbage functioning function fairly fact gotten drain easy easily earphone dying dy durable drop doubt facing\n",
      "Topic #70: zero finally freeze free flawlessly flat fix fit fine feel factory faulty father fast far family fallen fake freezing friend frustrated fully good gold going glitchy glitch glass glad given gift getting generic gave garbage functioning function fairly fact gotten drain easy easily earphone dying dy durable drop doubt facing\n",
      "Topic #71: zero finally freeze free flawlessly flat fix fit fine feel factory faulty father fast far family fallen fake freezing friend frustrated fully good gold going glitchy glitch glass glad given gift getting generic gave garbage functioning function fairly fact gotten drain easy easily earphone dying dy durable drop doubt facing\n",
      "Topic #72: zero finally freeze free flawlessly flat fix fit fine feel factory faulty father fast far family fallen fake freezing friend frustrated fully good gold going glitchy glitch glass glad given gift getting generic gave garbage functioning function fairly fact gotten drain easy easily earphone dying dy durable drop doubt facing\n",
      "Topic #73: zero finally freeze free flawlessly flat fix fit fine feel factory faulty father fast far family fallen fake freezing friend frustrated fully good gold going glitchy glitch glass glad given gift getting generic gave garbage functioning function fairly fact gotten drain easy easily earphone dying dy durable drop doubt facing\n",
      "Topic #74: zero finally freeze free flawlessly flat fix fit fine feel factory faulty father fast far family fallen fake freezing friend frustrated fully good gold going glitchy glitch glass glad given gift getting generic gave garbage functioning function fairly fact gotten drain easy easily earphone dying dy durable drop doubt facing\n",
      "Topic #75: zero finally freeze free flawlessly flat fix fit fine feel factory faulty father fast far family fallen fake freezing friend frustrated fully good gold going glitchy glitch glass glad given gift getting generic gave garbage functioning function fairly fact gotten drain easy easily earphone dying dy durable drop doubt facing\n",
      "Topic #76: zero finally freeze free flawlessly flat fix fit fine feel factory faulty father fast far family fallen fake freezing friend frustrated fully good gold going glitchy glitch glass glad given gift getting generic gave garbage functioning function fairly fact gotten drain easy easily earphone dying dy durable drop doubt facing\n",
      "Topic #77: zero finally freeze free flawlessly flat fix fit fine feel factory faulty father fast far family fallen fake freezing friend frustrated fully good gold going glitchy glitch glass glad given gift getting generic gave garbage functioning function fairly fact gotten drain easy easily earphone dying dy durable drop doubt facing\n",
      "Topic #78: zero finally freeze free flawlessly flat fix fit fine feel factory faulty father fast far family fallen fake freezing friend frustrated fully good gold going glitchy glitch glass glad given gift getting generic gave garbage functioning function fairly fact gotten drain easy easily earphone dying dy durable drop doubt facing\n",
      "Topic #79: zero finally freeze free flawlessly flat fix fit fine feel factory faulty father fast far family fallen fake freezing friend frustrated fully good gold going glitchy glitch glass glad given gift getting generic gave garbage functioning function fairly fact gotten drain easy easily earphone dying dy durable drop doubt facing\n",
      "Topic #80: zero finally freeze free flawlessly flat fix fit fine feel factory faulty father fast far family fallen fake freezing friend frustrated fully good gold going glitchy glitch glass glad given gift getting generic gave garbage functioning function fairly fact gotten drain easy easily earphone dying dy durable drop doubt facing\n",
      "Topic #81: zero finally freeze free flawlessly flat fix fit fine feel factory faulty father fast far family fallen fake freezing friend frustrated fully good gold going glitchy glitch glass glad given gift getting generic gave garbage functioning function fairly fact gotten drain easy easily earphone dying dy durable drop doubt facing\n",
      "Topic #82: zero finally freeze free flawlessly flat fix fit fine feel factory faulty father fast far family fallen fake freezing friend frustrated fully good gold going glitchy glitch glass glad given gift getting generic gave garbage functioning function fairly fact gotten drain easy easily earphone dying dy durable drop doubt facing\n",
      "Topic #83: zero finally freeze free flawlessly flat fix fit fine feel factory faulty father fast far family fallen fake freezing friend frustrated fully good gold going glitchy glitch glass glad given gift getting generic gave garbage functioning function fairly fact gotten drain easy easily earphone dying dy durable drop doubt facing\n",
      "Topic #84: zero finally freeze free flawlessly flat fix fit fine feel factory faulty father fast far family fallen fake freezing friend frustrated fully good gold going glitchy glitch glass glad given gift getting generic gave garbage functioning function fairly fact gotten drain easy easily earphone dying dy durable drop doubt facing\n",
      "Topic #85: zero finally freeze free flawlessly flat fix fit fine feel factory faulty father fast far family fallen fake freezing friend frustrated fully good gold going glitchy glitch glass glad given gift getting generic gave garbage functioning function fairly fact gotten drain easy easily earphone dying dy durable drop doubt facing\n",
      "Topic #86: zero finally freeze free flawlessly flat fix fit fine feel factory faulty father fast far family fallen fake freezing friend frustrated fully good gold going glitchy glitch glass glad given gift getting generic gave garbage functioning function fairly fact gotten drain easy easily earphone dying dy durable drop doubt facing\n",
      "Topic #87: zero finally freeze free flawlessly flat fix fit fine feel factory faulty father fast far family fallen fake freezing friend frustrated fully good gold going glitchy glitch glass glad given gift getting generic gave garbage functioning function fairly fact gotten drain easy easily earphone dying dy durable drop doubt facing\n",
      "Topic #88: zero finally freeze free flawlessly flat fix fit fine feel factory faulty father fast far family fallen fake freezing friend frustrated fully good gold going glitchy glitch glass glad given gift getting generic gave garbage functioning function fairly fact gotten drain easy easily earphone dying dy durable drop doubt facing\n",
      "Topic #89: zero finally freeze free flawlessly flat fix fit fine feel factory faulty father fast far family fallen fake freezing friend frustrated fully good gold going glitchy glitch glass glad given gift getting generic gave garbage functioning function fairly fact gotten drain easy easily earphone dying dy durable drop doubt facing\n",
      "Topic #90: zero finally freeze free flawlessly flat fix fit fine feel factory faulty father fast far family fallen fake freezing friend frustrated fully good gold going glitchy glitch glass glad given gift getting generic gave garbage functioning function fairly fact gotten drain easy easily earphone dying dy durable drop doubt facing\n",
      "Topic #91: zero finally freeze free flawlessly flat fix fit fine feel factory faulty father fast far family fallen fake freezing friend frustrated fully good gold going glitchy glitch glass glad given gift getting generic gave garbage functioning function fairly fact gotten drain easy easily earphone dying dy durable drop doubt facing\n",
      "Topic #92: zero finally freeze free flawlessly flat fix fit fine feel factory faulty father fast far family fallen fake freezing friend frustrated fully good gold going glitchy glitch glass glad given gift getting generic gave garbage functioning function fairly fact gotten drain easy easily earphone dying dy durable drop doubt facing\n",
      "Topic #93: zero finally freeze free flawlessly flat fix fit fine feel factory faulty father fast far family fallen fake freezing friend frustrated fully good gold going glitchy glitch glass glad given gift getting generic gave garbage functioning function fairly fact gotten drain easy easily earphone dying dy durable drop doubt facing\n",
      "Topic #94: zero finally freeze free flawlessly flat fix fit fine feel factory faulty father fast far family fallen fake freezing friend frustrated fully good gold going glitchy glitch glass glad given gift getting generic gave garbage functioning function fairly fact gotten drain easy easily earphone dying dy durable drop doubt facing\n",
      "Topic #95: zero finally freeze free flawlessly flat fix fit fine feel factory faulty father fast far family fallen fake freezing friend frustrated fully good gold going glitchy glitch glass glad given gift getting generic gave garbage functioning function fairly fact gotten drain easy easily earphone dying dy durable drop doubt facing\n",
      "Topic #96: zero finally freeze free flawlessly flat fix fit fine feel factory faulty father fast far family fallen fake freezing friend frustrated fully good gold going glitchy glitch glass glad given gift getting generic gave garbage functioning function fairly fact gotten drain easy easily earphone dying dy durable drop doubt facing\n",
      "Topic #97: zero finally freeze free flawlessly flat fix fit fine feel factory faulty father fast far family fallen fake freezing friend frustrated fully good gold going glitchy glitch glass glad given gift getting generic gave garbage functioning function fairly fact gotten drain easy easily earphone dying dy durable drop doubt facing\n",
      "Topic #98: zero finally freeze free flawlessly flat fix fit fine feel factory faulty father fast far family fallen fake freezing friend frustrated fully good gold going glitchy glitch glass glad given gift getting generic gave garbage functioning function fairly fact gotten drain easy easily earphone dying dy durable drop doubt facing\n",
      "Topic #99: zero finally freeze free flawlessly flat fix fit fine feel factory faulty father fast far family fallen fake freezing friend frustrated fully good gold going glitchy glitch glass glad given gift getting generic gave garbage functioning function fairly fact gotten drain easy easily earphone dying dy durable drop doubt facing\n",
      "Topic #100: zero finally freeze free flawlessly flat fix fit fine feel factory faulty father fast far family fallen fake freezing friend frustrated fully good gold going glitchy glitch glass glad given gift getting generic gave garbage functioning function fairly fact gotten drain easy easily earphone dying dy durable drop doubt facing\n",
      "Topic #101: zero finally freeze free flawlessly flat fix fit fine feel factory faulty father fast far family fallen fake freezing friend frustrated fully good gold going glitchy glitch glass glad given gift getting generic gave garbage functioning function fairly fact gotten drain easy easily earphone dying dy durable drop doubt facing\n",
      "Topic #102: zero finally freeze free flawlessly flat fix fit fine feel factory faulty father fast far family fallen fake freezing friend frustrated fully good gold going glitchy glitch glass glad given gift getting generic gave garbage functioning function fairly fact gotten drain easy easily earphone dying dy durable drop doubt facing\n",
      "Topic #103: zero finally freeze free flawlessly flat fix fit fine feel factory faulty father fast far family fallen fake freezing friend frustrated fully good gold going glitchy glitch glass glad given gift getting generic gave garbage functioning function fairly fact gotten drain easy easily earphone dying dy durable drop doubt facing\n",
      "Topic #104: zero finally freeze free flawlessly flat fix fit fine feel factory faulty father fast far family fallen fake freezing friend frustrated fully good gold going glitchy glitch glass glad given gift getting generic gave garbage functioning function fairly fact gotten drain easy easily earphone dying dy durable drop doubt facing\n",
      "Topic #105: zero finally freeze free flawlessly flat fix fit fine feel factory faulty father fast far family fallen fake freezing friend frustrated fully good gold going glitchy glitch glass glad given gift getting generic gave garbage functioning function fairly fact gotten drain easy easily earphone dying dy durable drop doubt facing\n",
      "Topic #106: zero finally freeze free flawlessly flat fix fit fine feel factory faulty father fast far family fallen fake freezing friend frustrated fully good gold going glitchy glitch glass glad given gift getting generic gave garbage functioning function fairly fact gotten drain easy easily earphone dying dy durable drop doubt facing\n",
      "Topic #107: zero finally freeze free flawlessly flat fix fit fine feel factory faulty father fast far family fallen fake freezing friend frustrated fully good gold going glitchy glitch glass glad given gift getting generic gave garbage functioning function fairly fact gotten drain easy easily earphone dying dy durable drop doubt facing\n",
      "Topic #108: zero finally freeze free flawlessly flat fix fit fine feel factory faulty father fast far family fallen fake freezing friend frustrated fully good gold going glitchy glitch glass glad given gift getting generic gave garbage functioning function fairly fact gotten drain easy easily earphone dying dy durable drop doubt facing\n",
      "Topic #109: zero finally freeze free flawlessly flat fix fit fine feel factory faulty father fast far family fallen fake freezing friend frustrated fully good gold going glitchy glitch glass glad given gift getting generic gave garbage functioning function fairly fact gotten drain easy easily earphone dying dy durable drop doubt facing\n",
      "Topic #110: zero finally freeze free flawlessly flat fix fit fine feel factory faulty father fast far family fallen fake freezing friend frustrated fully good gold going glitchy glitch glass glad given gift getting generic gave garbage functioning function fairly fact gotten drain easy easily earphone dying dy durable drop doubt facing\n",
      "Topic #111: zero finally freeze free flawlessly flat fix fit fine feel factory faulty father fast far family fallen fake freezing friend frustrated fully good gold going glitchy glitch glass glad given gift getting generic gave garbage functioning function fairly fact gotten drain easy easily earphone dying dy durable drop doubt facing\n",
      "Topic #112: zero finally freeze free flawlessly flat fix fit fine feel factory faulty father fast far family fallen fake freezing friend frustrated fully good gold going glitchy glitch glass glad given gift getting generic gave garbage functioning function fairly fact gotten drain easy easily earphone dying dy durable drop doubt facing\n",
      "Topic #113: zero finally freeze free flawlessly flat fix fit fine feel factory faulty father fast far family fallen fake freezing friend frustrated fully good gold going glitchy glitch glass glad given gift getting generic gave garbage functioning function fairly fact gotten drain easy easily earphone dying dy durable drop doubt facing\n",
      "Topic #114: zero finally freeze free flawlessly flat fix fit fine feel factory faulty father fast far family fallen fake freezing friend frustrated fully good gold going glitchy glitch glass glad given gift getting generic gave garbage functioning function fairly fact gotten drain easy easily earphone dying dy durable drop doubt facing\n",
      "Topic #115: zero finally freeze free flawlessly flat fix fit fine feel factory faulty father fast far family fallen fake freezing friend frustrated fully good gold going glitchy glitch glass glad given gift getting generic gave garbage functioning function fairly fact gotten drain easy easily earphone dying dy durable drop doubt facing\n",
      "Topic #116: zero finally freeze free flawlessly flat fix fit fine feel factory faulty father fast far family fallen fake freezing friend frustrated fully good gold going glitchy glitch glass glad given gift getting generic gave garbage functioning function fairly fact gotten drain easy easily earphone dying dy durable drop doubt facing\n",
      "Topic #117: zero finally freeze free flawlessly flat fix fit fine feel factory faulty father fast far family fallen fake freezing friend frustrated fully good gold going glitchy glitch glass glad given gift getting generic gave garbage functioning function fairly fact gotten drain easy easily earphone dying dy durable drop doubt facing\n",
      "Topic #118: zero finally freeze free flawlessly flat fix fit fine feel factory faulty father fast far family fallen fake freezing friend frustrated fully good gold going glitchy glitch glass glad given gift getting generic gave garbage functioning function fairly fact gotten drain easy easily earphone dying dy durable drop doubt facing\n",
      "Topic #119: zero finally freeze free flawlessly flat fix fit fine feel factory faulty father fast far family fallen fake freezing friend frustrated fully good gold going glitchy glitch glass glad given gift getting generic gave garbage functioning function fairly fact gotten drain easy easily earphone dying dy durable drop doubt facing\n",
      "Topic #120: zero finally freeze free flawlessly flat fix fit fine feel factory faulty father fast far family fallen fake freezing friend frustrated fully good gold going glitchy glitch glass glad given gift getting generic gave garbage functioning function fairly fact gotten drain easy easily earphone dying dy durable drop doubt facing\n",
      "Topic #121: zero finally freeze free flawlessly flat fix fit fine feel factory faulty father fast far family fallen fake freezing friend frustrated fully good gold going glitchy glitch glass glad given gift getting generic gave garbage functioning function fairly fact gotten drain easy easily earphone dying dy durable drop doubt facing\n",
      "Topic #122: zero finally freeze free flawlessly flat fix fit fine feel factory faulty father fast far family fallen fake freezing friend frustrated fully good gold going glitchy glitch glass glad given gift getting generic gave garbage functioning function fairly fact gotten drain easy easily earphone dying dy durable drop doubt facing\n",
      "Topic #123: zero finally freeze free flawlessly flat fix fit fine feel factory faulty father fast far family fallen fake freezing friend frustrated fully good gold going glitchy glitch glass glad given gift getting generic gave garbage functioning function fairly fact gotten drain easy easily earphone dying dy durable drop doubt facing\n",
      "Topic #124: zero finally freeze free flawlessly flat fix fit fine feel factory faulty father fast far family fallen fake freezing friend frustrated fully good gold going glitchy glitch glass glad given gift getting generic gave garbage functioning function fairly fact gotten drain easy easily earphone dying dy durable drop doubt facing\n",
      "Topic #125: zero finally freeze free flawlessly flat fix fit fine feel factory faulty father fast far family fallen fake freezing friend frustrated fully good gold going glitchy glitch glass glad given gift getting generic gave garbage functioning function fairly fact gotten drain easy easily earphone dying dy durable drop doubt facing\n",
      "Topic #126: zero finally freeze free flawlessly flat fix fit fine feel factory faulty father fast far family fallen fake freezing friend frustrated fully good gold going glitchy glitch glass glad given gift getting generic gave garbage functioning function fairly fact gotten drain easy easily earphone dying dy durable drop doubt facing\n",
      "Topic #127: zero finally freeze free flawlessly flat fix fit fine feel factory faulty father fast far family fallen fake freezing friend frustrated fully good gold going glitchy glitch glass glad given gift getting generic gave garbage functioning function fairly fact gotten drain easy easily earphone dying dy durable drop doubt facing\n",
      "Topic #128: zero finally freeze free flawlessly flat fix fit fine feel factory faulty father fast far family fallen fake freezing friend frustrated fully good gold going glitchy glitch glass glad given gift getting generic gave garbage functioning function fairly fact gotten drain easy easily earphone dying dy durable drop doubt facing\n",
      "Topic #129: zero finally freeze free flawlessly flat fix fit fine feel factory faulty father fast far family fallen fake freezing friend frustrated fully good gold going glitchy glitch glass glad given gift getting generic gave garbage functioning function fairly fact gotten drain easy easily earphone dying dy durable drop doubt facing\n",
      "Topic #130: zero finally freeze free flawlessly flat fix fit fine feel factory faulty father fast far family fallen fake freezing friend frustrated fully good gold going glitchy glitch glass glad given gift getting generic gave garbage functioning function fairly fact gotten drain easy easily earphone dying dy durable drop doubt facing\n",
      "Topic #131: zero finally freeze free flawlessly flat fix fit fine feel factory faulty father fast far family fallen fake freezing friend frustrated fully good gold going glitchy glitch glass glad given gift getting generic gave garbage functioning function fairly fact gotten drain easy easily earphone dying dy durable drop doubt facing\n",
      "Topic #132: zero finally freeze free flawlessly flat fix fit fine feel factory faulty father fast far family fallen fake freezing friend frustrated fully good gold going glitchy glitch glass glad given gift getting generic gave garbage functioning function fairly fact gotten drain easy easily earphone dying dy durable drop doubt facing\n",
      "Topic #133: zero finally freeze free flawlessly flat fix fit fine feel factory faulty father fast far family fallen fake freezing friend frustrated fully good gold going glitchy glitch glass glad given gift getting generic gave garbage functioning function fairly fact gotten drain easy easily earphone dying dy durable drop doubt facing\n",
      "Topic #134: zero finally freeze free flawlessly flat fix fit fine feel factory faulty father fast far family fallen fake freezing friend frustrated fully good gold going glitchy glitch glass glad given gift getting generic gave garbage functioning function fairly fact gotten drain easy easily earphone dying dy durable drop doubt facing\n",
      "Topic #135: zero finally freeze free flawlessly flat fix fit fine feel factory faulty father fast far family fallen fake freezing friend frustrated fully good gold going glitchy glitch glass glad given gift getting generic gave garbage functioning function fairly fact gotten drain easy easily earphone dying dy durable drop doubt facing\n",
      "Topic #136: zero finally freeze free flawlessly flat fix fit fine feel factory faulty father fast far family fallen fake freezing friend frustrated fully good gold going glitchy glitch glass glad given gift getting generic gave garbage functioning function fairly fact gotten drain easy easily earphone dying dy durable drop doubt facing\n",
      "Topic #137: zero finally freeze free flawlessly flat fix fit fine feel factory faulty father fast far family fallen fake freezing friend frustrated fully good gold going glitchy glitch glass glad given gift getting generic gave garbage functioning function fairly fact gotten drain easy easily earphone dying dy durable drop doubt facing\n",
      "Topic #138: zero finally freeze free flawlessly flat fix fit fine feel factory faulty father fast far family fallen fake freezing friend frustrated fully good gold going glitchy glitch glass glad given gift getting generic gave garbage functioning function fairly fact gotten drain easy easily earphone dying dy durable drop doubt facing\n",
      "Topic #139: zero finally freeze free flawlessly flat fix fit fine feel factory faulty father fast far family fallen fake freezing friend frustrated fully good gold going glitchy glitch glass glad given gift getting generic gave garbage functioning function fairly fact gotten drain easy easily earphone dying dy durable drop doubt facing\n",
      "Topic #140: zero finally freeze free flawlessly flat fix fit fine feel factory faulty father fast far family fallen fake freezing friend frustrated fully good gold going glitchy glitch glass glad given gift getting generic gave garbage functioning function fairly fact gotten drain easy easily earphone dying dy durable drop doubt facing\n",
      "Topic #141: zero finally freeze free flawlessly flat fix fit fine feel factory faulty father fast far family fallen fake freezing friend frustrated fully good gold going glitchy glitch glass glad given gift getting generic gave garbage functioning function fairly fact gotten drain easy easily earphone dying dy durable drop doubt facing\n",
      "Topic #142: zero finally freeze free flawlessly flat fix fit fine feel factory faulty father fast far family fallen fake freezing friend frustrated fully good gold going glitchy glitch glass glad given gift getting generic gave garbage functioning function fairly fact gotten drain easy easily earphone dying dy durable drop doubt facing\n",
      "Topic #143: zero finally freeze free flawlessly flat fix fit fine feel factory faulty father fast far family fallen fake freezing friend frustrated fully good gold going glitchy glitch glass glad given gift getting generic gave garbage functioning function fairly fact gotten drain easy easily earphone dying dy durable drop doubt facing\n",
      "Topic #144: zero finally freeze free flawlessly flat fix fit fine feel factory faulty father fast far family fallen fake freezing friend frustrated fully good gold going glitchy glitch glass glad given gift getting generic gave garbage functioning function fairly fact gotten drain easy easily earphone dying dy durable drop doubt facing\n",
      "Topic #145: zero finally freeze free flawlessly flat fix fit fine feel factory faulty father fast far family fallen fake freezing friend frustrated fully good gold going glitchy glitch glass glad given gift getting generic gave garbage functioning function fairly fact gotten drain easy easily earphone dying dy durable drop doubt facing\n",
      "Topic #146: zero finally freeze free flawlessly flat fix fit fine feel factory faulty father fast far family fallen fake freezing friend frustrated fully good gold going glitchy glitch glass glad given gift getting generic gave garbage functioning function fairly fact gotten drain easy easily earphone dying dy durable drop doubt facing\n",
      "Topic #147: zero finally freeze free flawlessly flat fix fit fine feel factory faulty father fast far family fallen fake freezing friend frustrated fully good gold going glitchy glitch glass glad given gift getting generic gave garbage functioning function fairly fact gotten drain easy easily earphone dying dy durable drop doubt facing\n",
      "Topic #148: zero finally freeze free flawlessly flat fix fit fine feel factory faulty father fast far family fallen fake freezing friend frustrated fully good gold going glitchy glitch glass glad given gift getting generic gave garbage functioning function fairly fact gotten drain easy easily earphone dying dy durable drop doubt facing\n",
      "Topic #149: zero finally freeze free flawlessly flat fix fit fine feel factory faulty father fast far family fallen fake freezing friend frustrated fully good gold going glitchy glitch glass glad given gift getting generic gave garbage functioning function fairly fact gotten drain easy easily earphone dying dy durable drop doubt facing\n",
      "Topic #150: zero finally freeze free flawlessly flat fix fit fine feel factory faulty father fast far family fallen fake freezing friend frustrated fully good gold going glitchy glitch glass glad given gift getting generic gave garbage functioning function fairly fact gotten drain easy easily earphone dying dy durable drop doubt facing\n",
      "Topic #151: zero finally freeze free flawlessly flat fix fit fine feel factory faulty father fast far family fallen fake freezing friend frustrated fully good gold going glitchy glitch glass glad given gift getting generic gave garbage functioning function fairly fact gotten drain easy easily earphone dying dy durable drop doubt facing\n",
      "Topic #152: zero finally freeze free flawlessly flat fix fit fine feel factory faulty father fast far family fallen fake freezing friend frustrated fully good gold going glitchy glitch glass glad given gift getting generic gave garbage functioning function fairly fact gotten drain easy easily earphone dying dy durable drop doubt facing\n",
      "Topic #153: zero finally freeze free flawlessly flat fix fit fine feel factory faulty father fast far family fallen fake freezing friend frustrated fully good gold going glitchy glitch glass glad given gift getting generic gave garbage functioning function fairly fact gotten drain easy easily earphone dying dy durable drop doubt facing\n",
      "Topic #154: zero finally freeze free flawlessly flat fix fit fine feel factory faulty father fast far family fallen fake freezing friend frustrated fully good gold going glitchy glitch glass glad given gift getting generic gave garbage functioning function fairly fact gotten drain easy easily earphone dying dy durable drop doubt facing\n",
      "Topic #155: zero finally freeze free flawlessly flat fix fit fine feel factory faulty father fast far family fallen fake freezing friend frustrated fully good gold going glitchy glitch glass glad given gift getting generic gave garbage functioning function fairly fact gotten drain easy easily earphone dying dy durable drop doubt facing\n",
      "Topic #156: zero finally freeze free flawlessly flat fix fit fine feel factory faulty father fast far family fallen fake freezing friend frustrated fully good gold going glitchy glitch glass glad given gift getting generic gave garbage functioning function fairly fact gotten drain easy easily earphone dying dy durable drop doubt facing\n",
      "Topic #157: zero finally freeze free flawlessly flat fix fit fine feel factory faulty father fast far family fallen fake freezing friend frustrated fully good gold going glitchy glitch glass glad given gift getting generic gave garbage functioning function fairly fact gotten drain easy easily earphone dying dy durable drop doubt facing\n",
      "Topic #158: zero finally freeze free flawlessly flat fix fit fine feel factory faulty father fast far family fallen fake freezing friend frustrated fully good gold going glitchy glitch glass glad given gift getting generic gave garbage functioning function fairly fact gotten drain easy easily earphone dying dy durable drop doubt facing\n",
      "Topic #159: zero finally freeze free flawlessly flat fix fit fine feel factory faulty father fast far family fallen fake freezing friend frustrated fully good gold going glitchy glitch glass glad given gift getting generic gave garbage functioning function fairly fact gotten drain easy easily earphone dying dy durable drop doubt facing\n",
      "Topic #160: zero finally freeze free flawlessly flat fix fit fine feel factory faulty father fast far family fallen fake freezing friend frustrated fully good gold going glitchy glitch glass glad given gift getting generic gave garbage functioning function fairly fact gotten drain easy easily earphone dying dy durable drop doubt facing\n",
      "Topic #161: zero finally freeze free flawlessly flat fix fit fine feel factory faulty father fast far family fallen fake freezing friend frustrated fully good gold going glitchy glitch glass glad given gift getting generic gave garbage functioning function fairly fact gotten drain easy easily earphone dying dy durable drop doubt facing\n",
      "Topic #162: zero finally freeze free flawlessly flat fix fit fine feel factory faulty father fast far family fallen fake freezing friend frustrated fully good gold going glitchy glitch glass glad given gift getting generic gave garbage functioning function fairly fact gotten drain easy easily earphone dying dy durable drop doubt facing\n",
      "Topic #163: zero finally freeze free flawlessly flat fix fit fine feel factory faulty father fast far family fallen fake freezing friend frustrated fully good gold going glitchy glitch glass glad given gift getting generic gave garbage functioning function fairly fact gotten drain easy easily earphone dying dy durable drop doubt facing\n",
      "Topic #164: zero finally freeze free flawlessly flat fix fit fine feel factory faulty father fast far family fallen fake freezing friend frustrated fully good gold going glitchy glitch glass glad given gift getting generic gave garbage functioning function fairly fact gotten drain easy easily earphone dying dy durable drop doubt facing\n",
      "Topic #165: zero finally freeze free flawlessly flat fix fit fine feel factory faulty father fast far family fallen fake freezing friend frustrated fully good gold going glitchy glitch glass glad given gift getting generic gave garbage functioning function fairly fact gotten drain easy easily earphone dying dy durable drop doubt facing\n",
      "Topic #166: zero finally freeze free flawlessly flat fix fit fine feel factory faulty father fast far family fallen fake freezing friend frustrated fully good gold going glitchy glitch glass glad given gift getting generic gave garbage functioning function fairly fact gotten drain easy easily earphone dying dy durable drop doubt facing\n",
      "Topic #167: zero finally freeze free flawlessly flat fix fit fine feel factory faulty father fast far family fallen fake freezing friend frustrated fully good gold going glitchy glitch glass glad given gift getting generic gave garbage functioning function fairly fact gotten drain easy easily earphone dying dy durable drop doubt facing\n",
      "Topic #168: zero finally freeze free flawlessly flat fix fit fine feel factory faulty father fast far family fallen fake freezing friend frustrated fully good gold going glitchy glitch glass glad given gift getting generic gave garbage functioning function fairly fact gotten drain easy easily earphone dying dy durable drop doubt facing\n",
      "Topic #169: zero finally freeze free flawlessly flat fix fit fine feel factory faulty father fast far family fallen fake freezing friend frustrated fully good gold going glitchy glitch glass glad given gift getting generic gave garbage functioning function fairly fact gotten drain easy easily earphone dying dy durable drop doubt facing\n",
      "Topic #170: zero finally freeze free flawlessly flat fix fit fine feel factory faulty father fast far family fallen fake freezing friend frustrated fully good gold going glitchy glitch glass glad given gift getting generic gave garbage functioning function fairly fact gotten drain easy easily earphone dying dy durable drop doubt facing\n",
      "Topic #171: zero finally freeze free flawlessly flat fix fit fine feel factory faulty father fast far family fallen fake freezing friend frustrated fully good gold going glitchy glitch glass glad given gift getting generic gave garbage functioning function fairly fact gotten drain easy easily earphone dying dy durable drop doubt facing\n",
      "Topic #172: zero finally freeze free flawlessly flat fix fit fine feel factory faulty father fast far family fallen fake freezing friend frustrated fully good gold going glitchy glitch glass glad given gift getting generic gave garbage functioning function fairly fact gotten drain easy easily earphone dying dy durable drop doubt facing\n",
      "Topic #173: zero finally freeze free flawlessly flat fix fit fine feel factory faulty father fast far family fallen fake freezing friend frustrated fully good gold going glitchy glitch glass glad given gift getting generic gave garbage functioning function fairly fact gotten drain easy easily earphone dying dy durable drop doubt facing\n",
      "Topic #174: zero finally freeze free flawlessly flat fix fit fine feel factory faulty father fast far family fallen fake freezing friend frustrated fully good gold going glitchy glitch glass glad given gift getting generic gave garbage functioning function fairly fact gotten drain easy easily earphone dying dy durable drop doubt facing\n",
      "Topic #175: zero finally freeze free flawlessly flat fix fit fine feel factory faulty father fast far family fallen fake freezing friend frustrated fully good gold going glitchy glitch glass glad given gift getting generic gave garbage functioning function fairly fact gotten drain easy easily earphone dying dy durable drop doubt facing\n",
      "Topic #176: zero finally freeze free flawlessly flat fix fit fine feel factory faulty father fast far family fallen fake freezing friend frustrated fully good gold going glitchy glitch glass glad given gift getting generic gave garbage functioning function fairly fact gotten drain easy easily earphone dying dy durable drop doubt facing\n",
      "Topic #177: zero finally freeze free flawlessly flat fix fit fine feel factory faulty father fast far family fallen fake freezing friend frustrated fully good gold going glitchy glitch glass glad given gift getting generic gave garbage functioning function fairly fact gotten drain easy easily earphone dying dy durable drop doubt facing\n",
      "Topic #178: zero finally freeze free flawlessly flat fix fit fine feel factory faulty father fast far family fallen fake freezing friend frustrated fully good gold going glitchy glitch glass glad given gift getting generic gave garbage functioning function fairly fact gotten drain easy easily earphone dying dy durable drop doubt facing\n",
      "Topic #179: zero finally freeze free flawlessly flat fix fit fine feel factory faulty father fast far family fallen fake freezing friend frustrated fully good gold going glitchy glitch glass glad given gift getting generic gave garbage functioning function fairly fact gotten drain easy easily earphone dying dy durable drop doubt facing\n",
      "Topic #180: zero finally freeze free flawlessly flat fix fit fine feel factory faulty father fast far family fallen fake freezing friend frustrated fully good gold going glitchy glitch glass glad given gift getting generic gave garbage functioning function fairly fact gotten drain easy easily earphone dying dy durable drop doubt facing\n",
      "Topic #181: zero finally freeze free flawlessly flat fix fit fine feel factory faulty father fast far family fallen fake freezing friend frustrated fully good gold going glitchy glitch glass glad given gift getting generic gave garbage functioning function fairly fact gotten drain easy easily earphone dying dy durable drop doubt facing\n",
      "Topic #182: zero finally freeze free flawlessly flat fix fit fine feel factory faulty father fast far family fallen fake freezing friend frustrated fully good gold going glitchy glitch glass glad given gift getting generic gave garbage functioning function fairly fact gotten drain easy easily earphone dying dy durable drop doubt facing\n",
      "Topic #183: zero finally freeze free flawlessly flat fix fit fine feel factory faulty father fast far family fallen fake freezing friend frustrated fully good gold going glitchy glitch glass glad given gift getting generic gave garbage functioning function fairly fact gotten drain easy easily earphone dying dy durable drop doubt facing\n",
      "Topic #184: zero finally freeze free flawlessly flat fix fit fine feel factory faulty father fast far family fallen fake freezing friend frustrated fully good gold going glitchy glitch glass glad given gift getting generic gave garbage functioning function fairly fact gotten drain easy easily earphone dying dy durable drop doubt facing\n",
      "Topic #185: zero finally freeze free flawlessly flat fix fit fine feel factory faulty father fast far family fallen fake freezing friend frustrated fully good gold going glitchy glitch glass glad given gift getting generic gave garbage functioning function fairly fact gotten drain easy easily earphone dying dy durable drop doubt facing\n",
      "Topic #186: zero finally freeze free flawlessly flat fix fit fine feel factory faulty father fast far family fallen fake freezing friend frustrated fully good gold going glitchy glitch glass glad given gift getting generic gave garbage functioning function fairly fact gotten drain easy easily earphone dying dy durable drop doubt facing\n",
      "Topic #187: zero finally freeze free flawlessly flat fix fit fine feel factory faulty father fast far family fallen fake freezing friend frustrated fully good gold going glitchy glitch glass glad given gift getting generic gave garbage functioning function fairly fact gotten drain easy easily earphone dying dy durable drop doubt facing\n",
      "Topic #188: zero finally freeze free flawlessly flat fix fit fine feel factory faulty father fast far family fallen fake freezing friend frustrated fully good gold going glitchy glitch glass glad given gift getting generic gave garbage functioning function fairly fact gotten drain easy easily earphone dying dy durable drop doubt facing\n",
      "Topic #189: zero finally freeze free flawlessly flat fix fit fine feel factory faulty father fast far family fallen fake freezing friend frustrated fully good gold going glitchy glitch glass glad given gift getting generic gave garbage functioning function fairly fact gotten drain easy easily earphone dying dy durable drop doubt facing\n",
      "Topic #190: zero finally freeze free flawlessly flat fix fit fine feel factory faulty father fast far family fallen fake freezing friend frustrated fully good gold going glitchy glitch glass glad given gift getting generic gave garbage functioning function fairly fact gotten drain easy easily earphone dying dy durable drop doubt facing\n",
      "Topic #191: zero finally freeze free flawlessly flat fix fit fine feel factory faulty father fast far family fallen fake freezing friend frustrated fully good gold going glitchy glitch glass glad given gift getting generic gave garbage functioning function fairly fact gotten drain easy easily earphone dying dy durable drop doubt facing\n",
      "Topic #192: zero finally freeze free flawlessly flat fix fit fine feel factory faulty father fast far family fallen fake freezing friend frustrated fully good gold going glitchy glitch glass glad given gift getting generic gave garbage functioning function fairly fact gotten drain easy easily earphone dying dy durable drop doubt facing\n",
      "Topic #193: zero finally freeze free flawlessly flat fix fit fine feel factory faulty father fast far family fallen fake freezing friend frustrated fully good gold going glitchy glitch glass glad given gift getting generic gave garbage functioning function fairly fact gotten drain easy easily earphone dying dy durable drop doubt facing\n",
      "Topic #194: zero finally freeze free flawlessly flat fix fit fine feel factory faulty father fast far family fallen fake freezing friend frustrated fully good gold going glitchy glitch glass glad given gift getting generic gave garbage functioning function fairly fact gotten drain easy easily earphone dying dy durable drop doubt facing\n",
      "Topic #195: zero finally freeze free flawlessly flat fix fit fine feel factory faulty father fast far family fallen fake freezing friend frustrated fully good gold going glitchy glitch glass glad given gift getting generic gave garbage functioning function fairly fact gotten drain easy easily earphone dying dy durable drop doubt facing\n",
      "Topic #196: zero finally freeze free flawlessly flat fix fit fine feel factory faulty father fast far family fallen fake freezing friend frustrated fully good gold going glitchy glitch glass glad given gift getting generic gave garbage functioning function fairly fact gotten drain easy easily earphone dying dy durable drop doubt facing\n",
      "Topic #197: zero finally freeze free flawlessly flat fix fit fine feel factory faulty father fast far family fallen fake freezing friend frustrated fully good gold going glitchy glitch glass glad given gift getting generic gave garbage functioning function fairly fact gotten drain easy easily earphone dying dy durable drop doubt facing\n",
      "Topic #198: zero finally freeze free flawlessly flat fix fit fine feel factory faulty father fast far family fallen fake freezing friend frustrated fully good gold going glitchy glitch glass glad given gift getting generic gave garbage functioning function fairly fact gotten drain easy easily earphone dying dy durable drop doubt facing\n",
      "Topic #199: zero finally freeze free flawlessly flat fix fit fine feel factory faulty father fast far family fallen fake freezing friend frustrated fully good gold going glitchy glitch glass glad given gift getting generic gave garbage functioning function fairly fact gotten drain easy easily earphone dying dy durable drop doubt facing\n",
      "Topic #200: zero finally freeze free flawlessly flat fix fit fine feel factory faulty father fast far family fallen fake freezing friend frustrated fully good gold going glitchy glitch glass glad given gift getting generic gave garbage functioning function fairly fact gotten drain easy easily earphone dying dy durable drop doubt facing\n",
      "Topic #201: zero finally freeze free flawlessly flat fix fit fine feel factory faulty father fast far family fallen fake freezing friend frustrated fully good gold going glitchy glitch glass glad given gift getting generic gave garbage functioning function fairly fact gotten drain easy easily earphone dying dy durable drop doubt facing\n",
      "Topic #202: zero finally freeze free flawlessly flat fix fit fine feel factory faulty father fast far family fallen fake freezing friend frustrated fully good gold going glitchy glitch glass glad given gift getting generic gave garbage functioning function fairly fact gotten drain easy easily earphone dying dy durable drop doubt facing\n",
      "Topic #203: zero finally freeze free flawlessly flat fix fit fine feel factory faulty father fast far family fallen fake freezing friend frustrated fully good gold going glitchy glitch glass glad given gift getting generic gave garbage functioning function fairly fact gotten drain easy easily earphone dying dy durable drop doubt facing\n",
      "Topic #204: zero finally freeze free flawlessly flat fix fit fine feel factory faulty father fast far family fallen fake freezing friend frustrated fully good gold going glitchy glitch glass glad given gift getting generic gave garbage functioning function fairly fact gotten drain easy easily earphone dying dy durable drop doubt facing\n",
      "Topic #205: zero finally freeze free flawlessly flat fix fit fine feel factory faulty father fast far family fallen fake freezing friend frustrated fully good gold going glitchy glitch glass glad given gift getting generic gave garbage functioning function fairly fact gotten drain easy easily earphone dying dy durable drop doubt facing\n",
      "Topic #206: zero finally freeze free flawlessly flat fix fit fine feel factory faulty father fast far family fallen fake freezing friend frustrated fully good gold going glitchy glitch glass glad given gift getting generic gave garbage functioning function fairly fact gotten drain easy easily earphone dying dy durable drop doubt facing\n",
      "Topic #207: zero finally freeze free flawlessly flat fix fit fine feel factory faulty father fast far family fallen fake freezing friend frustrated fully good gold going glitchy glitch glass glad given gift getting generic gave garbage functioning function fairly fact gotten drain easy easily earphone dying dy durable drop doubt facing\n",
      "Topic #208: zero finally freeze free flawlessly flat fix fit fine feel factory faulty father fast far family fallen fake freezing friend frustrated fully good gold going glitchy glitch glass glad given gift getting generic gave garbage functioning function fairly fact gotten drain easy easily earphone dying dy durable drop doubt facing\n",
      "Topic #209: zero finally freeze free flawlessly flat fix fit fine feel factory faulty father fast far family fallen fake freezing friend frustrated fully good gold going glitchy glitch glass glad given gift getting generic gave garbage functioning function fairly fact gotten drain easy easily earphone dying dy durable drop doubt facing\n",
      "Topic #210: zero finally freeze free flawlessly flat fix fit fine feel factory faulty father fast far family fallen fake freezing friend frustrated fully good gold going glitchy glitch glass glad given gift getting generic gave garbage functioning function fairly fact gotten drain easy easily earphone dying dy durable drop doubt facing\n",
      "Topic #211: zero finally freeze free flawlessly flat fix fit fine feel factory faulty father fast far family fallen fake freezing friend frustrated fully good gold going glitchy glitch glass glad given gift getting generic gave garbage functioning function fairly fact gotten drain easy easily earphone dying dy durable drop doubt facing\n",
      "Topic #212: zero finally freeze free flawlessly flat fix fit fine feel factory faulty father fast far family fallen fake freezing friend frustrated fully good gold going glitchy glitch glass glad given gift getting generic gave garbage functioning function fairly fact gotten drain easy easily earphone dying dy durable drop doubt facing\n",
      "Topic #213: zero finally freeze free flawlessly flat fix fit fine feel factory faulty father fast far family fallen fake freezing friend frustrated fully good gold going glitchy glitch glass glad given gift getting generic gave garbage functioning function fairly fact gotten drain easy easily earphone dying dy durable drop doubt facing\n",
      "Topic #214: zero finally freeze free flawlessly flat fix fit fine feel factory faulty father fast far family fallen fake freezing friend frustrated fully good gold going glitchy glitch glass glad given gift getting generic gave garbage functioning function fairly fact gotten drain easy easily earphone dying dy durable drop doubt facing\n",
      "Topic #215: zero finally freeze free flawlessly flat fix fit fine feel factory faulty father fast far family fallen fake freezing friend frustrated fully good gold going glitchy glitch glass glad given gift getting generic gave garbage functioning function fairly fact gotten drain easy easily earphone dying dy durable drop doubt facing\n",
      "Topic #216: zero finally freeze free flawlessly flat fix fit fine feel factory faulty father fast far family fallen fake freezing friend frustrated fully good gold going glitchy glitch glass glad given gift getting generic gave garbage functioning function fairly fact gotten drain easy easily earphone dying dy durable drop doubt facing\n",
      "Topic #217: zero finally freeze free flawlessly flat fix fit fine feel factory faulty father fast far family fallen fake freezing friend frustrated fully good gold going glitchy glitch glass glad given gift getting generic gave garbage functioning function fairly fact gotten drain easy easily earphone dying dy durable drop doubt facing\n",
      "Topic #218: zero finally freeze free flawlessly flat fix fit fine feel factory faulty father fast far family fallen fake freezing friend frustrated fully good gold going glitchy glitch glass glad given gift getting generic gave garbage functioning function fairly fact gotten drain easy easily earphone dying dy durable drop doubt facing\n",
      "Topic #219: zero finally freeze free flawlessly flat fix fit fine feel factory faulty father fast far family fallen fake freezing friend frustrated fully good gold going glitchy glitch glass glad given gift getting generic gave garbage functioning function fairly fact gotten drain easy easily earphone dying dy durable drop doubt facing\n",
      "Topic #220: zero finally freeze free flawlessly flat fix fit fine feel factory faulty father fast far family fallen fake freezing friend frustrated fully good gold going glitchy glitch glass glad given gift getting generic gave garbage functioning function fairly fact gotten drain easy easily earphone dying dy durable drop doubt facing\n",
      "Topic #221: zero finally freeze free flawlessly flat fix fit fine feel factory faulty father fast far family fallen fake freezing friend frustrated fully good gold going glitchy glitch glass glad given gift getting generic gave garbage functioning function fairly fact gotten drain easy easily earphone dying dy durable drop doubt facing\n",
      "Topic #222: zero finally freeze free flawlessly flat fix fit fine feel factory faulty father fast far family fallen fake freezing friend frustrated fully good gold going glitchy glitch glass glad given gift getting generic gave garbage functioning function fairly fact gotten drain easy easily earphone dying dy durable drop doubt facing\n",
      "Topic #223: zero finally freeze free flawlessly flat fix fit fine feel factory faulty father fast far family fallen fake freezing friend frustrated fully good gold going glitchy glitch glass glad given gift getting generic gave garbage functioning function fairly fact gotten drain easy easily earphone dying dy durable drop doubt facing\n",
      "Topic #224: zero finally freeze free flawlessly flat fix fit fine feel factory faulty father fast far family fallen fake freezing friend frustrated fully good gold going glitchy glitch glass glad given gift getting generic gave garbage functioning function fairly fact gotten drain easy easily earphone dying dy durable drop doubt facing\n",
      "Topic #225: zero finally freeze free flawlessly flat fix fit fine feel factory faulty father fast far family fallen fake freezing friend frustrated fully good gold going glitchy glitch glass glad given gift getting generic gave garbage functioning function fairly fact gotten drain easy easily earphone dying dy durable drop doubt facing\n",
      "Topic #226: zero finally freeze free flawlessly flat fix fit fine feel factory faulty father fast far family fallen fake freezing friend frustrated fully good gold going glitchy glitch glass glad given gift getting generic gave garbage functioning function fairly fact gotten drain easy easily earphone dying dy durable drop doubt facing\n",
      "Topic #227: zero finally freeze free flawlessly flat fix fit fine feel factory faulty father fast far family fallen fake freezing friend frustrated fully good gold going glitchy glitch glass glad given gift getting generic gave garbage functioning function fairly fact gotten drain easy easily earphone dying dy durable drop doubt facing\n",
      "Topic #228: zero finally freeze free flawlessly flat fix fit fine feel factory faulty father fast far family fallen fake freezing friend frustrated fully good gold going glitchy glitch glass glad given gift getting generic gave garbage functioning function fairly fact gotten drain easy easily earphone dying dy durable drop doubt facing\n",
      "Topic #229: zero finally freeze free flawlessly flat fix fit fine feel factory faulty father fast far family fallen fake freezing friend frustrated fully good gold going glitchy glitch glass glad given gift getting generic gave garbage functioning function fairly fact gotten drain easy easily earphone dying dy durable drop doubt facing\n",
      "Topic #230: zero finally freeze free flawlessly flat fix fit fine feel factory faulty father fast far family fallen fake freezing friend frustrated fully good gold going glitchy glitch glass glad given gift getting generic gave garbage functioning function fairly fact gotten drain easy easily earphone dying dy durable drop doubt facing\n",
      "Topic #231: zero finally freeze free flawlessly flat fix fit fine feel factory faulty father fast far family fallen fake freezing friend frustrated fully good gold going glitchy glitch glass glad given gift getting generic gave garbage functioning function fairly fact gotten drain easy easily earphone dying dy durable drop doubt facing\n",
      "Topic #232: zero finally freeze free flawlessly flat fix fit fine feel factory faulty father fast far family fallen fake freezing friend frustrated fully good gold going glitchy glitch glass glad given gift getting generic gave garbage functioning function fairly fact gotten drain easy easily earphone dying dy durable drop doubt facing\n",
      "Topic #233: zero finally freeze free flawlessly flat fix fit fine feel factory faulty father fast far family fallen fake freezing friend frustrated fully good gold going glitchy glitch glass glad given gift getting generic gave garbage functioning function fairly fact gotten drain easy easily earphone dying dy durable drop doubt facing\n",
      "Topic #234: zero finally freeze free flawlessly flat fix fit fine feel factory faulty father fast far family fallen fake freezing friend frustrated fully good gold going glitchy glitch glass glad given gift getting generic gave garbage functioning function fairly fact gotten drain easy easily earphone dying dy durable drop doubt facing\n",
      "Topic #235: zero finally freeze free flawlessly flat fix fit fine feel factory faulty father fast far family fallen fake freezing friend frustrated fully good gold going glitchy glitch glass glad given gift getting generic gave garbage functioning function fairly fact gotten drain easy easily earphone dying dy durable drop doubt facing\n",
      "Topic #236: zero finally freeze free flawlessly flat fix fit fine feel factory faulty father fast far family fallen fake freezing friend frustrated fully good gold going glitchy glitch glass glad given gift getting generic gave garbage functioning function fairly fact gotten drain easy easily earphone dying dy durable drop doubt facing\n",
      "Topic #237: zero finally freeze free flawlessly flat fix fit fine feel factory faulty father fast far family fallen fake freezing friend frustrated fully good gold going glitchy glitch glass glad given gift getting generic gave garbage functioning function fairly fact gotten drain easy easily earphone dying dy durable drop doubt facing\n",
      "Topic #238: zero finally freeze free flawlessly flat fix fit fine feel factory faulty father fast far family fallen fake freezing friend frustrated fully good gold going glitchy glitch glass glad given gift getting generic gave garbage functioning function fairly fact gotten drain easy easily earphone dying dy durable drop doubt facing\n",
      "Topic #239: zero finally freeze free flawlessly flat fix fit fine feel factory faulty father fast far family fallen fake freezing friend frustrated fully good gold going glitchy glitch glass glad given gift getting generic gave garbage functioning function fairly fact gotten drain easy easily earphone dying dy durable drop doubt facing\n",
      "Topic #240: zero finally freeze free flawlessly flat fix fit fine feel factory faulty father fast far family fallen fake freezing friend frustrated fully good gold going glitchy glitch glass glad given gift getting generic gave garbage functioning function fairly fact gotten drain easy easily earphone dying dy durable drop doubt facing\n",
      "Topic #241: zero finally freeze free flawlessly flat fix fit fine feel factory faulty father fast far family fallen fake freezing friend frustrated fully good gold going glitchy glitch glass glad given gift getting generic gave garbage functioning function fairly fact gotten drain easy easily earphone dying dy durable drop doubt facing\n",
      "Topic #242: zero finally freeze free flawlessly flat fix fit fine feel factory faulty father fast far family fallen fake freezing friend frustrated fully good gold going glitchy glitch glass glad given gift getting generic gave garbage functioning function fairly fact gotten drain easy easily earphone dying dy durable drop doubt facing\n",
      "Topic #243: zero finally freeze free flawlessly flat fix fit fine feel factory faulty father fast far family fallen fake freezing friend frustrated fully good gold going glitchy glitch glass glad given gift getting generic gave garbage functioning function fairly fact gotten drain easy easily earphone dying dy durable drop doubt facing\n",
      "Topic #244: zero finally freeze free flawlessly flat fix fit fine feel factory faulty father fast far family fallen fake freezing friend frustrated fully good gold going glitchy glitch glass glad given gift getting generic gave garbage functioning function fairly fact gotten drain easy easily earphone dying dy durable drop doubt facing\n",
      "Topic #245: zero finally freeze free flawlessly flat fix fit fine feel factory faulty father fast far family fallen fake freezing friend frustrated fully good gold going glitchy glitch glass glad given gift getting generic gave garbage functioning function fairly fact gotten drain easy easily earphone dying dy durable drop doubt facing\n",
      "Topic #246: zero finally freeze free flawlessly flat fix fit fine feel factory faulty father fast far family fallen fake freezing friend frustrated fully good gold going glitchy glitch glass glad given gift getting generic gave garbage functioning function fairly fact gotten drain easy easily earphone dying dy durable drop doubt facing\n",
      "Topic #247: zero finally freeze free flawlessly flat fix fit fine feel factory faulty father fast far family fallen fake freezing friend frustrated fully good gold going glitchy glitch glass glad given gift getting generic gave garbage functioning function fairly fact gotten drain easy easily earphone dying dy durable drop doubt facing\n",
      "Topic #248: zero finally freeze free flawlessly flat fix fit fine feel factory faulty father fast far family fallen fake freezing friend frustrated fully good gold going glitchy glitch glass glad given gift getting generic gave garbage functioning function fairly fact gotten drain easy easily earphone dying dy durable drop doubt facing\n",
      "Topic #249: zero finally freeze free flawlessly flat fix fit fine feel factory faulty father fast far family fallen fake freezing friend frustrated fully good gold going glitchy glitch glass glad given gift getting generic gave garbage functioning function fairly fact gotten drain easy easily earphone dying dy durable drop doubt facing\n",
      "Topic #250: zero finally freeze free flawlessly flat fix fit fine feel factory faulty father fast far family fallen fake freezing friend frustrated fully good gold going glitchy glitch glass glad given gift getting generic gave garbage functioning function fairly fact gotten drain easy easily earphone dying dy durable drop doubt facing\n",
      "Topic #251: zero finally freeze free flawlessly flat fix fit fine feel factory faulty father fast far family fallen fake freezing friend frustrated fully good gold going glitchy glitch glass glad given gift getting generic gave garbage functioning function fairly fact gotten drain easy easily earphone dying dy durable drop doubt facing\n",
      "Topic #252: zero finally freeze free flawlessly flat fix fit fine feel factory faulty father fast far family fallen fake freezing friend frustrated fully good gold going glitchy glitch glass glad given gift getting generic gave garbage functioning function fairly fact gotten drain easy easily earphone dying dy durable drop doubt facing\n",
      "Topic #253: zero finally freeze free flawlessly flat fix fit fine feel factory faulty father fast far family fallen fake freezing friend frustrated fully good gold going glitchy glitch glass glad given gift getting generic gave garbage functioning function fairly fact gotten drain easy easily earphone dying dy durable drop doubt facing\n",
      "Topic #254: zero finally freeze free flawlessly flat fix fit fine feel factory faulty father fast far family fallen fake freezing friend frustrated fully good gold going glitchy glitch glass glad given gift getting generic gave garbage functioning function fairly fact gotten drain easy easily earphone dying dy durable drop doubt facing\n",
      "Topic #255: zero finally freeze free flawlessly flat fix fit fine feel factory faulty father fast far family fallen fake freezing friend frustrated fully good gold going glitchy glitch glass glad given gift getting generic gave garbage functioning function fairly fact gotten drain easy easily earphone dying dy durable drop doubt facing\n",
      "Topic #256: zero finally freeze free flawlessly flat fix fit fine feel factory faulty father fast far family fallen fake freezing friend frustrated fully good gold going glitchy glitch glass glad given gift getting generic gave garbage functioning function fairly fact gotten drain easy easily earphone dying dy durable drop doubt facing\n",
      "Topic #257: zero finally freeze free flawlessly flat fix fit fine feel factory faulty father fast far family fallen fake freezing friend frustrated fully good gold going glitchy glitch glass glad given gift getting generic gave garbage functioning function fairly fact gotten drain easy easily earphone dying dy durable drop doubt facing\n",
      "Topic #258: zero finally freeze free flawlessly flat fix fit fine feel factory faulty father fast far family fallen fake freezing friend frustrated fully good gold going glitchy glitch glass glad given gift getting generic gave garbage functioning function fairly fact gotten drain easy easily earphone dying dy durable drop doubt facing\n",
      "Topic #259: zero finally freeze free flawlessly flat fix fit fine feel factory faulty father fast far family fallen fake freezing friend frustrated fully good gold going glitchy glitch glass glad given gift getting generic gave garbage functioning function fairly fact gotten drain easy easily earphone dying dy durable drop doubt facing\n",
      "Topic #260: zero finally freeze free flawlessly flat fix fit fine feel factory faulty father fast far family fallen fake freezing friend frustrated fully good gold going glitchy glitch glass glad given gift getting generic gave garbage functioning function fairly fact gotten drain easy easily earphone dying dy durable drop doubt facing\n",
      "Topic #261: zero finally freeze free flawlessly flat fix fit fine feel factory faulty father fast far family fallen fake freezing friend frustrated fully good gold going glitchy glitch glass glad given gift getting generic gave garbage functioning function fairly fact gotten drain easy easily earphone dying dy durable drop doubt facing\n",
      "Topic #262: zero finally freeze free flawlessly flat fix fit fine feel factory faulty father fast far family fallen fake freezing friend frustrated fully good gold going glitchy glitch glass glad given gift getting generic gave garbage functioning function fairly fact gotten drain easy easily earphone dying dy durable drop doubt facing\n",
      "Topic #263: zero finally freeze free flawlessly flat fix fit fine feel factory faulty father fast far family fallen fake freezing friend frustrated fully good gold going glitchy glitch glass glad given gift getting generic gave garbage functioning function fairly fact gotten drain easy easily earphone dying dy durable drop doubt facing\n",
      "Topic #264: zero finally freeze free flawlessly flat fix fit fine feel factory faulty father fast far family fallen fake freezing friend frustrated fully good gold going glitchy glitch glass glad given gift getting generic gave garbage functioning function fairly fact gotten drain easy easily earphone dying dy durable drop doubt facing\n",
      "Topic #265: zero finally freeze free flawlessly flat fix fit fine feel factory faulty father fast far family fallen fake freezing friend frustrated fully good gold going glitchy glitch glass glad given gift getting generic gave garbage functioning function fairly fact gotten drain easy easily earphone dying dy durable drop doubt facing\n",
      "Topic #266: zero finally freeze free flawlessly flat fix fit fine feel factory faulty father fast far family fallen fake freezing friend frustrated fully good gold going glitchy glitch glass glad given gift getting generic gave garbage functioning function fairly fact gotten drain easy easily earphone dying dy durable drop doubt facing\n",
      "Topic #267: zero finally freeze free flawlessly flat fix fit fine feel factory faulty father fast far family fallen fake freezing friend frustrated fully good gold going glitchy glitch glass glad given gift getting generic gave garbage functioning function fairly fact gotten drain easy easily earphone dying dy durable drop doubt facing\n",
      "Topic #268: zero finally freeze free flawlessly flat fix fit fine feel factory faulty father fast far family fallen fake freezing friend frustrated fully good gold going glitchy glitch glass glad given gift getting generic gave garbage functioning function fairly fact gotten drain easy easily earphone dying dy durable drop doubt facing\n",
      "Topic #269: zero finally freeze free flawlessly flat fix fit fine feel factory faulty father fast far family fallen fake freezing friend frustrated fully good gold going glitchy glitch glass glad given gift getting generic gave garbage functioning function fairly fact gotten drain easy easily earphone dying dy durable drop doubt facing\n",
      "Topic #270: zero finally freeze free flawlessly flat fix fit fine feel factory faulty father fast far family fallen fake freezing friend frustrated fully good gold going glitchy glitch glass glad given gift getting generic gave garbage functioning function fairly fact gotten drain easy easily earphone dying dy durable drop doubt facing\n",
      "Topic #271: zero finally freeze free flawlessly flat fix fit fine feel factory faulty father fast far family fallen fake freezing friend frustrated fully good gold going glitchy glitch glass glad given gift getting generic gave garbage functioning function fairly fact gotten drain easy easily earphone dying dy durable drop doubt facing\n",
      "Topic #272: zero finally freeze free flawlessly flat fix fit fine feel factory faulty father fast far family fallen fake freezing friend frustrated fully good gold going glitchy glitch glass glad given gift getting generic gave garbage functioning function fairly fact gotten drain easy easily earphone dying dy durable drop doubt facing\n",
      "Topic #273: zero finally freeze free flawlessly flat fix fit fine feel factory faulty father fast far family fallen fake freezing friend frustrated fully good gold going glitchy glitch glass glad given gift getting generic gave garbage functioning function fairly fact gotten drain easy easily earphone dying dy durable drop doubt facing\n",
      "Topic #274: zero finally freeze free flawlessly flat fix fit fine feel factory faulty father fast far family fallen fake freezing friend frustrated fully good gold going glitchy glitch glass glad given gift getting generic gave garbage functioning function fairly fact gotten drain easy easily earphone dying dy durable drop doubt facing\n",
      "Topic #275: zero finally freeze free flawlessly flat fix fit fine feel factory faulty father fast far family fallen fake freezing friend frustrated fully good gold going glitchy glitch glass glad given gift getting generic gave garbage functioning function fairly fact gotten drain easy easily earphone dying dy durable drop doubt facing\n",
      "Topic #276: zero finally freeze free flawlessly flat fix fit fine feel factory faulty father fast far family fallen fake freezing friend frustrated fully good gold going glitchy glitch glass glad given gift getting generic gave garbage functioning function fairly fact gotten drain easy easily earphone dying dy durable drop doubt facing\n",
      "Topic #277: zero finally freeze free flawlessly flat fix fit fine feel factory faulty father fast far family fallen fake freezing friend frustrated fully good gold going glitchy glitch glass glad given gift getting generic gave garbage functioning function fairly fact gotten drain easy easily earphone dying dy durable drop doubt facing\n",
      "Topic #278: zero finally freeze free flawlessly flat fix fit fine feel factory faulty father fast far family fallen fake freezing friend frustrated fully good gold going glitchy glitch glass glad given gift getting generic gave garbage functioning function fairly fact gotten drain easy easily earphone dying dy durable drop doubt facing\n",
      "Topic #279: zero finally freeze free flawlessly flat fix fit fine feel factory faulty father fast far family fallen fake freezing friend frustrated fully good gold going glitchy glitch glass glad given gift getting generic gave garbage functioning function fairly fact gotten drain easy easily earphone dying dy durable drop doubt facing\n",
      "Topic #280: zero finally freeze free flawlessly flat fix fit fine feel factory faulty father fast far family fallen fake freezing friend frustrated fully good gold going glitchy glitch glass glad given gift getting generic gave garbage functioning function fairly fact gotten drain easy easily earphone dying dy durable drop doubt facing\n",
      "Topic #281: zero finally freeze free flawlessly flat fix fit fine feel factory faulty father fast far family fallen fake freezing friend frustrated fully good gold going glitchy glitch glass glad given gift getting generic gave garbage functioning function fairly fact gotten drain easy easily earphone dying dy durable drop doubt facing\n",
      "Topic #282: zero finally freeze free flawlessly flat fix fit fine feel factory faulty father fast far family fallen fake freezing friend frustrated fully good gold going glitchy glitch glass glad given gift getting generic gave garbage functioning function fairly fact gotten drain easy easily earphone dying dy durable drop doubt facing\n",
      "Topic #283: zero finally freeze free flawlessly flat fix fit fine feel factory faulty father fast far family fallen fake freezing friend frustrated fully good gold going glitchy glitch glass glad given gift getting generic gave garbage functioning function fairly fact gotten drain easy easily earphone dying dy durable drop doubt facing\n",
      "Topic #284: zero finally freeze free flawlessly flat fix fit fine feel factory faulty father fast far family fallen fake freezing friend frustrated fully good gold going glitchy glitch glass glad given gift getting generic gave garbage functioning function fairly fact gotten drain easy easily earphone dying dy durable drop doubt facing\n",
      "Topic #285: zero finally freeze free flawlessly flat fix fit fine feel factory faulty father fast far family fallen fake freezing friend frustrated fully good gold going glitchy glitch glass glad given gift getting generic gave garbage functioning function fairly fact gotten drain easy easily earphone dying dy durable drop doubt facing\n",
      "Topic #286: zero finally freeze free flawlessly flat fix fit fine feel factory faulty father fast far family fallen fake freezing friend frustrated fully good gold going glitchy glitch glass glad given gift getting generic gave garbage functioning function fairly fact gotten drain easy easily earphone dying dy durable drop doubt facing\n",
      "Topic #287: zero finally freeze free flawlessly flat fix fit fine feel factory faulty father fast far family fallen fake freezing friend frustrated fully good gold going glitchy glitch glass glad given gift getting generic gave garbage functioning function fairly fact gotten drain easy easily earphone dying dy durable drop doubt facing\n",
      "Topic #288: zero finally freeze free flawlessly flat fix fit fine feel factory faulty father fast far family fallen fake freezing friend frustrated fully good gold going glitchy glitch glass glad given gift getting generic gave garbage functioning function fairly fact gotten drain easy easily earphone dying dy durable drop doubt facing\n",
      "Topic #289: zero finally freeze free flawlessly flat fix fit fine feel factory faulty father fast far family fallen fake freezing friend frustrated fully good gold going glitchy glitch glass glad given gift getting generic gave garbage functioning function fairly fact gotten drain easy easily earphone dying dy durable drop doubt facing\n",
      "Topic #290: zero finally freeze free flawlessly flat fix fit fine feel factory faulty father fast far family fallen fake freezing friend frustrated fully good gold going glitchy glitch glass glad given gift getting generic gave garbage functioning function fairly fact gotten drain easy easily earphone dying dy durable drop doubt facing\n",
      "Topic #291: zero finally freeze free flawlessly flat fix fit fine feel factory faulty father fast far family fallen fake freezing friend frustrated fully good gold going glitchy glitch glass glad given gift getting generic gave garbage functioning function fairly fact gotten drain easy easily earphone dying dy durable drop doubt facing\n",
      "Topic #292: zero finally freeze free flawlessly flat fix fit fine feel factory faulty father fast far family fallen fake freezing friend frustrated fully good gold going glitchy glitch glass glad given gift getting generic gave garbage functioning function fairly fact gotten drain easy easily earphone dying dy durable drop doubt facing\n",
      "Topic #293: zero finally freeze free flawlessly flat fix fit fine feel factory faulty father fast far family fallen fake freezing friend frustrated fully good gold going glitchy glitch glass glad given gift getting generic gave garbage functioning function fairly fact gotten drain easy easily earphone dying dy durable drop doubt facing\n",
      "Topic #294: zero finally freeze free flawlessly flat fix fit fine feel factory faulty father fast far family fallen fake freezing friend frustrated fully good gold going glitchy glitch glass glad given gift getting generic gave garbage functioning function fairly fact gotten drain easy easily earphone dying dy durable drop doubt facing\n",
      "Topic #295: zero finally freeze free flawlessly flat fix fit fine feel factory faulty father fast far family fallen fake freezing friend frustrated fully good gold going glitchy glitch glass glad given gift getting generic gave garbage functioning function fairly fact gotten drain easy easily earphone dying dy durable drop doubt facing\n",
      "Topic #296: zero finally freeze free flawlessly flat fix fit fine feel factory faulty father fast far family fallen fake freezing friend frustrated fully good gold going glitchy glitch glass glad given gift getting generic gave garbage functioning function fairly fact gotten drain easy easily earphone dying dy durable drop doubt facing\n",
      "Topic #297: zero finally freeze free flawlessly flat fix fit fine feel factory faulty father fast far family fallen fake freezing friend frustrated fully good gold going glitchy glitch glass glad given gift getting generic gave garbage functioning function fairly fact gotten drain easy easily earphone dying dy durable drop doubt facing\n",
      "Topic #298: zero finally freeze free flawlessly flat fix fit fine feel factory faulty father fast far family fallen fake freezing friend frustrated fully good gold going glitchy glitch glass glad given gift getting generic gave garbage functioning function fairly fact gotten drain easy easily earphone dying dy durable drop doubt facing\n",
      "Topic #299: zero finally freeze free flawlessly flat fix fit fine feel factory faulty father fast far family fallen fake freezing friend frustrated fully good gold going glitchy glitch glass glad given gift getting generic gave garbage functioning function fairly fact gotten drain easy easily earphone dying dy durable drop doubt facing\n",
      "Topic #300: zero finally freeze free flawlessly flat fix fit fine feel factory faulty father fast far family fallen fake freezing friend frustrated fully good gold going glitchy glitch glass glad given gift getting generic gave garbage functioning function fairly fact gotten drain easy easily earphone dying dy durable drop doubt facing\n",
      "Topic #301: zero finally freeze free flawlessly flat fix fit fine feel factory faulty father fast far family fallen fake freezing friend frustrated fully good gold going glitchy glitch glass glad given gift getting generic gave garbage functioning function fairly fact gotten drain easy easily earphone dying dy durable drop doubt facing\n",
      "Topic #302: zero finally freeze free flawlessly flat fix fit fine feel factory faulty father fast far family fallen fake freezing friend frustrated fully good gold going glitchy glitch glass glad given gift getting generic gave garbage functioning function fairly fact gotten drain easy easily earphone dying dy durable drop doubt facing\n",
      "Topic #303: zero finally freeze free flawlessly flat fix fit fine feel factory faulty father fast far family fallen fake freezing friend frustrated fully good gold going glitchy glitch glass glad given gift getting generic gave garbage functioning function fairly fact gotten drain easy easily earphone dying dy durable drop doubt facing\n",
      "Topic #304: zero finally freeze free flawlessly flat fix fit fine feel factory faulty father fast far family fallen fake freezing friend frustrated fully good gold going glitchy glitch glass glad given gift getting generic gave garbage functioning function fairly fact gotten drain easy easily earphone dying dy durable drop doubt facing\n",
      "Topic #305: zero finally freeze free flawlessly flat fix fit fine feel factory faulty father fast far family fallen fake freezing friend frustrated fully good gold going glitchy glitch glass glad given gift getting generic gave garbage functioning function fairly fact gotten drain easy easily earphone dying dy durable drop doubt facing\n",
      "Topic #306: zero finally freeze free flawlessly flat fix fit fine feel factory faulty father fast far family fallen fake freezing friend frustrated fully good gold going glitchy glitch glass glad given gift getting generic gave garbage functioning function fairly fact gotten drain easy easily earphone dying dy durable drop doubt facing\n",
      "Topic #307: zero finally freeze free flawlessly flat fix fit fine feel factory faulty father fast far family fallen fake freezing friend frustrated fully good gold going glitchy glitch glass glad given gift getting generic gave garbage functioning function fairly fact gotten drain easy easily earphone dying dy durable drop doubt facing\n",
      "Topic #308: zero finally freeze free flawlessly flat fix fit fine feel factory faulty father fast far family fallen fake freezing friend frustrated fully good gold going glitchy glitch glass glad given gift getting generic gave garbage functioning function fairly fact gotten drain easy easily earphone dying dy durable drop doubt facing\n",
      "Topic #309: zero finally freeze free flawlessly flat fix fit fine feel factory faulty father fast far family fallen fake freezing friend frustrated fully good gold going glitchy glitch glass glad given gift getting generic gave garbage functioning function fairly fact gotten drain easy easily earphone dying dy durable drop doubt facing\n",
      "Topic #310: zero finally freeze free flawlessly flat fix fit fine feel factory faulty father fast far family fallen fake freezing friend frustrated fully good gold going glitchy glitch glass glad given gift getting generic gave garbage functioning function fairly fact gotten drain easy easily earphone dying dy durable drop doubt facing\n",
      "Topic #311: zero finally freeze free flawlessly flat fix fit fine feel factory faulty father fast far family fallen fake freezing friend frustrated fully good gold going glitchy glitch glass glad given gift getting generic gave garbage functioning function fairly fact gotten drain easy easily earphone dying dy durable drop doubt facing\n",
      "Topic #312: zero finally freeze free flawlessly flat fix fit fine feel factory faulty father fast far family fallen fake freezing friend frustrated fully good gold going glitchy glitch glass glad given gift getting generic gave garbage functioning function fairly fact gotten drain easy easily earphone dying dy durable drop doubt facing\n",
      "Topic #313: zero finally freeze free flawlessly flat fix fit fine feel factory faulty father fast far family fallen fake freezing friend frustrated fully good gold going glitchy glitch glass glad given gift getting generic gave garbage functioning function fairly fact gotten drain easy easily earphone dying dy durable drop doubt facing\n",
      "Topic #314: zero finally freeze free flawlessly flat fix fit fine feel factory faulty father fast far family fallen fake freezing friend frustrated fully good gold going glitchy glitch glass glad given gift getting generic gave garbage functioning function fairly fact gotten drain easy easily earphone dying dy durable drop doubt facing\n",
      "Topic #315: zero finally freeze free flawlessly flat fix fit fine feel factory faulty father fast far family fallen fake freezing friend frustrated fully good gold going glitchy glitch glass glad given gift getting generic gave garbage functioning function fairly fact gotten drain easy easily earphone dying dy durable drop doubt facing\n",
      "Topic #316: zero finally freeze free flawlessly flat fix fit fine feel factory faulty father fast far family fallen fake freezing friend frustrated fully good gold going glitchy glitch glass glad given gift getting generic gave garbage functioning function fairly fact gotten drain easy easily earphone dying dy durable drop doubt facing\n",
      "Topic #317: zero finally freeze free flawlessly flat fix fit fine feel factory faulty father fast far family fallen fake freezing friend frustrated fully good gold going glitchy glitch glass glad given gift getting generic gave garbage functioning function fairly fact gotten drain easy easily earphone dying dy durable drop doubt facing\n",
      "Topic #318: zero finally freeze free flawlessly flat fix fit fine feel factory faulty father fast far family fallen fake freezing friend frustrated fully good gold going glitchy glitch glass glad given gift getting generic gave garbage functioning function fairly fact gotten drain easy easily earphone dying dy durable drop doubt facing\n",
      "Topic #319: zero finally freeze free flawlessly flat fix fit fine feel factory faulty father fast far family fallen fake freezing friend frustrated fully good gold going glitchy glitch glass glad given gift getting generic gave garbage functioning function fairly fact gotten drain easy easily earphone dying dy durable drop doubt facing\n",
      "Topic #320: zero finally freeze free flawlessly flat fix fit fine feel factory faulty father fast far family fallen fake freezing friend frustrated fully good gold going glitchy glitch glass glad given gift getting generic gave garbage functioning function fairly fact gotten drain easy easily earphone dying dy durable drop doubt facing\n",
      "Topic #321: zero finally freeze free flawlessly flat fix fit fine feel factory faulty father fast far family fallen fake freezing friend frustrated fully good gold going glitchy glitch glass glad given gift getting generic gave garbage functioning function fairly fact gotten drain easy easily earphone dying dy durable drop doubt facing\n",
      "Topic #322: zero finally freeze free flawlessly flat fix fit fine feel factory faulty father fast far family fallen fake freezing friend frustrated fully good gold going glitchy glitch glass glad given gift getting generic gave garbage functioning function fairly fact gotten drain easy easily earphone dying dy durable drop doubt facing\n",
      "Topic #323: zero finally freeze free flawlessly flat fix fit fine feel factory faulty father fast far family fallen fake freezing friend frustrated fully good gold going glitchy glitch glass glad given gift getting generic gave garbage functioning function fairly fact gotten drain easy easily earphone dying dy durable drop doubt facing\n",
      "Topic #324: zero finally freeze free flawlessly flat fix fit fine feel factory faulty father fast far family fallen fake freezing friend frustrated fully good gold going glitchy glitch glass glad given gift getting generic gave garbage functioning function fairly fact gotten drain easy easily earphone dying dy durable drop doubt facing\n",
      "Topic #325: zero finally freeze free flawlessly flat fix fit fine feel factory faulty father fast far family fallen fake freezing friend frustrated fully good gold going glitchy glitch glass glad given gift getting generic gave garbage functioning function fairly fact gotten drain easy easily earphone dying dy durable drop doubt facing\n",
      "Topic #326: zero finally freeze free flawlessly flat fix fit fine feel factory faulty father fast far family fallen fake freezing friend frustrated fully good gold going glitchy glitch glass glad given gift getting generic gave garbage functioning function fairly fact gotten drain easy easily earphone dying dy durable drop doubt facing\n",
      "Topic #327: zero finally freeze free flawlessly flat fix fit fine feel factory faulty father fast far family fallen fake freezing friend frustrated fully good gold going glitchy glitch glass glad given gift getting generic gave garbage functioning function fairly fact gotten drain easy easily earphone dying dy durable drop doubt facing\n",
      "Topic #328: zero finally freeze free flawlessly flat fix fit fine feel factory faulty father fast far family fallen fake freezing friend frustrated fully good gold going glitchy glitch glass glad given gift getting generic gave garbage functioning function fairly fact gotten drain easy easily earphone dying dy durable drop doubt facing\n",
      "Topic #329: zero finally freeze free flawlessly flat fix fit fine feel factory faulty father fast far family fallen fake freezing friend frustrated fully good gold going glitchy glitch glass glad given gift getting generic gave garbage functioning function fairly fact gotten drain easy easily earphone dying dy durable drop doubt facing\n",
      "Topic #330: zero finally freeze free flawlessly flat fix fit fine feel factory faulty father fast far family fallen fake freezing friend frustrated fully good gold going glitchy glitch glass glad given gift getting generic gave garbage functioning function fairly fact gotten drain easy easily earphone dying dy durable drop doubt facing\n",
      "Topic #331: zero finally freeze free flawlessly flat fix fit fine feel factory faulty father fast far family fallen fake freezing friend frustrated fully good gold going glitchy glitch glass glad given gift getting generic gave garbage functioning function fairly fact gotten drain easy easily earphone dying dy durable drop doubt facing\n",
      "Topic #332: zero finally freeze free flawlessly flat fix fit fine feel factory faulty father fast far family fallen fake freezing friend frustrated fully good gold going glitchy glitch glass glad given gift getting generic gave garbage functioning function fairly fact gotten drain easy easily earphone dying dy durable drop doubt facing\n",
      "Topic #333: zero finally freeze free flawlessly flat fix fit fine feel factory faulty father fast far family fallen fake freezing friend frustrated fully good gold going glitchy glitch glass glad given gift getting generic gave garbage functioning function fairly fact gotten drain easy easily earphone dying dy durable drop doubt facing\n",
      "Topic #334: zero finally freeze free flawlessly flat fix fit fine feel factory faulty father fast far family fallen fake freezing friend frustrated fully good gold going glitchy glitch glass glad given gift getting generic gave garbage functioning function fairly fact gotten drain easy easily earphone dying dy durable drop doubt facing\n",
      "Topic #335: zero finally freeze free flawlessly flat fix fit fine feel factory faulty father fast far family fallen fake freezing friend frustrated fully good gold going glitchy glitch glass glad given gift getting generic gave garbage functioning function fairly fact gotten drain easy easily earphone dying dy durable drop doubt facing\n",
      "Topic #336: zero finally freeze free flawlessly flat fix fit fine feel factory faulty father fast far family fallen fake freezing friend frustrated fully good gold going glitchy glitch glass glad given gift getting generic gave garbage functioning function fairly fact gotten drain easy easily earphone dying dy durable drop doubt facing\n",
      "Topic #337: zero finally freeze free flawlessly flat fix fit fine feel factory faulty father fast far family fallen fake freezing friend frustrated fully good gold going glitchy glitch glass glad given gift getting generic gave garbage functioning function fairly fact gotten drain easy easily earphone dying dy durable drop doubt facing\n",
      "Topic #338: zero finally freeze free flawlessly flat fix fit fine feel factory faulty father fast far family fallen fake freezing friend frustrated fully good gold going glitchy glitch glass glad given gift getting generic gave garbage functioning function fairly fact gotten drain easy easily earphone dying dy durable drop doubt facing\n",
      "Topic #339: zero finally freeze free flawlessly flat fix fit fine feel factory faulty father fast far family fallen fake freezing friend frustrated fully good gold going glitchy glitch glass glad given gift getting generic gave garbage functioning function fairly fact gotten drain easy easily earphone dying dy durable drop doubt facing\n",
      "Topic #340: zero finally freeze free flawlessly flat fix fit fine feel factory faulty father fast far family fallen fake freezing friend frustrated fully good gold going glitchy glitch glass glad given gift getting generic gave garbage functioning function fairly fact gotten drain easy easily earphone dying dy durable drop doubt facing\n",
      "Topic #341: zero finally freeze free flawlessly flat fix fit fine feel factory faulty father fast far family fallen fake freezing friend frustrated fully good gold going glitchy glitch glass glad given gift getting generic gave garbage functioning function fairly fact gotten drain easy easily earphone dying dy durable drop doubt facing\n",
      "Topic #342: zero finally freeze free flawlessly flat fix fit fine feel factory faulty father fast far family fallen fake freezing friend frustrated fully good gold going glitchy glitch glass glad given gift getting generic gave garbage functioning function fairly fact gotten drain easy easily earphone dying dy durable drop doubt facing\n",
      "Topic #343: zero finally freeze free flawlessly flat fix fit fine feel factory faulty father fast far family fallen fake freezing friend frustrated fully good gold going glitchy glitch glass glad given gift getting generic gave garbage functioning function fairly fact gotten drain easy easily earphone dying dy durable drop doubt facing\n",
      "Topic #344: zero finally freeze free flawlessly flat fix fit fine feel factory faulty father fast far family fallen fake freezing friend frustrated fully good gold going glitchy glitch glass glad given gift getting generic gave garbage functioning function fairly fact gotten drain easy easily earphone dying dy durable drop doubt facing\n",
      "Topic #345: zero finally freeze free flawlessly flat fix fit fine feel factory faulty father fast far family fallen fake freezing friend frustrated fully good gold going glitchy glitch glass glad given gift getting generic gave garbage functioning function fairly fact gotten drain easy easily earphone dying dy durable drop doubt facing\n",
      "Topic #346: zero finally freeze free flawlessly flat fix fit fine feel factory faulty father fast far family fallen fake freezing friend frustrated fully good gold going glitchy glitch glass glad given gift getting generic gave garbage functioning function fairly fact gotten drain easy easily earphone dying dy durable drop doubt facing\n",
      "Topic #347: zero finally freeze free flawlessly flat fix fit fine feel factory faulty father fast far family fallen fake freezing friend frustrated fully good gold going glitchy glitch glass glad given gift getting generic gave garbage functioning function fairly fact gotten drain easy easily earphone dying dy durable drop doubt facing\n",
      "Topic #348: zero finally freeze free flawlessly flat fix fit fine feel factory faulty father fast far family fallen fake freezing friend frustrated fully good gold going glitchy glitch glass glad given gift getting generic gave garbage functioning function fairly fact gotten drain easy easily earphone dying dy durable drop doubt facing\n",
      "Topic #349: zero finally freeze free flawlessly flat fix fit fine feel factory faulty father fast far family fallen fake freezing friend frustrated fully good gold going glitchy glitch glass glad given gift getting generic gave garbage functioning function fairly fact gotten drain easy easily earphone dying dy durable drop doubt facing\n",
      "Topic #350: zero finally freeze free flawlessly flat fix fit fine feel factory faulty father fast far family fallen fake freezing friend frustrated fully good gold going glitchy glitch glass glad given gift getting generic gave garbage functioning function fairly fact gotten drain easy easily earphone dying dy durable drop doubt facing\n",
      "Topic #351: zero finally freeze free flawlessly flat fix fit fine feel factory faulty father fast far family fallen fake freezing friend frustrated fully good gold going glitchy glitch glass glad given gift getting generic gave garbage functioning function fairly fact gotten drain easy easily earphone dying dy durable drop doubt facing\n",
      "Topic #352: zero finally freeze free flawlessly flat fix fit fine feel factory faulty father fast far family fallen fake freezing friend frustrated fully good gold going glitchy glitch glass glad given gift getting generic gave garbage functioning function fairly fact gotten drain easy easily earphone dying dy durable drop doubt facing\n",
      "Topic #353: zero finally freeze free flawlessly flat fix fit fine feel factory faulty father fast far family fallen fake freezing friend frustrated fully good gold going glitchy glitch glass glad given gift getting generic gave garbage functioning function fairly fact gotten drain easy easily earphone dying dy durable drop doubt facing\n",
      "Topic #354: zero finally freeze free flawlessly flat fix fit fine feel factory faulty father fast far family fallen fake freezing friend frustrated fully good gold going glitchy glitch glass glad given gift getting generic gave garbage functioning function fairly fact gotten drain easy easily earphone dying dy durable drop doubt facing\n",
      "Topic #355: zero finally freeze free flawlessly flat fix fit fine feel factory faulty father fast far family fallen fake freezing friend frustrated fully good gold going glitchy glitch glass glad given gift getting generic gave garbage functioning function fairly fact gotten drain easy easily earphone dying dy durable drop doubt facing\n",
      "Topic #356: zero finally freeze free flawlessly flat fix fit fine feel factory faulty father fast far family fallen fake freezing friend frustrated fully good gold going glitchy glitch glass glad given gift getting generic gave garbage functioning function fairly fact gotten drain easy easily earphone dying dy durable drop doubt facing\n",
      "Topic #357: zero finally freeze free flawlessly flat fix fit fine feel factory faulty father fast far family fallen fake freezing friend frustrated fully good gold going glitchy glitch glass glad given gift getting generic gave garbage functioning function fairly fact gotten drain easy easily earphone dying dy durable drop doubt facing\n",
      "Topic #358: zero finally freeze free flawlessly flat fix fit fine feel factory faulty father fast far family fallen fake freezing friend frustrated fully good gold going glitchy glitch glass glad given gift getting generic gave garbage functioning function fairly fact gotten drain easy easily earphone dying dy durable drop doubt facing\n",
      "Topic #359: zero finally freeze free flawlessly flat fix fit fine feel factory faulty father fast far family fallen fake freezing friend frustrated fully good gold going glitchy glitch glass glad given gift getting generic gave garbage functioning function fairly fact gotten drain easy easily earphone dying dy durable drop doubt facing\n",
      "Topic #360: zero finally freeze free flawlessly flat fix fit fine feel factory faulty father fast far family fallen fake freezing friend frustrated fully good gold going glitchy glitch glass glad given gift getting generic gave garbage functioning function fairly fact gotten drain easy easily earphone dying dy durable drop doubt facing\n",
      "Topic #361: zero finally freeze free flawlessly flat fix fit fine feel factory faulty father fast far family fallen fake freezing friend frustrated fully good gold going glitchy glitch glass glad given gift getting generic gave garbage functioning function fairly fact gotten drain easy easily earphone dying dy durable drop doubt facing\n",
      "Topic #362: zero finally freeze free flawlessly flat fix fit fine feel factory faulty father fast far family fallen fake freezing friend frustrated fully good gold going glitchy glitch glass glad given gift getting generic gave garbage functioning function fairly fact gotten drain easy easily earphone dying dy durable drop doubt facing\n",
      "Topic #363: zero finally freeze free flawlessly flat fix fit fine feel factory faulty father fast far family fallen fake freezing friend frustrated fully good gold going glitchy glitch glass glad given gift getting generic gave garbage functioning function fairly fact gotten drain easy easily earphone dying dy durable drop doubt facing\n",
      "Topic #364: zero finally freeze free flawlessly flat fix fit fine feel factory faulty father fast far family fallen fake freezing friend frustrated fully good gold going glitchy glitch glass glad given gift getting generic gave garbage functioning function fairly fact gotten drain easy easily earphone dying dy durable drop doubt facing\n",
      "Topic #365: zero finally freeze free flawlessly flat fix fit fine feel factory faulty father fast far family fallen fake freezing friend frustrated fully good gold going glitchy glitch glass glad given gift getting generic gave garbage functioning function fairly fact gotten drain easy easily earphone dying dy durable drop doubt facing\n",
      "Topic #366: zero finally freeze free flawlessly flat fix fit fine feel factory faulty father fast far family fallen fake freezing friend frustrated fully good gold going glitchy glitch glass glad given gift getting generic gave garbage functioning function fairly fact gotten drain easy easily earphone dying dy durable drop doubt facing\n",
      "Topic #367: zero finally freeze free flawlessly flat fix fit fine feel factory faulty father fast far family fallen fake freezing friend frustrated fully good gold going glitchy glitch glass glad given gift getting generic gave garbage functioning function fairly fact gotten drain easy easily earphone dying dy durable drop doubt facing\n",
      "Topic #368: zero finally freeze free flawlessly flat fix fit fine feel factory faulty father fast far family fallen fake freezing friend frustrated fully good gold going glitchy glitch glass glad given gift getting generic gave garbage functioning function fairly fact gotten drain easy easily earphone dying dy durable drop doubt facing\n",
      "Topic #369: zero finally freeze free flawlessly flat fix fit fine feel factory faulty father fast far family fallen fake freezing friend frustrated fully good gold going glitchy glitch glass glad given gift getting generic gave garbage functioning function fairly fact gotten drain easy easily earphone dying dy durable drop doubt facing\n",
      "Topic #370: zero finally freeze free flawlessly flat fix fit fine feel factory faulty father fast far family fallen fake freezing friend frustrated fully good gold going glitchy glitch glass glad given gift getting generic gave garbage functioning function fairly fact gotten drain easy easily earphone dying dy durable drop doubt facing\n",
      "Topic #371: zero finally freeze free flawlessly flat fix fit fine feel factory faulty father fast far family fallen fake freezing friend frustrated fully good gold going glitchy glitch glass glad given gift getting generic gave garbage functioning function fairly fact gotten drain easy easily earphone dying dy durable drop doubt facing\n",
      "Topic #372: zero finally freeze free flawlessly flat fix fit fine feel factory faulty father fast far family fallen fake freezing friend frustrated fully good gold going glitchy glitch glass glad given gift getting generic gave garbage functioning function fairly fact gotten drain easy easily earphone dying dy durable drop doubt facing\n",
      "Topic #373: zero finally freeze free flawlessly flat fix fit fine feel factory faulty father fast far family fallen fake freezing friend frustrated fully good gold going glitchy glitch glass glad given gift getting generic gave garbage functioning function fairly fact gotten drain easy easily earphone dying dy durable drop doubt facing\n",
      "Topic #374: zero finally freeze free flawlessly flat fix fit fine feel factory faulty father fast far family fallen fake freezing friend frustrated fully good gold going glitchy glitch glass glad given gift getting generic gave garbage functioning function fairly fact gotten drain easy easily earphone dying dy durable drop doubt facing\n",
      "Topic #375: zero finally freeze free flawlessly flat fix fit fine feel factory faulty father fast far family fallen fake freezing friend frustrated fully good gold going glitchy glitch glass glad given gift getting generic gave garbage functioning function fairly fact gotten drain easy easily earphone dying dy durable drop doubt facing\n",
      "Topic #376: zero finally freeze free flawlessly flat fix fit fine feel factory faulty father fast far family fallen fake freezing friend frustrated fully good gold going glitchy glitch glass glad given gift getting generic gave garbage functioning function fairly fact gotten drain easy easily earphone dying dy durable drop doubt facing\n",
      "Topic #377: zero finally freeze free flawlessly flat fix fit fine feel factory faulty father fast far family fallen fake freezing friend frustrated fully good gold going glitchy glitch glass glad given gift getting generic gave garbage functioning function fairly fact gotten drain easy easily earphone dying dy durable drop doubt facing\n",
      "Topic #378: zero finally freeze free flawlessly flat fix fit fine feel factory faulty father fast far family fallen fake freezing friend frustrated fully good gold going glitchy glitch glass glad given gift getting generic gave garbage functioning function fairly fact gotten drain easy easily earphone dying dy durable drop doubt facing\n",
      "Topic #379: zero finally freeze free flawlessly flat fix fit fine feel factory faulty father fast far family fallen fake freezing friend frustrated fully good gold going glitchy glitch glass glad given gift getting generic gave garbage functioning function fairly fact gotten drain easy easily earphone dying dy durable drop doubt facing\n",
      "Topic #380: zero finally freeze free flawlessly flat fix fit fine feel factory faulty father fast far family fallen fake freezing friend frustrated fully good gold going glitchy glitch glass glad given gift getting generic gave garbage functioning function fairly fact gotten drain easy easily earphone dying dy durable drop doubt facing\n",
      "Topic #381: zero finally freeze free flawlessly flat fix fit fine feel factory faulty father fast far family fallen fake freezing friend frustrated fully good gold going glitchy glitch glass glad given gift getting generic gave garbage functioning function fairly fact gotten drain easy easily earphone dying dy durable drop doubt facing\n",
      "Topic #382: zero finally freeze free flawlessly flat fix fit fine feel factory faulty father fast far family fallen fake freezing friend frustrated fully good gold going glitchy glitch glass glad given gift getting generic gave garbage functioning function fairly fact gotten drain easy easily earphone dying dy durable drop doubt facing\n",
      "Topic #383: zero finally freeze free flawlessly flat fix fit fine feel factory faulty father fast far family fallen fake freezing friend frustrated fully good gold going glitchy glitch glass glad given gift getting generic gave garbage functioning function fairly fact gotten drain easy easily earphone dying dy durable drop doubt facing\n",
      "Topic #384: zero finally freeze free flawlessly flat fix fit fine feel factory faulty father fast far family fallen fake freezing friend frustrated fully good gold going glitchy glitch glass glad given gift getting generic gave garbage functioning function fairly fact gotten drain easy easily earphone dying dy durable drop doubt facing\n",
      "Topic #385: zero finally freeze free flawlessly flat fix fit fine feel factory faulty father fast far family fallen fake freezing friend frustrated fully good gold going glitchy glitch glass glad given gift getting generic gave garbage functioning function fairly fact gotten drain easy easily earphone dying dy durable drop doubt facing\n",
      "Topic #386: zero finally freeze free flawlessly flat fix fit fine feel factory faulty father fast far family fallen fake freezing friend frustrated fully good gold going glitchy glitch glass glad given gift getting generic gave garbage functioning function fairly fact gotten drain easy easily earphone dying dy durable drop doubt facing\n",
      "Topic #387: zero finally freeze free flawlessly flat fix fit fine feel factory faulty father fast far family fallen fake freezing friend frustrated fully good gold going glitchy glitch glass glad given gift getting generic gave garbage functioning function fairly fact gotten drain easy easily earphone dying dy durable drop doubt facing\n",
      "Topic #388: zero finally freeze free flawlessly flat fix fit fine feel factory faulty father fast far family fallen fake freezing friend frustrated fully good gold going glitchy glitch glass glad given gift getting generic gave garbage functioning function fairly fact gotten drain easy easily earphone dying dy durable drop doubt facing\n",
      "Topic #389: zero finally freeze free flawlessly flat fix fit fine feel factory faulty father fast far family fallen fake freezing friend frustrated fully good gold going glitchy glitch glass glad given gift getting generic gave garbage functioning function fairly fact gotten drain easy easily earphone dying dy durable drop doubt facing\n",
      "Topic #390: zero finally freeze free flawlessly flat fix fit fine feel factory faulty father fast far family fallen fake freezing friend frustrated fully good gold going glitchy glitch glass glad given gift getting generic gave garbage functioning function fairly fact gotten drain easy easily earphone dying dy durable drop doubt facing\n",
      "Topic #391: zero finally freeze free flawlessly flat fix fit fine feel factory faulty father fast far family fallen fake freezing friend frustrated fully good gold going glitchy glitch glass glad given gift getting generic gave garbage functioning function fairly fact gotten drain easy easily earphone dying dy durable drop doubt facing\n",
      "Topic #392: zero finally freeze free flawlessly flat fix fit fine feel factory faulty father fast far family fallen fake freezing friend frustrated fully good gold going glitchy glitch glass glad given gift getting generic gave garbage functioning function fairly fact gotten drain easy easily earphone dying dy durable drop doubt facing\n",
      "Topic #393: zero finally freeze free flawlessly flat fix fit fine feel factory faulty father fast far family fallen fake freezing friend frustrated fully good gold going glitchy glitch glass glad given gift getting generic gave garbage functioning function fairly fact gotten drain easy easily earphone dying dy durable drop doubt facing\n",
      "Topic #394: zero finally freeze free flawlessly flat fix fit fine feel factory faulty father fast far family fallen fake freezing friend frustrated fully good gold going glitchy glitch glass glad given gift getting generic gave garbage functioning function fairly fact gotten drain easy easily earphone dying dy durable drop doubt facing\n",
      "Topic #395: zero finally freeze free flawlessly flat fix fit fine feel factory faulty father fast far family fallen fake freezing friend frustrated fully good gold going glitchy glitch glass glad given gift getting generic gave garbage functioning function fairly fact gotten drain easy easily earphone dying dy durable drop doubt facing\n",
      "Topic #396: zero finally freeze free flawlessly flat fix fit fine feel factory faulty father fast far family fallen fake freezing friend frustrated fully good gold going glitchy glitch glass glad given gift getting generic gave garbage functioning function fairly fact gotten drain easy easily earphone dying dy durable drop doubt facing\n",
      "Topic #397: zero finally freeze free flawlessly flat fix fit fine feel factory faulty father fast far family fallen fake freezing friend frustrated fully good gold going glitchy glitch glass glad given gift getting generic gave garbage functioning function fairly fact gotten drain easy easily earphone dying dy durable drop doubt facing\n",
      "Topic #398: zero finally freeze free flawlessly flat fix fit fine feel factory faulty father fast far family fallen fake freezing friend frustrated fully good gold going glitchy glitch glass glad given gift getting generic gave garbage functioning function fairly fact gotten drain easy easily earphone dying dy durable drop doubt facing\n",
      "Topic #399: zero finally freeze free flawlessly flat fix fit fine feel factory faulty father fast far family fallen fake freezing friend frustrated fully good gold going glitchy glitch glass glad given gift getting generic gave garbage functioning function fairly fact gotten drain easy easily earphone dying dy durable drop doubt facing\n",
      "Topic #400: zero finally freeze free flawlessly flat fix fit fine feel factory faulty father fast far family fallen fake freezing friend frustrated fully good gold going glitchy glitch glass glad given gift getting generic gave garbage functioning function fairly fact gotten drain easy easily earphone dying dy durable drop doubt facing\n",
      "Topic #401: zero finally freeze free flawlessly flat fix fit fine feel factory faulty father fast far family fallen fake freezing friend frustrated fully good gold going glitchy glitch glass glad given gift getting generic gave garbage functioning function fairly fact gotten drain easy easily earphone dying dy durable drop doubt facing\n",
      "Topic #402: zero finally freeze free flawlessly flat fix fit fine feel factory faulty father fast far family fallen fake freezing friend frustrated fully good gold going glitchy glitch glass glad given gift getting generic gave garbage functioning function fairly fact gotten drain easy easily earphone dying dy durable drop doubt facing\n",
      "Topic #403: zero finally freeze free flawlessly flat fix fit fine feel factory faulty father fast far family fallen fake freezing friend frustrated fully good gold going glitchy glitch glass glad given gift getting generic gave garbage functioning function fairly fact gotten drain easy easily earphone dying dy durable drop doubt facing\n",
      "Topic #404: zero finally freeze free flawlessly flat fix fit fine feel factory faulty father fast far family fallen fake freezing friend frustrated fully good gold going glitchy glitch glass glad given gift getting generic gave garbage functioning function fairly fact gotten drain easy easily earphone dying dy durable drop doubt facing\n",
      "Topic #405: zero finally freeze free flawlessly flat fix fit fine feel factory faulty father fast far family fallen fake freezing friend frustrated fully good gold going glitchy glitch glass glad given gift getting generic gave garbage functioning function fairly fact gotten drain easy easily earphone dying dy durable drop doubt facing\n",
      "Topic #406: zero finally freeze free flawlessly flat fix fit fine feel factory faulty father fast far family fallen fake freezing friend frustrated fully good gold going glitchy glitch glass glad given gift getting generic gave garbage functioning function fairly fact gotten drain easy easily earphone dying dy durable drop doubt facing\n",
      "Topic #407: zero finally freeze free flawlessly flat fix fit fine feel factory faulty father fast far family fallen fake freezing friend frustrated fully good gold going glitchy glitch glass glad given gift getting generic gave garbage functioning function fairly fact gotten drain easy easily earphone dying dy durable drop doubt facing\n",
      "Topic #408: zero finally freeze free flawlessly flat fix fit fine feel factory faulty father fast far family fallen fake freezing friend frustrated fully good gold going glitchy glitch glass glad given gift getting generic gave garbage functioning function fairly fact gotten drain easy easily earphone dying dy durable drop doubt facing\n",
      "Topic #409: zero finally freeze free flawlessly flat fix fit fine feel factory faulty father fast far family fallen fake freezing friend frustrated fully good gold going glitchy glitch glass glad given gift getting generic gave garbage functioning function fairly fact gotten drain easy easily earphone dying dy durable drop doubt facing\n",
      "Topic #410: zero finally freeze free flawlessly flat fix fit fine feel factory faulty father fast far family fallen fake freezing friend frustrated fully good gold going glitchy glitch glass glad given gift getting generic gave garbage functioning function fairly fact gotten drain easy easily earphone dying dy durable drop doubt facing\n",
      "Topic #411: zero finally freeze free flawlessly flat fix fit fine feel factory faulty father fast far family fallen fake freezing friend frustrated fully good gold going glitchy glitch glass glad given gift getting generic gave garbage functioning function fairly fact gotten drain easy easily earphone dying dy durable drop doubt facing\n",
      "Topic #412: zero finally freeze free flawlessly flat fix fit fine feel factory faulty father fast far family fallen fake freezing friend frustrated fully good gold going glitchy glitch glass glad given gift getting generic gave garbage functioning function fairly fact gotten drain easy easily earphone dying dy durable drop doubt facing\n",
      "Topic #413: zero finally freeze free flawlessly flat fix fit fine feel factory faulty father fast far family fallen fake freezing friend frustrated fully good gold going glitchy glitch glass glad given gift getting generic gave garbage functioning function fairly fact gotten drain easy easily earphone dying dy durable drop doubt facing\n",
      "Topic #414: zero finally freeze free flawlessly flat fix fit fine feel factory faulty father fast far family fallen fake freezing friend frustrated fully good gold going glitchy glitch glass glad given gift getting generic gave garbage functioning function fairly fact gotten drain easy easily earphone dying dy durable drop doubt facing\n",
      "Topic #415: zero finally freeze free flawlessly flat fix fit fine feel factory faulty father fast far family fallen fake freezing friend frustrated fully good gold going glitchy glitch glass glad given gift getting generic gave garbage functioning function fairly fact gotten drain easy easily earphone dying dy durable drop doubt facing\n",
      "Topic #416: zero finally freeze free flawlessly flat fix fit fine feel factory faulty father fast far family fallen fake freezing friend frustrated fully good gold going glitchy glitch glass glad given gift getting generic gave garbage functioning function fairly fact gotten drain easy easily earphone dying dy durable drop doubt facing\n",
      "Topic #417: zero finally freeze free flawlessly flat fix fit fine feel factory faulty father fast far family fallen fake freezing friend frustrated fully good gold going glitchy glitch glass glad given gift getting generic gave garbage functioning function fairly fact gotten drain easy easily earphone dying dy durable drop doubt facing\n",
      "Topic #418: zero finally freeze free flawlessly flat fix fit fine feel factory faulty father fast far family fallen fake freezing friend frustrated fully good gold going glitchy glitch glass glad given gift getting generic gave garbage functioning function fairly fact gotten drain easy easily earphone dying dy durable drop doubt facing\n",
      "Topic #419: zero finally freeze free flawlessly flat fix fit fine feel factory faulty father fast far family fallen fake freezing friend frustrated fully good gold going glitchy glitch glass glad given gift getting generic gave garbage functioning function fairly fact gotten drain easy easily earphone dying dy durable drop doubt facing\n",
      "Topic #420: zero finally freeze free flawlessly flat fix fit fine feel factory faulty father fast far family fallen fake freezing friend frustrated fully good gold going glitchy glitch glass glad given gift getting generic gave garbage functioning function fairly fact gotten drain easy easily earphone dying dy durable drop doubt facing\n",
      "Topic #421: zero finally freeze free flawlessly flat fix fit fine feel factory faulty father fast far family fallen fake freezing friend frustrated fully good gold going glitchy glitch glass glad given gift getting generic gave garbage functioning function fairly fact gotten drain easy easily earphone dying dy durable drop doubt facing\n",
      "Topic #422: zero finally freeze free flawlessly flat fix fit fine feel factory faulty father fast far family fallen fake freezing friend frustrated fully good gold going glitchy glitch glass glad given gift getting generic gave garbage functioning function fairly fact gotten drain easy easily earphone dying dy durable drop doubt facing\n",
      "Topic #423: zero finally freeze free flawlessly flat fix fit fine feel factory faulty father fast far family fallen fake freezing friend frustrated fully good gold going glitchy glitch glass glad given gift getting generic gave garbage functioning function fairly fact gotten drain easy easily earphone dying dy durable drop doubt facing\n",
      "Topic #424: zero finally freeze free flawlessly flat fix fit fine feel factory faulty father fast far family fallen fake freezing friend frustrated fully good gold going glitchy glitch glass glad given gift getting generic gave garbage functioning function fairly fact gotten drain easy easily earphone dying dy durable drop doubt facing\n",
      "Topic #425: zero finally freeze free flawlessly flat fix fit fine feel factory faulty father fast far family fallen fake freezing friend frustrated fully good gold going glitchy glitch glass glad given gift getting generic gave garbage functioning function fairly fact gotten drain easy easily earphone dying dy durable drop doubt facing\n",
      "Topic #426: zero finally freeze free flawlessly flat fix fit fine feel factory faulty father fast far family fallen fake freezing friend frustrated fully good gold going glitchy glitch glass glad given gift getting generic gave garbage functioning function fairly fact gotten drain easy easily earphone dying dy durable drop doubt facing\n",
      "Topic #427: zero finally freeze free flawlessly flat fix fit fine feel factory faulty father fast far family fallen fake freezing friend frustrated fully good gold going glitchy glitch glass glad given gift getting generic gave garbage functioning function fairly fact gotten drain easy easily earphone dying dy durable drop doubt facing\n",
      "Topic #428: zero finally freeze free flawlessly flat fix fit fine feel factory faulty father fast far family fallen fake freezing friend frustrated fully good gold going glitchy glitch glass glad given gift getting generic gave garbage functioning function fairly fact gotten drain easy easily earphone dying dy durable drop doubt facing\n",
      "Topic #429: zero finally freeze free flawlessly flat fix fit fine feel factory faulty father fast far family fallen fake freezing friend frustrated fully good gold going glitchy glitch glass glad given gift getting generic gave garbage functioning function fairly fact gotten drain easy easily earphone dying dy durable drop doubt facing\n",
      "Topic #430: zero finally freeze free flawlessly flat fix fit fine feel factory faulty father fast far family fallen fake freezing friend frustrated fully good gold going glitchy glitch glass glad given gift getting generic gave garbage functioning function fairly fact gotten drain easy easily earphone dying dy durable drop doubt facing\n",
      "Topic #431: zero finally freeze free flawlessly flat fix fit fine feel factory faulty father fast far family fallen fake freezing friend frustrated fully good gold going glitchy glitch glass glad given gift getting generic gave garbage functioning function fairly fact gotten drain easy easily earphone dying dy durable drop doubt facing\n",
      "Topic #432: zero finally freeze free flawlessly flat fix fit fine feel factory faulty father fast far family fallen fake freezing friend frustrated fully good gold going glitchy glitch glass glad given gift getting generic gave garbage functioning function fairly fact gotten drain easy easily earphone dying dy durable drop doubt facing\n",
      "Topic #433: zero finally freeze free flawlessly flat fix fit fine feel factory faulty father fast far family fallen fake freezing friend frustrated fully good gold going glitchy glitch glass glad given gift getting generic gave garbage functioning function fairly fact gotten drain easy easily earphone dying dy durable drop doubt facing\n",
      "Topic #434: zero finally freeze free flawlessly flat fix fit fine feel factory faulty father fast far family fallen fake freezing friend frustrated fully good gold going glitchy glitch glass glad given gift getting generic gave garbage functioning function fairly fact gotten drain easy easily earphone dying dy durable drop doubt facing\n",
      "Topic #435: zero finally freeze free flawlessly flat fix fit fine feel factory faulty father fast far family fallen fake freezing friend frustrated fully good gold going glitchy glitch glass glad given gift getting generic gave garbage functioning function fairly fact gotten drain easy easily earphone dying dy durable drop doubt facing\n",
      "Topic #436: zero finally freeze free flawlessly flat fix fit fine feel factory faulty father fast far family fallen fake freezing friend frustrated fully good gold going glitchy glitch glass glad given gift getting generic gave garbage functioning function fairly fact gotten drain easy easily earphone dying dy durable drop doubt facing\n",
      "Topic #437: zero finally freeze free flawlessly flat fix fit fine feel factory faulty father fast far family fallen fake freezing friend frustrated fully good gold going glitchy glitch glass glad given gift getting generic gave garbage functioning function fairly fact gotten drain easy easily earphone dying dy durable drop doubt facing\n",
      "Topic #438: zero finally freeze free flawlessly flat fix fit fine feel factory faulty father fast far family fallen fake freezing friend frustrated fully good gold going glitchy glitch glass glad given gift getting generic gave garbage functioning function fairly fact gotten drain easy easily earphone dying dy durable drop doubt facing\n",
      "Topic #439: zero finally freeze free flawlessly flat fix fit fine feel factory faulty father fast far family fallen fake freezing friend frustrated fully good gold going glitchy glitch glass glad given gift getting generic gave garbage functioning function fairly fact gotten drain easy easily earphone dying dy durable drop doubt facing\n",
      "Topic #440: zero finally freeze free flawlessly flat fix fit fine feel factory faulty father fast far family fallen fake freezing friend frustrated fully good gold going glitchy glitch glass glad given gift getting generic gave garbage functioning function fairly fact gotten drain easy easily earphone dying dy durable drop doubt facing\n",
      "Topic #441: zero finally freeze free flawlessly flat fix fit fine feel factory faulty father fast far family fallen fake freezing friend frustrated fully good gold going glitchy glitch glass glad given gift getting generic gave garbage functioning function fairly fact gotten drain easy easily earphone dying dy durable drop doubt facing\n",
      "Topic #442: zero finally freeze free flawlessly flat fix fit fine feel factory faulty father fast far family fallen fake freezing friend frustrated fully good gold going glitchy glitch glass glad given gift getting generic gave garbage functioning function fairly fact gotten drain easy easily earphone dying dy durable drop doubt facing\n",
      "Topic #443: zero finally freeze free flawlessly flat fix fit fine feel factory faulty father fast far family fallen fake freezing friend frustrated fully good gold going glitchy glitch glass glad given gift getting generic gave garbage functioning function fairly fact gotten drain easy easily earphone dying dy durable drop doubt facing\n",
      "Topic #444: zero finally freeze free flawlessly flat fix fit fine feel factory faulty father fast far family fallen fake freezing friend frustrated fully good gold going glitchy glitch glass glad given gift getting generic gave garbage functioning function fairly fact gotten drain easy easily earphone dying dy durable drop doubt facing\n",
      "Topic #445: zero finally freeze free flawlessly flat fix fit fine feel factory faulty father fast far family fallen fake freezing friend frustrated fully good gold going glitchy glitch glass glad given gift getting generic gave garbage functioning function fairly fact gotten drain easy easily earphone dying dy durable drop doubt facing\n",
      "Topic #446: zero finally freeze free flawlessly flat fix fit fine feel factory faulty father fast far family fallen fake freezing friend frustrated fully good gold going glitchy glitch glass glad given gift getting generic gave garbage functioning function fairly fact gotten drain easy easily earphone dying dy durable drop doubt facing\n",
      "Topic #447: zero finally freeze free flawlessly flat fix fit fine feel factory faulty father fast far family fallen fake freezing friend frustrated fully good gold going glitchy glitch glass glad given gift getting generic gave garbage functioning function fairly fact gotten drain easy easily earphone dying dy durable drop doubt facing\n",
      "Topic #448: zero finally freeze free flawlessly flat fix fit fine feel factory faulty father fast far family fallen fake freezing friend frustrated fully good gold going glitchy glitch glass glad given gift getting generic gave garbage functioning function fairly fact gotten drain easy easily earphone dying dy durable drop doubt facing\n",
      "Topic #449: zero finally freeze free flawlessly flat fix fit fine feel factory faulty father fast far family fallen fake freezing friend frustrated fully good gold going glitchy glitch glass glad given gift getting generic gave garbage functioning function fairly fact gotten drain easy easily earphone dying dy durable drop doubt facing\n",
      "Topic #450: zero finally freeze free flawlessly flat fix fit fine feel factory faulty father fast far family fallen fake freezing friend frustrated fully good gold going glitchy glitch glass glad given gift getting generic gave garbage functioning function fairly fact gotten drain easy easily earphone dying dy durable drop doubt facing\n",
      "Topic #451: zero finally freeze free flawlessly flat fix fit fine feel factory faulty father fast far family fallen fake freezing friend frustrated fully good gold going glitchy glitch glass glad given gift getting generic gave garbage functioning function fairly fact gotten drain easy easily earphone dying dy durable drop doubt facing\n",
      "Topic #452: zero finally freeze free flawlessly flat fix fit fine feel factory faulty father fast far family fallen fake freezing friend frustrated fully good gold going glitchy glitch glass glad given gift getting generic gave garbage functioning function fairly fact gotten drain easy easily earphone dying dy durable drop doubt facing\n",
      "Topic #453: zero finally freeze free flawlessly flat fix fit fine feel factory faulty father fast far family fallen fake freezing friend frustrated fully good gold going glitchy glitch glass glad given gift getting generic gave garbage functioning function fairly fact gotten drain easy easily earphone dying dy durable drop doubt facing\n",
      "Topic #454: zero finally freeze free flawlessly flat fix fit fine feel factory faulty father fast far family fallen fake freezing friend frustrated fully good gold going glitchy glitch glass glad given gift getting generic gave garbage functioning function fairly fact gotten drain easy easily earphone dying dy durable drop doubt facing\n",
      "Topic #455: zero finally freeze free flawlessly flat fix fit fine feel factory faulty father fast far family fallen fake freezing friend frustrated fully good gold going glitchy glitch glass glad given gift getting generic gave garbage functioning function fairly fact gotten drain easy easily earphone dying dy durable drop doubt facing\n",
      "Topic #456: zero finally freeze free flawlessly flat fix fit fine feel factory faulty father fast far family fallen fake freezing friend frustrated fully good gold going glitchy glitch glass glad given gift getting generic gave garbage functioning function fairly fact gotten drain easy easily earphone dying dy durable drop doubt facing\n",
      "Topic #457: zero finally freeze free flawlessly flat fix fit fine feel factory faulty father fast far family fallen fake freezing friend frustrated fully good gold going glitchy glitch glass glad given gift getting generic gave garbage functioning function fairly fact gotten drain easy easily earphone dying dy durable drop doubt facing\n",
      "Topic #458: zero finally freeze free flawlessly flat fix fit fine feel factory faulty father fast far family fallen fake freezing friend frustrated fully good gold going glitchy glitch glass glad given gift getting generic gave garbage functioning function fairly fact gotten drain easy easily earphone dying dy durable drop doubt facing\n",
      "Topic #459: zero finally freeze free flawlessly flat fix fit fine feel factory faulty father fast far family fallen fake freezing friend frustrated fully good gold going glitchy glitch glass glad given gift getting generic gave garbage functioning function fairly fact gotten drain easy easily earphone dying dy durable drop doubt facing\n",
      "Topic #460: zero finally freeze free flawlessly flat fix fit fine feel factory faulty father fast far family fallen fake freezing friend frustrated fully good gold going glitchy glitch glass glad given gift getting generic gave garbage functioning function fairly fact gotten drain easy easily earphone dying dy durable drop doubt facing\n",
      "Topic #461: zero finally freeze free flawlessly flat fix fit fine feel factory faulty father fast far family fallen fake freezing friend frustrated fully good gold going glitchy glitch glass glad given gift getting generic gave garbage functioning function fairly fact gotten drain easy easily earphone dying dy durable drop doubt facing\n",
      "Topic #462: zero finally freeze free flawlessly flat fix fit fine feel factory faulty father fast far family fallen fake freezing friend frustrated fully good gold going glitchy glitch glass glad given gift getting generic gave garbage functioning function fairly fact gotten drain easy easily earphone dying dy durable drop doubt facing\n",
      "Topic #463: zero finally freeze free flawlessly flat fix fit fine feel factory faulty father fast far family fallen fake freezing friend frustrated fully good gold going glitchy glitch glass glad given gift getting generic gave garbage functioning function fairly fact gotten drain easy easily earphone dying dy durable drop doubt facing\n",
      "Topic #464: zero finally freeze free flawlessly flat fix fit fine feel factory faulty father fast far family fallen fake freezing friend frustrated fully good gold going glitchy glitch glass glad given gift getting generic gave garbage functioning function fairly fact gotten drain easy easily earphone dying dy durable drop doubt facing\n",
      "Topic #465: zero finally freeze free flawlessly flat fix fit fine feel factory faulty father fast far family fallen fake freezing friend frustrated fully good gold going glitchy glitch glass glad given gift getting generic gave garbage functioning function fairly fact gotten drain easy easily earphone dying dy durable drop doubt facing\n",
      "Topic #466: zero finally freeze free flawlessly flat fix fit fine feel factory faulty father fast far family fallen fake freezing friend frustrated fully good gold going glitchy glitch glass glad given gift getting generic gave garbage functioning function fairly fact gotten drain easy easily earphone dying dy durable drop doubt facing\n",
      "Topic #467: zero finally freeze free flawlessly flat fix fit fine feel factory faulty father fast far family fallen fake freezing friend frustrated fully good gold going glitchy glitch glass glad given gift getting generic gave garbage functioning function fairly fact gotten drain easy easily earphone dying dy durable drop doubt facing\n",
      "Topic #468: zero finally freeze free flawlessly flat fix fit fine feel factory faulty father fast far family fallen fake freezing friend frustrated fully good gold going glitchy glitch glass glad given gift getting generic gave garbage functioning function fairly fact gotten drain easy easily earphone dying dy durable drop doubt facing\n",
      "Topic #469: zero finally freeze free flawlessly flat fix fit fine feel factory faulty father fast far family fallen fake freezing friend frustrated fully good gold going glitchy glitch glass glad given gift getting generic gave garbage functioning function fairly fact gotten drain easy easily earphone dying dy durable drop doubt facing\n",
      "Topic #470: zero finally freeze free flawlessly flat fix fit fine feel factory faulty father fast far family fallen fake freezing friend frustrated fully good gold going glitchy glitch glass glad given gift getting generic gave garbage functioning function fairly fact gotten drain easy easily earphone dying dy durable drop doubt facing\n",
      "Topic #471: zero finally freeze free flawlessly flat fix fit fine feel factory faulty father fast far family fallen fake freezing friend frustrated fully good gold going glitchy glitch glass glad given gift getting generic gave garbage functioning function fairly fact gotten drain easy easily earphone dying dy durable drop doubt facing\n",
      "Topic #472: zero finally freeze free flawlessly flat fix fit fine feel factory faulty father fast far family fallen fake freezing friend frustrated fully good gold going glitchy glitch glass glad given gift getting generic gave garbage functioning function fairly fact gotten drain easy easily earphone dying dy durable drop doubt facing\n",
      "Topic #473: zero finally freeze free flawlessly flat fix fit fine feel factory faulty father fast far family fallen fake freezing friend frustrated fully good gold going glitchy glitch glass glad given gift getting generic gave garbage functioning function fairly fact gotten drain easy easily earphone dying dy durable drop doubt facing\n",
      "Topic #474: zero finally freeze free flawlessly flat fix fit fine feel factory faulty father fast far family fallen fake freezing friend frustrated fully good gold going glitchy glitch glass glad given gift getting generic gave garbage functioning function fairly fact gotten drain easy easily earphone dying dy durable drop doubt facing\n",
      "Topic #475: zero finally freeze free flawlessly flat fix fit fine feel factory faulty father fast far family fallen fake freezing friend frustrated fully good gold going glitchy glitch glass glad given gift getting generic gave garbage functioning function fairly fact gotten drain easy easily earphone dying dy durable drop doubt facing\n",
      "Topic #476: zero finally freeze free flawlessly flat fix fit fine feel factory faulty father fast far family fallen fake freezing friend frustrated fully good gold going glitchy glitch glass glad given gift getting generic gave garbage functioning function fairly fact gotten drain easy easily earphone dying dy durable drop doubt facing\n",
      "Topic #477: zero finally freeze free flawlessly flat fix fit fine feel factory faulty father fast far family fallen fake freezing friend frustrated fully good gold going glitchy glitch glass glad given gift getting generic gave garbage functioning function fairly fact gotten drain easy easily earphone dying dy durable drop doubt facing\n",
      "Topic #478: zero finally freeze free flawlessly flat fix fit fine feel factory faulty father fast far family fallen fake freezing friend frustrated fully good gold going glitchy glitch glass glad given gift getting generic gave garbage functioning function fairly fact gotten drain easy easily earphone dying dy durable drop doubt facing\n",
      "Topic #479: zero finally freeze free flawlessly flat fix fit fine feel factory faulty father fast far family fallen fake freezing friend frustrated fully good gold going glitchy glitch glass glad given gift getting generic gave garbage functioning function fairly fact gotten drain easy easily earphone dying dy durable drop doubt facing\n",
      "Topic #480: zero finally freeze free flawlessly flat fix fit fine feel factory faulty father fast far family fallen fake freezing friend frustrated fully good gold going glitchy glitch glass glad given gift getting generic gave garbage functioning function fairly fact gotten drain easy easily earphone dying dy durable drop doubt facing\n",
      "Topic #481: zero finally freeze free flawlessly flat fix fit fine feel factory faulty father fast far family fallen fake freezing friend frustrated fully good gold going glitchy glitch glass glad given gift getting generic gave garbage functioning function fairly fact gotten drain easy easily earphone dying dy durable drop doubt facing\n",
      "Topic #482: zero finally freeze free flawlessly flat fix fit fine feel factory faulty father fast far family fallen fake freezing friend frustrated fully good gold going glitchy glitch glass glad given gift getting generic gave garbage functioning function fairly fact gotten drain easy easily earphone dying dy durable drop doubt facing\n",
      "Topic #483: zero finally freeze free flawlessly flat fix fit fine feel factory faulty father fast far family fallen fake freezing friend frustrated fully good gold going glitchy glitch glass glad given gift getting generic gave garbage functioning function fairly fact gotten drain easy easily earphone dying dy durable drop doubt facing\n",
      "Topic #484: zero finally freeze free flawlessly flat fix fit fine feel factory faulty father fast far family fallen fake freezing friend frustrated fully good gold going glitchy glitch glass glad given gift getting generic gave garbage functioning function fairly fact gotten drain easy easily earphone dying dy durable drop doubt facing\n",
      "Topic #485: zero finally freeze free flawlessly flat fix fit fine feel factory faulty father fast far family fallen fake freezing friend frustrated fully good gold going glitchy glitch glass glad given gift getting generic gave garbage functioning function fairly fact gotten drain easy easily earphone dying dy durable drop doubt facing\n",
      "Topic #486: zero finally freeze free flawlessly flat fix fit fine feel factory faulty father fast far family fallen fake freezing friend frustrated fully good gold going glitchy glitch glass glad given gift getting generic gave garbage functioning function fairly fact gotten drain easy easily earphone dying dy durable drop doubt facing\n",
      "Topic #487: zero finally freeze free flawlessly flat fix fit fine feel factory faulty father fast far family fallen fake freezing friend frustrated fully good gold going glitchy glitch glass glad given gift getting generic gave garbage functioning function fairly fact gotten drain easy easily earphone dying dy durable drop doubt facing\n",
      "Topic #488: zero finally freeze free flawlessly flat fix fit fine feel factory faulty father fast far family fallen fake freezing friend frustrated fully good gold going glitchy glitch glass glad given gift getting generic gave garbage functioning function fairly fact gotten drain easy easily earphone dying dy durable drop doubt facing\n",
      "Topic #489: zero finally freeze free flawlessly flat fix fit fine feel factory faulty father fast far family fallen fake freezing friend frustrated fully good gold going glitchy glitch glass glad given gift getting generic gave garbage functioning function fairly fact gotten drain easy easily earphone dying dy durable drop doubt facing\n",
      "Topic #490: zero finally freeze free flawlessly flat fix fit fine feel factory faulty father fast far family fallen fake freezing friend frustrated fully good gold going glitchy glitch glass glad given gift getting generic gave garbage functioning function fairly fact gotten drain easy easily earphone dying dy durable drop doubt facing\n",
      "Topic #491: zero finally freeze free flawlessly flat fix fit fine feel factory faulty father fast far family fallen fake freezing friend frustrated fully good gold going glitchy glitch glass glad given gift getting generic gave garbage functioning function fairly fact gotten drain easy easily earphone dying dy durable drop doubt facing\n",
      "Topic #492: zero finally freeze free flawlessly flat fix fit fine feel factory faulty father fast far family fallen fake freezing friend frustrated fully good gold going glitchy glitch glass glad given gift getting generic gave garbage functioning function fairly fact gotten drain easy easily earphone dying dy durable drop doubt facing\n",
      "Topic #493: zero finally freeze free flawlessly flat fix fit fine feel factory faulty father fast far family fallen fake freezing friend frustrated fully good gold going glitchy glitch glass glad given gift getting generic gave garbage functioning function fairly fact gotten drain easy easily earphone dying dy durable drop doubt facing\n",
      "Topic #494: zero finally freeze free flawlessly flat fix fit fine feel factory faulty father fast far family fallen fake freezing friend frustrated fully good gold going glitchy glitch glass glad given gift getting generic gave garbage functioning function fairly fact gotten drain easy easily earphone dying dy durable drop doubt facing\n",
      "Topic #495: zero finally freeze free flawlessly flat fix fit fine feel factory faulty father fast far family fallen fake freezing friend frustrated fully good gold going glitchy glitch glass glad given gift getting generic gave garbage functioning function fairly fact gotten drain easy easily earphone dying dy durable drop doubt facing\n",
      "Topic #496: zero finally freeze free flawlessly flat fix fit fine feel factory faulty father fast far family fallen fake freezing friend frustrated fully good gold going glitchy glitch glass glad given gift getting generic gave garbage functioning function fairly fact gotten drain easy easily earphone dying dy durable drop doubt facing\n",
      "Topic #497: zero finally freeze free flawlessly flat fix fit fine feel factory faulty father fast far family fallen fake freezing friend frustrated fully good gold going glitchy glitch glass glad given gift getting generic gave garbage functioning function fairly fact gotten drain easy easily earphone dying dy durable drop doubt facing\n",
      "Topic #498: zero finally freeze free flawlessly flat fix fit fine feel factory faulty father fast far family fallen fake freezing friend frustrated fully good gold going glitchy glitch glass glad given gift getting generic gave garbage functioning function fairly fact gotten drain easy easily earphone dying dy durable drop doubt facing\n",
      "Topic #499: zero finally freeze free flawlessly flat fix fit fine feel factory faulty father fast far family fallen fake freezing friend frustrated fully good gold going glitchy glitch glass glad given gift getting generic gave garbage functioning function fairly fact gotten drain easy easily earphone dying dy durable drop doubt facing\n",
      "Topic #500: zero finally freeze free flawlessly flat fix fit fine feel factory faulty father fast far family fallen fake freezing friend frustrated fully good gold going glitchy glitch glass glad given gift getting generic gave garbage functioning function fairly fact gotten drain easy easily earphone dying dy durable drop doubt facing\n",
      "Topic #501: zero finally freeze free flawlessly flat fix fit fine feel factory faulty father fast far family fallen fake freezing friend frustrated fully good gold going glitchy glitch glass glad given gift getting generic gave garbage functioning function fairly fact gotten drain easy easily earphone dying dy durable drop doubt facing\n",
      "Topic #502: zero finally freeze free flawlessly flat fix fit fine feel factory faulty father fast far family fallen fake freezing friend frustrated fully good gold going glitchy glitch glass glad given gift getting generic gave garbage functioning function fairly fact gotten drain easy easily earphone dying dy durable drop doubt facing\n",
      "Topic #503: zero finally freeze free flawlessly flat fix fit fine feel factory faulty father fast far family fallen fake freezing friend frustrated fully good gold going glitchy glitch glass glad given gift getting generic gave garbage functioning function fairly fact gotten drain easy easily earphone dying dy durable drop doubt facing\n",
      "Topic #504: zero finally freeze free flawlessly flat fix fit fine feel factory faulty father fast far family fallen fake freezing friend frustrated fully good gold going glitchy glitch glass glad given gift getting generic gave garbage functioning function fairly fact gotten drain easy easily earphone dying dy durable drop doubt facing\n",
      "Topic #505: zero finally freeze free flawlessly flat fix fit fine feel factory faulty father fast far family fallen fake freezing friend frustrated fully good gold going glitchy glitch glass glad given gift getting generic gave garbage functioning function fairly fact gotten drain easy easily earphone dying dy durable drop doubt facing\n",
      "Topic #506: zero finally freeze free flawlessly flat fix fit fine feel factory faulty father fast far family fallen fake freezing friend frustrated fully good gold going glitchy glitch glass glad given gift getting generic gave garbage functioning function fairly fact gotten drain easy easily earphone dying dy durable drop doubt facing\n",
      "Topic #507: zero finally freeze free flawlessly flat fix fit fine feel factory faulty father fast far family fallen fake freezing friend frustrated fully good gold going glitchy glitch glass glad given gift getting generic gave garbage functioning function fairly fact gotten drain easy easily earphone dying dy durable drop doubt facing\n",
      "Topic #508: zero finally freeze free flawlessly flat fix fit fine feel factory faulty father fast far family fallen fake freezing friend frustrated fully good gold going glitchy glitch glass glad given gift getting generic gave garbage functioning function fairly fact gotten drain easy easily earphone dying dy durable drop doubt facing\n",
      "Topic #509: zero finally freeze free flawlessly flat fix fit fine feel factory faulty father fast far family fallen fake freezing friend frustrated fully good gold going glitchy glitch glass glad given gift getting generic gave garbage functioning function fairly fact gotten drain easy easily earphone dying dy durable drop doubt facing\n",
      "Topic #510: zero finally freeze free flawlessly flat fix fit fine feel factory faulty father fast far family fallen fake freezing friend frustrated fully good gold going glitchy glitch glass glad given gift getting generic gave garbage functioning function fairly fact gotten drain easy easily earphone dying dy durable drop doubt facing\n",
      "Topic #511: zero finally freeze free flawlessly flat fix fit fine feel factory faulty father fast far family fallen fake freezing friend frustrated fully good gold going glitchy glitch glass glad given gift getting generic gave garbage functioning function fairly fact gotten drain easy easily earphone dying dy durable drop doubt facing\n",
      "Topic #512: zero finally freeze free flawlessly flat fix fit fine feel factory faulty father fast far family fallen fake freezing friend frustrated fully good gold going glitchy glitch glass glad given gift getting generic gave garbage functioning function fairly fact gotten drain easy easily earphone dying dy durable drop doubt facing\n",
      "Topic #513: zero finally freeze free flawlessly flat fix fit fine feel factory faulty father fast far family fallen fake freezing friend frustrated fully good gold going glitchy glitch glass glad given gift getting generic gave garbage functioning function fairly fact gotten drain easy easily earphone dying dy durable drop doubt facing\n",
      "Topic #514: zero finally freeze free flawlessly flat fix fit fine feel factory faulty father fast far family fallen fake freezing friend frustrated fully good gold going glitchy glitch glass glad given gift getting generic gave garbage functioning function fairly fact gotten drain easy easily earphone dying dy durable drop doubt facing\n",
      "Topic #515: zero finally freeze free flawlessly flat fix fit fine feel factory faulty father fast far family fallen fake freezing friend frustrated fully good gold going glitchy glitch glass glad given gift getting generic gave garbage functioning function fairly fact gotten drain easy easily earphone dying dy durable drop doubt facing\n",
      "Topic #516: zero finally freeze free flawlessly flat fix fit fine feel factory faulty father fast far family fallen fake freezing friend frustrated fully good gold going glitchy glitch glass glad given gift getting generic gave garbage functioning function fairly fact gotten drain easy easily earphone dying dy durable drop doubt facing\n",
      "Topic #517: zero finally freeze free flawlessly flat fix fit fine feel factory faulty father fast far family fallen fake freezing friend frustrated fully good gold going glitchy glitch glass glad given gift getting generic gave garbage functioning function fairly fact gotten drain easy easily earphone dying dy durable drop doubt facing\n",
      "Topic #518: zero finally freeze free flawlessly flat fix fit fine feel factory faulty father fast far family fallen fake freezing friend frustrated fully good gold going glitchy glitch glass glad given gift getting generic gave garbage functioning function fairly fact gotten drain easy easily earphone dying dy durable drop doubt facing\n",
      "Topic #519: zero finally freeze free flawlessly flat fix fit fine feel factory faulty father fast far family fallen fake freezing friend frustrated fully good gold going glitchy glitch glass glad given gift getting generic gave garbage functioning function fairly fact gotten drain easy easily earphone dying dy durable drop doubt facing\n",
      "Topic #520: zero finally freeze free flawlessly flat fix fit fine feel factory faulty father fast far family fallen fake freezing friend frustrated fully good gold going glitchy glitch glass glad given gift getting generic gave garbage functioning function fairly fact gotten drain easy easily earphone dying dy durable drop doubt facing\n",
      "Topic #521: zero finally freeze free flawlessly flat fix fit fine feel factory faulty father fast far family fallen fake freezing friend frustrated fully good gold going glitchy glitch glass glad given gift getting generic gave garbage functioning function fairly fact gotten drain easy easily earphone dying dy durable drop doubt facing\n",
      "Topic #522: zero finally freeze free flawlessly flat fix fit fine feel factory faulty father fast far family fallen fake freezing friend frustrated fully good gold going glitchy glitch glass glad given gift getting generic gave garbage functioning function fairly fact gotten drain easy easily earphone dying dy durable drop doubt facing\n",
      "Topic #523: zero finally freeze free flawlessly flat fix fit fine feel factory faulty father fast far family fallen fake freezing friend frustrated fully good gold going glitchy glitch glass glad given gift getting generic gave garbage functioning function fairly fact gotten drain easy easily earphone dying dy durable drop doubt facing\n",
      "Topic #524: zero finally freeze free flawlessly flat fix fit fine feel factory faulty father fast far family fallen fake freezing friend frustrated fully good gold going glitchy glitch glass glad given gift getting generic gave garbage functioning function fairly fact gotten drain easy easily earphone dying dy durable drop doubt facing\n",
      "Topic #525: zero finally freeze free flawlessly flat fix fit fine feel factory faulty father fast far family fallen fake freezing friend frustrated fully good gold going glitchy glitch glass glad given gift getting generic gave garbage functioning function fairly fact gotten drain easy easily earphone dying dy durable drop doubt facing\n",
      "Topic #526: zero finally freeze free flawlessly flat fix fit fine feel factory faulty father fast far family fallen fake freezing friend frustrated fully good gold going glitchy glitch glass glad given gift getting generic gave garbage functioning function fairly fact gotten drain easy easily earphone dying dy durable drop doubt facing\n",
      "Topic #527: zero finally freeze free flawlessly flat fix fit fine feel factory faulty father fast far family fallen fake freezing friend frustrated fully good gold going glitchy glitch glass glad given gift getting generic gave garbage functioning function fairly fact gotten drain easy easily earphone dying dy durable drop doubt facing\n",
      "Topic #528: zero finally freeze free flawlessly flat fix fit fine feel factory faulty father fast far family fallen fake freezing friend frustrated fully good gold going glitchy glitch glass glad given gift getting generic gave garbage functioning function fairly fact gotten drain easy easily earphone dying dy durable drop doubt facing\n",
      "Topic #529: zero finally freeze free flawlessly flat fix fit fine feel factory faulty father fast far family fallen fake freezing friend frustrated fully good gold going glitchy glitch glass glad given gift getting generic gave garbage functioning function fairly fact gotten drain easy easily earphone dying dy durable drop doubt facing\n",
      "Topic #530: zero finally freeze free flawlessly flat fix fit fine feel factory faulty father fast far family fallen fake freezing friend frustrated fully good gold going glitchy glitch glass glad given gift getting generic gave garbage functioning function fairly fact gotten drain easy easily earphone dying dy durable drop doubt facing\n",
      "Topic #531: zero finally freeze free flawlessly flat fix fit fine feel factory faulty father fast far family fallen fake freezing friend frustrated fully good gold going glitchy glitch glass glad given gift getting generic gave garbage functioning function fairly fact gotten drain easy easily earphone dying dy durable drop doubt facing\n",
      "Topic #532: zero finally freeze free flawlessly flat fix fit fine feel factory faulty father fast far family fallen fake freezing friend frustrated fully good gold going glitchy glitch glass glad given gift getting generic gave garbage functioning function fairly fact gotten drain easy easily earphone dying dy durable drop doubt facing\n",
      "Topic #533: zero finally freeze free flawlessly flat fix fit fine feel factory faulty father fast far family fallen fake freezing friend frustrated fully good gold going glitchy glitch glass glad given gift getting generic gave garbage functioning function fairly fact gotten drain easy easily earphone dying dy durable drop doubt facing\n",
      "Topic #534: zero finally freeze free flawlessly flat fix fit fine feel factory faulty father fast far family fallen fake freezing friend frustrated fully good gold going glitchy glitch glass glad given gift getting generic gave garbage functioning function fairly fact gotten drain easy easily earphone dying dy durable drop doubt facing\n",
      "Topic #535: zero finally freeze free flawlessly flat fix fit fine feel factory faulty father fast far family fallen fake freezing friend frustrated fully good gold going glitchy glitch glass glad given gift getting generic gave garbage functioning function fairly fact gotten drain easy easily earphone dying dy durable drop doubt facing\n",
      "Topic #536: zero finally freeze free flawlessly flat fix fit fine feel factory faulty father fast far family fallen fake freezing friend frustrated fully good gold going glitchy glitch glass glad given gift getting generic gave garbage functioning function fairly fact gotten drain easy easily earphone dying dy durable drop doubt facing\n",
      "Topic #537: zero finally freeze free flawlessly flat fix fit fine feel factory faulty father fast far family fallen fake freezing friend frustrated fully good gold going glitchy glitch glass glad given gift getting generic gave garbage functioning function fairly fact gotten drain easy easily earphone dying dy durable drop doubt facing\n",
      "Topic #538: zero finally freeze free flawlessly flat fix fit fine feel factory faulty father fast far family fallen fake freezing friend frustrated fully good gold going glitchy glitch glass glad given gift getting generic gave garbage functioning function fairly fact gotten drain easy easily earphone dying dy durable drop doubt facing\n",
      "Topic #539: zero finally freeze free flawlessly flat fix fit fine feel factory faulty father fast far family fallen fake freezing friend frustrated fully good gold going glitchy glitch glass glad given gift getting generic gave garbage functioning function fairly fact gotten drain easy easily earphone dying dy durable drop doubt facing\n",
      "Topic #540: zero finally freeze free flawlessly flat fix fit fine feel factory faulty father fast far family fallen fake freezing friend frustrated fully good gold going glitchy glitch glass glad given gift getting generic gave garbage functioning function fairly fact gotten drain easy easily earphone dying dy durable drop doubt facing\n",
      "Topic #541: zero finally freeze free flawlessly flat fix fit fine feel factory faulty father fast far family fallen fake freezing friend frustrated fully good gold going glitchy glitch glass glad given gift getting generic gave garbage functioning function fairly fact gotten drain easy easily earphone dying dy durable drop doubt facing\n",
      "Topic #542: zero finally freeze free flawlessly flat fix fit fine feel factory faulty father fast far family fallen fake freezing friend frustrated fully good gold going glitchy glitch glass glad given gift getting generic gave garbage functioning function fairly fact gotten drain easy easily earphone dying dy durable drop doubt facing\n",
      "Topic #543: zero finally freeze free flawlessly flat fix fit fine feel factory faulty father fast far family fallen fake freezing friend frustrated fully good gold going glitchy glitch glass glad given gift getting generic gave garbage functioning function fairly fact gotten drain easy easily earphone dying dy durable drop doubt facing\n",
      "Topic #544: zero finally freeze free flawlessly flat fix fit fine feel factory faulty father fast far family fallen fake freezing friend frustrated fully good gold going glitchy glitch glass glad given gift getting generic gave garbage functioning function fairly fact gotten drain easy easily earphone dying dy durable drop doubt facing\n",
      "Topic #545: zero finally freeze free flawlessly flat fix fit fine feel factory faulty father fast far family fallen fake freezing friend frustrated fully good gold going glitchy glitch glass glad given gift getting generic gave garbage functioning function fairly fact gotten drain easy easily earphone dying dy durable drop doubt facing\n",
      "Topic #546: zero finally freeze free flawlessly flat fix fit fine feel factory faulty father fast far family fallen fake freezing friend frustrated fully good gold going glitchy glitch glass glad given gift getting generic gave garbage functioning function fairly fact gotten drain easy easily earphone dying dy durable drop doubt facing\n",
      "Topic #547: zero finally freeze free flawlessly flat fix fit fine feel factory faulty father fast far family fallen fake freezing friend frustrated fully good gold going glitchy glitch glass glad given gift getting generic gave garbage functioning function fairly fact gotten drain easy easily earphone dying dy durable drop doubt facing\n",
      "Topic #548: zero finally freeze free flawlessly flat fix fit fine feel factory faulty father fast far family fallen fake freezing friend frustrated fully good gold going glitchy glitch glass glad given gift getting generic gave garbage functioning function fairly fact gotten drain easy easily earphone dying dy durable drop doubt facing\n",
      "Topic #549: zero finally freeze free flawlessly flat fix fit fine feel factory faulty father fast far family fallen fake freezing friend frustrated fully good gold going glitchy glitch glass glad given gift getting generic gave garbage functioning function fairly fact gotten drain easy easily earphone dying dy durable drop doubt facing\n",
      "Topic #550: zero finally freeze free flawlessly flat fix fit fine feel factory faulty father fast far family fallen fake freezing friend frustrated fully good gold going glitchy glitch glass glad given gift getting generic gave garbage functioning function fairly fact gotten drain easy easily earphone dying dy durable drop doubt facing\n",
      "Topic #551: zero finally freeze free flawlessly flat fix fit fine feel factory faulty father fast far family fallen fake freezing friend frustrated fully good gold going glitchy glitch glass glad given gift getting generic gave garbage functioning function fairly fact gotten drain easy easily earphone dying dy durable drop doubt facing\n",
      "Topic #552: zero finally freeze free flawlessly flat fix fit fine feel factory faulty father fast far family fallen fake freezing friend frustrated fully good gold going glitchy glitch glass glad given gift getting generic gave garbage functioning function fairly fact gotten drain easy easily earphone dying dy durable drop doubt facing\n",
      "Topic #553: zero finally freeze free flawlessly flat fix fit fine feel factory faulty father fast far family fallen fake freezing friend frustrated fully good gold going glitchy glitch glass glad given gift getting generic gave garbage functioning function fairly fact gotten drain easy easily earphone dying dy durable drop doubt facing\n",
      "Topic #554: zero finally freeze free flawlessly flat fix fit fine feel factory faulty father fast far family fallen fake freezing friend frustrated fully good gold going glitchy glitch glass glad given gift getting generic gave garbage functioning function fairly fact gotten drain easy easily earphone dying dy durable drop doubt facing\n",
      "Topic #555: zero finally freeze free flawlessly flat fix fit fine feel factory faulty father fast far family fallen fake freezing friend frustrated fully good gold going glitchy glitch glass glad given gift getting generic gave garbage functioning function fairly fact gotten drain easy easily earphone dying dy durable drop doubt facing\n",
      "Topic #556: zero finally freeze free flawlessly flat fix fit fine feel factory faulty father fast far family fallen fake freezing friend frustrated fully good gold going glitchy glitch glass glad given gift getting generic gave garbage functioning function fairly fact gotten drain easy easily earphone dying dy durable drop doubt facing\n",
      "Topic #557: zero finally freeze free flawlessly flat fix fit fine feel factory faulty father fast far family fallen fake freezing friend frustrated fully good gold going glitchy glitch glass glad given gift getting generic gave garbage functioning function fairly fact gotten drain easy easily earphone dying dy durable drop doubt facing\n",
      "Topic #558: zero finally freeze free flawlessly flat fix fit fine feel factory faulty father fast far family fallen fake freezing friend frustrated fully good gold going glitchy glitch glass glad given gift getting generic gave garbage functioning function fairly fact gotten drain easy easily earphone dying dy durable drop doubt facing\n",
      "Topic #559: zero finally freeze free flawlessly flat fix fit fine feel factory faulty father fast far family fallen fake freezing friend frustrated fully good gold going glitchy glitch glass glad given gift getting generic gave garbage functioning function fairly fact gotten drain easy easily earphone dying dy durable drop doubt facing\n",
      "Topic #560: zero finally freeze free flawlessly flat fix fit fine feel factory faulty father fast far family fallen fake freezing friend frustrated fully good gold going glitchy glitch glass glad given gift getting generic gave garbage functioning function fairly fact gotten drain easy easily earphone dying dy durable drop doubt facing\n",
      "Topic #561: zero finally freeze free flawlessly flat fix fit fine feel factory faulty father fast far family fallen fake freezing friend frustrated fully good gold going glitchy glitch glass glad given gift getting generic gave garbage functioning function fairly fact gotten drain easy easily earphone dying dy durable drop doubt facing\n",
      "Topic #562: zero finally freeze free flawlessly flat fix fit fine feel factory faulty father fast far family fallen fake freezing friend frustrated fully good gold going glitchy glitch glass glad given gift getting generic gave garbage functioning function fairly fact gotten drain easy easily earphone dying dy durable drop doubt facing\n",
      "Topic #563: zero finally freeze free flawlessly flat fix fit fine feel factory faulty father fast far family fallen fake freezing friend frustrated fully good gold going glitchy glitch glass glad given gift getting generic gave garbage functioning function fairly fact gotten drain easy easily earphone dying dy durable drop doubt facing\n",
      "Topic #564: zero finally freeze free flawlessly flat fix fit fine feel factory faulty father fast far family fallen fake freezing friend frustrated fully good gold going glitchy glitch glass glad given gift getting generic gave garbage functioning function fairly fact gotten drain easy easily earphone dying dy durable drop doubt facing\n",
      "Topic #565: zero finally freeze free flawlessly flat fix fit fine feel factory faulty father fast far family fallen fake freezing friend frustrated fully good gold going glitchy glitch glass glad given gift getting generic gave garbage functioning function fairly fact gotten drain easy easily earphone dying dy durable drop doubt facing\n",
      "Topic #566: zero finally freeze free flawlessly flat fix fit fine feel factory faulty father fast far family fallen fake freezing friend frustrated fully good gold going glitchy glitch glass glad given gift getting generic gave garbage functioning function fairly fact gotten drain easy easily earphone dying dy durable drop doubt facing\n",
      "Topic #567: zero finally freeze free flawlessly flat fix fit fine feel factory faulty father fast far family fallen fake freezing friend frustrated fully good gold going glitchy glitch glass glad given gift getting generic gave garbage functioning function fairly fact gotten drain easy easily earphone dying dy durable drop doubt facing\n",
      "Topic #568: zero finally freeze free flawlessly flat fix fit fine feel factory faulty father fast far family fallen fake freezing friend frustrated fully good gold going glitchy glitch glass glad given gift getting generic gave garbage functioning function fairly fact gotten drain easy easily earphone dying dy durable drop doubt facing\n",
      "Topic #569: zero finally freeze free flawlessly flat fix fit fine feel factory faulty father fast far family fallen fake freezing friend frustrated fully good gold going glitchy glitch glass glad given gift getting generic gave garbage functioning function fairly fact gotten drain easy easily earphone dying dy durable drop doubt facing\n",
      "Topic #570: zero finally freeze free flawlessly flat fix fit fine feel factory faulty father fast far family fallen fake freezing friend frustrated fully good gold going glitchy glitch glass glad given gift getting generic gave garbage functioning function fairly fact gotten drain easy easily earphone dying dy durable drop doubt facing\n",
      "Topic #571: zero finally freeze free flawlessly flat fix fit fine feel factory faulty father fast far family fallen fake freezing friend frustrated fully good gold going glitchy glitch glass glad given gift getting generic gave garbage functioning function fairly fact gotten drain easy easily earphone dying dy durable drop doubt facing\n",
      "Topic #572: zero finally freeze free flawlessly flat fix fit fine feel factory faulty father fast far family fallen fake freezing friend frustrated fully good gold going glitchy glitch glass glad given gift getting generic gave garbage functioning function fairly fact gotten drain easy easily earphone dying dy durable drop doubt facing\n",
      "Topic #573: zero finally freeze free flawlessly flat fix fit fine feel factory faulty father fast far family fallen fake freezing friend frustrated fully good gold going glitchy glitch glass glad given gift getting generic gave garbage functioning function fairly fact gotten drain easy easily earphone dying dy durable drop doubt facing\n",
      "Topic #574: zero finally freeze free flawlessly flat fix fit fine feel factory faulty father fast far family fallen fake freezing friend frustrated fully good gold going glitchy glitch glass glad given gift getting generic gave garbage functioning function fairly fact gotten drain easy easily earphone dying dy durable drop doubt facing\n",
      "Topic #575: zero finally freeze free flawlessly flat fix fit fine feel factory faulty father fast far family fallen fake freezing friend frustrated fully good gold going glitchy glitch glass glad given gift getting generic gave garbage functioning function fairly fact gotten drain easy easily earphone dying dy durable drop doubt facing\n",
      "Topic #576: zero finally freeze free flawlessly flat fix fit fine feel factory faulty father fast far family fallen fake freezing friend frustrated fully good gold going glitchy glitch glass glad given gift getting generic gave garbage functioning function fairly fact gotten drain easy easily earphone dying dy durable drop doubt facing\n",
      "Topic #577: zero finally freeze free flawlessly flat fix fit fine feel factory faulty father fast far family fallen fake freezing friend frustrated fully good gold going glitchy glitch glass glad given gift getting generic gave garbage functioning function fairly fact gotten drain easy easily earphone dying dy durable drop doubt facing\n",
      "Topic #578: zero finally freeze free flawlessly flat fix fit fine feel factory faulty father fast far family fallen fake freezing friend frustrated fully good gold going glitchy glitch glass glad given gift getting generic gave garbage functioning function fairly fact gotten drain easy easily earphone dying dy durable drop doubt facing\n",
      "Topic #579: zero finally freeze free flawlessly flat fix fit fine feel factory faulty father fast far family fallen fake freezing friend frustrated fully good gold going glitchy glitch glass glad given gift getting generic gave garbage functioning function fairly fact gotten drain easy easily earphone dying dy durable drop doubt facing\n",
      "Topic #580: zero finally freeze free flawlessly flat fix fit fine feel factory faulty father fast far family fallen fake freezing friend frustrated fully good gold going glitchy glitch glass glad given gift getting generic gave garbage functioning function fairly fact gotten drain easy easily earphone dying dy durable drop doubt facing\n",
      "Topic #581: zero finally freeze free flawlessly flat fix fit fine feel factory faulty father fast far family fallen fake freezing friend frustrated fully good gold going glitchy glitch glass glad given gift getting generic gave garbage functioning function fairly fact gotten drain easy easily earphone dying dy durable drop doubt facing\n",
      "Topic #582: zero finally freeze free flawlessly flat fix fit fine feel factory faulty father fast far family fallen fake freezing friend frustrated fully good gold going glitchy glitch glass glad given gift getting generic gave garbage functioning function fairly fact gotten drain easy easily earphone dying dy durable drop doubt facing\n",
      "Topic #583: zero finally freeze free flawlessly flat fix fit fine feel factory faulty father fast far family fallen fake freezing friend frustrated fully good gold going glitchy glitch glass glad given gift getting generic gave garbage functioning function fairly fact gotten drain easy easily earphone dying dy durable drop doubt facing\n",
      "Topic #584: zero finally freeze free flawlessly flat fix fit fine feel factory faulty father fast far family fallen fake freezing friend frustrated fully good gold going glitchy glitch glass glad given gift getting generic gave garbage functioning function fairly fact gotten drain easy easily earphone dying dy durable drop doubt facing\n",
      "Topic #585: zero finally freeze free flawlessly flat fix fit fine feel factory faulty father fast far family fallen fake freezing friend frustrated fully good gold going glitchy glitch glass glad given gift getting generic gave garbage functioning function fairly fact gotten drain easy easily earphone dying dy durable drop doubt facing\n",
      "Topic #586: zero finally freeze free flawlessly flat fix fit fine feel factory faulty father fast far family fallen fake freezing friend frustrated fully good gold going glitchy glitch glass glad given gift getting generic gave garbage functioning function fairly fact gotten drain easy easily earphone dying dy durable drop doubt facing\n",
      "Topic #587: zero finally freeze free flawlessly flat fix fit fine feel factory faulty father fast far family fallen fake freezing friend frustrated fully good gold going glitchy glitch glass glad given gift getting generic gave garbage functioning function fairly fact gotten drain easy easily earphone dying dy durable drop doubt facing\n",
      "Topic #588: zero finally freeze free flawlessly flat fix fit fine feel factory faulty father fast far family fallen fake freezing friend frustrated fully good gold going glitchy glitch glass glad given gift getting generic gave garbage functioning function fairly fact gotten drain easy easily earphone dying dy durable drop doubt facing\n",
      "Topic #589: zero finally freeze free flawlessly flat fix fit fine feel factory faulty father fast far family fallen fake freezing friend frustrated fully good gold going glitchy glitch glass glad given gift getting generic gave garbage functioning function fairly fact gotten drain easy easily earphone dying dy durable drop doubt facing\n",
      "Topic #590: zero finally freeze free flawlessly flat fix fit fine feel factory faulty father fast far family fallen fake freezing friend frustrated fully good gold going glitchy glitch glass glad given gift getting generic gave garbage functioning function fairly fact gotten drain easy easily earphone dying dy durable drop doubt facing\n",
      "Topic #591: zero finally freeze free flawlessly flat fix fit fine feel factory faulty father fast far family fallen fake freezing friend frustrated fully good gold going glitchy glitch glass glad given gift getting generic gave garbage functioning function fairly fact gotten drain easy easily earphone dying dy durable drop doubt facing\n",
      "Topic #592: zero finally freeze free flawlessly flat fix fit fine feel factory faulty father fast far family fallen fake freezing friend frustrated fully good gold going glitchy glitch glass glad given gift getting generic gave garbage functioning function fairly fact gotten drain easy easily earphone dying dy durable drop doubt facing\n",
      "Topic #593: zero finally freeze free flawlessly flat fix fit fine feel factory faulty father fast far family fallen fake freezing friend frustrated fully good gold going glitchy glitch glass glad given gift getting generic gave garbage functioning function fairly fact gotten drain easy easily earphone dying dy durable drop doubt facing\n",
      "Topic #594: zero finally freeze free flawlessly flat fix fit fine feel factory faulty father fast far family fallen fake freezing friend frustrated fully good gold going glitchy glitch glass glad given gift getting generic gave garbage functioning function fairly fact gotten drain easy easily earphone dying dy durable drop doubt facing\n",
      "Topic #595: zero finally freeze free flawlessly flat fix fit fine feel factory faulty father fast far family fallen fake freezing friend frustrated fully good gold going glitchy glitch glass glad given gift getting generic gave garbage functioning function fairly fact gotten drain easy easily earphone dying dy durable drop doubt facing\n",
      "Topic #596: zero finally freeze free flawlessly flat fix fit fine feel factory faulty father fast far family fallen fake freezing friend frustrated fully good gold going glitchy glitch glass glad given gift getting generic gave garbage functioning function fairly fact gotten drain easy easily earphone dying dy durable drop doubt facing\n",
      "Topic #597: zero finally freeze free flawlessly flat fix fit fine feel factory faulty father fast far family fallen fake freezing friend frustrated fully good gold going glitchy glitch glass glad given gift getting generic gave garbage functioning function fairly fact gotten drain easy easily earphone dying dy durable drop doubt facing\n",
      "Topic #598: zero finally freeze free flawlessly flat fix fit fine feel factory faulty father fast far family fallen fake freezing friend frustrated fully good gold going glitchy glitch glass glad given gift getting generic gave garbage functioning function fairly fact gotten drain easy easily earphone dying dy durable drop doubt facing\n",
      "Topic #599: zero finally freeze free flawlessly flat fix fit fine feel factory faulty father fast far family fallen fake freezing friend frustrated fully good gold going glitchy glitch glass glad given gift getting generic gave garbage functioning function fairly fact gotten drain easy easily earphone dying dy durable drop doubt facing\n",
      "Topic #600: zero finally freeze free flawlessly flat fix fit fine feel factory faulty father fast far family fallen fake freezing friend frustrated fully good gold going glitchy glitch glass glad given gift getting generic gave garbage functioning function fairly fact gotten drain easy easily earphone dying dy durable drop doubt facing\n",
      "Topic #601: zero finally freeze free flawlessly flat fix fit fine feel factory faulty father fast far family fallen fake freezing friend frustrated fully good gold going glitchy glitch glass glad given gift getting generic gave garbage functioning function fairly fact gotten drain easy easily earphone dying dy durable drop doubt facing\n",
      "Topic #602: zero finally freeze free flawlessly flat fix fit fine feel factory faulty father fast far family fallen fake freezing friend frustrated fully good gold going glitchy glitch glass glad given gift getting generic gave garbage functioning function fairly fact gotten drain easy easily earphone dying dy durable drop doubt facing\n",
      "Topic #603: zero finally freeze free flawlessly flat fix fit fine feel factory faulty father fast far family fallen fake freezing friend frustrated fully good gold going glitchy glitch glass glad given gift getting generic gave garbage functioning function fairly fact gotten drain easy easily earphone dying dy durable drop doubt facing\n",
      "Topic #604: zero finally freeze free flawlessly flat fix fit fine feel factory faulty father fast far family fallen fake freezing friend frustrated fully good gold going glitchy glitch glass glad given gift getting generic gave garbage functioning function fairly fact gotten drain easy easily earphone dying dy durable drop doubt facing\n",
      "Topic #605: zero finally freeze free flawlessly flat fix fit fine feel factory faulty father fast far family fallen fake freezing friend frustrated fully good gold going glitchy glitch glass glad given gift getting generic gave garbage functioning function fairly fact gotten drain easy easily earphone dying dy durable drop doubt facing\n",
      "Topic #606: zero finally freeze free flawlessly flat fix fit fine feel factory faulty father fast far family fallen fake freezing friend frustrated fully good gold going glitchy glitch glass glad given gift getting generic gave garbage functioning function fairly fact gotten drain easy easily earphone dying dy durable drop doubt facing\n",
      "Topic #607: zero finally freeze free flawlessly flat fix fit fine feel factory faulty father fast far family fallen fake freezing friend frustrated fully good gold going glitchy glitch glass glad given gift getting generic gave garbage functioning function fairly fact gotten drain easy easily earphone dying dy durable drop doubt facing\n",
      "Topic #608: zero finally freeze free flawlessly flat fix fit fine feel factory faulty father fast far family fallen fake freezing friend frustrated fully good gold going glitchy glitch glass glad given gift getting generic gave garbage functioning function fairly fact gotten drain easy easily earphone dying dy durable drop doubt facing\n",
      "Topic #609: zero finally freeze free flawlessly flat fix fit fine feel factory faulty father fast far family fallen fake freezing friend frustrated fully good gold going glitchy glitch glass glad given gift getting generic gave garbage functioning function fairly fact gotten drain easy easily earphone dying dy durable drop doubt facing\n",
      "Topic #610: zero finally freeze free flawlessly flat fix fit fine feel factory faulty father fast far family fallen fake freezing friend frustrated fully good gold going glitchy glitch glass glad given gift getting generic gave garbage functioning function fairly fact gotten drain easy easily earphone dying dy durable drop doubt facing\n",
      "Topic #611: zero finally freeze free flawlessly flat fix fit fine feel factory faulty father fast far family fallen fake freezing friend frustrated fully good gold going glitchy glitch glass glad given gift getting generic gave garbage functioning function fairly fact gotten drain easy easily earphone dying dy durable drop doubt facing\n",
      "Topic #612: zero finally freeze free flawlessly flat fix fit fine feel factory faulty father fast far family fallen fake freezing friend frustrated fully good gold going glitchy glitch glass glad given gift getting generic gave garbage functioning function fairly fact gotten drain easy easily earphone dying dy durable drop doubt facing\n",
      "Topic #613: zero finally freeze free flawlessly flat fix fit fine feel factory faulty father fast far family fallen fake freezing friend frustrated fully good gold going glitchy glitch glass glad given gift getting generic gave garbage functioning function fairly fact gotten drain easy easily earphone dying dy durable drop doubt facing\n",
      "Topic #614: zero finally freeze free flawlessly flat fix fit fine feel factory faulty father fast far family fallen fake freezing friend frustrated fully good gold going glitchy glitch glass glad given gift getting generic gave garbage functioning function fairly fact gotten drain easy easily earphone dying dy durable drop doubt facing\n",
      "Topic #615: zero finally freeze free flawlessly flat fix fit fine feel factory faulty father fast far family fallen fake freezing friend frustrated fully good gold going glitchy glitch glass glad given gift getting generic gave garbage functioning function fairly fact gotten drain easy easily earphone dying dy durable drop doubt facing\n",
      "Topic #616: zero finally freeze free flawlessly flat fix fit fine feel factory faulty father fast far family fallen fake freezing friend frustrated fully good gold going glitchy glitch glass glad given gift getting generic gave garbage functioning function fairly fact gotten drain easy easily earphone dying dy durable drop doubt facing\n",
      "Topic #617: zero finally freeze free flawlessly flat fix fit fine feel factory faulty father fast far family fallen fake freezing friend frustrated fully good gold going glitchy glitch glass glad given gift getting generic gave garbage functioning function fairly fact gotten drain easy easily earphone dying dy durable drop doubt facing\n",
      "Topic #618: zero finally freeze free flawlessly flat fix fit fine feel factory faulty father fast far family fallen fake freezing friend frustrated fully good gold going glitchy glitch glass glad given gift getting generic gave garbage functioning function fairly fact gotten drain easy easily earphone dying dy durable drop doubt facing\n",
      "Topic #619: zero finally freeze free flawlessly flat fix fit fine feel factory faulty father fast far family fallen fake freezing friend frustrated fully good gold going glitchy glitch glass glad given gift getting generic gave garbage functioning function fairly fact gotten drain easy easily earphone dying dy durable drop doubt facing\n",
      "Topic #620: zero finally freeze free flawlessly flat fix fit fine feel factory faulty father fast far family fallen fake freezing friend frustrated fully good gold going glitchy glitch glass glad given gift getting generic gave garbage functioning function fairly fact gotten drain easy easily earphone dying dy durable drop doubt facing\n",
      "\n"
     ]
    }
   ],
   "source": [
    "print(\"\\nTopics in NMF model (Frobenius norm):\")\n",
    "tfidf_feature_names = tfidf_vectorizer.get_feature_names()\n",
    "print_top_words(nmf, tfidf_feature_names, 50)"
   ]
  },
  {
   "cell_type": "code",
   "execution_count": 52,
   "metadata": {},
   "outputs": [
    {
     "name": "stdout",
     "output_type": "stream",
     "text": [
      "Fitting the NMF model (generalized Kullback-Leibler divergence) with tf-idf features, n_samples=1000 and n_features=1000...\n"
     ]
    }
   ],
   "source": [
    "print(\"Fitting the NMF model (generalized Kullback-Leibler divergence) with \"\n",
    "      \"tf-idf features, n_samples=%d and n_features=%d...\"\n",
    "      % (1000, 1000))\n",
    "nmf = NMF( random_state=1,\n",
    "          beta_loss='kullback-leibler', solver='mu', max_iter=1000, alpha=.1,\n",
    "          l1_ratio=.5).fit(tfidf)"
   ]
  },
  {
   "cell_type": "code",
   "execution_count": 53,
   "metadata": {},
   "outputs": [
    {
     "name": "stdout",
     "output_type": "stream",
     "text": [
      "\n",
      "Topics in NMF model (generalized Kullback-Leibler divergence):\n",
      "Topic #0: unlocked phone zero fine freeze free flawlessly flat fix fit\n",
      "Topic #1: nt zero finally freeze free flawlessly flat fix fit fine\n",
      "Topic #2: zero finally freeze free flawlessly flat fix fit fine feel\n",
      "Topic #3: old phone finally freeze free flawlessly flat fix fit fine\n",
      "Topic #4: need password unlock freezing free flawlessly flat fix fit fine\n",
      "Topic #5: zero finally freeze free flawlessly flat fix fit fine feel\n",
      "Topic #6: time attention level paying durable pas lesson poor read fit\n",
      "Topic #7: broken zero fine freezing freeze free flawlessly flat fix fit\n",
      "Topic #8: zero finally freeze free flawlessly flat fix fit fine feel\n",
      "Topic #9: load friend minute lasted solve night left called 20 turned\n",
      "Topic #10: zero finally freeze free flawlessly flat fix fit fine feel\n",
      "Topic #11: real iphone zero finally free flawlessly flat fix fit fine\n",
      "Topic #12: expected feel free flawlessly flat fix fit fine finally zero\n",
      "Topic #13: glitchy receiving speaker low time work really phone don finally\n",
      "Topic #14: impressed time feel free flawlessly flat fix fit fine finally\n",
      "Topic #15: zero faulty wish hardware star waste month money time product\n",
      "Topic #16: supposed happier gsm unlocked need phone finally flawlessly flat fix\n",
      "Topic #17: fact silent ago couple make sound camera nt day phone\n",
      "Topic #18: asap starting expired usage suppose dying window returned certified 20\n",
      "Topic #19: apple phone finally freeze free flawlessly flat fix fit fine\n",
      "Topic #20: apple difficult transfer music android glad come thing picture amazon\n",
      "Topic #21: zero finally freeze free flawlessly flat fix fit fine feel\n",
      "Topic #22: got worried rating sure phone make amazon review bad little\n",
      "Topic #23: zero finally freeze free flawlessly flat fix fit fine feel\n",
      "Topic #24: straight talk told apple description set phone camera able come\n",
      "Topic #25: best gotten fine freeze free flawlessly flat fix fit finally\n",
      "Topic #26: scratch phone finally freeze free flawlessly flat fix fit fine\n",
      "Topic #27: stop trash 300 month bought like zero fit free flawlessly\n",
      "Topic #28: amazing zero fine freeze free flawlessly flat fix fit finally\n",
      "Topic #29: turn phone zero fine freeze free flawlessly flat fix fit\n",
      "Topic #30: came stop protector nervous right case let month time working\n",
      "Topic #31: phone zero fine freezing freeze free flawlessly flat fix fit\n",
      "Topic #32: experience zero feel free flawlessly flat fix fit fine finally\n",
      "Topic #33: awful large dent friend big gift received phone scratch look\n",
      "Topic #34: buying fine freezing freeze free flawlessly flat fix fit finally\n",
      "Topic #35: realize plugged unless gave turned getting charger phone nt time\n",
      "Topic #36: meaning gold set apple easy iphone service perfectly work used\n",
      "Topic #37: zero finally freeze free flawlessly flat fix fit fine feel\n",
      "Topic #38: zero finally freeze free flawlessly flat fix fit fine feel\n",
      "Topic #39: zero finally freeze free flawlessly flat fix fit fine feel\n",
      "Topic #40: zero finally freeze free flawlessly flat fix fit fine feel\n",
      "Topic #41: replacement son sent battery zero feel flawlessly flat fix fit\n",
      "Topic #42: register realized mess complete away scuff transfer given glad data\n",
      "Topic #43: transaction phone new excellent good zero fine free flawlessly flat\n",
      "Topic #44: delivered customer works new time like satisfied finally free flawlessly\n",
      "Topic #45: zero finally freeze free flawlessly flat fix fit fine feel\n",
      "Topic #46: got cost fix guy thought year lot amazon right send\n",
      "Topic #47: zero finally freeze free flawlessly flat fix fit fine feel\n",
      "Topic #48: freezing kept properly nt time phone work far freeze free\n",
      "Topic #49: replaced does volume tried guy nt phone month time money\n",
      "Topic #50: zero finally freeze free flawlessly flat fix fit fine feel\n",
      "Topic #51: die money 50 matter extra company spend excited think returning\n",
      "Topic #52: buyer software change cost care constantly phone need work properly\n",
      "Topic #53: experience arrived pleased finally freeze free flawlessly flat fix fit\n",
      "Topic #54: received finally freeze free flawlessly flat fix fit fine feel\n",
      "Topic #55: weak drain overall fast phone battery awesome doubt far frustrated\n",
      "Topic #56: write dont scared actually came phone condition review refurbished buy\n",
      "Topic #57: able use zero fine freeze free flawlessly flat fix fit\n",
      "Topic #58: zero finally freeze free flawlessly flat fix fit fine feel\n",
      "Topic #59: replaced need week said battery really feel flat fix fit\n",
      "Topic #60: pretty nt zero fine freeze free flawlessly flat fix fit\n",
      "Topic #61: okay extra didnt overall speaker button sound know problem ok\n",
      "Topic #62: couple black returned need phone screen use month make money\n",
      "Topic #63: tech cause regret sprint different trying locked fully told taking\n",
      "Topic #64: properly phone zero fine freezing freeze free flawlessly flat fix\n",
      "Topic #65: send zero finally freeze free flawlessly flat fix fit fine\n",
      "Topic #66: zero finally freeze free flawlessly flat fix fit fine feel\n",
      "Topic #67: good zero feel free flawlessly flat fix fit fine finally\n",
      "Topic #68: seller zero finally freeze free flawlessly flat fix fit fine\n",
      "Topic #69: zero finally freeze free flawlessly flat fix fit fine feel\n",
      "Topic #70: trouble color bigger gold supposed great father faulty feel finally\n",
      "Topic #71: want return response problem zero finally flawlessly flat fix fit\n",
      "Topic #72: zero finally freeze free flawlessly flat fix fit fine feel\n",
      "Topic #73: window disappointed amazon return support month phone bought charge flat\n",
      "Topic #74: zero finally freeze free flawlessly flat fix fit fine feel\n",
      "Topic #75: happening phone zero finally freeze free flawlessly flat fix fit\n",
      "Topic #76: zero finally freeze free flawlessly flat fix fit fine feel\n",
      "Topic #77: zero finally freeze free flawlessly flat fix fit fine feel\n",
      "Topic #78: star phone nt zero fine freeze free flawlessly flat fix\n",
      "Topic #79: away just account tell activate verizon went got stay phone\n",
      "Topic #80: order na maybe wish zero fine free flawlessly flat fix\n",
      "Topic #81: occasion business allow learned blocked lesson missing meaning honestly reset\n",
      "Topic #82: country sound allow solve meaning returning second order trying nice\n",
      "Topic #83: actually fine freezing freeze free flawlessly flat fix fit finally\n",
      "Topic #84: popped walmart mobile night family complaint looks got brand perfectly\n",
      "Topic #85: blue cut major fully charged issue battery fast father faulty\n",
      "Topic #86: recommended came week zero feel flawlessly flat fix fit fine\n",
      "Topic #87: mark phone zero finally freeze free flawlessly flat fix fit\n",
      "Topic #88: wireless talk straight zero free flawlessly flat fix fit fine\n",
      "Topic #89: glass repair spend quality phone bad fallen family far fast\n",
      "Topic #90: zero finally freeze free flawlessly flat fix fit fine feel\n",
      "Topic #91: carrier device work unlocked happier zero fine free flawlessly flat\n",
      "Topic #92: super does company left expensive worth money return work iphone\n",
      "Topic #93: connect audio barely mind shutter went order turned sound phone\n",
      "Topic #94: phone work zero finally freeze free flawlessly flat fix fit\n",
      "Topic #95: zero finally freeze free flawlessly flat fix fit fine feel\n",
      "Topic #96: zero finally freeze free flawlessly flat fix fit fine feel\n",
      "Topic #97: amazon phone zero fine freeze free flawlessly flat fix fit\n",
      "Topic #98: broke zero fine freezing freeze free flawlessly flat fix fit\n",
      "Topic #99: money want unable complete fix later completely took apple month\n",
      "Topic #100: wasted register person supposed different unless im went stuck want\n",
      "Topic #101: make phone good zero finally freeze free flawlessly flat fix\n",
      "Topic #102: nt zero finally freeze free flawlessly flat fix fit fine\n",
      "Topic #103: way better expected process month looked got iphone received phone\n",
      "Topic #104: got love finally freeze free flawlessly flat fix fit fine\n",
      "Topic #105: sold phone zero feel free flawlessly flat fix fit fine\n",
      "Topic #106: christmas zero fine freeze free flawlessly flat fix fit finally\n",
      "Topic #107: dent came good said new scratch dollar fake freezing freeze\n",
      "Topic #108: money zero fine freeze free flawlessly flat fix fit finally\n",
      "Topic #109: great finally freeze free flawlessly flat fix fit fine feel\n",
      "Topic #110: function way didnt stuck properly phone fine free flawlessly flat\n",
      "Topic #111: bug niece id sign phone let apple father faulty family\n",
      "Topic #112: zero finally freeze free flawlessly flat fix fit fine feel\n",
      "Topic #113: message told took new apple need phone text battery come\n",
      "Topic #114: postage did extra faulty 10 cost right send nt work\n",
      "Topic #115: worked phone zero finally freeze free flawlessly flat fix fit\n",
      "Topic #116: zero finally freeze free flawlessly flat fix fit fine feel\n",
      "Topic #117: help repaired glitchy immediately die le 20 told tried store\n",
      "Topic #118: zero finally freeze free flawlessly flat fix fit fine feel\n",
      "Topic #119: zero finally freeze free flawlessly flat fix fit fine feel\n",
      "Topic #120: expensive come strongly fallen postage personal necessary absolutely case ca\n",
      "Topic #121: ok zero finally freeze free flawlessly flat fix fit fine\n",
      "Topic #122: tmobile phone zero finally freeze free flawlessly flat fix fit\n",
      "Topic #123: buyer beware warranty tried working battery stopped fit free flawlessly\n",
      "Topic #124: delivery zero finally freeze free flawlessly flat fix fit fine\n",
      "Topic #125: low price fine freeze free flawlessly flat fix fit finally\n",
      "Topic #126: switch 300 say stuck carrier got card item sim phone\n",
      "Topic #127: thing zero finally freeze free flawlessly flat fix fit fine\n",
      "Topic #128: zero finally freeze free flawlessly flat fix fit fine feel\n",
      "Topic #129: better case zero fine freeze free flawlessly flat fix fit\n",
      "Topic #130: think phone zero feel free flawlessly flat fix fit fine\n",
      "Topic #131: right zero friend freeze free flawlessly flat fix fit fine\n",
      "Topic #132: condition zero finally freeze free flawlessly flat fix fit fine\n",
      "Topic #133: basically didnt tried phone work charger using new brand buy\n",
      "Topic #134: zero finally freeze free flawlessly flat fix fit fine feel\n",
      "Topic #135: update tried nt bug na ready stuff ugly responding straight\n",
      "Topic #136: warranty amazon instead like looked charge recommend turn said brand\n",
      "Topic #137: outside country need phone unlocked use zero fine free flawlessly\n",
      "Topic #138: zero finally freeze free flawlessly flat fix fit fine feel\n",
      "Topic #139: 100 zero fine freezing freeze free flawlessly flat fix fit\n",
      "Topic #140: song music listen load worse want going thing month phone\n",
      "Topic #141: disappointing freezing today purchased screen able phone use daughter fit\n",
      "Topic #142: generic mark tried charger phone bought buy zero freezing freeze\n",
      "Topic #143: zero finally freeze free flawlessly flat fix fit fine feel\n",
      "Topic #144: horrible hour 45 minute completely nt phone recommend zero fine\n",
      "Topic #145: upgrade plus beginning looking year iphone happy flawlessly flat fix\n",
      "Topic #146: price zero fine freeze free flawlessly flat fix fit finally\n",
      "Topic #147: happen work zero finally freeze free flawlessly flat fix fit\n",
      "Topic #148: long friend freeze free flawlessly flat fix fit fine finally\n",
      "Topic #149: zero finally freeze free flawlessly flat fix fit fine feel\n",
      "Topic #150: making type stick real hard got phone review screen touch\n",
      "Topic #151: guy thanks awesome finally freeze free flawlessly flat fix fit\n",
      "Topic #152: flawlessly zero finally freeze free flat fix fit fine feel\n",
      "Topic #153: worst trash return phone time received waste refurbished flat fix\n",
      "Topic #154: coming japan iphones cheap level confirmed function hardware shutter replacement\n",
      "Topic #155: zero finally freeze free flawlessly flat fix fit fine feel\n",
      "Topic #156: crack zero finally free flawlessly flat fix fit fine feel\n",
      "Topic #157: calling id weird line reset completely sound working phone condition\n",
      "Topic #158: daughter zero friend freeze free flawlessly flat fix fit fine\n",
      "Topic #159: monday fully got happening phone fine freeze free flawlessly flat\n",
      "Topic #160: voice contact ago called speaker hear came week worked bought\n",
      "Topic #161: losing coming having immediately life replace started wo going charge\n",
      "Topic #162: zero finally freeze free flawlessly flat fix fit fine feel\n",
      "Topic #163: mic bluetooth couple waiting troubleshooting began realized normal matter rating\n",
      "Topic #164: account sample sell hey need amazon youtube like free flawlessly\n",
      "Topic #165: channel test horrible product zero fine free flawlessly flat fix\n",
      "Topic #166: correctly cell connected charged day turn phone charge fast fix\n",
      "Topic #167: ugly finally feel missing glitch mind replaced unlock earphone say\n",
      "Topic #168: unresponsive button receive 50 began responds responding exchange protector home\n",
      "Topic #169: come finally freeze free flawlessly flat fix fit fine zero\n",
      "Topic #170: whatsoever beautifully replacement tmobile iphone card works seller buying phone\n",
      "Topic #171: friend excited sent item met expectation zero flat fix fit\n",
      "Topic #172: zero finally freeze free flawlessly flat fix fit fine feel\n",
      "Topic #173: turned properly piece worst audio video family ordered certified know\n",
      "Topic #174: quality hand cause make crack lasting video text lot 10\n",
      "Topic #175: guy zero finally freeze free flawlessly flat fix fit fine\n",
      "Topic #176: zero finally freeze free flawlessly flat fix fit fine feel\n",
      "Topic #177: mobile month brother body cracked usage doesnt mean repaired jack\n",
      "Topic #178: product zero fine freeze free flawlessly flat fix fit finally\n",
      "Topic #179: considering user ordered zero finally free flawlessly flat fix fit\n",
      "Topic #180: zero finally freeze free flawlessly flat fix fit fine feel\n",
      "Topic #181: picture zero fine freezing freeze free flawlessly flat fix fit\n",
      "Topic #182: screen zero finally freeze free flawlessly flat fix fit fine\n",
      "Topic #183: turning zero friend freeze free flawlessly flat fix fit fine\n",
      "Topic #184: said zero finally freeze free flawlessly flat fix fit fine\n",
      "Topic #185: basically zero finally freeze free flawlessly flat fix fit fine\n",
      "Topic #186: zero finally freeze free flawlessly flat fix fit fine feel\n",
      "Topic #187: battery zero finally freeze free flawlessly flat fix fit fine\n",
      "Topic #188: zero finally freeze free flawlessly flat fix fit fine feel\n",
      "Topic #189: customer zero finally free flawlessly flat fix fit fine feel\n",
      "Topic #190: like zero friend freeze free flawlessly flat fix fit fine\n",
      "Topic #191: protector amazon plus father glass set late sure able second\n",
      "Topic #192: confirmed showed niece wish charging took store apple guy hope\n",
      "Topic #193: zero finally freeze free flawlessly flat fix fit fine feel\n",
      "Topic #194: return zero friend freeze free flawlessly flat fix fit fine\n",
      "Topic #195: pay wait hard volume hear refund received return phone later\n",
      "Topic #196: damage son updated yesterday zero free flawlessly flat fix fit\n",
      "Topic #197: month zero fine freeze free flawlessly flat fix fit finally\n",
      "Topic #198: bought zero frustrated freezing freeze free flawlessly flat fix fit\n",
      "Topic #199: zero finally freeze free flawlessly flat fix fit fine feel\n",
      "Topic #200: zero finally freeze free flawlessly flat fix fit fine feel\n",
      "Topic #201: zero finally freeze free flawlessly flat fix fit fine feel\n",
      "Topic #202: outside gsm country headphone sim generic phone came charger working\n",
      "Topic #203: earphone responds zero freezing freeze free flawlessly flat fix fit\n",
      "Topic #204: just zero feel free flawlessly flat fix fit fine finally\n",
      "Topic #205: carrier factory read check sure day use iphone far working\n",
      "Topic #206: 90 purchase phone finally freeze free flawlessly flat fix fit\n",
      "Topic #207: zero finally freeze free flawlessly flat fix fit fine feel\n",
      "Topic #208: ordering soon received phone perfect condition zero finally flawlessly flat\n",
      "Topic #209: zero finally freeze free flawlessly flat fix fit fine feel\n",
      "Topic #210: zero finally freeze free flawlessly flat fix fit fine feel\n",
      "Topic #211: finally son later trying charging hour charger got long charge\n",
      "Topic #212: really zero finally freeze free flawlessly flat fix fit fine\n",
      "Topic #213: metro pc does unlock service zero free flawlessly flat fix\n",
      "Topic #214: whatsoever wait case wanted purchase purchased brand condition ordering week\n",
      "Topic #215: believe le new price finally flawlessly flat fix fit fine\n",
      "Topic #216: cellphone nice actually happy really free flawlessly flat fix fit\n",
      "Topic #217: family friend finally freeze free flawlessly flat fix fit fine\n",
      "Topic #218: time finally freeze free flawlessly flat fix fit fine feel\n",
      "Topic #219: suppose iphones mom happier activating fully samsung network opened bring\n",
      "Topic #220: week zero finally free flawlessly flat fix fit fine feel\n",
      "Topic #221: quickly included sent showed scared glad father fit fine glitchy\n",
      "Topic #222: samsung factory user packaging different taking original impressed thing time\n",
      "Topic #223: fairly blue weak strongly line fix called warranty wo told\n",
      "Topic #224: zero finally freeze free flawlessly flat fix fit fine feel\n",
      "Topic #225: zero finally freeze free flawlessly flat fix fit fine feel\n",
      "Topic #226: zero finally freeze free flawlessly flat fix fit fine feel\n",
      "Topic #227: store apple said feel flawlessly flat fix fit fine finally\n",
      "Topic #228: definitely zero friend freeze free flawlessly flat fix fit fine\n",
      "Topic #229: let phone zero fine freezing freeze free flawlessly flat fix\n",
      "Topic #230: fine zero finally freeze free flawlessly flat fix fit feel\n",
      "Topic #231: hold hour really ca waste nt money battery flawlessly flat\n",
      "Topic #232: write son say far impressed review purchase phone nt good\n",
      "Topic #233: personal gsm happening sending didnt want refund free use money\n",
      "Topic #234: china activate immediately card good sim fit free flawlessly flat\n",
      "Topic #235: second fine purchased service product working excellent flawlessly flat fix\n",
      "Topic #236: quit late kind refund return day phone working flat fix\n",
      "Topic #237: zero finally freeze free flawlessly flat fix fit fine feel\n",
      "Topic #238: iphone zero feel free flawlessly flat fix fit fine finally\n",
      "Topic #239: zero finally freeze free flawlessly flat fix fit fine feel\n",
      "Topic #240: dy zero friend freeze free flawlessly flat fix fit fine\n",
      "Topic #241: respond literally person started return worked week touch phone like\n",
      "Topic #242: zero finally freeze free flawlessly flat fix fit fine feel\n",
      "Topic #243: item feel free flawlessly flat fix fit fine finally faulty\n",
      "Topic #244: le 10 finally free flawlessly flat fix fit fine feel\n",
      "Topic #245: wrong zero finally freeze free flawlessly flat fix fit fine\n",
      "Topic #246: wasted totally drain horrible phone month money fit free flawlessly\n",
      "Topic #247: zero finally freeze free flawlessly flat fix fit fine feel\n",
      "Topic #248: cheaper honestly know perfectly getting fine worked phone lot iphone\n",
      "Topic #249: advertised vendor included mobile calling verizon number returning spent store\n",
      "Topic #250: using phone zero finally freeze free flawlessly flat fix fit\n",
      "Topic #251: later return week zero finally flawlessly flat fix fit fine\n",
      "Topic #252: app id yesterday gold nervous glad thought case instead going\n",
      "Topic #253: large certified phone device refurbished properly battery zero freeze free\n",
      "Topic #254: zero finally freeze free flawlessly flat fix fit fine feel\n",
      "Topic #255: getting android zero friend freeze free flawlessly flat fix fit\n",
      "Topic #256: glitch reason kind black screen month nt problem flat fix\n",
      "Topic #257: zero finally freeze free flawlessly flat fix fit fine feel\n",
      "Topic #258: contact needed care told apple amazon phone refurbished nt stopped\n",
      "Topic #259: scratched present wish sent disappointed store apple purchase phone load\n",
      "Topic #260: process phone zero fine freeze free flawlessly flat fix fit\n",
      "Topic #261: charge fine freezing freeze free flawlessly flat fix fit zero\n",
      "Topic #262: working zero friend freeze free flawlessly flat fix fit fine\n",
      "Topic #263: best prepaid cheaper att current sell just look iphone phone\n",
      "Topic #264: 10 small corner bluetooth jack tell dent honestly care headphone\n",
      "Topic #265: died finally freeze free flawlessly flat fix fit fine feel\n",
      "Topic #266: ordered nice work zero fine free flawlessly flat fix fit\n",
      "Topic #267: change let work zero fit freezing freeze free flawlessly flat\n",
      "Topic #268: thanks zero finally freeze free flawlessly flat fix fit fine\n",
      "Topic #269: came zero finally freeze free flawlessly flat fix fit fine\n",
      "Topic #270: stay zero feel free flawlessly flat fix fit fine finally\n",
      "Topic #271: use zero feel free flawlessly flat fix fit fine finally\n",
      "Topic #272: barely hear defective phone zero fit freeze free flawlessly flat\n",
      "Topic #273: big deal phone came scratch nt fit freeze free flawlessly\n",
      "Topic #274: zero finally freeze free flawlessly flat fix fit fine feel\n",
      "Topic #275: wanted zero feel free flawlessly flat fix fit fine finally\n",
      "Topic #276: packaging business mind friend pleased recommend seller definitely nt product\n",
      "Topic #277: randomly zero fine freeze free flawlessly flat fix fit finally\n",
      "Topic #278: add single sign arrived phone perfect fine free flawlessly flat\n",
      "Topic #279: worth zero finally freeze free flawlessly flat fix fit fine\n",
      "Topic #280: zero finally freeze free flawlessly flat fix fit fine feel\n",
      "Topic #281: brother worse try returned use phone iphone refurbished gift touch\n",
      "Topic #282: popped check fit useless open basically mark speaker hear completely\n",
      "Topic #283: device zero finally freeze free flawlessly flat fix fit fine\n",
      "Topic #284: damaged hearing responsible said come amazon came buy phone friend\n",
      "Topic #285: defective zero friend freeze free flawlessly flat fix fit fine\n",
      "Topic #286: ios battery nt zero finally free flawlessly flat fix fit\n",
      "Topic #287: shutter wo camera nt turn finally free flawlessly flat fix\n",
      "Topic #288: slow zero finally free flawlessly flat fix fit fine feel\n",
      "Topic #289: zero finally freeze free flawlessly flat fix fit fine feel\n",
      "Topic #290: staying charged phone fallen fine freeze free flawlessly flat fix\n",
      "Topic #291: text need zero free flawlessly flat fix fit fine finally\n",
      "Topic #292: recommended lasting late returning called le got day camera worked\n",
      "Topic #293: brazil niece present order sent use screen work zero flawlessly\n",
      "Topic #294: scared bit cell online honestly perfect free flawlessly flat fix\n",
      "Topic #295: zero finally freeze free flawlessly flat fix fit fine feel\n",
      "Topic #296: working zero friend freeze free flawlessly flat fix fit fine\n",
      "Topic #297: frustrated quality bad phone charge working battery father faulty feel\n",
      "Topic #298: zero finally freeze free flawlessly flat fix fit fine feel\n",
      "Topic #299: long friend freeze free flawlessly flat fix fit fine finally\n",
      "Topic #300: far zero finally freeze free flawlessly flat fix fit fine\n",
      "Topic #301: nice doubt phone zero finally freeze free flawlessly flat fix\n",
      "Topic #302: complaint zero finally freeze free flawlessly flat fix fit fine\n",
      "Topic #303: store needed spend apple replace need hold battery phone charge\n",
      "Topic #304: support amazon phone window zero fit freeze free flawlessly flat\n",
      "Topic #305: literally worth thing battery charge phone refurbished scratch perfect finally\n",
      "Topic #306: major damage sign open use working far little love ok\n",
      "Topic #307: looked iphone feel free flawlessly flat fix fit fine finally\n",
      "Topic #308: package sad open chance getting phone unlocked zero free flawlessly\n",
      "Topic #309: hope zero finally free flawlessly flat fix fit fine feel\n",
      "Topic #310: pleased finally freeze free flawlessly flat fix fit fine feel\n",
      "Topic #311: caused trouble today pretty nt worked zero freeze free flawlessly\n",
      "Topic #312: glitchy super happy finally freeze free flawlessly flat fix fit\n",
      "Topic #313: japan online weird glitch shutter know ca picture phone sound\n",
      "Topic #314: pay voice proof mic mail start siri upset message 100\n",
      "Topic #315: end mean person away looked horrible 90 speaker called replace\n",
      "Topic #316: free zero finally freeze flawlessly flat fix fit fine feel\n",
      "Topic #317: zero finally freeze free flawlessly flat fix fit fine feel\n",
      "Topic #318: anymore poor beware fix quality store apple month worked refurbished\n",
      "Topic #319: zero finally freeze free flawlessly flat fix fit fine feel\n",
      "Topic #320: proof new like work phone fine freeze free flawlessly flat\n",
      "Topic #321: comment contacted passed company 90 today warranty properly week time\n",
      "Topic #322: exactly zero finally free flawlessly flat fix fit fine feel\n",
      "Topic #323: iphone zero feel free flawlessly flat fix fit fine finally\n",
      "Topic #324: zero finally freeze free flawlessly flat fix fit fine feel\n",
      "Topic #325: cellphone contact brazil unlock locked want carrier return nt bought\n",
      "Topic #326: expectation met zero friend freeze free flawlessly flat fix fit\n",
      "Topic #327: zero finally freeze free flawlessly flat fix fit fine feel\n",
      "Topic #328: android boot afraid switch response sending die message completely make\n",
      "Topic #329: vendor don useless line totally cost 90 called returned worth\n",
      "Topic #330: zero finally freeze free flawlessly flat fix fit fine feel\n",
      "Topic #331: sister bought zero friend freeze free flawlessly flat fix fit\n",
      "Topic #332: upgrade activate needed fine easy came long condition nt phone\n",
      "Topic #333: zero finally freeze free flawlessly flat fix fit fine feel\n",
      "Topic #334: ago got charger month problem buy working price good flat\n",
      "Topic #335: zero finally freeze free flawlessly flat fix fit fine feel\n",
      "Topic #336: came wonderful crappy negative current cricket half christmas nervous deal\n",
      "Topic #337: zero finally freeze free flawlessly flat fix fit fine feel\n",
      "Topic #338: wife ready overseas business needed life gift just sister card\n",
      "Topic #339: zero finally freeze free flawlessly flat fix fit fine feel\n",
      "Topic #340: phone zero fine freezing freeze free flawlessly flat fix fit\n",
      "Topic #341: policy impossible anymore reach away disappointed recommend definitely month phone\n",
      "Topic #342: wife nice mark phone love fallen fine freeze free flawlessly\n",
      "Topic #343: plan shape phone getting service great problem glitch finally free\n",
      "Topic #344: lasted hour died buy phone zero fit freeze free flawlessly\n",
      "Topic #345: buy zero fine freezing freeze free flawlessly flat fix fit\n",
      "Topic #346: look zero finally freeze free flawlessly flat fix fit fine\n",
      "Topic #347: zero finally freeze free flawlessly flat fix fit fine feel\n",
      "Topic #348: walmart plan amazing like work new phone works great father\n",
      "Topic #349: drop network website ring connect calling description wifi receiving second\n",
      "Topic #350: happy zero finally freeze free flawlessly flat fix fit fine\n",
      "Topic #351: facetime wrong message hardware phone condition ok zero free flawlessly\n",
      "Topic #352: dead battery zero fine freeze free flawlessly flat fix fit\n",
      "Topic #353: taking zero friend freeze free flawlessly flat fix fit fine\n",
      "Topic #354: use phone zero finally freeze free flawlessly flat fix fit\n",
      "Topic #355: love zero finally freeze free flawlessly flat fix fit fine\n",
      "Topic #356: purchase phone zero fine freeze free flawlessly flat fix fit\n",
      "Topic #357: camera zero finally freeze free flawlessly flat fix fit fine\n",
      "Topic #358: number card nt zero fine freeze free flawlessly flat fix\n",
      "Topic #359: youtube fine freezing freeze free flawlessly flat fix fit finally\n",
      "Topic #360: dont unresponsive waste phone money screen zero fine flawlessly flat\n",
      "Topic #361: zero finally freeze free flawlessly flat fix fit fine feel\n",
      "Topic #362: headset expensive original thought new charger phone used work fix\n",
      "Topic #363: zero finally freeze free flawlessly flat fix fit fine feel\n",
      "Topic #364: hold battery phone charge fix friend freezing freeze free flawlessly\n",
      "Topic #365: day zero friend freeze free flawlessly flat fix fit fine\n",
      "Topic #366: 80 poorly scuff kept dying phone buy mark know suck\n",
      "Topic #367: refused die 100 slow hour phone battery good work zero\n",
      "Topic #368: got phone zero finally freeze free flawlessly flat fix fit\n",
      "Topic #369: zero finally freeze free flawlessly flat fix fit fine feel\n",
      "Topic #370: shutting change data turning phone battery far freezing family freeze\n",
      "Topic #371: apple setting half say stuck store fine phone iphone time\n",
      "Topic #372: soon zero feel free flawlessly flat fix fit fine finally\n",
      "Topic #373: nt zero finally freeze free flawlessly flat fix fit fine\n",
      "Topic #374: know work zero finally free flawlessly flat fix fit fine\n",
      "Topic #375: updated thinking description activated shape message ios need send new\n",
      "Topic #376: easy phone zero fit freezing freeze free flawlessly flat fix\n",
      "Topic #377: noticeable shutting started feel free flawlessly flat fix fit fine\n",
      "Topic #378: charging zero fine freeze free flawlessly flat fix fit finally\n",
      "Topic #379: corner crack caused afraid cracked flat difficult notice continued receiving\n",
      "Topic #380: terrible zero finally freeze free flawlessly flat fix fit fine\n",
      "Topic #381: mail defect second phone deal nt zero fine free flawlessly\n",
      "Topic #382: sim card zero fine freeze free flawlessly flat fix fit\n",
      "Topic #383: garbage phone zero fine freeze free flawlessly flat fix fit\n",
      "Topic #384: prepaid plan work condition phone great fine freeze free flawlessly\n",
      "Topic #385: looking response set zero finally free flawlessly flat fix fit\n",
      "Topic #386: zero finally freeze free flawlessly flat fix fit fine feel\n",
      "Topic #387: quit screen shutting feel flawlessly flat fix fit fine finally\n",
      "Topic #388: recommend zero feel free flawlessly flat fix fit fine finally\n",
      "Topic #389: smartphone im today using product happy good glad faulty fix\n",
      "Topic #390: im scared returning want garbage phone send fix fit fine\n",
      "Topic #391: absolutely purchase recommend actually brand received time buying look great\n",
      "Topic #392: brand new zero fine freeze free flawlessly flat fix fit\n",
      "Topic #393: zero finally freeze free flawlessly flat fix fit fine feel\n",
      "Topic #394: buying maybe troubleshooting thinking software continued dying poor 30 reach\n",
      "Topic #395: box zero frustrated freezing freeze free flawlessly flat fix fit\n",
      "Topic #396: little zero friend freeze free flawlessly flat fix fit fine\n",
      "Topic #397: described zero finally freeze free flawlessly flat fix fit fine\n",
      "Topic #398: took key defect hard certified starting website started 500 body\n",
      "Topic #399: listen include people original case need apple come nt charger\n",
      "Topic #400: zero finally freeze free flawlessly flat fix fit fine feel\n",
      "Topic #401: check sure carrier read use working factory iphone problem far\n",
      "Topic #402: button volume way zero finally free flawlessly flat fix fit\n",
      "Topic #403: correctly functioning turned screen defective zero finally flawlessly flat fix\n",
      "Topic #404: charger fine freezing freeze free flawlessly flat fix fit zero\n",
      "Topic #405: zero finally freeze free flawlessly flat fix fit fine feel\n",
      "Topic #406: zero finally freeze free flawlessly flat fix fit fine feel\n",
      "Topic #407: expect wifi 300 data disappointed screen touch work family fine\n",
      "Topic #408: regret die nice fully 45 minute completely purchase recommend phone\n",
      "Topic #409: apple gotten lost arrival ridiculous bit start saved damaged drain\n",
      "Topic #410: hard battery issue family fine freeze free flawlessly flat fix\n",
      "Topic #411: zero finally freeze free flawlessly flat fix fit fine feel\n",
      "Topic #412: crack fine phone perfectly scratch working work finally free flawlessly\n",
      "Topic #413: faulty speaker sold phone work flat fix fit fine finally\n",
      "Topic #414: zero finally freeze free flawlessly flat fix fit fine feel\n",
      "Topic #415: android overseas previous trouble sure sent freezing free flawlessly flat\n",
      "Topic #416: zero finally freeze free flawlessly flat fix fit fine feel\n",
      "Topic #417: hey iphone zero finally free flawlessly flat fix fit fine\n",
      "Topic #418: fairly notice couple turned phone working far great happy family\n",
      "Topic #419: zero finally freeze free flawlessly flat fix fit fine feel\n",
      "Topic #420: given old new gift issue like great work flat fix\n",
      "Topic #421: new zero finally freeze free flawlessly flat fix fit fine\n",
      "Topic #422: zero finally freeze free flawlessly flat fix fit fine feel\n",
      "Topic #423: cricket im today going got fine service great work flat\n",
      "Topic #424: stopped charging worked waste money nt day flawlessly flat fix\n",
      "Topic #425: hear mute 98 people black reset went button phone ca\n",
      "Topic #426: disappointed returned charge battery fit freezing freeze free flawlessly flat\n",
      "Topic #427: black size immediately fine freeze free flawlessly flat fix fit\n",
      "Topic #428: end night extremely thought disappointed let come got charger seller\n",
      "Topic #429: issue feel free flawlessly flat fix fit fine finally faulty\n",
      "Topic #430: zero finally freeze free flawlessly flat fix fit fine feel\n",
      "Topic #431: told month contacted requested previous lasted passed hardware return freeze\n",
      "Topic #432: zero finally freeze free flawlessly flat fix fit fine feel\n",
      "Topic #433: help exchange need month phone problem zero free flawlessly flat\n",
      "Topic #434: zero finally freeze free flawlessly flat fix fit fine feel\n",
      "Topic #435: setting store new price works phone use problem fit fake\n",
      "Topic #436: glass know new screen phone camera nt bought finally flawlessly\n",
      "Topic #437: zero finally freeze free flawlessly flat fix fit fine feel\n",
      "Topic #438: blocked cut sprint locked phone card used sim fine free\n",
      "Topic #439: zero finally freeze free flawlessly flat fix fit fine feel\n",
      "Topic #440: works zero friend freeze free flawlessly flat fix fit fine\n",
      "Topic #441: arrival sensitivity damage looked nice freeze phone soon touch refurbished\n",
      "Topic #442: zero finally freeze free flawlessly flat fix fit fine feel\n",
      "Topic #443: problem zero fine freeze free flawlessly flat fix fit finally\n",
      "Topic #444: zero finally freeze free flawlessly flat fix fit fine feel\n",
      "Topic #445: bad zero finally freeze free flawlessly flat fix fit fine\n",
      "Topic #446: battery zero finally freeze free flawlessly flat fix fit fine\n",
      "Topic #447: zero finally freeze free flawlessly flat fix fit fine feel\n",
      "Topic #448: perfect zero fine freezing freeze free flawlessly flat fix fit\n",
      "Topic #449: year zero finally freeze free flawlessly flat fix fit fine\n",
      "Topic #450: phone zero fine freezing freeze free flawlessly flat fix fit\n",
      "Topic #451: instead brand amazon new iphone working warranty flat fix fit\n",
      "Topic #452: zero finally freeze free flawlessly flat fix fit fine feel\n",
      "Topic #453: zero finally freeze free flawlessly flat fix fit fine feel\n",
      "Topic #454: zero finally freeze free flawlessly flat fix fit fine feel\n",
      "Topic #455: power fallen rip beautifully barely unlock think overall case tried\n",
      "Topic #456: zero finally freeze free flawlessly flat fix fit fine feel\n",
      "Topic #457: charged stayed constantly fully minute phone great fit free flawlessly\n",
      "Topic #458: single spent ordered pleased know chance recommend definitely buy phone\n",
      "Topic #459: quality zero fine freeze free flawlessly flat fix fit finally\n",
      "Topic #460: zero finally freeze free flawlessly flat fix fit fine feel\n",
      "Topic #461: suck finally freeze free flawlessly flat fix fit fine zero\n",
      "Topic #462: loving present package daughter impressed item time really fine flawlessly\n",
      "Topic #463: shipping zero friend freeze free flawlessly flat fix fit fine\n",
      "Topic #464: totally original zero fine freeze free flawlessly flat fix fit\n",
      "Topic #465: highly recommend set phone freeze free flawlessly flat fix fit\n",
      "Topic #466: quick went zero finally flawlessly flat fix fit fine feel\n",
      "Topic #467: country phone nt zero free flawlessly flat fix fit fine\n",
      "Topic #468: satisfied zero finally freeze free flawlessly flat fix fit fine\n",
      "Topic #469: different come charger came new brand phone great drop durable\n",
      "Topic #470: zero finally freeze free flawlessly flat fix fit fine feel\n",
      "Topic #471: cable generic came great fine freeze free flawlessly flat fix\n",
      "Topic #472: smartphone user hand store song wonderful version beautifully app beautiful\n",
      "Topic #473: used zero feel free flawlessly flat fix fit fine finally\n",
      "Topic #474: sound reason overall turned let phone happening turn time nt\n",
      "Topic #475: zero finally freeze free flawlessly flat fix fit fine feel\n",
      "Topic #476: zero finally freeze free flawlessly flat fix fit fine feel\n",
      "Topic #477: started facing reason feel free flawlessly flat fix fit fine\n",
      "Topic #478: say sure guy brand new refurbished bad thank glad father\n",
      "Topic #479: extremely zero feel free flawlessly flat fix fit fine finally\n",
      "Topic #480: nt zero finally freeze free flawlessly flat fix fit fine\n",
      "Topic #481: include headphone original disappointed charger phone freeze free going flawlessly\n",
      "Topic #482: perfectly work phone zero fine freeze free flawlessly flat fix\n",
      "Topic #483: stayed reading scared work perfectly phone scratch bought faulty flat\n",
      "Topic #484: say certified amazon apple took responsible body website starting key\n",
      "Topic #485: sample email reach smartphones different hear soon thanks love really\n",
      "Topic #486: key stick nt battery working zero flawlessly flat fix fit\n",
      "Topic #487: cheap weird home feel button chance month phone using worked\n",
      "Topic #488: zero finally freeze free flawlessly flat fix fit fine feel\n",
      "Topic #489: poorly microphone iphone look problem work finally flawlessly flat fix\n",
      "Topic #490: zero finally freeze free flawlessly flat fix fit fine feel\n",
      "Topic #491: totally reading looking phone zero finally free flawlessly flat fix\n",
      "Topic #492: zero finally freeze free flawlessly flat fix fit fine feel\n",
      "Topic #493: zero finally freeze free flawlessly flat fix fit fine feel\n",
      "Topic #494: phone zero fine freezing freeze free flawlessly flat fix fit\n",
      "Topic #495: purchase chose negative known regret reading make worked review happy\n",
      "Topic #496: zero finally freeze free flawlessly flat fix fit fine feel\n",
      "Topic #497: service zero friend freeze free flawlessly flat fix fit fine\n",
      "Topic #498: flat store payed silent mute china tell happen shutter spent\n",
      "Topic #499: zero finally freeze free flawlessly flat fix fit fine feel\n",
      "Topic #500: getting worried noticeable small beautiful barely overall carrier case pleased\n",
      "Topic #501: loved finally freeze free flawlessly flat fix fit fine feel\n",
      "Topic #502: zero finally freeze free flawlessly flat fix fit fine feel\n",
      "Topic #503: zero finally freeze free flawlessly flat fix fit fine feel\n",
      "Topic #504: took chance phone zero fit freezing freeze free flawlessly flat\n",
      "Topic #505: bigger super wait ios thing long nt happy battery problem\n",
      "Topic #506: zero finally freeze free flawlessly flat fix fit fine feel\n",
      "Topic #507: zero finally freeze free flawlessly flat fix fit fine feel\n",
      "Topic #508: excelent zero finally free flawlessly flat fix fit fine feel\n",
      "Topic #509: excelente product zero friend freeze free flawlessly flat fix fit\n",
      "Topic #510: zero finally freeze free flawlessly flat fix fit fine feel\n",
      "Topic #511: wait worth zero feel free flawlessly flat fix fit fine\n",
      "Topic #512: wo hearing yesterday try nt phone number glitch feel flawlessly\n",
      "Topic #513: birthday niece loving present fit freeze free flawlessly flat fix\n",
      "Topic #514: usa showed email response called sent hold time charge battery\n",
      "Topic #515: solve upset problem phone screen know gift came touch send\n",
      "Topic #516: power late impressed button came broken father faulty feel finally\n",
      "Topic #517: deal zero friend freeze free flawlessly flat fix fit fine\n",
      "Topic #518: headset lost usa wifi brazil sound time working return phone\n",
      "Topic #519: beautiful mind reading shipping star slow getting wait money received\n",
      "Topic #520: great finally freeze free flawlessly flat fix fit fine feel\n",
      "Topic #521: zero finally freeze free flawlessly flat fix fit fine feel\n",
      "Topic #522: locked phone zero freeze free flawlessly flat fix fit fine\n",
      "Topic #523: hour occasion refused shut buyer beware fix replace refund charging\n",
      "Topic #524: tried day update 30 freezing normal 500 stuck return screen\n",
      "Topic #525: zero finally freeze free flawlessly flat fix fit fine feel\n",
      "Topic #526: original requested got new charger iphone good fast father faulty\n",
      "Topic #527: wo performance nt okay easily impossible paying aka chose run\n",
      "Topic #528: zero finally freeze free flawlessly flat fix fit fine feel\n",
      "Topic #529: mess speaker started month feel flawlessly flat fix fit fine\n",
      "Topic #530: stopped working zero freezing free flawlessly flat fix fit fine\n",
      "Topic #531: batter shut 20 lot time randomly free flawlessly flat fix\n",
      "Topic #532: waste phone zero free flawlessly flat fix fit fine finally\n",
      "Topic #533: zero finally freeze free flawlessly flat fix fit fine feel\n",
      "Topic #534: waiting monday known ordered happy zero flawlessly flat fix fit\n",
      "Topic #535: connected plan condition nt charger look service good came free\n",
      "Topic #536: 80 supposed excited thought 100 turn charger battery died new\n",
      "Topic #537: zero finally freeze free flawlessly flat fix fit fine feel\n",
      "Topic #538: zero finally freeze free flawlessly flat fix fit fine feel\n",
      "Topic #539: came condition zero finally freeze free flawlessly flat fix fit\n",
      "Topic #540: siri sure headphone necessary hear fully thought software bluetooth apple\n",
      "Topic #541: make email message warranty sent told getting purchase send 90\n",
      "Topic #542: fake zero finally freeze free flawlessly flat fix fit fine\n",
      "Topic #543: upset constantly life freeze battery phone really finally flawlessly flat\n",
      "Topic #544: zero finally freeze free flawlessly flat fix fit fine feel\n",
      "Topic #545: brand new zero fine freeze free flawlessly flat fix fit\n",
      "Topic #546: supplier fact plugged unable try unless process purchase charging properly\n",
      "Topic #547: apple beginning gave going use charge dy battery yes flawlessly\n",
      "Topic #548: gold text receive notification opened mail does glitch sending reason\n",
      "Topic #549: delivered birthday saved shape purchase new looks money phone good\n",
      "Topic #550: facing disappointing facetime video siri faulty cable condition refurbished phone\n",
      "Topic #551: product zero fine freeze free flawlessly flat fix fit finally\n",
      "Topic #552: zero supplier dollar sell time damaged reason gave garbage data\n",
      "Topic #553: awesome finally freeze free flawlessly flat fix fit fine feel\n",
      "Topic #554: icloud zero finally free flawlessly flat fix fit fine feel\n",
      "Topic #555: advertised fine freezing freeze free flawlessly flat fix fit zero\n",
      "Topic #556: zero finally freeze free flawlessly flat fix fit fine feel\n",
      "Topic #557: port charging nt work zero fine freeze free flawlessly flat\n",
      "Topic #558: store notification ring home cause check activated kind left carrier\n",
      "Topic #559: crack lasting company life picture size durable bring asap easily\n",
      "Topic #560: lot zero finally freeze free flawlessly flat fix fit fine\n",
      "Topic #561: love zero finally freeze free flawlessly flat fix fit fine\n",
      "Topic #562: activation zero frustrated freezing freeze free flawlessly flat fix fit\n",
      "Topic #563: work zero friend freeze free flawlessly flat fix fit fine\n",
      "Topic #564: batter kind thing condition phone good finally free flawlessly flat\n",
      "Topic #565: stick unresponsive mean beginning worse app passed certified deal thought\n",
      "Topic #566: review zero friend freeze free flawlessly flat fix fit fine\n",
      "Topic #567: stuff sad mom boot huge tech saved support doesnt factory\n",
      "Topic #568: version believe shutter ca sound received turn nt glitch faulty\n",
      "Topic #569: quickly phone zero fine freeze free flawlessly flat fix fit\n",
      "Topic #570: excellent zero finally free flawlessly flat fix fit fine feel\n",
      "Topic #571: complete completely tried return turn dead received iphone charge waste\n",
      "Topic #572: pleased performance life using ca let impressed time use phone\n",
      "Topic #573: ridiculous hand absolutely horrible ordered certified screen refurbished iphone buy\n",
      "Topic #574: zero finally freeze free flawlessly flat fix fit fine feel\n",
      "Topic #575: spent old expected iphone daughter product price happy finally flat\n",
      "Topic #576: scratched case finally freeze free flawlessly flat fix fit fine\n",
      "Topic #577: charged fine freezing freeze free flawlessly flat fix fit finally\n",
      "Topic #578: microphone expect doesnt work money zero fit free flawlessly flat\n",
      "Topic #579: smartphones flawlessly working buying phone new far used finally free\n",
      "Topic #580: trying got charge phone turn flat friend freezing freeze family\n",
      "Topic #581: fast zero finally freeze free flawlessly flat fix fit fine\n",
      "Topic #582: zero finally freeze free flawlessly flat fix fit fine feel\n",
      "Topic #583: description set talk told straight come apple able nt camera\n",
      "Topic #584: going especially nervous phone family freeze free flawlessly flat fix\n",
      "Topic #585: sound picture button turn work disappointed fine freeze free flawlessly\n",
      "Topic #586: gave screen dollar learned att respond lesson repaired try glad\n",
      "Topic #587: zero finally freeze free flawlessly flat fix fit fine feel\n",
      "Topic #588: run yesterday got phone battery right fast soon charge glass\n",
      "Topic #589: yes zero finally freeze free flawlessly flat fix fit fine\n",
      "Topic #590: zero finally freeze free flawlessly flat fix fit fine feel\n",
      "Topic #591: purchased zero fine freeze free flawlessly flat fix fit finally\n",
      "Topic #592: zero finally freeze free flawlessly flat fix fit fine feel\n",
      "Topic #593: rip making expired useless functioning shut normal 500 siri receiving\n",
      "Topic #594: attention comment crappy payed known shutting wish amazon customer phone\n",
      "Topic #595: touch screen zero feel free flawlessly flat fix fit fine\n",
      "Topic #596: properly work zero freeze free flawlessly flat fix fit fine\n",
      "Topic #597: zero finally freeze free flawlessly flat fix fit fine feel\n",
      "Topic #598: realize start later lot brand phone new buy issue yes\n",
      "Topic #599: policy passed 90 stuck apple month screen return day phone\n",
      "Topic #600: ca nt finally freeze free flawlessly flat fix fit fine\n",
      "Topic #601: freeze phone zero fine freezing free flawlessly flat fix fit\n",
      "Topic #602: father mess jack highly didnt headphone disappointed phone screen card\n",
      "Topic #603: did fine come card nt sim zero free flawlessly flat\n",
      "Topic #604: glad completely store need amazon right bought customer met expectation\n",
      "Topic #605: normally replace change let properly camera work know iphone nt\n",
      "Topic #606: gift zero free flawlessly flat fix fit fine finally feel\n",
      "Topic #607: refurbished zero feel free flawlessly flat fix fit fine finally\n",
      "Topic #608: looks zero finally freeze free flawlessly flat fix fit fine\n",
      "Topic #609: thank zero finally freeze free flawlessly flat fix fit fine\n",
      "Topic #610: zero finally freeze free flawlessly flat fix fit fine feel\n",
      "Topic #611: piece don 98 window slow minute buy work zero fit\n",
      "Topic #612: test took doubt dont huge exchange upset pas hardware drop\n",
      "Topic #613: good zero feel free flawlessly flat fix fit fine finally\n",
      "Topic #614: facing function scratched overall using properly time year screen bad\n",
      "Topic #615: zero finally freeze free flawlessly flat fix fit fine feel\n",
      "Topic #616: zero finally freeze free flawlessly flat fix fit fine feel\n",
      "Topic #617: phone type price frustrated sensitivity entirely having awful normally password\n",
      "Topic #618: arrived time finally freeze free flawlessly flat fix fit fine\n",
      "Topic #619: hour phone zero fine freeze free flawlessly flat fix fit\n",
      "Topic #620: previous big phone love fit freeze free flawlessly flat fix\n",
      "\n"
     ]
    }
   ],
   "source": [
    "print(\"\\nTopics in NMF model (generalized Kullback-Leibler divergence):\")\n",
    "tfidf_feature_names = tfidf_vectorizer.get_feature_names()\n",
    "print_top_words(nmf, tfidf_feature_names, 10)"
   ]
  },
  {
   "cell_type": "code",
   "execution_count": 54,
   "metadata": {},
   "outputs": [
    {
     "name": "stdout",
     "output_type": "stream",
     "text": [
      "Fitting LDA models with tf features, n_samples=1000 and n_features=1000...\n"
     ]
    }
   ],
   "source": [
    "print(\"Fitting LDA models with tf features, \"\n",
    "      \"n_samples=%d and n_features=%d...\"\n",
    "      % (1000, 1000))\n",
    "lda = LatentDirichletAllocation(max_iter=5,\n",
    "                                learning_method='online',\n",
    "                                learning_offset=50.,\n",
    "                                random_state=0)"
   ]
  },
  {
   "cell_type": "code",
   "execution_count": 55,
   "metadata": {},
   "outputs": [
    {
     "data": {
      "text/plain": [
       "LatentDirichletAllocation(batch_size=128, doc_topic_prior=None,\n",
       "             evaluate_every=-1, learning_decay=0.7,\n",
       "             learning_method='online', learning_offset=50.0,\n",
       "             max_doc_update_iter=100, max_iter=5, mean_change_tol=0.001,\n",
       "             n_components=10, n_jobs=1, n_topics=None, perp_tol=0.1,\n",
       "             random_state=0, topic_word_prior=None,\n",
       "             total_samples=1000000.0, verbose=0)"
      ]
     },
     "execution_count": 55,
     "metadata": {},
     "output_type": "execute_result"
    }
   ],
   "source": [
    "lda.fit(tf)"
   ]
  },
  {
   "cell_type": "code",
   "execution_count": 56,
   "metadata": {
    "scrolled": true
   },
   "outputs": [
    {
     "name": "stdout",
     "output_type": "stream",
     "text": [
      "\n",
      "Topics in LDA model:\n",
      "Topic #0: thank monday waiting randomly happy happening turning known ordered fully new sound bad refurbished problem complaint sure just let iphone\n",
      "Topic #1: loved yes awesome thanks suppose satisfied daughter phone guy described mom network works opened flawlessly sprint samsung buy iphones happier\n",
      "Topic #2: worked store review battery new apple said gold hold yesterday instead needed sold buying perfectly issue charge id set excellent\n",
      "Topic #3: issue phone speaker called minute battery load charged blue hear worked 20 amazing friend completely bought mess problem work person\n",
      "Topic #4: terrible supplier garbage dollar zero product data reason time stuck charge phone sell far like star minute suck gave damaged\n",
      "Topic #5: phone nt iphone great work good new battery product problem time buy working screen like love came apple condition refurbished\n",
      "Topic #6: broke crack corner day phone caused ok unless pretty screen notice cracked difficult received receiving flat honestly continued afraid returned\n",
      "Topic #7: described exactly review wanted free youtube excelent better thank broken fast worth wait seller item best guy shipping damage updated\n",
      "Topic #8: phone want free expectation met im refund box scared garbage send item going returning load music excited friend stuck listen\n",
      "Topic #9: original fake totally beware fix phone refused buyer product shut occasion money hour refund little month amazing replace charging apple\n",
      "\n"
     ]
    }
   ],
   "source": [
    "print(\"\\nTopics in LDA model:\")\n",
    "tf_feature_names = tf_vectorizer.get_feature_names()\n",
    "print_top_words(lda, tf_feature_names, 20)"
   ]
  },
  {
   "cell_type": "code",
   "execution_count": 65,
   "metadata": {
    "collapsed": true
   },
   "outputs": [],
   "source": [
    "# Create training and test sets\n",
    "train, test = train_test_split(data['Review_Text'],test_size=0.2,random_state=1)"
   ]
  },
  {
   "cell_type": "code",
   "execution_count": 66,
   "metadata": {},
   "outputs": [
    {
     "data": {
      "text/plain": [
       "(114,)"
      ]
     },
     "execution_count": 66,
     "metadata": {},
     "output_type": "execute_result"
    }
   ],
   "source": [
    "test.shape"
   ]
  },
  {
   "cell_type": "code",
   "execution_count": 68,
   "metadata": {},
   "outputs": [
    {
     "data": {
      "text/plain": [
       "['00',\n",
       " 'act',\n",
       " 'apple',\n",
       " 'behind',\n",
       " 'business',\n",
       " 'charger',\n",
       " 'considerably',\n",
       " 'dead',\n",
       " 'doesn',\n",
       " 'evade',\n",
       " 'faster',\n",
       " 'freezes',\n",
       " 'gonna',\n",
       " 'hence',\n",
       " 'info',\n",
       " 'keys',\n",
       " 'little',\n",
       " 'marks',\n",
       " 'move',\n",
       " 'nytimes',\n",
       " 'packaged',\n",
       " 'popped',\n",
       " 'protesters',\n",
       " 'refund',\n",
       " 'safest',\n",
       " 'seven',\n",
       " 'someone',\n",
       " 'sucked',\n",
       " 'them',\n",
       " 'twisted',\n",
       " 've',\n",
       " 'wht']"
      ]
     },
     "execution_count": 68,
     "metadata": {},
     "output_type": "execute_result"
    }
   ],
   "source": [
    "vect = CountVectorizer().fit(train)\n",
    "vect.get_feature_names()[::50]"
   ]
  },
  {
   "cell_type": "code",
   "execution_count": 69,
   "metadata": {},
   "outputs": [
    {
     "data": {
      "text/plain": [
       "1594"
      ]
     },
     "execution_count": 69,
     "metadata": {},
     "output_type": "execute_result"
    }
   ],
   "source": [
    "len(vect.get_feature_names())"
   ]
  },
  {
   "cell_type": "code",
   "execution_count": 70,
   "metadata": {},
   "outputs": [
    {
     "data": {
      "text/plain": [
       "<456x1594 sparse matrix of type '<class 'numpy.int64'>'\n",
       "\twith 8296 stored elements in Compressed Sparse Row format>"
      ]
     },
     "execution_count": 70,
     "metadata": {},
     "output_type": "execute_result"
    }
   ],
   "source": [
    "# transform the documents in the training data to a document-term matrix\n",
    "train_vectorized = vect.transform(train)\n",
    "\n",
    "train_vectorized"
   ]
  },
  {
   "cell_type": "code",
   "execution_count": 71,
   "metadata": {},
   "outputs": [
    {
     "data": {
      "text/plain": [
       "165"
      ]
     },
     "execution_count": 71,
     "metadata": {},
     "output_type": "execute_result"
    }
   ],
   "source": [
    "from sklearn.feature_extraction.text import TfidfVectorizer\n",
    "\n",
    "# Fit the TfidfVectorizer to the training data specifiying a minimum document frequency of 5\n",
    "tfidfvect = TfidfVectorizer(min_df=10).fit(train)\n",
    "len(tfidfvect.get_feature_names())"
   ]
  },
  {
   "cell_type": "code",
   "execution_count": 72,
   "metadata": {},
   "outputs": [
    {
     "data": {
      "text/plain": [
       "['perfectly',\n",
       " 'phone',\n",
       " 'phones',\n",
       " 'price',\n",
       " 'problem',\n",
       " 'problems',\n",
       " 'product',\n",
       " 'properly',\n",
       " 'purchase',\n",
       " 'really',\n",
       " 'received',\n",
       " 'recommend',\n",
       " 'refurbished',\n",
       " 'return',\n",
       " 'reviews',\n",
       " 'scratches',\n",
       " 'screen',\n",
       " 'seller',\n",
       " 'send',\n",
       " 'service']"
      ]
     },
     "execution_count": 72,
     "metadata": {},
     "output_type": "execute_result"
    }
   ],
   "source": [
    "tfidfvect.get_feature_names()[100:120]"
   ]
  },
  {
   "cell_type": "code",
   "execution_count": null,
   "metadata": {
    "collapsed": true
   },
   "outputs": [],
   "source": []
  },
  {
   "cell_type": "code",
   "execution_count": null,
   "metadata": {
    "collapsed": true
   },
   "outputs": [],
   "source": []
  }
 ],
 "metadata": {
  "kernelspec": {
   "display_name": "Python 3",
   "language": "python",
   "name": "python3"
  },
  "language_info": {
   "codemirror_mode": {
    "name": "ipython",
    "version": 3
   },
   "file_extension": ".py",
   "mimetype": "text/x-python",
   "name": "python",
   "nbconvert_exporter": "python",
   "pygments_lexer": "ipython3",
   "version": "3.6.3"
  }
 },
 "nbformat": 4,
 "nbformat_minor": 2
}
