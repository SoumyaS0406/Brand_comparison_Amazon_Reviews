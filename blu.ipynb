{
 "cells": [
  {
   "cell_type": "code",
   "execution_count": 1,
   "metadata": {
    "collapsed": true
   },
   "outputs": [],
   "source": [
    "import pandas as pd \n",
    "import seaborn as sns \n",
    "import numpy as np\n",
    "import matplotlib.pyplot as plt\n",
    "\n",
    "import nltk\n",
    "from nltk.tokenize import word_tokenize\n",
    "from nltk.corpus import stopwords\n",
    "import re\n",
    "import string\n",
    "\n",
    "from nltk.stem.porter import PorterStemmer\n",
    "from nltk.stem.snowball import SnowballStemmer\n",
    "from nltk.stem.wordnet import WordNetLemmatizer\n",
    "\n",
    "from sklearn.model_selection import train_test_split\n",
    "from sklearn.feature_extraction.text import CountVectorizer,TfidfVectorizer"
   ]
  },
  {
   "cell_type": "code",
   "execution_count": 2,
   "metadata": {
    "collapsed": true
   },
   "outputs": [],
   "source": [
    "\n",
    "data = pd.read_csv('C:/Users/Rhea/Documents/INNOVATION/PROJECT/Amazon_Phone_Blu2_Reviews.csv',\n",
    "                   names=['Phone_Name','Date','Rating_Out_of_5','Review_Title','Review_Text'])\n",
    "\n"
   ]
  },
  {
   "cell_type": "code",
   "execution_count": 3,
   "metadata": {
    "scrolled": true
   },
   "outputs": [
    {
     "data": {
      "text/html": [
       "<div>\n",
       "<style>\n",
       "    .dataframe thead tr:only-child th {\n",
       "        text-align: right;\n",
       "    }\n",
       "\n",
       "    .dataframe thead th {\n",
       "        text-align: left;\n",
       "    }\n",
       "\n",
       "    .dataframe tbody tr th {\n",
       "        vertical-align: top;\n",
       "    }\n",
       "</style>\n",
       "<table border=\"1\" class=\"dataframe\">\n",
       "  <thead>\n",
       "    <tr style=\"text-align: right;\">\n",
       "      <th></th>\n",
       "      <th>Phone_Name</th>\n",
       "      <th>Date</th>\n",
       "      <th>Rating_Out_of_5</th>\n",
       "      <th>Review_Title</th>\n",
       "      <th>Review_Text</th>\n",
       "    </tr>\n",
       "  </thead>\n",
       "  <tbody>\n",
       "    <tr>\n",
       "      <th>0</th>\n",
       "      <td>Phone_Name</td>\n",
       "      <td>Date</td>\n",
       "      <td>Rating_Out_of_5</td>\n",
       "      <td>Review_Title</td>\n",
       "      <td>Review_Text</td>\n",
       "    </tr>\n",
       "    <tr>\n",
       "      <th>1</th>\n",
       "      <td>BLU VIVO XL2 - 5.5\" 4G LTE GSM</td>\n",
       "      <td>20-Feb-17</td>\n",
       "      <td>5</td>\n",
       "      <td>ABOUT FREAKING TIME!!!! UPDATED POST!!</td>\n",
       "      <td>Over the years, I've tried maybe 6 Blu phones....</td>\n",
       "    </tr>\n",
       "    <tr>\n",
       "      <th>2</th>\n",
       "      <td>BLU VIVO XL2 - 5.5\" 4G LTE GSM</td>\n",
       "      <td>7-Mar-17</td>\n",
       "      <td>5</td>\n",
       "      <td>Open Honest Review</td>\n",
       "      <td>People love to get a new phone and,  while rid...</td>\n",
       "    </tr>\n",
       "    <tr>\n",
       "      <th>3</th>\n",
       "      <td>BLU VIVO XL2 - 5.5\" 4G LTE GSM</td>\n",
       "      <td>30-May-17</td>\n",
       "      <td>1</td>\n",
       "      <td>Update - don't waste your money!  A pretty sol...</td>\n",
       "      <td>Update seven months in:  I've had to go from f...</td>\n",
       "    </tr>\n",
       "    <tr>\n",
       "      <th>4</th>\n",
       "      <td>BLU VIVO XL2 - 5.5\" 4G LTE GSM</td>\n",
       "      <td>3-Mar-17</td>\n",
       "      <td>1</td>\n",
       "      <td>Spyware still. Come on Blu get it together!</td>\n",
       "      <td>Still has a security issue,waiting on Blu to r...</td>\n",
       "    </tr>\n",
       "  </tbody>\n",
       "</table>\n",
       "</div>"
      ],
      "text/plain": [
       "                       Phone_Name       Date  Rating_Out_of_5  \\\n",
       "0                      Phone_Name       Date  Rating_Out_of_5   \n",
       "1  BLU VIVO XL2 - 5.5\" 4G LTE GSM  20-Feb-17                5   \n",
       "2  BLU VIVO XL2 - 5.5\" 4G LTE GSM   7-Mar-17                5   \n",
       "3  BLU VIVO XL2 - 5.5\" 4G LTE GSM  30-May-17                1   \n",
       "4  BLU VIVO XL2 - 5.5\" 4G LTE GSM   3-Mar-17                1   \n",
       "\n",
       "                                        Review_Title  \\\n",
       "0                                       Review_Title   \n",
       "1             ABOUT FREAKING TIME!!!! UPDATED POST!!   \n",
       "2                                 Open Honest Review   \n",
       "3  Update - don't waste your money!  A pretty sol...   \n",
       "4        Spyware still. Come on Blu get it together!   \n",
       "\n",
       "                                         Review_Text  \n",
       "0                                        Review_Text  \n",
       "1  Over the years, I've tried maybe 6 Blu phones....  \n",
       "2  People love to get a new phone and,  while rid...  \n",
       "3  Update seven months in:  I've had to go from f...  \n",
       "4  Still has a security issue,waiting on Blu to r...  "
      ]
     },
     "execution_count": 3,
     "metadata": {},
     "output_type": "execute_result"
    }
   ],
   "source": [
    "data.head()"
   ]
  },
  {
   "cell_type": "code",
   "execution_count": 4,
   "metadata": {},
   "outputs": [
    {
     "data": {
      "text/plain": [
       "(781, 5)"
      ]
     },
     "execution_count": 4,
     "metadata": {},
     "output_type": "execute_result"
    }
   ],
   "source": [
    "data.shape"
   ]
  },
  {
   "cell_type": "code",
   "execution_count": 5,
   "metadata": {
    "scrolled": true
   },
   "outputs": [
    {
     "data": {
      "text/plain": [
       "\"The first time it hit the ground the screen cracked.  I contacted BLU support who told me that there are no replacement screens available for this model.  The screen protector is the only thing holding it together.Included in the box is a 5v 2.0a charger, micoUSB cable, USB-OTG cable, earbuds with microphone, rubber phone case, screen protector, and one of those professional paper clips for opening the sim/SD card tray.  And, there was a screen protector already on the phone.The sim card / SD card tray is pretty flimsy, I wouldn't open it very often.  As other commentators noted, you can either have 2 sim cards or 1 sim card and 1 sd card.  You cannot have all three.The phone case does not fit correctly.  The lower right hand corner does not fully extend over the front edge of the phone, and it feels like the phone will slip out if I grab it by the case.  The case partially covers the microphone hole.There were a few Amazon apps pre-installed, but they had obviously been done so outside of the google play store as they would not update without asking the user to modify their app installation permissions.  Luckily, I was able to fully uninstall them.  After disabling what I didn't want and installing some basic google apps, it says I have used 11 GB of 32 GB.  Luckily this phone has not partitioned the main storage into multiple segments to simulate an sd card like the BLU studio energy.The display is stunning.  Good contrast between colors, very bright, and the curved edges are neat.Overall, I think this thing is perfect for $150.  But if you drop the screen, there is no replacement.\""
      ]
     },
     "execution_count": 5,
     "metadata": {},
     "output_type": "execute_result"
    }
   ],
   "source": [
    "data['Review_Text'].values[5]"
   ]
  },
  {
   "cell_type": "code",
   "execution_count": 6,
   "metadata": {
    "scrolled": true
   },
   "outputs": [
    {
     "data": {
      "text/plain": [
       "'Everything works great only downside is the earpiece speaker is quieter than my previous Note 4. I work in an office setting so its quiet in here even then the earpiece speaker is hard to hear unless pressed firmly against your ear.'"
      ]
     },
     "execution_count": 6,
     "metadata": {},
     "output_type": "execute_result"
    }
   ],
   "source": [
    "data_samples=data['Review_Text'].tolist()\n",
    "data_samples[9]"
   ]
  },
  {
   "cell_type": "code",
   "execution_count": 7,
   "metadata": {
    "collapsed": true
   },
   "outputs": [],
   "source": [
    "data_samples = [str(w).lower() for w in data_samples]"
   ]
  },
  {
   "cell_type": "code",
   "execution_count": 8,
   "metadata": {},
   "outputs": [
    {
     "name": "stdout",
     "output_type": "stream",
     "text": [
      "['the', 'first', 'time', 'it', 'hit', 'the', 'ground', 'the', 'screen', 'cracked', '.', 'i', 'contacted', 'blu', 'support', 'who', 'told', 'me', 'that', 'there', 'are', 'no', 'replacement', 'screens', 'available', 'for', 'this', 'model', '.', 'the', 'screen', 'protector', 'is', 'the', 'only', 'thing', 'holding', 'it', 'together.included', 'in', 'the', 'box', 'is', 'a', '5v', '2.0a', 'charger', ',', 'micousb', 'cable', ',', 'usb-otg', 'cable', ',', 'earbuds', 'with', 'microphone', ',', 'rubber', 'phone', 'case', ',', 'screen', 'protector', ',', 'and', 'one', 'of', 'those', 'professional', 'paper', 'clips', 'for', 'opening', 'the', 'sim/sd', 'card', 'tray', '.', 'and', ',', 'there', 'was', 'a', 'screen', 'protector', 'already', 'on', 'the', 'phone.the', 'sim', 'card', '/', 'sd', 'card', 'tray', 'is', 'pretty', 'flimsy', ',', 'i', 'would', \"n't\", 'open', 'it', 'very', 'often', '.', 'as', 'other', 'commentators', 'noted', ',', 'you', 'can', 'either', 'have', '2', 'sim', 'cards', 'or', '1', 'sim', 'card', 'and', '1', 'sd', 'card', '.', 'you', 'can', 'not', 'have', 'all', 'three.the', 'phone', 'case', 'does', 'not', 'fit', 'correctly', '.', 'the', 'lower', 'right', 'hand', 'corner', 'does', 'not', 'fully', 'extend', 'over', 'the', 'front', 'edge', 'of', 'the', 'phone', ',', 'and', 'it', 'feels', 'like', 'the', 'phone', 'will', 'slip', 'out', 'if', 'i', 'grab', 'it', 'by', 'the', 'case', '.', 'the', 'case', 'partially', 'covers', 'the', 'microphone', 'hole.there', 'were', 'a', 'few', 'amazon', 'apps', 'pre-installed', ',', 'but', 'they', 'had', 'obviously', 'been', 'done', 'so', 'outside', 'of', 'the', 'google', 'play', 'store', 'as', 'they', 'would', 'not', 'update', 'without', 'asking', 'the', 'user', 'to', 'modify', 'their', 'app', 'installation', 'permissions', '.', 'luckily', ',', 'i', 'was', 'able', 'to', 'fully', 'uninstall', 'them', '.', 'after', 'disabling', 'what', 'i', 'did', \"n't\", 'want', 'and', 'installing', 'some', 'basic', 'google', 'apps', ',', 'it', 'says', 'i', 'have', 'used', '11', 'gb', 'of', '32', 'gb', '.', 'luckily', 'this', 'phone', 'has', 'not', 'partitioned', 'the', 'main', 'storage', 'into', 'multiple', 'segments', 'to', 'simulate', 'an', 'sd', 'card', 'like', 'the', 'blu', 'studio', 'energy.the', 'display', 'is', 'stunning', '.', 'good', 'contrast', 'between', 'colors', ',', 'very', 'bright', ',', 'and', 'the', 'curved', 'edges', 'are', 'neat.overall', ',', 'i', 'think', 'this', 'thing', 'is', 'perfect', 'for', '$', '150', '.', 'but', 'if', 'you', 'drop', 'the', 'screen', ',', 'there', 'is', 'no', 'replacement', '.']\n"
     ]
    }
   ],
   "source": [
    "tokenized_docs = [word_tokenize(doc) for doc in data_samples]\n",
    "print(tokenized_docs[5])"
   ]
  },
  {
   "cell_type": "markdown",
   "metadata": {},
   "source": [
    "## Removing punctuation\n",
    "Punctuation can help with tokenizers, but once you've done that, there's no reason to keep it around. There are tons of ways to remove punctuation. Since we have already learned regex, how would we do this?"
   ]
  },
  {
   "cell_type": "code",
   "execution_count": 9,
   "metadata": {},
   "outputs": [
    {
     "name": "stdout",
     "output_type": "stream",
     "text": [
      "!\"#$%&'()*+,-./:;<=>?@[\\]^_`{|}~\n",
      "!\"#$%&'()*+,-.:;<=>?@[\\]^_`{|}~\n"
     ]
    }
   ],
   "source": [
    "print(string.punctuation)\n",
    "str1=string.punctuation\n",
    "str1=str1.replace('/','')\n",
    "print(str1)"
   ]
  },
  {
   "cell_type": "code",
   "execution_count": 10,
   "metadata": {},
   "outputs": [
    {
     "name": "stdout",
     "output_type": "stream",
     "text": [
      "['the', 'first', 'time', 'it', 'hit', 'the', 'ground', 'the', 'screen', 'cracked', 'i', 'contacted', 'blu', 'support', 'who', 'told', 'me', 'that', 'there', 'are', 'no', 'replacement', 'screens', 'available', 'for', 'this', 'model', 'the', 'screen', 'protector', 'is', 'the', 'only', 'thing', 'holding', 'it', 'togetherincluded', 'in', 'the', 'box', 'is', 'a', '5v', '20a', 'charger', 'micousb', 'cable', 'usbotg', 'cable', 'earbuds', 'with', 'microphone', 'rubber', 'phone', 'case', 'screen', 'protector', 'and', 'one', 'of', 'those', 'professional', 'paper', 'clips', 'for', 'opening', 'the', 'sim/sd', 'card', 'tray', 'and', 'there', 'was', 'a', 'screen', 'protector', 'already', 'on', 'the', 'phonethe', 'sim', 'card', '/', 'sd', 'card', 'tray', 'is', 'pretty', 'flimsy', 'i', 'would', 'nt', 'open', 'it', 'very', 'often', 'as', 'other', 'commentators', 'noted', 'you', 'can', 'either', 'have', '2', 'sim', 'cards', 'or', '1', 'sim', 'card', 'and', '1', 'sd', 'card', 'you', 'can', 'not', 'have', 'all', 'threethe', 'phone', 'case', 'does', 'not', 'fit', 'correctly', 'the', 'lower', 'right', 'hand', 'corner', 'does', 'not', 'fully', 'extend', 'over', 'the', 'front', 'edge', 'of', 'the', 'phone', 'and', 'it', 'feels', 'like', 'the', 'phone', 'will', 'slip', 'out', 'if', 'i', 'grab', 'it', 'by', 'the', 'case', 'the', 'case', 'partially', 'covers', 'the', 'microphone', 'holethere', 'were', 'a', 'few', 'amazon', 'apps', 'preinstalled', 'but', 'they', 'had', 'obviously', 'been', 'done', 'so', 'outside', 'of', 'the', 'google', 'play', 'store', 'as', 'they', 'would', 'not', 'update', 'without', 'asking', 'the', 'user', 'to', 'modify', 'their', 'app', 'installation', 'permissions', 'luckily', 'i', 'was', 'able', 'to', 'fully', 'uninstall', 'them', 'after', 'disabling', 'what', 'i', 'did', 'nt', 'want', 'and', 'installing', 'some', 'basic', 'google', 'apps', 'it', 'says', 'i', 'have', 'used', '11', 'gb', 'of', '32', 'gb', 'luckily', 'this', 'phone', 'has', 'not', 'partitioned', 'the', 'main', 'storage', 'into', 'multiple', 'segments', 'to', 'simulate', 'an', 'sd', 'card', 'like', 'the', 'blu', 'studio', 'energythe', 'display', 'is', 'stunning', 'good', 'contrast', 'between', 'colors', 'very', 'bright', 'and', 'the', 'curved', 'edges', 'are', 'neatoverall', 'i', 'think', 'this', 'thing', 'is', 'perfect', 'for', '150', 'but', 'if', 'you', 'drop', 'the', 'screen', 'there', 'is', 'no', 'replacement']\n"
     ]
    }
   ],
   "source": [
    "regex = re.compile('[%s]' % re.escape(str1)) #see documentation here: http://docs.python.org/2/library/string.html\n",
    "\n",
    "tokenized_docs_no_punctuation = []\n",
    "\n",
    "for review in tokenized_docs:\n",
    "    \n",
    "    new_review = []\n",
    "    for token in review: \n",
    "        new_token = regex.sub(u'', token)\n",
    "        if not new_token == u'':\n",
    "            new_review.append(new_token)\n",
    "    \n",
    "    tokenized_docs_no_punctuation.append(new_review)\n",
    "    \n",
    "print (tokenized_docs_no_punctuation[5])"
   ]
  },
  {
   "cell_type": "markdown",
   "metadata": {},
   "source": [
    "## Cleaning text of stopwords\n",
    "There are some really basic words that just don't matter. NLTK comes with a list of them for many languages."
   ]
  },
  {
   "cell_type": "code",
   "execution_count": 11,
   "metadata": {},
   "outputs": [
    {
     "name": "stdout",
     "output_type": "stream",
     "text": [
      "['years', 'tried', 'maybe', '6', 'blu', 'phones', 'looked', 'amazing', 'laggy', 'point', 'drove', 'nuts', 'take', 'back', 'got', 'vivo', 'xl2', 'absolutely', 'happy', 'phone', 'freaking', 'stylish', 'usual', 'tons', 'bells', 'whistles', 'like', 'expensive', 'phone', 'far', 'works', 'amazingly', 'well', 'ca', 'nt', 'believe', 'nice', 'phone', 'price', 'unreal', 'ignore', '64', 'gig', 'sd', 'card', 'limitation', 'took', '128', 'gig', 'problem', 'love', 'new', 'phone', 'blu', 'keeps', 'keep', 'buying', 'blui', 'week', 'still', 'love', 'got', 'better', 'failed', 'mention', 'quick', 'charge', 'comes', 'case', 'arrives', 'screen', 'protector', 'phone', 'bubbles', 'junk', 'film', 'also', 'comes', 'extra', 'screen', 'protector', 'ca', 'nt', 'say', 'much', 'love', 'phone', 'price', 'paid', 'happy']\n"
     ]
    }
   ],
   "source": [
    "tokenized_docs_no_stopwords = []\n",
    "for doc in tokenized_docs_no_punctuation:\n",
    "    new_term_vector = []\n",
    "    for word in doc:\n",
    "        if not word in stopwords.words('english'):\n",
    "            new_term_vector.append(word)\n",
    "    tokenized_docs_no_stopwords.append(new_term_vector)\n",
    "            \n",
    "print (tokenized_docs_no_stopwords[1])"
   ]
  },
  {
   "cell_type": "markdown",
   "metadata": {},
   "source": [
    "### Stemming and Lemmatizing\n",
    "If you have taken linguistics, you may be familiar with morphology. This is the belief that words have a root form. If you want to get to the basic term meaning of the word, you can try applying a stemmer or lemmatizer. Here are three very popular methods ready to go right out of the NLTK box. It's up to you to see which one you want to use."
   ]
  },
  {
   "cell_type": "code",
   "execution_count": 12,
   "metadata": {},
   "outputs": [
    {
     "name": "stdout",
     "output_type": "stream",
     "text": [
      "['year', 'tried', 'maybe', '6', 'blu', 'phone', 'looked', 'amazing', 'laggy', 'point', 'drove', 'nut', 'take', 'back', 'got', 'vivo', 'xl2', 'absolutely', 'happy', 'phone', 'freaking', 'stylish', 'usual', 'ton', 'bell', 'whistle', 'like', 'expensive', 'phone', 'far', 'work', 'amazingly', 'well', 'ca', 'nt', 'believe', 'nice', 'phone', 'price', 'unreal', 'ignore', '64', 'gig', 'sd', 'card', 'limitation', 'took', '128', 'gig', 'problem', 'love', 'new', 'phone', 'blu', 'keep', 'keep', 'buying', 'blui', 'week', 'still', 'love', 'got', 'better', 'failed', 'mention', 'quick', 'charge', 'come', 'case', 'arrives', 'screen', 'protector', 'phone', 'bubble', 'junk', 'film', 'also', 'come', 'extra', 'screen', 'protector', 'ca', 'nt', 'say', 'much', 'love', 'phone', 'price', 'paid', 'happy']\n"
     ]
    }
   ],
   "source": [
    "porter = PorterStemmer()\n",
    "snowball = SnowballStemmer('english')\n",
    "wordnet = WordNetLemmatizer()\n",
    "\n",
    "preprocessed_docs = []\n",
    "\n",
    "for doc in tokenized_docs_no_stopwords:\n",
    "    final_doc = []\n",
    "    for word in doc:\n",
    "        final_doc.append(wordnet.lemmatize(word))\n",
    "        #final_doc.append(snowball.stem(word))\n",
    "        #final_doc.append(wordnet.lemmatize(word)) #note that lemmatize() can also takes part of speech as an argument!\n",
    "    preprocessed_docs.append(final_doc)\n",
    "\n",
    "print (preprocessed_docs[1])"
   ]
  },
  {
   "cell_type": "code",
   "execution_count": 13,
   "metadata": {
    "collapsed": true
   },
   "outputs": [],
   "source": [
    "pos_tags=[]\n",
    "\n",
    "for i in preprocessed_docs:\n",
    "    pos_tags.append(nltk.pos_tag(i)) "
   ]
  },
  {
   "cell_type": "code",
   "execution_count": 14,
   "metadata": {},
   "outputs": [
    {
     "data": {
      "text/plain": [
       "[('year', 'NN'),\n",
       " ('tried', 'VBD'),\n",
       " ('maybe', 'RB'),\n",
       " ('6', 'CD'),\n",
       " ('blu', 'NN'),\n",
       " ('phone', 'NN'),\n",
       " ('looked', 'VBD'),\n",
       " ('amazing', 'JJ'),\n",
       " ('laggy', 'JJ'),\n",
       " ('point', 'NN'),\n",
       " ('drove', 'VBD'),\n",
       " ('nut', 'NNS'),\n",
       " ('take', 'VB'),\n",
       " ('back', 'RB'),\n",
       " ('got', 'JJ'),\n",
       " ('vivo', 'NN'),\n",
       " ('xl2', 'NNP'),\n",
       " ('absolutely', 'RB'),\n",
       " ('happy', 'JJ'),\n",
       " ('phone', 'NN'),\n",
       " ('freaking', 'VBG'),\n",
       " ('stylish', 'JJ'),\n",
       " ('usual', 'JJ'),\n",
       " ('ton', 'NN'),\n",
       " ('bell', 'NN'),\n",
       " ('whistle', 'IN'),\n",
       " ('like', 'IN'),\n",
       " ('expensive', 'JJ'),\n",
       " ('phone', 'NN'),\n",
       " ('far', 'RB'),\n",
       " ('work', 'NN'),\n",
       " ('amazingly', 'RB'),\n",
       " ('well', 'RB'),\n",
       " ('ca', 'MD'),\n",
       " ('nt', 'VB'),\n",
       " ('believe', 'VB'),\n",
       " ('nice', 'JJ'),\n",
       " ('phone', 'NN'),\n",
       " ('price', 'NN'),\n",
       " ('unreal', 'NN'),\n",
       " ('ignore', 'IN'),\n",
       " ('64', 'CD'),\n",
       " ('gig', 'NNS'),\n",
       " ('sd', 'JJ'),\n",
       " ('card', 'NN'),\n",
       " ('limitation', 'NN'),\n",
       " ('took', 'VBD'),\n",
       " ('128', 'CD'),\n",
       " ('gig', 'NN'),\n",
       " ('problem', 'NN'),\n",
       " ('love', 'VB'),\n",
       " ('new', 'JJ'),\n",
       " ('phone', 'NN'),\n",
       " ('blu', 'NN'),\n",
       " ('keep', 'VB'),\n",
       " ('keep', 'JJ'),\n",
       " ('buying', 'NN'),\n",
       " ('blui', 'NN'),\n",
       " ('week', 'NN'),\n",
       " ('still', 'RB'),\n",
       " ('love', 'VBP'),\n",
       " ('got', 'VBD'),\n",
       " ('better', 'RBR'),\n",
       " ('failed', 'VBN'),\n",
       " ('mention', 'NN'),\n",
       " ('quick', 'JJ'),\n",
       " ('charge', 'NN'),\n",
       " ('come', 'VB'),\n",
       " ('case', 'NN'),\n",
       " ('arrives', 'VBZ'),\n",
       " ('screen', 'JJ'),\n",
       " ('protector', 'NN'),\n",
       " ('phone', 'NN'),\n",
       " ('bubble', 'JJ'),\n",
       " ('junk', 'NN'),\n",
       " ('film', 'NN'),\n",
       " ('also', 'RB'),\n",
       " ('come', 'VBP'),\n",
       " ('extra', 'JJ'),\n",
       " ('screen', 'NN'),\n",
       " ('protector', 'NN'),\n",
       " ('ca', 'MD'),\n",
       " ('nt', 'VB'),\n",
       " ('say', 'VB'),\n",
       " ('much', 'JJ'),\n",
       " ('love', 'VB'),\n",
       " ('phone', 'NN'),\n",
       " ('price', 'NN'),\n",
       " ('paid', 'VBD'),\n",
       " ('happy', 'JJ')]"
      ]
     },
     "execution_count": 14,
     "metadata": {},
     "output_type": "execute_result"
    }
   ],
   "source": [
    "pos_tags[1]"
   ]
  },
  {
   "cell_type": "code",
   "execution_count": 15,
   "metadata": {
    "collapsed": true
   },
   "outputs": [],
   "source": [
    "noun_words=[]\n",
    "verb_words=[]\n",
    "adj_words=[]\n",
    "for doc in pos_tags:\n",
    "    for word_pos in doc :\n",
    "        if word_pos[1] in ('NN','NNS','NNP','NNPS'):\n",
    "            noun_words.append(word_pos[0]) \n",
    "        elif word_pos[1] in ('VB', 'VBD', 'VBG', 'VBN', 'VBP', 'VBZ'):\n",
    "            verb_words.append(word_pos[0])\n",
    "        elif word_pos[1] in ('JJR','JJS','JJ'):\n",
    "            adj_words.append(word_pos[0])\n",
    "        "
   ]
  },
  {
   "cell_type": "code",
   "execution_count": 16,
   "metadata": {
    "collapsed": true
   },
   "outputs": [],
   "source": [
    "import operator\n"
   ]
  },
  {
   "cell_type": "code",
   "execution_count": 17,
   "metadata": {},
   "outputs": [
    {
     "name": "stdout",
     "output_type": "stream",
     "text": [
      "[('phone', 1452), ('blu', 249), ('price', 145), ('month', 141), ('screen', 137), ('work', 130), ('time', 128), ('card', 118), ('use', 116), ('battery', 107), ('camera', 103), ('case', 97), ('problem', 96), ('day', 81), ('vivo', 79), ('nt', 75), ('issue', 75), ('quality', 66), ('product', 66), ('charge', 63), ('year', 62), ('thing', 61), ('memory', 60), ('apps', 60), ('money', 59), ('service', 58), ('everything', 55), ('lot', 54), ('call', 51), ('look', 47), ('protector', 45), ('device', 44), ('love', 44), ('get', 43), ('sim', 43), ('review', 42), ('life', 42), ('feature', 41), ('picture', 41), ('xl', 41), ('samsung', 39), ('xl2', 36), ('week', 36), ('storage', 36), ('customer', 36), ('hour', 35), ('purchase', 34), ('charger', 33), ('way', 33), ('iphone', 31), ('return', 31), ('app', 30), ('cell', 29), ('support', 28), ('brand', 27), ('nothing', 26), ('people', 25), ('deal', 25), ('color', 25), ('replacement', 25), ('reason', 25), ('speaker', 24), ('ram', 24), ('slot', 24), ('button', 24), ('space', 24), ('point', 23), ('anything', 23), ('size', 23), ('amazon', 22), ('software', 22), ('something', 21), ('system', 21), ('bit', 21), ('repair', 21), ('box', 20), ('update', 20), ('hand', 20), ('company', 20), ('glass', 20), ('buy', 20), ('home', 20), ('cost', 20), ('feel', 19), ('google', 19), ('star', 19), ('help', 19), ('video', 19), ('car', 19), ('option', 19), ('android', 19), ('performance', 19), ('pay', 18), ('model', 18), ('damage', 18), ('speed', 18), ('reset', 17), ('data', 17), ('wifi', 17), ('gold', 17), ('port', 17), ('resolution', 17), ('smartphone', 17), ('need', 16), ('display', 16), ('wife', 16), ('ad', 16), ('power', 16), ('sd', 16), ('gb', 16), ('photo', 16), ('end', 16), ('someone', 15), ('sound', 15), ('order', 15), ('warranty', 15), ('experience', 15), ('start', 15), ('fact', 15), ('turn', 15), ('part', 14), ('galaxy', 14), ('version', 14), ('today', 14), ('contact', 14), ('waste', 14), ('dont', 14), ('value', 13), ('gorilla', 13), ('volume', 13), ('change', 13), ('send', 13), ('complaint', 12), ('user', 12), ('studio', 12), ('drop', 12), ('line', 12), ('couple', 12), ('message', 12), ('network', 12), ('mine', 12), ('daughter', 12), ('difference', 12), ('function', 12), ('connect', 12), ('freeze', 11), ('name', 11), ('response', 11), ('download', 11), ('okay', 11), ('yesterday', 11), ('manufacturer', 11), ('husband', 11), ('glitch', 11), ('side', 11), ('job', 11), ('anyone', 11), ('try', 10), ('headphone', 10), ('apple', 10), ('information', 10), ('ghost', 10), ('store', 10), ('game', 10), ('note', 10), ('thank', 10), ('moment', 10), ('notification', 10), ('budget', 10), ('water', 10), ('drawer', 10), ('micro', 10), ('talk', 10), ('expectation', 10), ('care', 10), ('place', 10), ('design', 10), ('guess', 10), ('others', 10), ('pocket', 10), ('friend', 10), ('thanks', 10), ('gift', 10), ('fine', 10), ('chip', 10), ('package', 10), ('touch', 10), ('dollar', 9), ('tray', 9), ('piece', 9), ('access', 9), ('please', 9), ('number', 9), ('night', 9), ('worth', 9), ('minute', 9), ('hope', 9), ('connection', 9), ('item', 9), ('excellent', 9), ('lock', 9), ('le', 9), ('instruction', 9), ('flagship', 8), ('front', 8), ('carrier', 8), ('course', 8), ('march', 8), ('hold', 8), ('music', 8), ('fault', 8), ('come', 8), ('text', 8), ('medium', 8), ('son', 8), ('lag', 8), ('cellphone', 8), ('voice', 8), ('control', 8), ('keep', 8), ('spec', 8), ('plan', 8), ('person', 8), ('lte', 8), ('chance', 8), ('condition', 8), ('type', 8), ('amount', 8), ('junk', 7), ('tmobile', 7), ('bar', 7), ('pic', 7), ('fix', 7), ('page', 7), ('permission', 7), ('stuff', 7), ('cover', 7), ('cord', 7), ('comment', 7), ('reboot', 7), ('load', 7), ('reception', 7), ('hd', 7), ('energy', 7), ('guy', 7), ('figure', 7), ('business', 7), ('let', 7), ('application', 7), ('mail', 7), ('internet', 7), ('jack', 7), ('default', 7), ('accessory', 7), ('processor', 7), ('capability', 7), ('lack', 7), ('match', 7), ('wow', 7), ('half', 7), ('bell', 6), ('gig', 6), ('mention', 6), ('radio', 6), ('mind', 6), ('factory', 6), ('hear', 6), ('spyware', 6), ('email', 6), ('cable', 6), ('fit', 6), ('cause', 6), ('’', 6), ('o', 6), ('bottom', 6), ('launcher', 6), ('hardware', 6), ('take', 6), ('decent', 6), ('switch', 6), ('refund', 6), ('functionality', 6), ('break', 6), ('perfect', 6), ('fan', 6), ('unit', 6), ('yes', 6), ('usage', 6), ('recommend', 6), ('ringtone', 6), ('print', 6), ('wont', 6), ('stop', 6), ('wait', 6), ('audio', 6), ('drive', 6), ('buying', 5), ('con', 5), ('claim', 5), ('tv', 5), ('news', 5), ('mean', 5), ('im', 5), ('scanner', 5), ('answer', 5), ('adapter', 5), ('attempt', 5), ('malware', 5), ('security', 5), ('slip', 5), ('process', 5), ('site', 5), ('lg', 5), ('computer', 5), ('matter', 5), ('result', 5), ('etc', 5), ('step', 5), ('date', 5), ('kind', 5), ('situation', 5), ('awesome', 5), ('everyone', 5), ('show', 5), ('s7', 5), ('scratch', 5), ('fast', 5), ('level', 5), ('random', 5), ('top', 5), ('mode', 5), ('ringtones', 5), ('earphone', 5), ('finger', 5), ('focus', 5), ('advice', 5), ('action', 5), ('head', 5), ('crack', 5), ('family', 5), ('trouble', 5), ('crap', 5), ('bug', 5), ('ok', 5), ('appearance', 5), ('ton', 4), ('tech', 4), ('crisp', 4), ('standard', 4), ('blaster', 4), ('watch', 4), ('thought', 4), ('par', 4), ('wall', 4), ('silicone', 4), ('set', 4), ('room', 4), ('fraction', 4), ('account', 4), ('respond', 4), ('detection', 4), ('microphone', 4), ('edge', 4), ('stock', 4), ('run', 4), ('sims', 4), ('knowledge', 4), ('marshmallow', 4), ('remove', 4), ('nougat', 4), ('fun', 4), ('kick', 4), ('september', 4), ('one', 4), ('miss', 4), ('theme', 4), ('task', 4), ('research', 4), ('smart', 4), ('tracfone', 4), ('period', 4), ('shipping', 4), ('sort', 4), ('find', 4), ('bluetooth', 4), ('offer', 4), ('see', 4), ('sorry', 4), ('tendency', 4), ('drain', 4), ('make', 4), ('july', 4), ('inch', 4), ('shot', 4), ('wish', 4), ('min', 4), ('cheap', 4), ('alert', 4), ('stay', 4), ('amazing', 4), ('consumer', 4), ('saturday', 4), ('smartphones', 4), ('tag', 4), ('tone', 4), ('draw', 4), ('u', 4), ('choice', 4), ('flaw', 4), ('excelent', 4), ('image', 4), ('right', 4), ('understand', 4), ('think', 4), ('c', 4), ('zmax', 4), ('range', 4), ('advance', 4), ('htc', 4), ('core', 4), ('class', 4), ('vehicle', 4), ('view', 3), ('basement', 3), ('zero', 3), ('s6', 3), ('mess', 3), ('notice', 3), ('fingerprint', 3), ('slippery', 3), ('book', 3), ('input', 3), ('shut', 3), ('surface', 3), ('slide', 3), ('pretty', 3), ('seller', 3), ('sent', 3), ('super', 3), ('ground', 3), ('earbuds', 3), ('rubber', 3), ('paper', 3), ('/', 3), ('play', 3), ('installation', 3), ('metal', 3), ('back', 3), ('add', 3), ('spam', 3), ('light', 3), ('bloatware', 3), ('doesnt', 3), ('circle', 3), ('newer', 3), ('reviewi', 3), ('wireless', 3), ('malfunction', 3), ('movie', 3), ('plug', 3), ('beat', 3), ('center', 3), ('series', 3), ('broken', 3), ('quick', 3), ('example', 3), ('opinion', 3), ('pair', 3), ('record', 3), ('kinda', 3), ('tell', 3), ('hassle', 3), ('pc', 3), ('restore', 3), ('alot', 3), ('responsive', 3), ('buck', 3), ('heat', 3), ('router', 3), ('concern', 3), ('assistant', 3), ('nice', 3), ('row', 3), ('pin', 3), ('become', 3), ('remote', 3), ('till', 3), ('verizon', 3), ('folk', 3), ('cdma', 3), ('provider', 3), ('china', 3), ('hate', 3), ('moto', 3), ('moderate', 3), ('everyday', 3), ('count', 3), ('credit', 3), ('facebook', 3), ('cricket', 3), ('coverage', 3), ('selfie', 3), ('sure', 3), ('map', 3), ('ware', 3), ('rate', 3), ('fill', 3), ('meet', 3), ('charm', 3), ('motorola', 3), ('downside', 3), ('touchscreen', 3), ('steal', 3), ('test', 3), ('interface', 3), ('reviewer', 3), ('mistake', 3), ('team', 3), ('whereas', 3), ('password', 3), ('wise', 3), ('expense', 3), ('june', 3), ('brightness', 3), ('x', 3), ('none', 3), ('voicemail', 3), ('key', 3), ('spot', 3), ('loving', 3), ('beware', 3), ('nano', 3), ('r1', 3), ('want', 3), ('buyer', 3), ('avoid', 3), ('phonei', 3), ('connector', 3), ('connectivity', 3), ('bezel', 3), ('choose', 3), ('detail', 3), ('nut', 2), ('performs', 2), ('pixel', 2), ('hospital', 2), ('duel', 2), ('band', 2), ('gon', 2), ('lighting', 2), ('share', 2), ('skin', 2), ('bunch', 2), ('driver', 2), ('widget', 2), ('insane', 2), ('shiny', 2), ('arm', 2), ('clone', 2), ('antenna', 2), ('utility', 2), ('blurry', 2), ('screenshots', 2), ('heck', 2), ('corner', 2), ('contrast', 2), ('playback', 2), ('yea', 2), ('meaning', 2), ('word', 2), ('april', 2), ('foot', 2), ('weight', 2), ('evening', 2), ('learn', 2), ('read', 2), ('midrange', 2), ('soo', 2), ('navigation', 2), ('request', 2), ('plastic', 2), ('pack', 2), ('window', 2), ('browser', 2), ('orange', 2), ('max', 2), ('font', 2), ('metropcs', 2), ('bright', 2), ('baseball', 2), ('afternoon', 2), ('upgrade', 2), ('exceeds', 2), ('florida', 2), ('content', 2), ('hell', 2), ('percentage', 2), ('icon', 2), ('throw', 2), ('signal', 2), ('hotspot', 2), ('success', 2), ('slim', 2), ('rest', 2), ('glaze', 2), ('x2', 2), ('carefree', 2), ('overlay', 2), ('custom', 2), ('disconnect', 2), ('search', 2), ('garbage', 2), ('communication', 2), ('sync', 2), ('caution', 2), ('board', 2), ('careful', 2), ('proof', 2), ('dream', 2), ('glad', 2), ('premium', 2), ('connects', 2), ('bank', 2), ('operate', 2), ('closing', 2), ('act', 2), ('article', 2), ('tab', 2), ('annoying', 2), ('sister', 2), ('loss', 2), ('curve', 2), ('accident', 2), ('exit', 2), ('net10', 2), ('tower', 2), ('reach', 2), ('easy', 2), ('program', 2), ('packaging', 2), ('delete', 2), ('operation', 2), ('suit', 2), ('quit', 2), ('intensity', 2), ('motion', 2), ('exception', 2), ('edit', 2), ('state', 2), ('highend', 2), ('hang', 2), ('builtin', 2), ('calendar', 2), ('delivers', 2), ('netflix', 2), ('bonus', 2), ('ui', 2), ('sample', 2), ('btw', 2), ('dose', 2), ('rock', 2), ('upgradei', 2), ('complain', 2), ('sale', 2), ('teenager', 2), ('shape', 2), ('shock', 2), ('yeah', 2), ('procedure', 2), ('luck', 2), ('owner', 2), ('tap', 2), ('planet', 2), ('phoneworks', 2), ('protection', 2), ('helpful', 2), ('didnt', 2), ('patch', 2), ('post', 2), ('morning', 2), ('delivery', 2), ('past', 2), ('headset', 2), ('percent', 2), ('mark', 2), ('stick', 2), ('force', 2), ('strength', 2), ('ability', 2), ('sim/sd', 2), ('guide', 2), ('machine', 2), ('s4', 2), ('description', 2), ('protect', 2), ('worry', 2), ('responsiveness', 2), ('gripe', 2), ('mp', 2), ('compare', 2), ('muy', 2), ('bueno', 2), ('deserve', 2), ('anyways', 2), ('mother', 2), ('gps', 2), ('move', 2), ('road', 2), ('ya', 2), ('nobody', 2), ('wet', 2), ('smudge', 2), ('cut', 2), ('advise', 2), ('party', 2), ('intend', 2), ('compromise', 2), ('crystal', 2), ('well', 2), ('promo', 2), ('provide', 2), ('solution', 2), ('demand', 2), ('secure', 2), ('clearer', 2), ('swipe', 2), ('couldnt', 2), ('backwards', 2), ('losing', 2), ('yr', 2), ('difficulty', 2), ('ideal', 2), ('auto', 2), ('caller', 2), ('website', 2), ('improvement', 2), ('christmas', 2), ('boot', 2), ('loyal', 2), ('saw', 2), ('style', 2), ('frustration', 2), ('suck', 2), ('ask', 2), ('pop', 2), ('vibrate', 2), ('birthday', 2), ('story', 2), ('department', 2), ('horrible', 2), ('penny', 2), ('self', 2), ('octacore', 2), ('enjoy', 2), ('unlock', 2), ('frame', 2), ('failure', 2), ('mini', 2), ('middle', 2), ('area', 2), ('hit', 2), ('block', 2), ('crazy', 2), ('policy', 2), ('ease', 2), ('joke', 2), ('imagine', 2), ('carry', 2), ('rating', 2), ('”', 2), ('compatibility', 2), ('treat', 2), ('college', 2), ('stream', 2), ('r1hd', 2), ('preference', 2), ('folder', 2), ('launch', 2), ('thicker', 2), ('making', 2), ('session', 2), ('master', 2), ('receipt', 2), ('rep', 2), ('terrible', 2), ('everytime', 2), ('floor', 2), ('pure', 2), ('hoping', 2), ('miami', 2), ('reviewtext', 1), ('unreal', 1), ('limitation', 1), ('blui', 1), ('film', 1), ('list', 1), ('phonepros', 1), ('manages', 1), ('professionalcall', 1), ('sony', 1), ('xperia', 1), ('m5', 1), ('wellcamera', 1), ('instagram', 1), ('lookbattery', 1), ('screenon', 1), ('loland', 1), ('channel', 1), ('msnbc', 1), ('vice', 1), ('versa', 1), ('receptionist', 1), ('explode', 1), ('world', 1), ('viewcons', 1), ('kid', 1), ('forgivenca', 1), ('reviewingno', 1), ('usd', 1), ('pricei', 1), ('doubt', 1), ('freak', 1), ('reply', 1), ('browsing', 1), ('web', 1), ('keyboard', 1), ('opportunity', 1), ('chair', 1), ('desktop', 1), ('nightstand', 1), ('dashboard', 1), ('cranky', 1), ('meeting', 1), ('coworkers', 1), ('clearso', 1), ('repulsivea', 1), ('tale', 1), ('cement', 1), ('tojostore', 1), ('feedback', 1), ('lesson', 1), ('checker', 1), ('forever', 1), ('hide', 1), ('micousb', 1), ('clip', 1), ('flimsy', 1), ('commentator', 1), ('threethe', 1), ('grab', 1), ('modify', 1), ('segment', 1), ('simulate', 1), ('energythe', 1), ('evie', 1), ('symmetry', 1), ('imma', 1), ('micro/nano', 1), ('ear', 1), ('bracket', 1), ('info', 1), ('gain', 1), ('shame', 1), ('earpiece', 1), ('office', 1), ('door', 1), ('g1', 1), ('inform', 1), ('dateit', 1), ('amor', 1), ('man', 1), ('bud', 1), ('bass', 1), ('triangle', 1), ('square', 1), ('nuisance', 1), ('mo', 1), ('desk', 1), ('cycle', 1), ('attachedlater', 1), ('ack', 1), ('nightmare', 1), ('ticketi', 1), ('cooler', 1), ('garage', 1), ('ziplock', 1), ('bag', 1), ('ice', 1), ('iti', 1), ('realize', 1), ('optionsyes', 1), ('impact', 1), ('processing', 1), ('downand', 1), ('processingif', 1), ('frustrate', 1), ('background', 1), ('briefly', 1), ('suspectdoes', 1), ('slowsometimes', 1), ('asks', 1), ('crash', 1), ('pretend', 1), ('dialup', 1), ('house', 1), ('signaldo', 1), ('outif', 1), ('itwhen', 1), ('household', 1), ('memberymmv', 1), ('receive', 1), ('disappointing', 1), ('phonefor', 1), ('paintwo', 1), ('ringer', 1), ('stylei', 1), ('veery', 1), ('hard', 1), ('byob', 1), ('chat', 1), ('heard', 1), ('code', 1), ('verification', 1), ('ship', 1), ('wherehouse', 1), ('remaind', 1), ('doorstep', 1), ('asia', 1), ('swim', 1), ('wowthis', 1), ('supprise', 1), ('w', 1), ('strait', 1), ('n', 1), ('juvenile', 1), ('ew', 1), ('catch', 1), ('allowance', 1), ('territory', 1), ('menu', 1), ('bookmark', 1), ('broadcast', 1), ('customize', 1), ('terific', 1), ('know', 1), ('firmware', 1), ('sleek', 1), ('reaction', 1), ('operating', 1), ('platformcons', 1), ('expansion', 1), ('oh', 1), ('anyway', 1), ('allday', 1), ('bring', 1), ('besises', 1), ('optims', 1), ('vivio', 1), ('isues', 1), ('keeper', 1), ('favorite', 1), ('speedy', 1), ('inner', 1), ('country', 1), ('heartbeat', 1), ('displayvery', 1), ('uselarge', 1), ('decentcons', 1), ('speakerbloatware', 1), ('register', 1), ('deviceupdate', 1), ('movement', 1), ('sooner', 1), ('multiple', 1), ('addition', 1), ('beforethis', 1), ('reading', 1), ('burnt', 1), ('history', 1), ('happy2nd', 1), ('antivirus', 1), ('effort', 1), ('exercise', 1), ('techie', 1), ('resolder', 1), ('rough', 1), ('song', 1), ('finish', 1), ('linoleum', 1), ('freedom', 1), ('death', 1), ('glassi', 1), ('affordable', 1), ('shell', 1), ('solid', 1), ('hawaii', 1), ('‘', 1), ('branda', 1), ('g', 1), ('bother', 1), ('mem', 1), ('cpu', 1), ('basis', 1), ('boom', 1), ('cant', 1), ('blue', 1), ('phoneother', 1), ('opera', 1), ('tide', 1), ('bang', 1), ('clipboard', 1), ('lovin', 1), ('grandkids', 1), ('screenshot', 1), ('perk', 1), ('crashed', 1), ('mths', 1), ('told', 1), ('hubby', 1), ('activity', 1), ('punishment', 1), ('handoff', 1), ('nick', 1), ('io', 1), ('bargain', 1), ('eye', 1), ('fashion', 1), ('statement', 1), ('competition', 1), ('threat', 1), ('aug', 1), ('pricy', 1), ('cphone', 1), ('phablet', 1), ('gazillion', 1), ('tip', 1), ('cruddy', 1), ('equipment', 1), ('gsm', 1), ('closest', 1), ('patchy', 1), ('winner', 1), ('malwarebytes', 1), ('root', 1), ('sixteen', 1), ('mediatek', 1), ('mtktools', 1), ('implementation', 1), ('worthless', 1), ('vunerability', 1), ('donlt', 1), ('longevity', 1), ('hurt', 1), ('accts', 1), ('absolute', 1), ('loud', 1), ('january', 1), ('arget', 1), ('learning', 1), ('body', 1), ('alarm', 1), ('clock', 1), ('release', 1), ('g3the', 1), ('overlook', 1), ('shortfall', 1), ('field', 1), ('adjustment', 1), ('availability', 1), ('soonoverall', 1), ('purchaseupdate', 1), ('roll', 1), ('possession', 1), ('pastto', 1), ('plum', 1), ('sleekness', 1), ('sept', 1), ('nov', 1), ('calibration', 1), ('quarter', 1), ('prompt', 1), ('donut', 1), ('knew', 1), ('replacementno', 1), ('supervisor', 1), ('speaking', 1), ('option5', 1), ('screen6', 1), ('cam', 1), ('surprise', 1), ('co', 1), ('good', 1), ('megapixel', 1), ('zoom', 1), ('mirror', 1), ('youtube', 1), ('dad', 1), ('cardmemory', 1), ('allows', 1), ('clutter', 1), ('thisui', 1), ('momentsspeaker', 1), ('peer', 1), ('clarityleftouts', 1), ('heart', 1), ('brings', 1), ('table', 1), ('moneyno', 1), ('promotion', 1), ('gyro', 1), ('vr', 1), ('log', 1), ('spend', 1), ('leg', 1), ('relative', 1), ('jump', 1), ('girlsamantha', 1), ('williamslifestyleprowesscom', 1), ('fail', 1), ('booting', 1), ('nan', 1), ('tehm', 1), ('losee', 1), ('soundlooks', 1), ('oops', 1), ('lol', 1), ('write', 1), ('vivid', 1), ('purpose', 1), ('document', 1), ('educator', 1), ('belief', 1), ('setmy', 1), ('recommendation', 1), ('insurance', 1), ('itupdate', 1), ('unfortunate', 1), ('explain', 1), ('arrives', 1), ('lottery', 1), ('tmob', 1), ('pseudogeek', 1), ('soldthe', 1), ('pun', 1), ('voltage', 1), ('spike', 1), ('feeling', 1), ('callcenter', 1), ('conversation', 1), ('conduct', 1), ('manager', 1), ('futile', 1), ('decision', 1), ('disaster', 1), ('flipphone', 1), ('alternative', 1), ('gap', 1), ('serviceso', 1), ('dice', 1), ('forgood', 1), ('wallet', 1), ('showing', 1), ('regain', 1), ('ass', 1), ('randomly', 1), ('vivovery', 1), ('weith', 1), ('tooth', 1), ('attention', 1), ('deactivate', 1), ('featuregoogle', 1), ('account/settings/voice/voice', 1), ('timei', 1), ('relation', 1), ('😂😂', 1), ('shuts', 1), ('crackedfrom', 1), ('mimicking', 1), ('long', 1), ('anytime', 1), ('ticket', 1), ('workaround', 1), ('june/july', 1), ('nfc', 1), ('freezing', 1), ('plunge', 1), ('personality', 1), ('weird', 1), ('quirk', 1), ('consistency', 1), ('bluversion', 1), ('otterbox', 1), ('handset', 1), ('earpiecealso', 1), ('upoverall', 1), ('replacement/repair', 1), ('purchasegreat', 1), ('variety', 1), ('offset', 1), ('killer', 1), ('concept', 1), ('tool', 1), ('faulty', 1), ('bloat', 1), ('selection', 1), ('gbp', 1), ('tpu', 1), ('circumstance', 1), ('scratchnine', 1), ('december', 1), ('habit', 1), ('speak', 1), ('pump', 1), ('personalization', 1), ('s7edge', 1), ('accomplishes', 1), ('hangout', 1), ('xl2all', 1), ('muchi', 1), ('illustrate', 1), ('kiki', 1), ('hair', 1), ('😁this', 1), ('agree', 1), ('beautythe', 1), ('podcasts', 1), ('goodness', 1), ('orientation', 1), ('stuck', 1), ('tweezer', 1), ('pry', 1), ('reinsert', 1), ('decade', 1), ('explorer', 1), ('trace', 1), ('contentfor', 1), ('paint', 1), ('s3s', 1), ('specialblu', 1), ('rubbery', 1), ('season', 1), ('sizei', 1), ('buttoni', 1), ('yeari', 1), ('techsavvy', 1), ('interaction', 1), ('report', 1), ('brag', 1), ('eitherall', 1), ('nongamers', 1), ('fancy', 1), ('p7', 1), ('logo', 1), ('zte', 1), ('height', 1), ('palm', 1), ('volumepower', 1), ('hasslealso', 1), ('login', 1), ('towards', 1), ('handone', 1), ('giveaway', 1), ('source', 1), ('fairytale', 1), ('brought', 1), ('father', 1), ('brother', 1), ('regret', 1), ('sunburst', 1), ('sketchy', 1), ('tho', 1), ('fortune', 1), ('question', 1), ('🎆🎇🎉', 1), ('ecpextations', 1), ('perfecto', 1), ('excelente', 1), ('celphone', 1), ('luv', 1), ('deadwill', 1), ('versatile', 1), ('vivoxl2', 1), ('second', 1), ('wednesday', 1), ('prime', 1), ('label', 1), ('csr', 1), ('disappointment', 1), ('lurk', 1), ('extra', 1), ('svc', 1), ('sell', 1), ('lite', 1), ('siii', 1), ('octa', 1), ('happyupdate', 1), ('hbs910', 1), ('bluetoothuntil', 1), ('twoards', 1), ('pre', 1), ('besides', 1), ('toi', 1), ('voicemaili', 1), ('acceptablei', 1), ('troubleshoot', 1), ('latter', 1), ('optionbut', 1), ('thabk', 1), ('recomend', 1), ('prone', 1), ('abut', 1), ('management', 1), ('solve', 1), ('más', 1), ('extraordinario', 1), ('thx', 1), ('sooo', 1), ('notification/ringtones', 1), ('blocker', 1), ('xli', 1), ('farlikes', 1), ('handydislikes', 1), ('install', 1), ('smartwatchnobody', 1), ('darn', 1), ('liar', 1), ('curvature', 1), ('a/v', 1), ('cool', 1), ('description/specification', 1), ('mircosd', 1), ('kit', 1), ('👍', 1), ('sacrifice', 1), ('g4', 1), ('phoneupdate', 1), ('offering', 1), ('dy', 1), ('bear', 1), ('iffy', 1), ('h1', 1), ('simcards', 1), ('phonesoftware', 1), ('group', 1), ('shatters', 1), ('bull', 1), ('depend', 1), ('communicate', 1), ('letter', 1), ('shop', 1), ('budge', 1), ('burn', 1), ('crush', 1), ('dunk', 1), ('fee', 1), ('clearing', 1), ('cache', 1), ('pace', 1), ('surf', 1), ('impression', 1), ('tick', 1), ('secondsit', 1), ('frozen', 1), ('adware', 1), ('prontotldr', 1), ('updatesit', 1), ('pruduct', 1), ('child', 1), ('headphones/mic', 1), ('memartin', 1), ('pereira', 1), ('backnthe', 1), ('fear', 1), ('notch', 1), ('att', 1), ('thephone', 1), ('sense', 1), ('bump', 1), ('majority', 1), ('require', 1), ('spent', 1), ('yearsthey', 1), ('purchasing', 1), ('digitel', 1), ('venezuela', 1), ('enter', 1), ('storm', 1), ('yup', 1), ('put', 1), ('upset', 1), ('efficient', 1), ('earth', 1), ('rington', 1), ('applies', 1), ('restart', 1), ('bt', 1), ('lens', 1), ('droplet', 1), ('doorknob', 1), ('jamaica', 1), ('http', 1), ('//wwwamazoncom/dp/b01n0tjz3t/refcmcrrypprdttlsol0', 1), ('clarification', 1), ('sit', 1), ('annoyance', 1), ('syncing', 1), ('ford', 1), ('file', 1), ('brink', 1), ('insanity', 1), ('fone', 1), ('blank', 1), ('build', 1), ('glitchy', 1), ('bloatwarebuy', 1), ('usb/charger', 1), ('clarity', 1), ('putector', 1), ('awsome', 1), ('selling', 1), ('won/t', 1), ('onwards', 1), ('card/', 1), ('confusion', 1), ('forum', 1), ('expand', 1), ('twice', 1), ('isthey', 1), ('disconnectednow', 1), ('baud', 1), ('modem', 1), ('fasteri', 1), ('flight', 1), ('aggravation', 1), ('harder', 1), ('comands', 1), ('proceed', 1), ('sens', 1), ('maintenance', 1), ('s567', 1), ('plain', 1), ('😁', 1), ('october', 1), ('occasion', 1), ('timing', 1), ('ups', 1), ('po', 1), ('approx', 1), ('j7', 1), ('telephone', 1), ('ipad', 1), ('fall', 1), ('term', 1), ('jan', 1), ('pleasedupdate', 1), ('bluphonepartscom', 1), ('zilch', 1), ('vredit', 1), ('phonethe', 1), ('go', 1), ('eventhought', 1), ('deeply', 1), ('purchaseold', 1), ('excitement', 1), ('predecessor', 1), ('hesitate', 1), ('fails', 1), ('not•its', 1), ('extent', 1), ('reacts', 1), ('wire', 1), ('blurring', 1), ('indoors', 1), ('photography', 1), ('•the', 1), ('crash•but', 1), ('counter', 1), ('performing', 1), ('leaf', 1), ('performanceso', 1), ('resume', 1), ('reconsider', 1), ('downgrade', 1), ('backup', 1), ('beautiful', 1), ('brazil', 1), ('one2', 1), ('problem4', 1), ('xl2i', 1), ('amazoncom', 1), ('exchange', 1), ('quilty', 1), ('passcode', 1), ('repsi', 1), ('offbrand', 1), ('suxxxxxxhow', 1), ('privacy', 1), ('pitch', 1), ('tea', 1), ('pot', 1), ('yuk', 1), ('output', 1), ('underneath', 1), ('pick', 1), ('clue', 1), ('swiping', 1), ('witless', 1), ('battry', 1), ('goog', 1), ('park', 1), ('goteambluupdate', 1), ('drainage', 1), ('chargei', 1), ('tinny', 1), ('rank', 1), ('youamazon', 1), ('penalty', 1), ('ive', 1), ('capabiity', 1), ('spending', 1), ('trash', 1), ('intention', 1), ('knock', 1), ('disheartening', 1), ('waysi', 1), ('thru', 1), ('defend', 1), ('river', 1), ('wonderful', 1), ('amazonupdate', 1), ('die', 1), ('inconvenience', 1), ('profile', 1), ('assistance', 1), ('inquiry', 1), ('outdoors', 1), ('overnight', 1), ('reader', 1), ('fingerpring', 1), ('magnet', 1), ('radar', 1), ('express', 1), ('weather', 1), ('bothon', 1), ('cardupdate', 1), ('redid', 1), ('confirm', 1), ('puretalk', 1), ('beatlook', 1), ('lookingprice', 1), ('lightning', 1), ('getspecs', 1), ('interest', 1), ('balance', 1), ('perimeter', 1), ('extend', 1), ('downcamera', 1), ('building', 1), ('neededoverall', 1), ('meid', 1), ('lick', 1), ('coal', 1), ('miner', 1), ('wtf', 1), ('hidden', 1), ('yall', 1), ('disk', 1), ('damn', 1), ('bet', 1), ('combine', 1), ('thin', 1), ('useless', 1), ('justify', 1), ('cel', 1), ('somehow', 1), ('tablet/mp3', 1), ('player', 1), ('orig', 1), ('microsd', 1), ('location', 1), ('motherboard', 1), ('ir', 1), ('gal', 1), ('girl', 1), ('intelligence', 1), ('whopping', 1), ('powerhouse', 1), ('quad', 1), ('warehouse', 1), ('pound', 1), ('reliability', 1), ('responds', 1), ('echo', 1), ('🏠', 1), ('trial', 1), ('convince', 1), ('hardship', 1), ('luxury', 1), ('gesture', 1), ('droid', 1), ('handy', 1), ('television', 1), ('searching', 1), ('safety', 1), ('friday', 1), ('swagbuck', 1), ('grade', 1), ('peanut', 1), ('exhibit', 1), ('contain', 1), ('compass', 1), ('sensor', 1), ('borderline', 1), ('sunlight', 1), ('create', 1), ('remain', 1), ('neat', 1), ('companybut', 1), ('grip', 1), ('thereof', 1), ('taggy', 1), ('realise', 1), ('felt', 1), ('phoneafter', 1), ('equates', 1), ('stand', 1), ('sah', 1), ('risk', 1), ('language', 1), ('mny', 1), ('bonusthe', 1), ('bat', 1), ('soap', 1), ('meupdate', 1), ('rent', 1), ('conscience', 1), ('soul', 1), ('techy', 1), ('sharpness', 1), ('seat', 1), ('concrete', 1), ('handful', 1), ('god', 1), ('mar', 1), ('chargesplays', 1), ('dropcons', 1), ('reboots', 1), ('sdcard', 1), ('donei', 1), ('rma', 1), ('vendor', 1), ('bill', 1), ('versus', 1), ('themlook', 1), ('dog', 1), ('dualsim', 1), ('convenience', 1), ('taste', 1), ('mouth', 1), ('setup', 1), ('discribe', 1), ('fisrt', 1), ('envy', 1), ('patience', 1), ('pastor', 1), ('omg', 1), ('handthe', 1), ('ivso', 1), ('pickup', 1), ('non', 1), ('v', 1), ('potato', 1), ('asap', 1), ('mom', 1), ('satisfactory', 1), ('grate', 1), ('moneyhas', 1), ('itcalls', 1), ('editor', 1), ('supplier', 1), ('form', 1), ('transit', 1), ('moron', 1), ('favor', 1), ('jumpstart', 1), ('benefit', 1), ('competitor', 1), ('fiance', 1), ('mile', 1), ('raining', 1), ('horse', 1), ('cheaply', 1), ('ill', 1), ('pone', 1), ('toggle', 1), ('usability', 1), ('warrantyi', 1), ('afterward', 1), ('forward', 1), ('backing', 1), ('suffer', 1), ('void', 1), ('moth', 1), ('copy', 1), ('needle', 1), ('handle', 1), ('engage', 1), ('score', 1), ('buffer', 1), ('happen', 1), ('project', 1), ('effect', 1), ('huawei', 1), ('xiaomi', 1), ('alcatel', 1), ('fund', 1), ('radioit', 1), ('reporting', 1), ('itselfi', 1), ('fair', 1), ('slow', 1), ('😬😬😬😬😬😬', 1), ('😠😠😠', 1), ('emoji😬😬😬', 1), ('whatever', 1), ('ww', 1), ('mobile', 1), ('capacity', 1), ('printer', 1), ('brick', 1), ('temper', 1), ('enthusiasm', 1), ('manufacture', 1), ('couch', 1), ('hardwood', 1), ('lip', 1), ('yo', 1), ('itnote', 1), ('r', 1), ('potential', 1), ('cooli', 1), ('drag', 1), ('resetting', 1), ('gray', 1), ('manage', 1), ('holder', 1), ('direction', 1), ('emergency', 1), ('regard', 1), ('bandwagon', 1), ('stink', 1), ('portion', 1), ('traveler', 1), ('resident', 1), ('iphone6s', 1), ('megapixels', 1), ('wouldnt', 1), ('kickass', 1), ('placement', 1), ('barley', 1), ('socket', 1), ('reminder', 1), ('sub', 1), ('phone4', 1), ('fingernail', 1), ('miscommunication', 1), ('error', 1), ('essence', 1), ('cellular', 1), ('battery/', 1), ('inconvenient', 1), ('bullet', 1), ('hunt', 1), ('summer', 1), ('beg', 1), ('dorm', 1), ('carpet', 1), ('eefund', 1), ('delay', 1), ('restarts', 1), ('indicator', 1), ('buttonwe', 1), ('fare', 1), ('strange', 1), ('😞', 1), ('it😭', 1), ('comiste', 1), ('shaun', 1), ('whatsapp', 1), ('paythink', 1), ('requirement', 1), ('seldom', 1), ('shutter', 1), ('hdr', 1), ('scene', 1)]\n"
     ]
    }
   ],
   "source": [
    "noun_dict=dict((i, noun_words.count(i)) for i in noun_words)\n",
    "noun_dict = sorted(noun_dict.items(), key=operator.itemgetter(1),reverse=True)\n",
    "print((noun_dict))"
   ]
  },
  {
   "cell_type": "code",
   "execution_count": 18,
   "metadata": {},
   "outputs": [
    {
     "name": "stdout",
     "output_type": "stream",
     "text": [
      "[('nt', 112), ('get', 95), ('love', 79), ('got', 78), ('bought', 77), ('using', 59), ('go', 55), ('buy', 54), ('working', 54), ('used', 51), ('come', 50), ('say', 50), ('take', 49), ('charging', 46), ('started', 46), ('came', 42), ('make', 38), ('know', 37), ('want', 36), ('getting', 34), ('keep', 33), ('need', 33), ('worked', 30), ('recommend', 30), ('going', 30), ('received', 29), ('think', 28), ('purchased', 27), ('went', 26), ('took', 25), ('made', 24), ('stopped', 24), ('put', 23), ('found', 23), ('give', 23), ('looking', 23), ('blu', 22), ('dropped', 22), ('told', 21), ('see', 21), ('loved', 21), ('expected', 20), ('find', 20), ('tried', 19), ('wanted', 19), ('seems', 19), ('needed', 19), ('said', 18), ('use', 18), ('owned', 18), ('amazing', 16), ('done', 16), ('contacted', 16), ('fixed', 16), ('replace', 16), ('turn', 16), ('set', 16), ('paid', 15), ('decided', 15), ('read', 15), ('running', 14), ('coming', 14), ('trying', 14), ('send', 14), ('expect', 14), ('called', 14), ('seem', 13), ('setting', 13), ('look', 12), ('gave', 12), ('let', 12), ('xl', 12), ('annoying', 11), ('run', 11), ('happened', 11), ('giving', 11), ('thought', 11), ('liked', 11), ('acting', 11), ('feel', 11), ('looked', 10), ('charge', 10), ('disappointed', 10), ('updated', 10), ('tell', 10), ('better', 10), ('considering', 10), ('freezing', 10), ('returned', 10), ('opened', 10), ('believe', 9), ('ordered', 9), ('fell', 9), ('buying', 9), ('brought', 9), ('return', 9), ('reset', 9), ('recommended', 9), ('taking', 9), ('arrived', 9), ('included', 9), ('sent', 9), ('ended', 9), ('like', 9), ('kept', 9), ('built', 8), ('gone', 8), ('left', 8), ('hold', 8), ('xl2', 8), ('compared', 8), ('installed', 8), ('receiving', 8), ('returning', 8), ('work', 8), ('asked', 8), ('replaced', 8), ('supposed', 7), ('call', 7), ('cracked', 7), ('showing', 7), ('added', 7), ('broke', 7), ('making', 7), ('satisfied', 7), ('apps', 7), ('seemed', 7), ('sending', 7), ('paying', 7), ('figured', 7), ('died', 7), ('lost', 7), ('taken', 7), ('sim', 6), ('happens', 6), ('reading', 6), ('connected', 6), ('waiting', 6), ('holding', 6), ('opening', 6), ('sd', 6), ('provided', 6), ('hoping', 6), ('beat', 6), ('shipping', 6), ('pleased', 6), ('review', 6), ('ring', 6), ('touching', 6), ('spend', 6), ('texting', 6), ('includes', 6), ('help', 6), ('missing', 6), ('perfect', 5), ('surprised', 5), ('become', 5), ('shut', 5), ('loaded', 5), ('asking', 5), ('putting', 5), ('preinstalled', 5), ('shattered', 5), ('stand', 5), ('checked', 5), ('slow', 5), ('loving', 5), ('activating', 5), ('calling', 5), ('start', 5), ('saying', 5), ('earbuds', 5), ('restart', 5), ('switching', 5), ('turning', 5), ('removed', 5), ('starting', 5), ('please', 5), ('try', 5), ('learning', 5), ('switched', 5), ('le', 5), ('purchasing', 5), ('issue', 5), ('hear', 5), ('activated', 5), ('seen', 5), ('allows', 5), ('appears', 5), ('advertised', 5), ('suggested', 4), ('prefer', 4), ('app', 4), ('sitting', 4), ('typing', 4), ('hit', 4), ('bright', 4), ('described', 4), ('pay', 4), ('shipped', 4), ('lasted', 4), ('began', 4), ('downloading', 4), ('preloaded', 4), ('ask', 4), ('recognize', 4), ('downloaded', 4), ('remove', 4), ('watching', 4), ('messed', 4), ('gaming', 4), ('recommending', 4), ('spoke', 4), ('upgraded', 4), ('selling', 4), ('purchase', 4), ('missed', 4), ('performed', 4), ('fix', 4), ('covering', 4), ('charged', 4), ('pressing', 4), ('listening', 4), ('breaking', 4), ('stay', 4), ('drop', 4), ('liking', 4), ('lighting', 4), ('released', 4), ('restarting', 4), ('listed', 4), ('stop', 4), ('stated', 4), ('failed', 3), ('pressed', 3), ('upgrade', 3), ('adding', 3), ('add', 3), ('refused', 3), ('learned', 3), ('curved', 3), ('play', 3), ('contacting', 3), ('worry', 3), ('leave', 3), ('handle', 3), ('seeing', 3), ('android', 3), ('impressed', 3), ('connecting', 3), ('felt', 3), ('lol', 3), ('priced', 3), ('surfing', 3), ('thinking', 3), ('plugged', 3), ('known', 3), ('show', 3), ('possessed', 3), ('falling', 3), ('expensive', 3), ('including', 3), ('cut', 3), ('restarted', 3), ('regret', 3), ('performing', 3), ('sound', 3), ('became', 3), ('stolen', 3), ('rear', 3), ('according', 3), ('expecting', 3), ('locked', 3), ('consider', 3), ('locking', 3), ('battery', 3), ('closing', 3), ('happen', 3), ('glitching', 3), ('reboot', 3), ('lose', 3), ('formatting', 3), ('following', 3), ('vibrating', 3), ('galaxy', 3), ('broken', 3), ('upgrading', 3), ('occurred', 3), ('enjoyed', 3), ('leaving', 3), ('noticed', 3), ('care', 3), ('branded', 3), ('vivo', 3), ('explained', 3), ('zmax', 3), ('straight', 3), ('changed', 3), ('save', 3), ('shutting', 3), ('require', 3), ('authorized', 3), ('damaged', 3), ('improved', 3), ('connect', 3), ('realized', 3), ('wifi', 3), ('c', 3), ('drove', 2), ('amazon', 2), ('mean', 2), ('sims', 2), ('supported', 2), ('facing', 2), ('comparing', 2), ('changing', 2), ('complain', 2), ('gotten', 2), ('sell', 2), ('best', 2), ('sealed', 2), ('dropping', 2), ('live', 2), ('stuff', 2), ('noted', 2), ('update', 2), ('waited', 2), ('spending', 2), ('experienced', 2), ('amazed', 2), ('requested', 2), ('repaired', 2), ('warned', 2), ('speed', 2), ('carrying', 2), ('complaining', 2), ('operating', 2), ('messaging', 2), ('crash', 2), ('personalize', 2), ('carry', 2), ('bring', 2), ('etc', 2), ('streaming', 2), ('insisted', 2), ('model', 2), ('appreciate', 2), ('based', 2), ('manufactured', 2), ('packed', 2), ('fake', 2), ('refer', 2), ('frustrating', 2), ('mentioning', 2), ('launcher', 2), ('knew', 2), ('swiping', 2), ('heard', 2), ('located', 2), ('lack', 2), ('tends', 2), ('good', 2), ('replacing', 2), ('detected', 2), ('backing', 2), ('picked', 2), ('unlocked', 2), ('enjoying', 2), ('warning', 2), ('wasted', 2), ('suffered', 2), ('pleasing', 2), ('claimed', 2), ('vibrates', 2), ('caused', 2), ('longer', 2), ('rebranded', 2), ('resolved', 2), ('knowing', 2), ('lacking', 2), ('popped', 2), ('awesome', 2), ('encountered', 2), ('powered', 2), ('dimmed', 2), ('emailed', 2), ('walk', 2), ('act', 2), ('worst', 2), ('asks', 2), ('card', 2), ('wise', 2), ('required', 2), ('degraded', 2), ('accessing', 2), ('mentioned', 2), ('recognized', 2), ('given', 2), ('played', 2), ('involves', 2), ('misleading', 2), ('accepted', 2), ('regarding', 2), ('watched', 2), ('understand', 2), ('outgoing', 2), ('smooth', 2), ('throw', 2), ('camera', 2), ('wiping', 2), ('receive', 2), ('hoped', 2), ('kicking', 2), ('build', 2), ('friend', 2), ('editing', 2), ('placing', 2), ('allowed', 2), ('needing', 2), ('held', 2), ('freeze', 2), ('traveling', 2), ('emailing', 2), ('transferred', 2), ('mail', 2), ('improve', 2), ('functioning', 2), ('keeping', 2), ('aspect', 2), ('wanting', 2), ('listened', 2), ('spent', 2), ('slowed', 2), ('cheap', 2), ('incoming', 2), ('ran', 2), ('heated', 2), ('turned', 2), ('pin', 2), ('delivered', 2), ('exploded', 2), ('message', 2), ('followed', 2), ('decide', 2), ('packaging', 2), ('blurred', 2), ('tested', 2), ('happening', 2), ('waste', 2), ('researched', 2), ('sold', 2), ('proved', 2), ('im', 2), ('corning', 2), ('lot', 2), ('offer', 2), ('honor', 2), ('extended', 2), ('ordering', 2), ('tapped', 2), ('inserted', 2), ('viewing', 2), ('hope', 2), ('scratch', 2), ('owning', 2), ('speaking', 2), ('levi', 2), ('freaking', 1), ('arrives', 1), ('riding', 1), ('tagbuild', 1), ('least', 1), ('signalsound', 1), ('firing', 1), ('entertaining', 1), ('brainwashed', 1), ('disagrees', 1), ('skin/software', 1), ('tweaked', 1), ('con', 1), ('smart', 1), ('refuse', 1), ('ignored', 1), ('customized', 1), ('building', 1), ('meeting', 1), ('filed', 1), ('refunded', 1), ('breach', 1), ('b', 1), ('tryed', 1), ('togetherincluded', 1), ('phonethe', 1), ('cover', 1), ('disabling', 1), ('installing', 1), ('partitioned', 1), ('stunning', 1), ('showed/described', 1), ('discussing', 1), ('error', 1), ('pissed', 1), ('spyware', 1), ('tod', 1), ('bloatware', 1), ('earpiece', 1), ('bumped', 1), ('agree', 1), ('joke', 1), ('reversed', 1), ('expired', 1), ('completed', 1), ('usedi', 1), ('ensure', 1), ('stripped', 1), ('laptop', 1), ('youopen', 1), ('model20180120updated', 1), ('annoyed', 1), ('surrounding', 1), ('frustrated', 1), ('s6', 1), ('thrilled', 1), ('streamed', 1), ('operates', 1), ('approved', 1), ('slowing', 1), ('increasing', 1), ('relegates', 1), ('slip', 1), ('solved', 1), ('arose', 1), ('exceeded', 1), ('winner', 1), ('saw', 1), ('frontfacing', 1), ('little', 1), ('nagging', 1), ('created', 1), ('strangelooking', 1), ('colored', 1), ('deleted', 1), ('corrupted', 1), ('shot', 1), ('fallen', 1), ('chargerpros', 1), ('keyboard', 1), ('embedded', 1), ('muffledoverall', 1), ('irritating', 1), ('engineered', 1), ('fail', 1), ('bashing', 1), ('alot', 1), ('owed', 1), ('stright', 1), ('q', 1), ('switch', 1), ('depending', 1), ('recharge', 1), ('lag', 1), ('warranted', 1), ('actionupdate', 1), ('loosened', 1), ('blend', 1), ('exiting', 1), ('pending', 1), ('burning', 1), ('smoking', 1), ('malfunctioned', 1), ('powering', 1), ('promise', 1), ('plugging', 1), ('soldered', 1), ('forget', 1), ('massed', 1), ('produced', 1), ('warranty', 1), ('inmatelove', 1), ('exist', 1), ('replica', 1), ('updating', 1), ('tmobile', 1), ('evolved', 1), ('introduced', 1), ('didnt', 1), ('throwing', 1), ('populated', 1), ('note', 1), ('matched', 1), ('spoiled', 1), ('lg', 1), ('caller', 1), ('break', 1), ('trinidad', 1), ('overheated', 1), ('rebooted', 1), ('silicone', 1), ('headbuds', 1), ('googled', 1), ('first', 1), ('aps', 1), ('cool', 1), ('losing', 1), ('refreshing', 1), ('rep', 1), ('remained', 1), ('discovered', 1), ('confirmed', 1), ('otherwise', 1), ('g4', 1), ('teamed', 1), ('costing', 1), ('unwanted', 1), ('casting', 1), ('hacked', 1), ('lagging', 1), ('gsm', 1), ('written', 1), ('up/freezing', 1), ('deleting', 1), ('reloading', 1), ('ringer', 1), ('w', 1), ('begin', 1), ('remaining', 1), ('flimsy', 1), ('rocking', 1), ('sounded', 1), ('coolother', 1), ('dig', 1), ('toggling', 1), ('queue', 1), ('drooped', 1), ('hitting', 1), ('info', 1), ('washed', 1), ('purchansing', 1), ('move', 1), ('calendar', 1), ('becoming', 1), ('concerned', 1), ('personalized', 1), ('afford', 1), ('caught', 1), ('support', 1), ('bluetooth', 1), ('limited', 1), ('photo', 1), ('suffice', 1), ('obtain', 1), ('causing', 1), ('sectionalized', 1), ('dissapointed', 1), ('tilting', 1), ('dissatisfied', 1), ('tempted', 1), ('earphone', 1), ('reviewing', 1), ('appear', 1), ('download', 1), ('steal', 1), ('driving', 1), ('parting', 1), ('finished', 1), ('blathering', 1), ('fun', 1), ('reloaded', 1), ('startling', 1), ('overnight', 1), ('shy', 1), ('intended', 1), ('sinking', 1), ('repeated', 1), ('guy', 1), ('lowering', 1), ('complicated', 1), ('connects', 1), ('satisfying', 1), ('rendering', 1), ('vibrate', 1), ('fighting', 1), ('slows', 1), ('requesting', 1), ('wish', 1), ('restarts', 1), ('becomes', 1), ('mind', 1), ('recomend', 1), ('effected', 1), ('pulling', 1), ('resolvedupdate', 1), ('feb', 1), ('writing', 1), ('walking', 1), ('close', 1), ('restore', 1), ('excited', 1), ('follow', 1), ('combined', 1), ('nice', 1), ('developing', 1), ('end', 1), ('connecting/disconnecting', 1), ('headset', 1), ('disappointing', 1), ('package', 1), ('comparable', 1), ('misbehaving', 1), ('multitasking', 1), ('handled', 1), ('valueadded', 1), ('sticking', 1), ('refocus', 1), ('ghostpressing', 1), ('oftreported', 1), ('exposed', 1), ('etcthis', 1), ('april', 1), ('baked', 1), ('datei', 1), ('moving', 1), ('hated', 1), ('audiobooks', 1), ('epubs', 1), ('alerted', 1), ('placed', 1), ('pushed', 1), ('display', 1), ('suspected', 1), ('mounted', 1), ('dullwitted', 1), ('wowed', 1), ('midnight', 1), ('bluei', 1), ('protrude', 1), ('corner', 1), ('point', 1), ('past', 1), ('topoftheline', 1), ('kindle', 1), ('accurate', 1), ('owns', 1), ('suppose', 1), ('recasting', 1), ('jabbing', 1), ('slimer', 1), ('plus', 1), ('secure', 1), ('ending', 1), ('bugging', 1), ('unboxing', 1), ('responds', 1), ('saving', 1), ('enabled', 1), ('exhibiting', 1), ('cellphone', 1), ('couponing', 1), ('covered', 1), ('med', 1), ('appreciated', 1), ('saved', 1), ('mailed', 1), ('explaining', 1), ('refurbished', 1), ('excepted', 1), ('wait', 1), ('pulled', 1), ('prepared', 1), ('logged', 1), ('jumped', 1), ('knocking', 1), ('leaned', 1), ('ghost', 1), ('screwed', 1), ('troubleshooting', 1), ('manufacturerno', 1), ('resolve', 1), ('leaf', 1), ('continue', 1), ('fooled', 1), ('band', 1), ('lte', 1), ('increased', 1), ('favorite', 1), ('lightning', 1), ('select', 1), ('acknowledge', 1), ('complained', 1), ('answered', 1), ('processing', 1), ('default', 1), ('refusing', 1), ('firmware', 1), ('terrific', 1), ('rolled', 1), ('soil', 1), ('talking', 1), ('awaiting', 1), ('wouldnt', 1), ('upset', 1), ('reporting', 1), ('blown', 1), ('planned', 1), ('managed', 1), ('lens', 1), ('settled', 1), ('disappeared', 1), ('change', 1), ('control', 1), ('texted', 1), ('rd', 1), ('casing', 1), ('revert', 1), ('guess', 1), ('finding', 1), ('reccommending', 1), ('worth', 1), ('stuck', 1), ('tired', 1), ('beginning', 1), ('restocking', 1), ('named', 1), ('glitched', 1), ('woke', 1), ('rooting', 1), ('brings', 1), ('worried', 1), ('invrstigated', 1), ('cnet', 1), ('bugged', 1), ('prompting', 1), ('submitting', 1), ('mistaken', 1), ('unlock', 1), ('choose', 1), ('resist', 1), ('receptive', 1), ('rang', 1), ('warped', 1), ('hurt', 1), ('happier', 1), ('peeling', 1), ('overpriced', 1), ('r1hd', 1), ('octa', 1), ('blow', 1), ('shuts', 1), ('reordering', 1), ('die', 1), ('color', 1), ('enjoy', 1), ('drawer', 1), ('burned', 1), ('hoti', 1), ('printed', 1), ('flex', 1), ('reacting', 1), ('biggwr', 1), ('collapse', 1), ('scared', 1), ('install', 1), ('searched', 1), ('email', 1), ('list', 1), ('typed', 1), ('dy', 1), ('comands', 1), ('mailing', 1), ('item', 1), ('rated', 1), ('lock', 1), ('suffering', 1), ('print', 1), ('failing', 1), ('hearing', 1), ('ton', 1), ('affiliated', 1), ('researching', 1), ('overwhelmed', 1), ('bypass', 1), ('advertixing', 1), ('bulding', 1), ('bulged', 1), ('acquire', 1), ('checking', 1), ('chose', 1), ('touch', 1), ('closed', 1), ('primary', 1), ('granulated', 1), ('snapped', 1), ('bit', 1), ('reach', 1), ('guessed', 1), ('exaggerationalso', 1), ('planning', 1), ('smartphone', 1), ('regretting', 1), ('receives', 1), ('leading', 1), ('malfunctioning', 1), ('lmao', 1), ('amazoncom', 1), ('desired', 1), ('disconnected', 1), ('lying', 1), ('perform', 1), ('squealing', 1), ('wrote', 1), ('joy', 1), ('beware', 1), ('designed', 1), ('cutting', 1), ('hundred', 1), ('answering', 1), ('receipes', 1), ('cahrg', 1), ('truly', 1), ('showed', 1), ('agrees', 1), ('blocking', 1), ('downgraded', 1), ('rubberized', 1), ('prevent', 1), ('deal', 1), ('speedthe', 1), ('muted', 1), ('somebody', 1), ('tech', 1), ('reviewed', 1), ('defend', 1), ('ignore', 1), ('apologize', 1), ('utilize', 1), ('compatible', 1), ('notice', 1), ('fitted', 1), ('focus', 1), ('shooting', 1), ('repel', 1), ('specific', 1), ('confirming', 1), ('sadapter', 1), ('deny', 1), ('advanced', 1), ('sponsored', 1), ('monkeying', 1), ('figuring', 1), ('daysconsbeing', 1), ('treated', 1), ('helped', 1), ('avoid', 1), ('glass', 1), ('granted', 1), ('bummed', 1), ('moved', 1), ('remote', 1), ('dedicated', 1), ('weighing', 1), ('agreed', 1), ('labelled', 1), ('filesincluding', 1), ('bothered', 1), ('intend', 1), ('inserting', 1), ('sustain', 1), ('cards😉', 1), ('droid', 1), ('write', 1), ('believed', 1), ('reminds', 1), ('rubber', 1), ('forcing', 1), ('soaking', 1), ('overlay', 1), ('fall', 1), ('hide', 1), ('limitedtldr', 1), ('tend', 1), ('dialing', 1), ('flashlight', 1), ('google', 1), ('experience', 1), ('glowing', 1), ('september', 1), ('googling', 1), ('realised', 1), ('advised', 1), ('servicing', 1), ('pricethis', 1), ('ram', 1), ('result', 1), ('allow', 1), ('scratched', 1), ('earned', 1), ('gon', 1), ('welldoes', 1), ('promising', 1), ('removing', 1), ('canned', 1), ('excruciating', 1), ('eligible', 1), ('rmas', 1), ('customercaused', 1), ('taped', 1), ('christmas', 1), ('providing', 1), ('sized', 1), ('protect', 1), ('muffled', 1), ('store', 1), ('concluded', 1), ('snap', 1), ('amoled', 1), ('offshore', 1), ('ruin', 1), ('delighted', 1), ('drying', 1), ('staying', 1), ('catch', 1), ('enhanced', 1), ('registering', 1), ('continued', 1), ('subjected', 1), ('reassured', 1), ('instructed', 1), ('attached', 1), ('denied', 1), ('citing', 1), ('phoneso', 1), ('offering', 1), ('anchor', 1), ('functioned', 1), ('collapsed', 1), ('okay', 1), ('lacked', 1), ('redirect', 1), ('ringing', 1), ('moderate', 1), ('reflected', 1), ('andriod', 1), ('arriving', 1), ('forced', 1), ('prevented', 1), ('suggest', 1), ('exchanged', 1), ('stepped', 1), ('presented', 1), ('outif', 1), ('recognizing', 1), ('screen', 1), ('mistreated', 1), ('fine', 1), ('defect', 1), ('resulted', 1), ('impacted', 1), ('relies', 1), ('blessing', 1), ('dream', 1), ('frequency', 1), ('devastated', 1), ('overreacting', 1), ('differ', 1), ('proving', 1), ('astonished', 1), ('landing', 1), ('improves', 1), ('wake', 1), ('light', 1), ('exhibited', 1), ('quirk', 1), ('delayed', 1), ('dealing', 1), ('omfg', 1), ('te', 1), ('esto', 1), ('fulfill', 1), ('focusing', 1), ('worded', 1), ('cell', 1), ('picture', 1), ('lit', 1), ('led', 1), ('uploading', 1)]\n"
     ]
    }
   ],
   "source": [
    "verb_dict=dict((i, verb_words.count(i)) for i in verb_words)\n",
    "verb_dict = sorted(verb_dict.items(), key=operator.itemgetter(1),reverse=True)\n",
    "print((verb_dict))"
   ]
  },
  {
   "cell_type": "code",
   "execution_count": 19,
   "metadata": {},
   "outputs": [
    {
     "name": "stdout",
     "output_type": "stream",
     "text": [
      "[('great', 231), ('good', 217), ('nt', 108), ('nice', 83), ('screen', 81), ('last', 71), ('new', 62), ('blu', 48), ('happy', 46), ('little', 43), ('update', 42), ('much', 39), ('sim', 39), ('bad', 38), ('second', 34), ('best', 32), ('better', 32), ('big', 30), ('sd', 29), ('first', 29), ('excellent', 29), ('apps', 29), ('many', 28), ('easy', 28), ('different', 26), ('old', 25), ('android', 25), ('several', 25), ('able', 24), ('previous', 21), ('hard', 20), ('overall', 20), ('awesome', 20), ('internal', 20), ('high', 19), ('sure', 19), ('extra', 18), ('slow', 18), ('decent', 18), ('perfect', 18), ('least', 18), ('cheap', 18), ('original', 18), ('worth', 18), ('touch', 17), ('clear', 17), ('beautiful', 16), ('fine', 16), ('long', 16), ('fast', 16), ('expensive', 15), ('real', 15), ('le', 15), ('poor', 15), ('open', 14), ('come', 14), ('usb', 14), ('full', 14), ('terrible', 14), ('wrong', 14), ('low', 14), ('enough', 13), ('available', 13), ('blue', 13), ('huge', 13), ('right', 13), ('ok', 13), ('small', 12), ('upgrade', 12), ('sound', 11), ('battery', 11), ('negative', 11), ('u', 11), ('pleased', 11), ('worst', 11), ('solid', 11), ('wish', 11), ('amazing', 10), ('disappointed', 10), ('free', 10), ('app', 10), ('amazon', 10), ('fantastic', 10), ('large', 9), ('dual', 9), ('sleek', 9), ('whole', 9), ('dead', 9), ('hear', 9), ('heavy', 9), ('unable', 9), ('couple', 9), ('short', 9), ('due', 9), ('next', 9), ('unlocked', 8), ('close', 8), ('text', 8), ('third', 8), ('hot', 8), ('black', 8), ('super', 8), ('worse', 8), ('ram', 8), ('quick', 7), ('personal', 7), ('true', 7), ('cool', 7), ('affordable', 7), ('smart', 7), ('call', 7), ('compatible', 7), ('wifi', 7), ('crazy', 7), ('light', 7), ('useless', 7), ('additional', 7), ('disable', 7), ('vivo', 7), ('protective', 7), ('single', 7), ('receive', 7), ('top', 7), ('entire', 6), ('front', 6), ('reliable', 6), ('plenty', 6), ('basic', 6), ('multiple', 6), ('live', 6), ('samsung', 6), ('comfortable', 6), ('longer', 6), ('major', 6), ('google', 6), ('difficult', 6), ('constant', 6), ('horrible', 6), ('higher', 6), ('ui', 6), ('physical', 6), ('loud', 5), ('average', 5), ('daily', 5), ('unusable', 5), ('signal', 5), ('main', 5), ('standard', 5), ('stop', 5), ('want', 5), ('important', 5), ('responsive', 5), ('connect', 5), ('user', 5), ('blank', 5), ('fair', 5), ('galaxy', 5), ('common', 5), ('straight', 5), ('warranty', 5), ('xl2', 5), ('spec', 5), ('key', 5), ('give', 5), ('satisfied', 5), ('comparable', 5), ('wonderful', 5), ('impressed', 5), ('mobile', 5), ('usual', 4), ('keep', 4), ('usd', 4), ('ir', 4), ('gb', 4), ('normal', 4), ('installed', 4), ('favorite', 4), ('side', 4), ('contact', 4), ('stuff', 4), ('spyware', 4), ('lower', 4), ('outside', 4), ('uninstall', 4), ('sd/memory', 4), ('fix', 4), ('’', 4), ('break', 4), ('tech', 4), ('freeze', 4), ('strong', 4), ('charger', 4), ('defective', 4), ('start', 4), ('launcher', 4), ('know', 4), ('american', 4), ('accessory', 4), ('micro', 4), ('older', 4), ('glad', 4), ('wet', 4), ('sharp', 4), ('lightweight', 4), ('spare', 4), ('alternative', 4), ('minimal', 4), ('manual', 4), ('o', 4), ('used', 4), ('hold', 4), ('prior', 4), ('removable', 4), ('external', 4), ('finish', 4), ('bright', 4), ('special', 4), ('need', 4), ('lte', 3), ('nova', 3), ('obvious', 3), ('mean', 3), ('identical', 3), ('pretty', 3), ('write', 3), ('contacted', 3), ('void', 3), ('replacement', 3), ('quiet', 3), ('disappointing', 3), ('net', 3), ('shut', 3), ('purpose', 3), ('similar', 3), ('thin', 3), ('tiny', 3), ('audio', 3), ('n', 3), ('regular', 3), ('usage', 3), ('recent', 3), ('clean', 3), ('love', 3), ('incredible', 3), ('flawless', 3), ('everyday', 3), ('ready', 3), ('adequate', 3), ('install', 3), ('friendly', 3), ('gotten', 3), ('tmobile', 3), ('latest', 3), ('read', 3), ('primary', 3), ('simple', 3), ('cover', 3), ('recommend', 3), ('miss', 3), ('return', 3), ('aware', 3), ('unreliable', 3), ('gsm', 3), ('gionee', 3), ('impossible', 3), ('awful', 3), ('worked', 3), ('cheaper', 3), ('unstable', 3), ('unnecessary', 3), ('use', 3), ('reviewer', 3), ('photo', 3), ('like', 3), ('send', 3), ('double', 3), ('gold', 3), ('unresponsive', 3), ('middle', 3), ('smooth', 3), ('take', 3), ('durable', 3), ('biggest', 3), ('newer', 3), ('rma', 3), ('find', 3), ('prime', 3), ('marshmallow', 3), ('complete', 3), ('loved', 3), ('frequent', 3), ('nano', 3), ('sweet', 3), ('build', 3), ('substantial', 3), ('draw', 3), ('loyal', 3), ('false', 3), ('plastic', 3), ('useful', 3), ('laggy', 2), ('bubble', 2), ('honest', 2), ('pro', 2), ('retail', 2), ('inch', 2), ('ultra', 2), ('snap', 2), ('instant', 2), ('shiny', 2), ('brick', 2), ('busy', 2), ('kindle', 2), ('accept', 2), ('fancy', 2), ('sunlight', 2), ('quirk', 2), ('onboard', 2), ('net10', 2), ('terrific', 2), ('ear', 2), ('total', 2), ('email', 2), ('reasonable', 2), ('temporary', 2), ('pic', 2), ('icon', 2), ('powerful', 2), ('handle', 2), ('unique', 2), ('understand', 2), ('address', 2), ('serious', 2), ('feature', 2), ('scan', 2), ('updated', 2), ('rough', 2), ('table', 2), ('cant', 2), ('bang', 2), ('social', 2), ('window', 2), ('specific', 2), ('press', 2), ('slightest', 2), ('fourth', 2), ('past', 2), ('safe', 2), ('particular', 2), ('weird', 2), ('easier', 2), ('stronger', 2), ('functional', 2), ('exact', 2), ('graphic', 2), ('rid', 2), ('lesser', 2), ('tap', 2), ('glitchy', 2), ('bought', 2), ('partial', 2), ('bottom', 2), ('generic', 2), ('sturdy', 2), ('sync', 2), ('initial', 2), ('white', 2), ('moderate', 2), ('panoramic', 2), ('willing', 2), ('touchscreen', 2), ('bunch', 2), ('else', 2), ('tone', 2), ('mine', 2), ('ask', 2), ('triple', 2), ('usable', 2), ('occasional', 2), ('extensive', 2), ('economic', 2), ('website', 2), ('bigger', 2), ('february', 2), ('shot', 2), ('lucky', 2), ('lady', 2), ('concerned', 2), ('excelent', 2), ('wireless', 2), ('wont', 2), ('technical', 2), ('wide', 2), ('regret', 2), ('present', 2), ('acceptable', 2), ('subject', 2), ('review', 2), ('dog', 2), ('drawer', 2), ('onscreen', 2), ('smartphone', 2), ('extraordinary', 2), ('native', 2), ('sluggish', 2), ('change', 2), ('lil', 2), ('exceeded', 2), ('outstanding', 2), ('ta', 2), ('elegant', 2), ('fit', 2), ('xl', 2), ('im', 2), ('various', 2), ('guess', 2), ('click', 2), ('random', 2), ('general', 2), ('funky', 2), ('sent', 2), ('unfortunately', 2), ('usa', 2), ('finger', 2), ('idle', 2), ('uncomfortable', 2), ('tried', 2), ('sufficient', 2), ('dial', 2), ('magic', 2), ('internet', 2), ('sensitive', 2), ('happen', 2), ('please', 2), ('hd', 2), ('nexus', 2), ('object', 2), ('dark', 2), ('hidden', 2), ('effective', 2), ('heavier', 2), ('built', 2), ('slippery', 2), ('weaker', 2), ('deep', 2), ('cellular', 2), ('blurry', 2), ('got', 1), ('stylish', 1), ('doscreen', 1), ('forgotten', 1), ('pixel', 1), ('facebook', 1), ('fox', 1), ('flip', 1), ('attempt', 1), ('expect', 1), ('brightest', 1), ('interior', 1), ('brandon', 1), ('whitish', 1), ('cautionary', 1), ('guilty', 1), ('protector', 1), ('usbotg', 1), ('professional', 1), ('sim/sd', 1), ('extend', 1), ('holethere', 1), ('phenomenal', 1), ('lie', 1), ('possible', 1), ('included', 1), ('metal', 1), ('pull', 1), ('downside', 1), ('speaker', 1), ('become', 1), ('amor', 1), ('deaf', 1), ('stall', 1), ('fourteen', 1), ('seemed', 1), ('recognize', 1), ('acknowledge', 1), ('former', 1), ('suspect', 1), ('doit', 1), ('fewer', 1), ('surf', 1), ('spinning', 1), ('bother', 1), ('handed', 1), ('picky', 1), ('lest', 1), ('barbados', 1), ('textthree', 1), ('theme', 1), ('techie', 1), ('public', 1), ('perform', 1), ('serial', 1), ('purchased', 1), ('insisted', 1), ('friday', 1), ('saturday', 1), ('interesting', 1), ('awkward', 1), ('disgusting', 1), ('finethe', 1), ('ur', 1), ('microsoft', 1), ('barcode', 1), ('nicesized', 1), ('deleted', 1), ('unreadable', 1), ('pdfs', 1), ('preinstalled', 1), ('navigate', 1), ('issue', 1), ('fish', 1), ('attractive', 1), ('square', 1), ('arrow', 1), ('missed', 1), ('awhile', 1), ('complaint', 1), ('replaceable', 1), ('storage', 1), ('etc', 1), ('toughness', 1), ('sims', 1), ('nougat', 1), ('unbelievable', 1), ('list', 1), ('usagethe', 1), ('desirable', 1), ('offhome', 1), ('bea', 1), ('packed', 1), ('fixed', 1), ('ghosttouch', 1), ('stayed', 1), ('encrypt', 1), ('minute', 1), ('ridiculous', 1), ('act', 1), ('longest', 1), ('trick', 1), ('manageable', 1), ('quirky', 1), ('damn', 1), ('automatic', 1), ('looked', 1), ('intensive', 1), ('phonenow', 1), ('gamesthe', 1), ('viewable', 1), ('g', 1), ('flex', 1), ('youtube', 1), ('lol', 1), ('spen', 1), ('noticed', 1), ('laugh', 1), ('happened', 1), ('soldier', 1), ('concrete', 1), ('visible', 1), ('silicone', 1), ('found', 1), ('reconend', 1), ('gorgeous', 1), ('sept', 1), ('rival', 1), ('closest', 1), ('tower', 1), ('chinese', 1), ('running', 1), ('figure', 1), ('nervous', 1), ('painless', 1), ('lockscreen', 1), ('stupid', 1), ('stagefright', 1), ('customer/technical', 1), ('atrocious', 1), ('respect', 1), ('realize', 1), ('chose', 1), ('hassle', 1), ('unbelieveable', 1), ('lasted', 1), ('april', 1), ('ohine', 1), ('indestrutcible', 1), ('funtional', 1), ('set', 1), ('gray', 1), ('dreary', 1), ('att', 1), ('transferred', 1), ('load', 1), ('lacking', 1), ('dive', 1), ('tick', 1), ('decide', 1), ('honor', 1), ('sealed', 1), ('ringer', 1), ('necessary', 1), ('unstuck', 1), ('as1', 1), ('unlocked3', 1), ('phone4', 1), ('overwrite', 1), ('integrated', 1), ('cam', 1), ('plain', 1), ('suggest', 1), ('canada', 1), ('led', 1), ('handy', 1), ('scanner', 1), ('monitorsummary', 1), ('detach', 1), ('finefor', 1), ('save', 1), ('imo', 1), ('crookjed', 1), ('vibrant', 1), ('waited', 1), ('crystal', 1), ('insert', 1), ('newest', 1), ('typical', 1), ('surfing', 1), ('edit', 1), ('flash', 1), ('twice', 1), ('statistic', 1), ('unplug', 1), ('replug', 1), ('customary', 1), ('sir', 1), ('reasoning', 1), ('follow', 1), ('roll', 1), ('fac', 1), ('push', 1), ('workthe', 1), ('point', 1), ('usability', 1), ('persist', 1), ('spamware', 1), ('bluetooth', 1), ('beond', 1), ('keeps\\u200b', 1), ('againnow', 1), ('hair', 1), ('absolute', 1), ('shakey', 1), ('dust', 1), ('stick', 1), ('fragilethe', 1), ('mysterious', 1), ('thoughfor', 1), ('sporadic', 1), ('datathe', 1), ('funny', 1), ('wayside', 1), ('thank', 1), ('initiated', 1), ('capable', 1), ('lowest', 1), ('spend', 1), ('bareminimum', 1), ('hit', 1), ('likely', 1), ('survive', 1), ('remarkable', 1), ('selfdiagnostic', 1), ('incompetent', 1), ('plug', 1), ('fortune', 1), ('charm', 1), ('disabled', 1), ('herethis', 1), ('sisyphean', 1), ('nasty', 1), ('unprompted', 1), ('extreme', 1), ('qualityi', 1), ('earbuds', 1), ('pipe', 1), ('obnoxious', 1), ('insightful', 1), ('speed', 1), ('uploaded', 1), ('wanted', 1), ('accomplished', 1), ('get', 1), ('custom', 1), ('customized', 1), ('video', 1), ('dumb', 1), ('notice', 1), ('format', 1), ('file', 1), ('recall', 1), ('slip', 1), ('gummy', 1), ('pick', 1), ('expectedmy', 1), ('snapshot', 1), ('go', 1), ('sexiest', 1), ('phonejust', 1), ('width', 1), ('wider', 1), ('grip', 1), ('fallthe', 1), ('pattern', 1), ('place', 1), ('unlock', 1), ('/', 1), ('clearer', 1), ('upgradeable', 1), ('lollipopas', 1), ('lazy', 1), ('wonder', 1), ('mess', 1), ('highest', 1), ('sorta', 1), ('fineoutside', 1), ('weak', 1), ('lesson', 1), ('brightness', 1), ('versatile', 1), ('tuesday', 1), ('invoice', 1), ('request', 1), ('shy', 1), ('backup', 1), ('peril', 1), ('slick', 1), ('feel', 1), ('prompt', 1), ('unfamiliar', 1), ('touchesupdatethe', 1), ('nearby', 1), ('exelent', 1), ('noticeable', 1), ('frequency', 1), ('andbeautifu', 1), ('iti', 1), ('properlymy', 1), ('carefree', 1), ('charge', 1), ('smartwatch', 1), ('petite', 1), ('listen', 1), ('adapter', 1), ('arrive', 1), ('usps', 1), ('wow', 1), ('vast', 1), ('intuitive', 1), ('hanged', 1), ('portable', 1), ('reenact', 1), ('local', 1), ('sunglass', 1), ('larger', 1), ('watch', 1), ('crawl', 1), ('fear', 1), ('non', 1), ('adware', 1), ('lowi', 1), ('flagship', 1), ('miami', 1), ('headphones/mic', 1), ('indicate', 1), ('intermittent', 1), ('promising', 1), ('unablebto', 1), ('forn', 1), ('atnt', 1), ('failed', 1), ('card', 1), ('ample', 1), ('impressive', 1), ('casual', 1), ('swipe', 1), ('pin', 1), ('unbeatable', 1), ('compatable', 1), ('caught', 1), ('fluke', 1), ('accepted', 1), ('dissatisfied', 1), ('lifetime', 1), ('isnt', 1), ('min', 1), ('liked', 1), ('sudden', 1), ('promised', 1), ('warrantied', 1), ('unpluged', 1), ('brilliant', 1), ('w/', 1), ('january', 1), ('omg', 1), ('unsure', 1), ('sd/sim', 1), ('work', 1), ('plugged', 1), ('overnight', 1), ('slower', 1), ('execellent', 1), ('lookingnice', 1), ('utter', 1), ('self', 1), ('skeptical', 1), ('complain', 1), ('efficient', 1), ('lousy', 1), ('whistle', 1), ('reboot', 1), ('existent', 1), ('spammed', 1), ('assign', 1), ('flashlight', 1), ('touching', 1), ('actual', 1), ('phantom', 1), ('deteriorated', 1), ('sad', 1), ('argentina', 1), ('husband', 1), ('amoled', 1), ('frustrating', 1), ('buggy', 1), ('warm', 1), ('let', 1), ('tmoble', 1), ('prevalent', 1), ('static', 1), ('unlockef', 1), ('itlong', 1), ('nonremovable', 1), ('item', 1), ('accidentwhile', 1), ('moth', 1), ('secondary', 1), ('direct', 1), ('undefined', 1), ('vivid', 1), ('dramatic', 1), ('careful', 1), ('cellphone', 1), ('alive', 1), ('box', 1), ('c', 1), ('snappier', 1), ('problems1', 1), ('spent', 1), ('isnot', 1), ('stable', 1), ('thingthose', 1), ('unrelated', 1), ('prodcut', 1), ('reluctant', 1), ('setup', 1), ('web', 1), ('lip', 1), ('component', 1), ('questionable', 1), ('handheld', 1), ('crappy', 1), ('memory\\u200b', 1), ('s7', 1), ('hope', 1), ('notebook7', 1), ('unknown', 1), ('private', 1), ('shabby', 1), ('breaker', 1), ('sleep', 1), ('faster', 1), ('ram/16g', 1), ('speedier', 1), ('advise', 1), ('superior', 1), ('waterproof', 1), ('hundred', 1), ('greatest', 1), ('profile', 1), ('started', 1), ('greater', 1), ('satisfactory', 1), ('nfc', 1), ('earlier', 1), ('received', 1), ('cleaner', 1), ('yes', 1), ('ringtonesi', 1), ('taking', 1), ('familiar', 1), ('ssid', 1), ('nitpicky', 1), ('con', 1), ('havingscreen', 1), ('qualityui', 1), ('properly', 1), ('active', 1), ('floppy', 1), ('metro', 1), ('shattered', 1), ('usbc', 1), ('odd', 1), ('figured', 1), ('therestylish', 1), ('gal', 1), ('half', 1), ('sceptical', 1), ('hesitant', 1), ('turbo', 1), ('verizon', 1), ('financial', 1), ('lose', 1), ('droid', 1), ('believing', 1), ('extatic', 1), ('add', 1), ('upgraded', 1), ('lag', 1), ('level', 1), ('navigation', 1), ('unusual', 1), ('onebottom', 1), ('neat', 1), ('star', 1), ('upi', 1), ('hideous', 1), ('semiclear', 1), ('rescue1', 1), ('son', 1), ('fat', 1), ('keyboard', 1), ('vote', 1), ('early', 1), ('amazonwhen', 1), ('hated', 1), ('charged', 1), ('length', 1), ('frosted', 1), ('caused', 1), ('quietest', 1), ('advertised', 1), ('outperforming', 1), ('choppy', 1), ('alert', 1), ('grainy', 1), ('turned', 1), ('disappear', 1), ('exspesive', 1), ('regularly', 1), ('modwl', 1), ('inflict', 1), ('unsuspecting', 1), ('resistant', 1), ('dull', 1), ('savvy', 1), ('phoneandroid', 1), ('soft', 1), ('hardware', 1), ('expense', 1), ('waybill', 1), ('shifting', 1), ('steep', 1), ('meant', 1), ('interested', 1), ('opening', 1), ('thrown', 1), ('upset', 1), ('dayi', 1), ('callsthe', 1), ('slim', 1), ('ipod', 1), ('tmobilebuild', 1), ('weight', 1), ('phonedefinite', 1), ('answer', 1), ('walmart', 1), ('strausse', 1), ('iut', 1), ('characteristic', 1), ('dealt', 1), ('lightening', 1), ('tricky', 1), ('superficial', 1), ('affect', 1), ('minor', 1), ('itfast', 1), ('representative', 1), ('looki', 1), ('insignificant', 1), ('protect', 1), ('chipped', 1), ('mistake', 1), ('deny', 1), ('damagetoo', 1), ('positive', 1), ('cancel', 1), ('linkedin', 1), ('surround', 1), ('essential', 1), ('okay', 1), ('pay', 1), ('spyware/adware', 1), ('trivial', 1), ('blutooth', 1), ('blootooth', 1), ('radiothe', 1), ('tough', 1), ('believe', 1), ('granddaughter', 1), ('teenager', 1), ('flimsyness', 1), ('grand', 1), ('beat', 1), ('laptop', 1), ('imei', 1), ('unfortunate', 1), ('irritated', 1), ('unremovable', 1), ('intriguing', 1), ('international', 1), ('llte', 1), ('mul', 1), ('tiple', 1), ('recommended', 1), ('chrome', 1), ('ghostsceern', 1), ('unacceptable', 1), ('colorful', 1), ('crear', 1), ('identity', 1), ('premium', 1), ('smartphone2', 1), ('embarrassing', 1), ('lighter', 1), ('grammatical', 1), ('generous', 1), ('timein', 1), ('seem', 1), ('doesnt', 1), ('package', 1), ('online', 1), ('furious', 1), ('carpeted', 1), ('clumsy', 1), ('inconsistent', 1), ('pushed', 1), ('ordered', 1), ('betterupdate', 1), ('lo', 1), ('matter', 1), ('grief', 1), ('nonexistent', 1), ('slowerthanoptimal', 1), ('hdr', 1), ('exposed', 1), ('lowlight', 1), ('suitable', 1)]\n"
     ]
    }
   ],
   "source": [
    "adj_dict=dict((i, adj_words.count(i)) for i in adj_words)\n",
    "adj_dict = sorted(adj_dict.items(), key=operator.itemgetter(1),reverse=True)\n",
    "print((adj_dict))"
   ]
  },
  {
   "cell_type": "code",
   "execution_count": 20,
   "metadata": {
    "collapsed": true
   },
   "outputs": [],
   "source": [
    "imp_nouns=[]\n",
    "imp_verbs=[]\n",
    "imp_adjs=[]\n",
    "for k,v in noun_dict:\n",
    "    if(v>=5):\n",
    "        imp_nouns.append(k)\n",
    "for k,v in verb_dict:\n",
    "    if(v>=5):\n",
    "        imp_verbs.append(k)\n",
    "for k,v in adj_dict:\n",
    "    if(v>=5):\n",
    "        imp_adjs.append(k)\n",
    "        "
   ]
  },
  {
   "cell_type": "code",
   "execution_count": 21,
   "metadata": {},
   "outputs": [
    {
     "name": "stdout",
     "output_type": "stream",
     "text": [
      "345 190 169\n"
     ]
    }
   ],
   "source": [
    "print(len(imp_nouns),len(imp_verbs),len(imp_adjs))"
   ]
  },
  {
   "cell_type": "code",
   "execution_count": null,
   "metadata": {
    "collapsed": true
   },
   "outputs": [],
   "source": []
  },
  {
   "cell_type": "code",
   "execution_count": null,
   "metadata": {
    "collapsed": true
   },
   "outputs": [],
   "source": []
  },
  {
   "cell_type": "code",
   "execution_count": null,
   "metadata": {
    "collapsed": true
   },
   "outputs": [],
   "source": []
  },
  {
   "cell_type": "code",
   "execution_count": null,
   "metadata": {
    "collapsed": true
   },
   "outputs": [],
   "source": []
  },
  {
   "cell_type": "code",
   "execution_count": null,
   "metadata": {
    "collapsed": true
   },
   "outputs": [],
   "source": []
  },
  {
   "cell_type": "code",
   "execution_count": 22,
   "metadata": {
    "collapsed": true
   },
   "outputs": [],
   "source": [
    "#data_samples=preprocessed_docs"
   ]
  },
  {
   "cell_type": "code",
   "execution_count": 23,
   "metadata": {
    "collapsed": true
   },
   "outputs": [],
   "source": [
    "#data_samples=data['Review_Text'].tolist()"
   ]
  },
  {
   "cell_type": "code",
   "execution_count": 24,
   "metadata": {},
   "outputs": [
    {
     "name": "stdout",
     "output_type": "stream",
     "text": [
      "Extracting tf-idf features for NMF...\n"
     ]
    }
   ],
   "source": [
    "# Use tf-idf features for NMF.\n",
    "print(\"Extracting tf-idf features for NMF...\")\n",
    "tfidf_vectorizer = TfidfVectorizer(max_df=0.90, min_df=2,\n",
    "                                   stop_words='english')"
   ]
  },
  {
   "cell_type": "code",
   "execution_count": 25,
   "metadata": {
    "collapsed": true
   },
   "outputs": [],
   "source": [
    "lemmatised_docs=[]\n",
    "for i in preprocessed_docs:\n",
    "    str=' '.join(i)\n",
    "    lemmatised_docs.append(str)\n",
    "    "
   ]
  },
  {
   "cell_type": "code",
   "execution_count": 26,
   "metadata": {},
   "outputs": [
    {
     "data": {
      "text/plain": [
       "'first time hit ground screen cracked contacted blu support told replacement screen available model screen protector thing holding togetherincluded box 5v 20a charger micousb cable usbotg cable earbuds microphone rubber phone case screen protector one professional paper clip opening sim/sd card tray screen protector already phonethe sim card / sd card tray pretty flimsy would nt open often commentator noted either 2 sim card 1 sim card 1 sd card threethe phone case fit correctly lower right hand corner fully extend front edge phone feel like phone slip grab case case partially cover microphone holethere amazon apps preinstalled obviously done outside google play store would update without asking user modify app installation permission luckily able fully uninstall disabling nt want installing basic google apps say used 11 gb 32 gb luckily phone partitioned main storage multiple segment simulate sd card like blu studio energythe display stunning good contrast color bright curved edge neatoverall think thing perfect 150 drop screen replacement'"
      ]
     },
     "execution_count": 26,
     "metadata": {},
     "output_type": "execute_result"
    }
   ],
   "source": [
    "lemmatised_docs[5]"
   ]
  },
  {
   "cell_type": "code",
   "execution_count": 27,
   "metadata": {},
   "outputs": [
    {
     "name": "stdout",
     "output_type": "stream",
     "text": [
      "<class 'str'> <class 'str'>\n"
     ]
    }
   ],
   "source": [
    "print(type(data_samples[1]),type(lemmatised_docs[1]))"
   ]
  },
  {
   "cell_type": "code",
   "execution_count": 28,
   "metadata": {
    "collapsed": true
   },
   "outputs": [],
   "source": [
    "tfidf = tfidf_vectorizer.fit_transform(lemmatised_docs)"
   ]
  },
  {
   "cell_type": "code",
   "execution_count": 29,
   "metadata": {},
   "outputs": [
    {
     "data": {
      "text/plain": [
       "(781, 1573)"
      ]
     },
     "execution_count": 29,
     "metadata": {},
     "output_type": "execute_result"
    }
   ],
   "source": [
    "tfidf.shape"
   ]
  },
  {
   "cell_type": "code",
   "execution_count": 30,
   "metadata": {},
   "outputs": [
    {
     "data": {
      "text/plain": [
       "1573"
      ]
     },
     "execution_count": 30,
     "metadata": {},
     "output_type": "execute_result"
    }
   ],
   "source": [
    "tfidf_features=tfidf_vectorizer.get_feature_names()\n",
    "len(tfidf_features)"
   ]
  },
  {
   "cell_type": "code",
   "execution_count": 31,
   "metadata": {},
   "outputs": [
    {
     "data": {
      "text/plain": [
       "['10',\n",
       " '100',\n",
       " '100150',\n",
       " '11',\n",
       " '12',\n",
       " '128',\n",
       " '13mp',\n",
       " '14',\n",
       " '149',\n",
       " '14999',\n",
       " '15',\n",
       " '150',\n",
       " '1520',\n",
       " '16g',\n",
       " '16gb',\n",
       " '17',\n",
       " '1st',\n",
       " '20',\n",
       " '200',\n",
       " '2017']"
      ]
     },
     "execution_count": 31,
     "metadata": {},
     "output_type": "execute_result"
    }
   ],
   "source": [
    "tfidf_features[:20]"
   ]
  },
  {
   "cell_type": "code",
   "execution_count": 32,
   "metadata": {},
   "outputs": [
    {
     "name": "stdout",
     "output_type": "stream",
     "text": [
      "(781, 1573)\n"
     ]
    }
   ],
   "source": [
    "print(tfidf.shape)\n",
    "# shape of the tfidf is 26,105 means 26 docs(reviews) and 105 features(words) with max_df=0.90, min_df=2"
   ]
  },
  {
   "cell_type": "code",
   "execution_count": 33,
   "metadata": {
    "scrolled": true
   },
   "outputs": [
    {
     "data": {
      "text/plain": [
       "<1x1573 sparse matrix of type '<class 'numpy.float64'>'\n",
       "\twith 0 stored elements in Compressed Sparse Row format>"
      ]
     },
     "execution_count": 33,
     "metadata": {},
     "output_type": "execute_result"
    }
   ],
   "source": [
    "tfidf.getrow(0)"
   ]
  },
  {
   "cell_type": "markdown",
   "metadata": {},
   "source": [
    "https://buhrmann.github.io/tfidf-analysis.html"
   ]
  },
  {
   "cell_type": "code",
   "execution_count": 34,
   "metadata": {
    "collapsed": true
   },
   "outputs": [],
   "source": [
    "def top_tfidf_feats(row, features,top_n):\n",
    "    #top_n=25\n",
    "    ''' Get top n tfidf values in row and return them with their corresponding feature names.'''\n",
    "    topn_ids = np.argsort(row)[::-1][:top_n]\n",
    "    top_feats = [(features[i], row[i]) for i in topn_ids]\n",
    "    df = pd.DataFrame(top_feats)\n",
    "    df.columns = ['feature', 'tfidf']\n",
    "    return df"
   ]
  },
  {
   "cell_type": "code",
   "execution_count": 35,
   "metadata": {
    "collapsed": true
   },
   "outputs": [],
   "source": [
    "def top_feats_in_doc(Xtr, features, row_id,top_n):\n",
    "    #top_n=25\n",
    "    ''' Top tfidf features in specific document (matrix row) '''\n",
    "    row = np.squeeze(Xtr[row_id].toarray())\n",
    "    return top_tfidf_feats(row, features,top_n)"
   ]
  },
  {
   "cell_type": "code",
   "execution_count": 36,
   "metadata": {
    "collapsed": true
   },
   "outputs": [],
   "source": [
    "def top_mean_feats(Xtr, features,top_n):\n",
    "    grp_ids=None\n",
    "    min_tfidf=0.1\n",
    "    ''' Return the top n features that on average are most important amongst documents in rows\n",
    "        indentified by indices in grp_ids. '''\n",
    "    if grp_ids:\n",
    "        D = Xtr[grp_ids].toarray()\n",
    "    else:\n",
    "        D = Xtr.toarray()\n",
    "\n",
    "    D[D < min_tfidf] = 0\n",
    "    tfidf_means = np.mean(D, axis=0)\n",
    "    return top_tfidf_feats(tfidf_means, features,top_n)"
   ]
  },
  {
   "cell_type": "code",
   "execution_count": 37,
   "metadata": {
    "collapsed": true
   },
   "outputs": [],
   "source": [
    "def top_feats_by_class(Xtr, y, features,top_n):\n",
    "    min_tfidf=0.1\n",
    "    \n",
    "    ''' Return a list of dfs, where each df holds top_n features and their mean tfidf value\n",
    "        calculated across documents with the same class label. '''\n",
    "    dfs = []\n",
    "    labels = np.unique(y)\n",
    "    for label in labels:\n",
    "        ids = np.where(y==label)\n",
    "        feats_df = top_mean_feats(Xtr, features)\n",
    "        feats_df.label = label\n",
    "        dfs.append(feats_df)\n",
    "    return dfs"
   ]
  },
  {
   "cell_type": "code",
   "execution_count": 38,
   "metadata": {},
   "outputs": [
    {
     "data": {
      "text/html": [
       "<div>\n",
       "<style>\n",
       "    .dataframe thead tr:only-child th {\n",
       "        text-align: right;\n",
       "    }\n",
       "\n",
       "    .dataframe thead th {\n",
       "        text-align: left;\n",
       "    }\n",
       "\n",
       "    .dataframe tbody tr th {\n",
       "        vertical-align: top;\n",
       "    }\n",
       "</style>\n",
       "<table border=\"1\" class=\"dataframe\">\n",
       "  <thead>\n",
       "    <tr style=\"text-align: right;\">\n",
       "      <th></th>\n",
       "      <th>feature</th>\n",
       "      <th>tfidf</th>\n",
       "    </tr>\n",
       "  </thead>\n",
       "  <tbody>\n",
       "    <tr>\n",
       "      <th>0</th>\n",
       "      <td>card</td>\n",
       "      <td>0.352999</td>\n",
       "    </tr>\n",
       "    <tr>\n",
       "      <th>1</th>\n",
       "      <td>sd</td>\n",
       "      <td>0.235409</td>\n",
       "    </tr>\n",
       "    <tr>\n",
       "      <th>2</th>\n",
       "      <td>screen</td>\n",
       "      <td>0.230299</td>\n",
       "    </tr>\n",
       "    <tr>\n",
       "      <th>3</th>\n",
       "      <td>sim</td>\n",
       "      <td>0.211622</td>\n",
       "    </tr>\n",
       "    <tr>\n",
       "      <th>4</th>\n",
       "      <td>case</td>\n",
       "      <td>0.201713</td>\n",
       "    </tr>\n",
       "  </tbody>\n",
       "</table>\n",
       "</div>"
      ],
      "text/plain": [
       "  feature     tfidf\n",
       "0    card  0.352999\n",
       "1      sd  0.235409\n",
       "2  screen  0.230299\n",
       "3     sim  0.211622\n",
       "4    case  0.201713"
      ]
     },
     "execution_count": 38,
     "metadata": {},
     "output_type": "execute_result"
    }
   ],
   "source": [
    "top_feats_in_doc(tfidf,tfidf_features,5,5)"
   ]
  },
  {
   "cell_type": "code",
   "execution_count": 39,
   "metadata": {},
   "outputs": [
    {
     "data": {
      "text/html": [
       "<div>\n",
       "<style>\n",
       "    .dataframe thead tr:only-child th {\n",
       "        text-align: right;\n",
       "    }\n",
       "\n",
       "    .dataframe thead th {\n",
       "        text-align: left;\n",
       "    }\n",
       "\n",
       "    .dataframe tbody tr th {\n",
       "        vertical-align: top;\n",
       "    }\n",
       "</style>\n",
       "<table border=\"1\" class=\"dataframe\">\n",
       "  <thead>\n",
       "    <tr style=\"text-align: right;\">\n",
       "      <th></th>\n",
       "      <th>feature</th>\n",
       "      <th>tfidf</th>\n",
       "    </tr>\n",
       "  </thead>\n",
       "  <tbody>\n",
       "    <tr>\n",
       "      <th>0</th>\n",
       "      <td>phone</td>\n",
       "      <td>0.100730</td>\n",
       "    </tr>\n",
       "    <tr>\n",
       "      <th>1</th>\n",
       "      <td>good</td>\n",
       "      <td>0.044614</td>\n",
       "    </tr>\n",
       "    <tr>\n",
       "      <th>2</th>\n",
       "      <td>great</td>\n",
       "      <td>0.044003</td>\n",
       "    </tr>\n",
       "    <tr>\n",
       "      <th>3</th>\n",
       "      <td>love</td>\n",
       "      <td>0.039623</td>\n",
       "    </tr>\n",
       "    <tr>\n",
       "      <th>4</th>\n",
       "      <td>nt</td>\n",
       "      <td>0.031653</td>\n",
       "    </tr>\n",
       "    <tr>\n",
       "      <th>5</th>\n",
       "      <td>price</td>\n",
       "      <td>0.030379</td>\n",
       "    </tr>\n",
       "    <tr>\n",
       "      <th>6</th>\n",
       "      <td>blu</td>\n",
       "      <td>0.029667</td>\n",
       "    </tr>\n",
       "    <tr>\n",
       "      <th>7</th>\n",
       "      <td>nice</td>\n",
       "      <td>0.023631</td>\n",
       "    </tr>\n",
       "    <tr>\n",
       "      <th>8</th>\n",
       "      <td>work</td>\n",
       "      <td>0.023241</td>\n",
       "    </tr>\n",
       "    <tr>\n",
       "      <th>9</th>\n",
       "      <td>like</td>\n",
       "      <td>0.021069</td>\n",
       "    </tr>\n",
       "    <tr>\n",
       "      <th>10</th>\n",
       "      <td>month</td>\n",
       "      <td>0.020811</td>\n",
       "    </tr>\n",
       "    <tr>\n",
       "      <th>11</th>\n",
       "      <td>screen</td>\n",
       "      <td>0.020417</td>\n",
       "    </tr>\n",
       "    <tr>\n",
       "      <th>12</th>\n",
       "      <td>excellent</td>\n",
       "      <td>0.019033</td>\n",
       "    </tr>\n",
       "    <tr>\n",
       "      <th>13</th>\n",
       "      <td>product</td>\n",
       "      <td>0.018849</td>\n",
       "    </tr>\n",
       "    <tr>\n",
       "      <th>14</th>\n",
       "      <td>battery</td>\n",
       "      <td>0.018722</td>\n",
       "    </tr>\n",
       "    <tr>\n",
       "      <th>15</th>\n",
       "      <td>use</td>\n",
       "      <td>0.016539</td>\n",
       "    </tr>\n",
       "    <tr>\n",
       "      <th>16</th>\n",
       "      <td>far</td>\n",
       "      <td>0.015907</td>\n",
       "    </tr>\n",
       "    <tr>\n",
       "      <th>17</th>\n",
       "      <td>card</td>\n",
       "      <td>0.015161</td>\n",
       "    </tr>\n",
       "    <tr>\n",
       "      <th>18</th>\n",
       "      <td>problem</td>\n",
       "      <td>0.014963</td>\n",
       "    </tr>\n",
       "    <tr>\n",
       "      <th>19</th>\n",
       "      <td>camera</td>\n",
       "      <td>0.014909</td>\n",
       "    </tr>\n",
       "    <tr>\n",
       "      <th>20</th>\n",
       "      <td>time</td>\n",
       "      <td>0.014681</td>\n",
       "    </tr>\n",
       "    <tr>\n",
       "      <th>21</th>\n",
       "      <td>money</td>\n",
       "      <td>0.014616</td>\n",
       "    </tr>\n",
       "    <tr>\n",
       "      <th>22</th>\n",
       "      <td>bought</td>\n",
       "      <td>0.014315</td>\n",
       "    </tr>\n",
       "    <tr>\n",
       "      <th>23</th>\n",
       "      <td>fast</td>\n",
       "      <td>0.013782</td>\n",
       "    </tr>\n",
       "    <tr>\n",
       "      <th>24</th>\n",
       "      <td>sim</td>\n",
       "      <td>0.013373</td>\n",
       "    </tr>\n",
       "    <tr>\n",
       "      <th>25</th>\n",
       "      <td>better</td>\n",
       "      <td>0.012979</td>\n",
       "    </tr>\n",
       "    <tr>\n",
       "      <th>26</th>\n",
       "      <td>really</td>\n",
       "      <td>0.012420</td>\n",
       "    </tr>\n",
       "    <tr>\n",
       "      <th>27</th>\n",
       "      <td>buy</td>\n",
       "      <td>0.012244</td>\n",
       "    </tr>\n",
       "    <tr>\n",
       "      <th>28</th>\n",
       "      <td>charge</td>\n",
       "      <td>0.011795</td>\n",
       "    </tr>\n",
       "    <tr>\n",
       "      <th>29</th>\n",
       "      <td>lot</td>\n",
       "      <td>0.011686</td>\n",
       "    </tr>\n",
       "    <tr>\n",
       "      <th>30</th>\n",
       "      <td>apps</td>\n",
       "      <td>0.011415</td>\n",
       "    </tr>\n",
       "    <tr>\n",
       "      <th>31</th>\n",
       "      <td>issue</td>\n",
       "      <td>0.011354</td>\n",
       "    </tr>\n",
       "    <tr>\n",
       "      <th>32</th>\n",
       "      <td>quality</td>\n",
       "      <td>0.011043</td>\n",
       "    </tr>\n",
       "    <tr>\n",
       "      <th>33</th>\n",
       "      <td>vivo</td>\n",
       "      <td>0.011034</td>\n",
       "    </tr>\n",
       "    <tr>\n",
       "      <th>34</th>\n",
       "      <td>happy</td>\n",
       "      <td>0.010921</td>\n",
       "    </tr>\n",
       "    <tr>\n",
       "      <th>35</th>\n",
       "      <td>memory</td>\n",
       "      <td>0.010883</td>\n",
       "    </tr>\n",
       "    <tr>\n",
       "      <th>36</th>\n",
       "      <td>perfect</td>\n",
       "      <td>0.010831</td>\n",
       "    </tr>\n",
       "    <tr>\n",
       "      <th>37</th>\n",
       "      <td>case</td>\n",
       "      <td>0.010742</td>\n",
       "    </tr>\n",
       "    <tr>\n",
       "      <th>38</th>\n",
       "      <td>got</td>\n",
       "      <td>0.010536</td>\n",
       "    </tr>\n",
       "    <tr>\n",
       "      <th>39</th>\n",
       "      <td>new</td>\n",
       "      <td>0.010444</td>\n",
       "    </tr>\n",
       "    <tr>\n",
       "      <th>40</th>\n",
       "      <td>recommend</td>\n",
       "      <td>0.010191</td>\n",
       "    </tr>\n",
       "    <tr>\n",
       "      <th>41</th>\n",
       "      <td>working</td>\n",
       "      <td>0.009918</td>\n",
       "    </tr>\n",
       "    <tr>\n",
       "      <th>42</th>\n",
       "      <td>awesome</td>\n",
       "      <td>0.009917</td>\n",
       "    </tr>\n",
       "    <tr>\n",
       "      <th>43</th>\n",
       "      <td>charging</td>\n",
       "      <td>0.009623</td>\n",
       "    </tr>\n",
       "    <tr>\n",
       "      <th>44</th>\n",
       "      <td>ca</td>\n",
       "      <td>0.009417</td>\n",
       "    </tr>\n",
       "    <tr>\n",
       "      <th>45</th>\n",
       "      <td>expected</td>\n",
       "      <td>0.008898</td>\n",
       "    </tr>\n",
       "    <tr>\n",
       "      <th>46</th>\n",
       "      <td>ok</td>\n",
       "      <td>0.008832</td>\n",
       "    </tr>\n",
       "    <tr>\n",
       "      <th>47</th>\n",
       "      <td>look</td>\n",
       "      <td>0.008823</td>\n",
       "    </tr>\n",
       "    <tr>\n",
       "      <th>48</th>\n",
       "      <td>update</td>\n",
       "      <td>0.008817</td>\n",
       "    </tr>\n",
       "    <tr>\n",
       "      <th>49</th>\n",
       "      <td>day</td>\n",
       "      <td>0.008756</td>\n",
       "    </tr>\n",
       "  </tbody>\n",
       "</table>\n",
       "</div>"
      ],
      "text/plain": [
       "      feature     tfidf\n",
       "0       phone  0.100730\n",
       "1        good  0.044614\n",
       "2       great  0.044003\n",
       "3        love  0.039623\n",
       "4          nt  0.031653\n",
       "5       price  0.030379\n",
       "6         blu  0.029667\n",
       "7        nice  0.023631\n",
       "8        work  0.023241\n",
       "9        like  0.021069\n",
       "10      month  0.020811\n",
       "11     screen  0.020417\n",
       "12  excellent  0.019033\n",
       "13    product  0.018849\n",
       "14    battery  0.018722\n",
       "15        use  0.016539\n",
       "16        far  0.015907\n",
       "17       card  0.015161\n",
       "18    problem  0.014963\n",
       "19     camera  0.014909\n",
       "20       time  0.014681\n",
       "21      money  0.014616\n",
       "22     bought  0.014315\n",
       "23       fast  0.013782\n",
       "24        sim  0.013373\n",
       "25     better  0.012979\n",
       "26     really  0.012420\n",
       "27        buy  0.012244\n",
       "28     charge  0.011795\n",
       "29        lot  0.011686\n",
       "30       apps  0.011415\n",
       "31      issue  0.011354\n",
       "32    quality  0.011043\n",
       "33       vivo  0.011034\n",
       "34      happy  0.010921\n",
       "35     memory  0.010883\n",
       "36    perfect  0.010831\n",
       "37       case  0.010742\n",
       "38        got  0.010536\n",
       "39        new  0.010444\n",
       "40  recommend  0.010191\n",
       "41    working  0.009918\n",
       "42    awesome  0.009917\n",
       "43   charging  0.009623\n",
       "44         ca  0.009417\n",
       "45   expected  0.008898\n",
       "46         ok  0.008832\n",
       "47       look  0.008823\n",
       "48     update  0.008817\n",
       "49        day  0.008756"
      ]
     },
     "execution_count": 39,
     "metadata": {},
     "output_type": "execute_result"
    }
   ],
   "source": [
    "top_mean_feats(tfidf,tfidf_features,50)"
   ]
  },
  {
   "cell_type": "code",
   "execution_count": null,
   "metadata": {
    "collapsed": true
   },
   "outputs": [],
   "source": []
  },
  {
   "cell_type": "code",
   "execution_count": null,
   "metadata": {
    "collapsed": true
   },
   "outputs": [],
   "source": []
  },
  {
   "cell_type": "code",
   "execution_count": null,
   "metadata": {
    "collapsed": true
   },
   "outputs": [],
   "source": []
  },
  {
   "cell_type": "code",
   "execution_count": null,
   "metadata": {
    "collapsed": true
   },
   "outputs": [],
   "source": []
  },
  {
   "cell_type": "code",
   "execution_count": null,
   "metadata": {
    "collapsed": true
   },
   "outputs": [],
   "source": []
  },
  {
   "cell_type": "code",
   "execution_count": null,
   "metadata": {
    "collapsed": true
   },
   "outputs": [],
   "source": []
  },
  {
   "cell_type": "code",
   "execution_count": 40,
   "metadata": {},
   "outputs": [
    {
     "name": "stdout",
     "output_type": "stream",
     "text": [
      "Extracting tf features for LDA...\n"
     ]
    }
   ],
   "source": [
    "# Use tf (raw term count) features for LDA.\n",
    "print(\"Extracting tf features for LDA...\")\n",
    "tf_vectorizer = CountVectorizer(max_df=0.95, min_df=2,\n",
    "                               stop_words='english')"
   ]
  },
  {
   "cell_type": "code",
   "execution_count": 41,
   "metadata": {
    "collapsed": true
   },
   "outputs": [],
   "source": [
    "tf = tf_vectorizer.fit_transform(data_samples)"
   ]
  },
  {
   "cell_type": "code",
   "execution_count": 42,
   "metadata": {},
   "outputs": [
    {
     "data": {
      "text/plain": [
       "1723"
      ]
     },
     "execution_count": 42,
     "metadata": {},
     "output_type": "execute_result"
    }
   ],
   "source": [
    "tf_features=tf_vectorizer.get_feature_names()\n",
    "len(tf_features)"
   ]
  },
  {
   "cell_type": "code",
   "execution_count": 43,
   "metadata": {},
   "outputs": [
    {
     "data": {
      "text/plain": [
       "['00',\n",
       " '01',\n",
       " '10',\n",
       " '100',\n",
       " '11',\n",
       " '12',\n",
       " '128',\n",
       " '13mp',\n",
       " '14',\n",
       " '149',\n",
       " '15',\n",
       " '150',\n",
       " '16g',\n",
       " '16gb',\n",
       " '17',\n",
       " '1st',\n",
       " '20',\n",
       " '200',\n",
       " '2017',\n",
       " '2018']"
      ]
     },
     "execution_count": 43,
     "metadata": {},
     "output_type": "execute_result"
    }
   ],
   "source": [
    "tf_vectorizer.get_feature_names()[:20]"
   ]
  },
  {
   "cell_type": "code",
   "execution_count": 44,
   "metadata": {},
   "outputs": [
    {
     "name": "stdout",
     "output_type": "stream",
     "text": [
      "(781, 1723)\n"
     ]
    }
   ],
   "source": [
    "print(tf.shape)"
   ]
  },
  {
   "cell_type": "code",
   "execution_count": 45,
   "metadata": {},
   "outputs": [
    {
     "data": {
      "text/plain": [
       "array([1, 1, 1, ..., 1, 1, 2], dtype=int64)"
      ]
     },
     "execution_count": 45,
     "metadata": {},
     "output_type": "execute_result"
    }
   ],
   "source": [
    "tf.data"
   ]
  },
  {
   "cell_type": "code",
   "execution_count": null,
   "metadata": {
    "collapsed": true
   },
   "outputs": [],
   "source": []
  }
 ],
 "metadata": {
  "kernelspec": {
   "display_name": "Python 3",
   "language": "python",
   "name": "python3"
  },
  "language_info": {
   "codemirror_mode": {
    "name": "ipython",
    "version": 3
   },
   "file_extension": ".py",
   "mimetype": "text/x-python",
   "name": "python",
   "nbconvert_exporter": "python",
   "pygments_lexer": "ipython3",
   "version": "3.6.3"
  }
 },
 "nbformat": 4,
 "nbformat_minor": 2
}
